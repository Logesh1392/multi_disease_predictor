{
 "cells": [
  {
   "cell_type": "code",
   "execution_count": 1,
   "id": "d1c5cd8d",
   "metadata": {},
   "outputs": [],
   "source": [
    "# 📌 Step 1: Import Required Libraries\n",
    "\n",
    "import pandas as pd\n",
    "import numpy as np\n",
    "import plotly.express as px\n",
    "import plotly.graph_objects as go\n",
    "from sklearn.preprocessing import LabelEncoder, StandardScaler\n"
   ]
  },
  {
   "cell_type": "code",
   "execution_count": 2,
   "id": "3b9f1143",
   "metadata": {},
   "outputs": [
    {
     "data": {
      "text/html": [
       "<div>\n",
       "<style scoped>\n",
       "    .dataframe tbody tr th:only-of-type {\n",
       "        vertical-align: middle;\n",
       "    }\n",
       "\n",
       "    .dataframe tbody tr th {\n",
       "        vertical-align: top;\n",
       "    }\n",
       "\n",
       "    .dataframe thead th {\n",
       "        text-align: right;\n",
       "    }\n",
       "</style>\n",
       "<table border=\"1\" class=\"dataframe\">\n",
       "  <thead>\n",
       "    <tr style=\"text-align: right;\">\n",
       "      <th></th>\n",
       "      <th>age</th>\n",
       "      <th>gender</th>\n",
       "      <th>total_bilirubin</th>\n",
       "      <th>direct_bilirubin</th>\n",
       "      <th>alkaline_phosphotase</th>\n",
       "      <th>alamine_aminotransferase</th>\n",
       "      <th>aspartate_aminotransferase</th>\n",
       "      <th>total_protiens</th>\n",
       "      <th>albumin</th>\n",
       "      <th>albumin_and_globulin_ratio</th>\n",
       "      <th>dataset</th>\n",
       "    </tr>\n",
       "  </thead>\n",
       "  <tbody>\n",
       "    <tr>\n",
       "      <th>0</th>\n",
       "      <td>65</td>\n",
       "      <td>Female</td>\n",
       "      <td>0.7</td>\n",
       "      <td>0.1</td>\n",
       "      <td>187</td>\n",
       "      <td>16</td>\n",
       "      <td>18</td>\n",
       "      <td>6.8</td>\n",
       "      <td>3.3</td>\n",
       "      <td>0.90</td>\n",
       "      <td>1</td>\n",
       "    </tr>\n",
       "    <tr>\n",
       "      <th>1</th>\n",
       "      <td>62</td>\n",
       "      <td>Male</td>\n",
       "      <td>10.9</td>\n",
       "      <td>5.5</td>\n",
       "      <td>699</td>\n",
       "      <td>64</td>\n",
       "      <td>100</td>\n",
       "      <td>7.5</td>\n",
       "      <td>3.2</td>\n",
       "      <td>0.74</td>\n",
       "      <td>1</td>\n",
       "    </tr>\n",
       "    <tr>\n",
       "      <th>2</th>\n",
       "      <td>62</td>\n",
       "      <td>Male</td>\n",
       "      <td>7.3</td>\n",
       "      <td>4.1</td>\n",
       "      <td>490</td>\n",
       "      <td>60</td>\n",
       "      <td>68</td>\n",
       "      <td>7.0</td>\n",
       "      <td>3.3</td>\n",
       "      <td>0.89</td>\n",
       "      <td>1</td>\n",
       "    </tr>\n",
       "    <tr>\n",
       "      <th>3</th>\n",
       "      <td>58</td>\n",
       "      <td>Male</td>\n",
       "      <td>1.0</td>\n",
       "      <td>0.4</td>\n",
       "      <td>182</td>\n",
       "      <td>14</td>\n",
       "      <td>20</td>\n",
       "      <td>6.8</td>\n",
       "      <td>3.4</td>\n",
       "      <td>1.00</td>\n",
       "      <td>1</td>\n",
       "    </tr>\n",
       "    <tr>\n",
       "      <th>4</th>\n",
       "      <td>72</td>\n",
       "      <td>Male</td>\n",
       "      <td>3.9</td>\n",
       "      <td>2.0</td>\n",
       "      <td>195</td>\n",
       "      <td>27</td>\n",
       "      <td>59</td>\n",
       "      <td>7.3</td>\n",
       "      <td>2.4</td>\n",
       "      <td>0.40</td>\n",
       "      <td>1</td>\n",
       "    </tr>\n",
       "  </tbody>\n",
       "</table>\n",
       "</div>"
      ],
      "text/plain": [
       "   age  gender  total_bilirubin  direct_bilirubin  alkaline_phosphotase  \\\n",
       "0   65  Female              0.7               0.1                   187   \n",
       "1   62    Male             10.9               5.5                   699   \n",
       "2   62    Male              7.3               4.1                   490   \n",
       "3   58    Male              1.0               0.4                   182   \n",
       "4   72    Male              3.9               2.0                   195   \n",
       "\n",
       "   alamine_aminotransferase  aspartate_aminotransferase  total_protiens  \\\n",
       "0                        16                          18             6.8   \n",
       "1                        64                         100             7.5   \n",
       "2                        60                          68             7.0   \n",
       "3                        14                          20             6.8   \n",
       "4                        27                          59             7.3   \n",
       "\n",
       "   albumin  albumin_and_globulin_ratio  dataset  \n",
       "0      3.3                        0.90        1  \n",
       "1      3.2                        0.74        1  \n",
       "2      3.3                        0.89        1  \n",
       "3      3.4                        1.00        1  \n",
       "4      2.4                        0.40        1  "
      ]
     },
     "execution_count": 2,
     "metadata": {},
     "output_type": "execute_result"
    }
   ],
   "source": [
    "# 📌 Step 2: Load Dataset\n",
    "\n",
    "# Load the Indian Liver Patient dataset\n",
    "df = pd.read_csv(\"indian_liver_patient.csv\")\n",
    "\n",
    "# Standardize column names: remove spaces, convert to lowercase\n",
    "df.columns = df.columns.str.strip().str.lower().str.replace(\" \", \"_\")\n",
    "\n",
    "# Preview the data\n",
    "df.head()\n"
   ]
  },
  {
   "cell_type": "code",
   "execution_count": 3,
   "id": "c9e6bb2a",
   "metadata": {},
   "outputs": [
    {
     "name": "stdout",
     "output_type": "stream",
     "text": [
      "<class 'pandas.core.frame.DataFrame'>\n",
      "RangeIndex: 583 entries, 0 to 582\n",
      "Data columns (total 11 columns):\n",
      " #   Column                      Non-Null Count  Dtype  \n",
      "---  ------                      --------------  -----  \n",
      " 0   age                         583 non-null    int64  \n",
      " 1   gender                      583 non-null    object \n",
      " 2   total_bilirubin             583 non-null    float64\n",
      " 3   direct_bilirubin            583 non-null    float64\n",
      " 4   alkaline_phosphotase        583 non-null    int64  \n",
      " 5   alamine_aminotransferase    583 non-null    int64  \n",
      " 6   aspartate_aminotransferase  583 non-null    int64  \n",
      " 7   total_protiens              583 non-null    float64\n",
      " 8   albumin                     583 non-null    float64\n",
      " 9   albumin_and_globulin_ratio  579 non-null    float64\n",
      " 10  dataset                     583 non-null    int64  \n",
      "dtypes: float64(5), int64(5), object(1)\n",
      "memory usage: 50.2+ KB\n"
     ]
    },
    {
     "data": {
      "text/plain": [
       "age                           0\n",
       "gender                        0\n",
       "total_bilirubin               0\n",
       "direct_bilirubin              0\n",
       "alkaline_phosphotase          0\n",
       "alamine_aminotransferase      0\n",
       "aspartate_aminotransferase    0\n",
       "total_protiens                0\n",
       "albumin                       0\n",
       "albumin_and_globulin_ratio    4\n",
       "dataset                       0\n",
       "dtype: int64"
      ]
     },
     "execution_count": 3,
     "metadata": {},
     "output_type": "execute_result"
    }
   ],
   "source": [
    "# 📌 Step 3: Initial Inspection – Missing Values and Target Column\n",
    "\n",
    "# Show dataset info and null counts\n",
    "df.info()\n",
    "df.isnull().sum()\n"
   ]
  },
  {
   "cell_type": "code",
   "execution_count": 5,
   "id": "5db033f6",
   "metadata": {},
   "outputs": [
    {
     "data": {
      "text/html": [
       "<div>\n",
       "<style scoped>\n",
       "    .dataframe tbody tr th:only-of-type {\n",
       "        vertical-align: middle;\n",
       "    }\n",
       "\n",
       "    .dataframe tbody tr th {\n",
       "        vertical-align: top;\n",
       "    }\n",
       "\n",
       "    .dataframe thead th {\n",
       "        text-align: right;\n",
       "    }\n",
       "</style>\n",
       "<table border=\"1\" class=\"dataframe\">\n",
       "  <thead>\n",
       "    <tr style=\"text-align: right;\">\n",
       "      <th></th>\n",
       "      <th>age</th>\n",
       "      <th>gender</th>\n",
       "      <th>total_bilirubin</th>\n",
       "      <th>direct_bilirubin</th>\n",
       "      <th>alkaline_phosphotase</th>\n",
       "      <th>alamine_aminotransferase</th>\n",
       "      <th>aspartate_aminotransferase</th>\n",
       "      <th>total_protiens</th>\n",
       "      <th>albumin</th>\n",
       "      <th>albumin_and_globulin_ratio</th>\n",
       "      <th>dataset</th>\n",
       "    </tr>\n",
       "  </thead>\n",
       "  <tbody>\n",
       "    <tr>\n",
       "      <th>0</th>\n",
       "      <td>65</td>\n",
       "      <td>0</td>\n",
       "      <td>0.7</td>\n",
       "      <td>0.1</td>\n",
       "      <td>187</td>\n",
       "      <td>16</td>\n",
       "      <td>18</td>\n",
       "      <td>6.8</td>\n",
       "      <td>3.3</td>\n",
       "      <td>0.90</td>\n",
       "      <td>1</td>\n",
       "    </tr>\n",
       "    <tr>\n",
       "      <th>1</th>\n",
       "      <td>62</td>\n",
       "      <td>1</td>\n",
       "      <td>10.9</td>\n",
       "      <td>5.5</td>\n",
       "      <td>699</td>\n",
       "      <td>64</td>\n",
       "      <td>100</td>\n",
       "      <td>7.5</td>\n",
       "      <td>3.2</td>\n",
       "      <td>0.74</td>\n",
       "      <td>1</td>\n",
       "    </tr>\n",
       "    <tr>\n",
       "      <th>2</th>\n",
       "      <td>62</td>\n",
       "      <td>1</td>\n",
       "      <td>7.3</td>\n",
       "      <td>4.1</td>\n",
       "      <td>490</td>\n",
       "      <td>60</td>\n",
       "      <td>68</td>\n",
       "      <td>7.0</td>\n",
       "      <td>3.3</td>\n",
       "      <td>0.89</td>\n",
       "      <td>1</td>\n",
       "    </tr>\n",
       "    <tr>\n",
       "      <th>3</th>\n",
       "      <td>58</td>\n",
       "      <td>1</td>\n",
       "      <td>1.0</td>\n",
       "      <td>0.4</td>\n",
       "      <td>182</td>\n",
       "      <td>14</td>\n",
       "      <td>20</td>\n",
       "      <td>6.8</td>\n",
       "      <td>3.4</td>\n",
       "      <td>1.00</td>\n",
       "      <td>1</td>\n",
       "    </tr>\n",
       "    <tr>\n",
       "      <th>4</th>\n",
       "      <td>72</td>\n",
       "      <td>1</td>\n",
       "      <td>3.9</td>\n",
       "      <td>2.0</td>\n",
       "      <td>195</td>\n",
       "      <td>27</td>\n",
       "      <td>59</td>\n",
       "      <td>7.3</td>\n",
       "      <td>2.4</td>\n",
       "      <td>0.40</td>\n",
       "      <td>1</td>\n",
       "    </tr>\n",
       "  </tbody>\n",
       "</table>\n",
       "</div>"
      ],
      "text/plain": [
       "   age  gender  total_bilirubin  direct_bilirubin  alkaline_phosphotase  \\\n",
       "0   65       0              0.7               0.1                   187   \n",
       "1   62       1             10.9               5.5                   699   \n",
       "2   62       1              7.3               4.1                   490   \n",
       "3   58       1              1.0               0.4                   182   \n",
       "4   72       1              3.9               2.0                   195   \n",
       "\n",
       "   alamine_aminotransferase  aspartate_aminotransferase  total_protiens  \\\n",
       "0                        16                          18             6.8   \n",
       "1                        64                         100             7.5   \n",
       "2                        60                          68             7.0   \n",
       "3                        14                          20             6.8   \n",
       "4                        27                          59             7.3   \n",
       "\n",
       "   albumin  albumin_and_globulin_ratio  dataset  \n",
       "0      3.3                        0.90        1  \n",
       "1      3.2                        0.74        1  \n",
       "2      3.3                        0.89        1  \n",
       "3      3.4                        1.00        1  \n",
       "4      2.4                        0.40        1  "
      ]
     },
     "execution_count": 5,
     "metadata": {},
     "output_type": "execute_result"
    }
   ],
   "source": [
    "# 📌 Step 5: Encode Categorical Variables and Handle Missing Categorical Data\n",
    "\n",
    "# Identify categorical columns\n",
    "categorical_cols = df.select_dtypes(include='object').columns\n",
    "le = LabelEncoder()\n",
    "\n",
    "# Encode each categorical column\n",
    "for col in categorical_cols:\n",
    "    df[col] = df[col].astype(str).str.strip().replace('?', pd.NA)  # Clean up and replace unknowns\n",
    "    df[col] = df[col].fillna(df[col].mode()[0])                    # Fill missing with mode\n",
    "    df[col] = le.fit_transform(df[col])                            # Label encode\n",
    "\n",
    "df.head()\n"
   ]
  },
  {
   "cell_type": "code",
   "execution_count": 6,
   "id": "5e11c4c8",
   "metadata": {},
   "outputs": [],
   "source": [
    "# 📌 Step 6: Handle Missing Numeric Values and Feature Scaling\n",
    "\n",
    "# Select numerical columns excluding the target\n",
    "numerical_cols = df.select_dtypes(include=['float64', 'int64']).columns.drop('target', errors='ignore')\n",
    "\n",
    "# Fill missing numeric values with the median\n",
    "for col in numerical_cols:\n",
    "    df[col] = df[col].fillna(df[col].median())\n",
    "\n",
    "# Scale numerical features using StandardScaler\n",
    "scaler = StandardScaler()\n",
    "df[numerical_cols] = scaler.fit_transform(df[numerical_cols])\n"
   ]
  },
  {
   "cell_type": "code",
   "execution_count": 7,
   "id": "8625a0d7",
   "metadata": {},
   "outputs": [
    {
     "name": "stdout",
     "output_type": "stream",
     "text": [
      "✅ Saved cleaned dataset as 'liver_cleaned.csv'\n"
     ]
    }
   ],
   "source": [
    "# 📌 Step 7:  Save the Cleaned Dataset\n",
    "\n",
    "# Save the cleaned dataset for model training\n",
    "df.to_csv(\"liver_cleaned.csv\", index=False)\n",
    "print(\"✅ Saved cleaned dataset as 'liver_cleaned.csv'\")\n"
   ]
  },
  {
   "cell_type": "code",
   "execution_count": 8,
   "id": "33554386",
   "metadata": {},
   "outputs": [
    {
     "data": {
      "application/vnd.plotly.v1+json": {
       "config": {
        "plotlyServerURL": "https://plot.ly"
       },
       "data": [
        {
         "bingroup": "x",
         "hovertemplate": "age=%{x}<br>count=%{y}<extra></extra>",
         "legendgroup": "",
         "marker": {
          "color": "teal",
          "pattern": {
           "shape": ""
          }
         },
         "name": "",
         "nbinsx": 30,
         "orientation": "v",
         "showlegend": false,
         "type": "histogram",
         "x": {
          "bdata": "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",
          "dtype": "f8"
         },
         "xaxis": "x",
         "yaxis": "y"
        }
       ],
       "layout": {
        "barmode": "relative",
        "legend": {
         "tracegroupgap": 0
        },
        "template": {
         "data": {
          "bar": [
           {
            "error_x": {
             "color": "#2a3f5f"
            },
            "error_y": {
             "color": "#2a3f5f"
            },
            "marker": {
             "line": {
              "color": "white",
              "width": 0.5
             },
             "pattern": {
              "fillmode": "overlay",
              "size": 10,
              "solidity": 0.2
             }
            },
            "type": "bar"
           }
          ],
          "barpolar": [
           {
            "marker": {
             "line": {
              "color": "white",
              "width": 0.5
             },
             "pattern": {
              "fillmode": "overlay",
              "size": 10,
              "solidity": 0.2
             }
            },
            "type": "barpolar"
           }
          ],
          "carpet": [
           {
            "aaxis": {
             "endlinecolor": "#2a3f5f",
             "gridcolor": "#C8D4E3",
             "linecolor": "#C8D4E3",
             "minorgridcolor": "#C8D4E3",
             "startlinecolor": "#2a3f5f"
            },
            "baxis": {
             "endlinecolor": "#2a3f5f",
             "gridcolor": "#C8D4E3",
             "linecolor": "#C8D4E3",
             "minorgridcolor": "#C8D4E3",
             "startlinecolor": "#2a3f5f"
            },
            "type": "carpet"
           }
          ],
          "choropleth": [
           {
            "colorbar": {
             "outlinewidth": 0,
             "ticks": ""
            },
            "type": "choropleth"
           }
          ],
          "contour": [
           {
            "colorbar": {
             "outlinewidth": 0,
             "ticks": ""
            },
            "colorscale": [
             [
              0,
              "#0d0887"
             ],
             [
              0.1111111111111111,
              "#46039f"
             ],
             [
              0.2222222222222222,
              "#7201a8"
             ],
             [
              0.3333333333333333,
              "#9c179e"
             ],
             [
              0.4444444444444444,
              "#bd3786"
             ],
             [
              0.5555555555555556,
              "#d8576b"
             ],
             [
              0.6666666666666666,
              "#ed7953"
             ],
             [
              0.7777777777777778,
              "#fb9f3a"
             ],
             [
              0.8888888888888888,
              "#fdca26"
             ],
             [
              1,
              "#f0f921"
             ]
            ],
            "type": "contour"
           }
          ],
          "contourcarpet": [
           {
            "colorbar": {
             "outlinewidth": 0,
             "ticks": ""
            },
            "type": "contourcarpet"
           }
          ],
          "heatmap": [
           {
            "colorbar": {
             "outlinewidth": 0,
             "ticks": ""
            },
            "colorscale": [
             [
              0,
              "#0d0887"
             ],
             [
              0.1111111111111111,
              "#46039f"
             ],
             [
              0.2222222222222222,
              "#7201a8"
             ],
             [
              0.3333333333333333,
              "#9c179e"
             ],
             [
              0.4444444444444444,
              "#bd3786"
             ],
             [
              0.5555555555555556,
              "#d8576b"
             ],
             [
              0.6666666666666666,
              "#ed7953"
             ],
             [
              0.7777777777777778,
              "#fb9f3a"
             ],
             [
              0.8888888888888888,
              "#fdca26"
             ],
             [
              1,
              "#f0f921"
             ]
            ],
            "type": "heatmap"
           }
          ],
          "histogram": [
           {
            "marker": {
             "pattern": {
              "fillmode": "overlay",
              "size": 10,
              "solidity": 0.2
             }
            },
            "type": "histogram"
           }
          ],
          "histogram2d": [
           {
            "colorbar": {
             "outlinewidth": 0,
             "ticks": ""
            },
            "colorscale": [
             [
              0,
              "#0d0887"
             ],
             [
              0.1111111111111111,
              "#46039f"
             ],
             [
              0.2222222222222222,
              "#7201a8"
             ],
             [
              0.3333333333333333,
              "#9c179e"
             ],
             [
              0.4444444444444444,
              "#bd3786"
             ],
             [
              0.5555555555555556,
              "#d8576b"
             ],
             [
              0.6666666666666666,
              "#ed7953"
             ],
             [
              0.7777777777777778,
              "#fb9f3a"
             ],
             [
              0.8888888888888888,
              "#fdca26"
             ],
             [
              1,
              "#f0f921"
             ]
            ],
            "type": "histogram2d"
           }
          ],
          "histogram2dcontour": [
           {
            "colorbar": {
             "outlinewidth": 0,
             "ticks": ""
            },
            "colorscale": [
             [
              0,
              "#0d0887"
             ],
             [
              0.1111111111111111,
              "#46039f"
             ],
             [
              0.2222222222222222,
              "#7201a8"
             ],
             [
              0.3333333333333333,
              "#9c179e"
             ],
             [
              0.4444444444444444,
              "#bd3786"
             ],
             [
              0.5555555555555556,
              "#d8576b"
             ],
             [
              0.6666666666666666,
              "#ed7953"
             ],
             [
              0.7777777777777778,
              "#fb9f3a"
             ],
             [
              0.8888888888888888,
              "#fdca26"
             ],
             [
              1,
              "#f0f921"
             ]
            ],
            "type": "histogram2dcontour"
           }
          ],
          "mesh3d": [
           {
            "colorbar": {
             "outlinewidth": 0,
             "ticks": ""
            },
            "type": "mesh3d"
           }
          ],
          "parcoords": [
           {
            "line": {
             "colorbar": {
              "outlinewidth": 0,
              "ticks": ""
             }
            },
            "type": "parcoords"
           }
          ],
          "pie": [
           {
            "automargin": true,
            "type": "pie"
           }
          ],
          "scatter": [
           {
            "fillpattern": {
             "fillmode": "overlay",
             "size": 10,
             "solidity": 0.2
            },
            "type": "scatter"
           }
          ],
          "scatter3d": [
           {
            "line": {
             "colorbar": {
              "outlinewidth": 0,
              "ticks": ""
             }
            },
            "marker": {
             "colorbar": {
              "outlinewidth": 0,
              "ticks": ""
             }
            },
            "type": "scatter3d"
           }
          ],
          "scattercarpet": [
           {
            "marker": {
             "colorbar": {
              "outlinewidth": 0,
              "ticks": ""
             }
            },
            "type": "scattercarpet"
           }
          ],
          "scattergeo": [
           {
            "marker": {
             "colorbar": {
              "outlinewidth": 0,
              "ticks": ""
             }
            },
            "type": "scattergeo"
           }
          ],
          "scattergl": [
           {
            "marker": {
             "colorbar": {
              "outlinewidth": 0,
              "ticks": ""
             }
            },
            "type": "scattergl"
           }
          ],
          "scattermap": [
           {
            "marker": {
             "colorbar": {
              "outlinewidth": 0,
              "ticks": ""
             }
            },
            "type": "scattermap"
           }
          ],
          "scattermapbox": [
           {
            "marker": {
             "colorbar": {
              "outlinewidth": 0,
              "ticks": ""
             }
            },
            "type": "scattermapbox"
           }
          ],
          "scatterpolar": [
           {
            "marker": {
             "colorbar": {
              "outlinewidth": 0,
              "ticks": ""
             }
            },
            "type": "scatterpolar"
           }
          ],
          "scatterpolargl": [
           {
            "marker": {
             "colorbar": {
              "outlinewidth": 0,
              "ticks": ""
             }
            },
            "type": "scatterpolargl"
           }
          ],
          "scatterternary": [
           {
            "marker": {
             "colorbar": {
              "outlinewidth": 0,
              "ticks": ""
             }
            },
            "type": "scatterternary"
           }
          ],
          "surface": [
           {
            "colorbar": {
             "outlinewidth": 0,
             "ticks": ""
            },
            "colorscale": [
             [
              0,
              "#0d0887"
             ],
             [
              0.1111111111111111,
              "#46039f"
             ],
             [
              0.2222222222222222,
              "#7201a8"
             ],
             [
              0.3333333333333333,
              "#9c179e"
             ],
             [
              0.4444444444444444,
              "#bd3786"
             ],
             [
              0.5555555555555556,
              "#d8576b"
             ],
             [
              0.6666666666666666,
              "#ed7953"
             ],
             [
              0.7777777777777778,
              "#fb9f3a"
             ],
             [
              0.8888888888888888,
              "#fdca26"
             ],
             [
              1,
              "#f0f921"
             ]
            ],
            "type": "surface"
           }
          ],
          "table": [
           {
            "cells": {
             "fill": {
              "color": "#EBF0F8"
             },
             "line": {
              "color": "white"
             }
            },
            "header": {
             "fill": {
              "color": "#C8D4E3"
             },
             "line": {
              "color": "white"
             }
            },
            "type": "table"
           }
          ]
         },
         "layout": {
          "annotationdefaults": {
           "arrowcolor": "#2a3f5f",
           "arrowhead": 0,
           "arrowwidth": 1
          },
          "autotypenumbers": "strict",
          "coloraxis": {
           "colorbar": {
            "outlinewidth": 0,
            "ticks": ""
           }
          },
          "colorscale": {
           "diverging": [
            [
             0,
             "#8e0152"
            ],
            [
             0.1,
             "#c51b7d"
            ],
            [
             0.2,
             "#de77ae"
            ],
            [
             0.3,
             "#f1b6da"
            ],
            [
             0.4,
             "#fde0ef"
            ],
            [
             0.5,
             "#f7f7f7"
            ],
            [
             0.6,
             "#e6f5d0"
            ],
            [
             0.7,
             "#b8e186"
            ],
            [
             0.8,
             "#7fbc41"
            ],
            [
             0.9,
             "#4d9221"
            ],
            [
             1,
             "#276419"
            ]
           ],
           "sequential": [
            [
             0,
             "#0d0887"
            ],
            [
             0.1111111111111111,
             "#46039f"
            ],
            [
             0.2222222222222222,
             "#7201a8"
            ],
            [
             0.3333333333333333,
             "#9c179e"
            ],
            [
             0.4444444444444444,
             "#bd3786"
            ],
            [
             0.5555555555555556,
             "#d8576b"
            ],
            [
             0.6666666666666666,
             "#ed7953"
            ],
            [
             0.7777777777777778,
             "#fb9f3a"
            ],
            [
             0.8888888888888888,
             "#fdca26"
            ],
            [
             1,
             "#f0f921"
            ]
           ],
           "sequentialminus": [
            [
             0,
             "#0d0887"
            ],
            [
             0.1111111111111111,
             "#46039f"
            ],
            [
             0.2222222222222222,
             "#7201a8"
            ],
            [
             0.3333333333333333,
             "#9c179e"
            ],
            [
             0.4444444444444444,
             "#bd3786"
            ],
            [
             0.5555555555555556,
             "#d8576b"
            ],
            [
             0.6666666666666666,
             "#ed7953"
            ],
            [
             0.7777777777777778,
             "#fb9f3a"
            ],
            [
             0.8888888888888888,
             "#fdca26"
            ],
            [
             1,
             "#f0f921"
            ]
           ]
          },
          "colorway": [
           "#636efa",
           "#EF553B",
           "#00cc96",
           "#ab63fa",
           "#FFA15A",
           "#19d3f3",
           "#FF6692",
           "#B6E880",
           "#FF97FF",
           "#FECB52"
          ],
          "font": {
           "color": "#2a3f5f"
          },
          "geo": {
           "bgcolor": "white",
           "lakecolor": "white",
           "landcolor": "white",
           "showlakes": true,
           "showland": true,
           "subunitcolor": "#C8D4E3"
          },
          "hoverlabel": {
           "align": "left"
          },
          "hovermode": "closest",
          "mapbox": {
           "style": "light"
          },
          "paper_bgcolor": "white",
          "plot_bgcolor": "white",
          "polar": {
           "angularaxis": {
            "gridcolor": "#EBF0F8",
            "linecolor": "#EBF0F8",
            "ticks": ""
           },
           "bgcolor": "white",
           "radialaxis": {
            "gridcolor": "#EBF0F8",
            "linecolor": "#EBF0F8",
            "ticks": ""
           }
          },
          "scene": {
           "xaxis": {
            "backgroundcolor": "white",
            "gridcolor": "#DFE8F3",
            "gridwidth": 2,
            "linecolor": "#EBF0F8",
            "showbackground": true,
            "ticks": "",
            "zerolinecolor": "#EBF0F8"
           },
           "yaxis": {
            "backgroundcolor": "white",
            "gridcolor": "#DFE8F3",
            "gridwidth": 2,
            "linecolor": "#EBF0F8",
            "showbackground": true,
            "ticks": "",
            "zerolinecolor": "#EBF0F8"
           },
           "zaxis": {
            "backgroundcolor": "white",
            "gridcolor": "#DFE8F3",
            "gridwidth": 2,
            "linecolor": "#EBF0F8",
            "showbackground": true,
            "ticks": "",
            "zerolinecolor": "#EBF0F8"
           }
          },
          "shapedefaults": {
           "line": {
            "color": "#2a3f5f"
           }
          },
          "ternary": {
           "aaxis": {
            "gridcolor": "#DFE8F3",
            "linecolor": "#A2B1C6",
            "ticks": ""
           },
           "baxis": {
            "gridcolor": "#DFE8F3",
            "linecolor": "#A2B1C6",
            "ticks": ""
           },
           "bgcolor": "white",
           "caxis": {
            "gridcolor": "#DFE8F3",
            "linecolor": "#A2B1C6",
            "ticks": ""
           }
          },
          "title": {
           "x": 0.05
          },
          "xaxis": {
           "automargin": true,
           "gridcolor": "#EBF0F8",
           "linecolor": "#EBF0F8",
           "ticks": "",
           "title": {
            "standoff": 15
           },
           "zerolinecolor": "#EBF0F8",
           "zerolinewidth": 2
          },
          "yaxis": {
           "automargin": true,
           "gridcolor": "#EBF0F8",
           "linecolor": "#EBF0F8",
           "ticks": "",
           "title": {
            "standoff": 15
           },
           "zerolinecolor": "#EBF0F8",
           "zerolinewidth": 2
          }
         }
        },
        "title": {
         "text": "Age Distribution of Patients"
        },
        "xaxis": {
         "anchor": "y",
         "domain": [
          0,
          1
         ],
         "title": {
          "text": "Age"
         }
        },
        "yaxis": {
         "anchor": "x",
         "domain": [
          0,
          1
         ],
         "title": {
          "text": "Count"
         }
        }
       }
      }
     },
     "metadata": {},
     "output_type": "display_data"
    }
   ],
   "source": [
    "# 📊 Step 8: Univariate Analysis – Age Distribution\n",
    "\n",
    "\n",
    "fig = px.histogram(\n",
    "    df,\n",
    "    x='age',\n",
    "    nbins=30,\n",
    "    title=\"Age Distribution of Patients\",\n",
    "    template=\"plotly_white\",\n",
    "    color_discrete_sequence=['teal']  # Optional: better color\n",
    ")\n",
    "\n",
    "fig.update_layout(\n",
    "    xaxis_title=\"Age\",\n",
    "    yaxis_title=\"Count\"\n",
    ")\n",
    "\n",
    "fig.show()\n"
   ]
  },
  {
   "cell_type": "code",
   "execution_count": 11,
   "id": "f0afa2e1",
   "metadata": {},
   "outputs": [
    {
     "data": {
      "application/vnd.plotly.v1+json": {
       "config": {
        "plotlyServerURL": "https://plot.ly"
       },
       "data": [
        {
         "bingroup": "x",
         "hovertemplate": "Liver Disease (1 = Yes, 2 = No)=%{x}<br>count=%{y}<extra></extra>",
         "legendgroup": "-0.6335947503667528",
         "marker": {
          "color": "#00cc96",
          "pattern": {
           "shape": ""
          }
         },
         "name": "-0.6335947503667528",
         "orientation": "v",
         "showlegend": true,
         "type": "histogram",
         "x": {
          "bdata": "dcJ3f2hG5L91wnd/aEbkv3XCd39oRuS/dcJ3f2hG5L91wnd/aEbkv3XCd39oRuS/dcJ3f2hG5L91wnd/aEbkv3XCd39oRuS/dcJ3f2hG5L91wnd/aEbkv3XCd39oRuS/dcJ3f2hG5L91wnd/aEbkv3XCd39oRuS/dcJ3f2hG5L91wnd/aEbkv3XCd39oRuS/dcJ3f2hG5L91wnd/aEbkv3XCd39oRuS/dcJ3f2hG5L91wnd/aEbkv3XCd39oRuS/dcJ3f2hG5L91wnd/aEbkv3XCd39oRuS/dcJ3f2hG5L91wnd/aEbkv3XCd39oRuS/dcJ3f2hG5L91wnd/aEbkv3XCd39oRuS/dcJ3f2hG5L91wnd/aEbkv3XCd39oRuS/dcJ3f2hG5L91wnd/aEbkv3XCd39oRuS/dcJ3f2hG5L91wnd/aEbkv3XCd39oRuS/dcJ3f2hG5L91wnd/aEbkv3XCd39oRuS/dcJ3f2hG5L91wnd/aEbkv3XCd39oRuS/dcJ3f2hG5L91wnd/aEbkv3XCd39oRuS/dcJ3f2hG5L91wnd/aEbkv3XCd39oRuS/dcJ3f2hG5L91wnd/aEbkv3XCd39oRuS/dcJ3f2hG5L91wnd/aEbkv3XCd39oRuS/dcJ3f2hG5L91wnd/aEbkv3XCd39oRuS/dcJ3f2hG5L91wnd/aEbkv3XCd39oRuS/dcJ3f2hG5L91wnd/aEbkv3XCd39oRuS/dcJ3f2hG5L91wnd/aEbkv3XCd39oRuS/dcJ3f2hG5L91wnd/aEbkv3XCd39oRuS/dcJ3f2hG5L91wnd/aEbkv3XCd39oRuS/dcJ3f2hG5L91wnd/aEbkv3XCd39oRuS/dcJ3f2hG5L91wnd/aEbkv3XCd39oRuS/dcJ3f2hG5L91wnd/aEbkv3XCd39oRuS/dcJ3f2hG5L91wnd/aEbkv3XCd39oRuS/dcJ3f2hG5L91wnd/aEbkv3XCd39oRuS/dcJ3f2hG5L91wnd/aEbkv3XCd39oRuS/dcJ3f2hG5L91wnd/aEbkv3XCd39oRuS/dcJ3f2hG5L91wnd/aEbkv3XCd39oRuS/dcJ3f2hG5L91wnd/aEbkv3XCd39oRuS/dcJ3f2hG5L91wnd/aEbkv3XCd39oRuS/dcJ3f2hG5L91wnd/aEbkv3XCd39oRuS/dcJ3f2hG5L91wnd/aEbkv3XCd39oRuS/dcJ3f2hG5L91wnd/aEbkv3XCd39oRuS/dcJ3f2hG5L91wnd/aEbkv3XCd39oRuS/dcJ3f2hG5L91wnd/aEbkv3XCd39oRuS/dcJ3f2hG5L91wnd/aEbkv3XCd39oRuS/dcJ3f2hG5L91wnd/aEbkv3XCd39oRuS/dcJ3f2hG5L91wnd/aEbkv3XCd39oRuS/dcJ3f2hG5L91wnd/aEbkv3XCd39oRuS/dcJ3f2hG5L91wnd/aEbkv3XCd39oRuS/dcJ3f2hG5L91wnd/aEbkv3XCd39oRuS/dcJ3f2hG5L91wnd/aEbkv3XCd39oRuS/dcJ3f2hG5L91wnd/aEbkv3XCd39oRuS/dcJ3f2hG5L91wnd/aEbkv3XCd39oRuS/dcJ3f2hG5L91wnd/aEbkv3XCd39oRuS/dcJ3f2hG5L91wnd/aEbkv3XCd39oRuS/dcJ3f2hG5L91wnd/aEbkv3XCd39oRuS/dcJ3f2hG5L91wnd/aEbkv3XCd39oRuS/dcJ3f2hG5L91wnd/aEbkv3XCd39oRuS/dcJ3f2hG5L91wnd/aEbkv3XCd39oRuS/dcJ3f2hG5L91wnd/aEbkv3XCd39oRuS/dcJ3f2hG5L91wnd/aEbkv3XCd39oRuS/dcJ3f2hG5L91wnd/aEbkv3XCd39oRuS/dcJ3f2hG5L91wnd/aEbkv3XCd39oRuS/dcJ3f2hG5L91wnd/aEbkv3XCd39oRuS/dcJ3f2hG5L91wnd/aEbkv3XCd39oRuS/dcJ3f2hG5L91wnd/aEbkv3XCd39oRuS/dcJ3f2hG5L91wnd/aEbkv3XCd39oRuS/dcJ3f2hG5L91wnd/aEbkv3XCd39oRuS/dcJ3f2hG5L91wnd/aEbkv3XCd39oRuS/dcJ3f2hG5L91wnd/aEbkv3XCd39oRuS/dcJ3f2hG5L91wnd/aEbkv3XCd39oRuS/dcJ3f2hG5L91wnd/aEbkv3XCd39oRuS/dcJ3f2hG5L91wnd/aEbkv3XCd39oRuS/dcJ3f2hG5L91wnd/aEbkv3XCd39oRuS/dcJ3f2hG5L91wnd/aEbkv3XCd39oRuS/dcJ3f2hG5L91wnd/aEbkv3XCd39oRuS/dcJ3f2hG5L91wnd/aEbkv3XCd39oRuS/dcJ3f2hG5L91wnd/aEbkv3XCd39oRuS/dcJ3f2hG5L91wnd/aEbkv3XCd39oRuS/dcJ3f2hG5L91wnd/aEbkv3XCd39oRuS/dcJ3f2hG5L91wnd/aEbkv3XCd39oRuS/dcJ3f2hG5L91wnd/aEbkv3XCd39oRuS/dcJ3f2hG5L91wnd/aEbkv3XCd39oRuS/dcJ3f2hG5L91wnd/aEbkv3XCd39oRuS/dcJ3f2hG5L91wnd/aEbkv3XCd39oRuS/dcJ3f2hG5L91wnd/aEbkv3XCd39oRuS/dcJ3f2hG5L91wnd/aEbkv3XCd39oRuS/dcJ3f2hG5L91wnd/aEbkv3XCd39oRuS/dcJ3f2hG5L91wnd/aEbkv3XCd39oRuS/dcJ3f2hG5L91wnd/aEbkv3XCd39oRuS/dcJ3f2hG5L91wnd/aEbkv3XCd39oRuS/dcJ3f2hG5L91wnd/aEbkv3XCd39oRuS/dcJ3f2hG5L91wnd/aEbkv3XCd39oRuS/dcJ3f2hG5L91wnd/aEbkv3XCd39oRuS/dcJ3f2hG5L91wnd/aEbkv3XCd39oRuS/dcJ3f2hG5L91wnd/aEbkv3XCd39oRuS/dcJ3f2hG5L91wnd/aEbkv3XCd39oRuS/dcJ3f2hG5L91wnd/aEbkv3XCd39oRuS/dcJ3f2hG5L91wnd/aEbkv3XCd39oRuS/dcJ3f2hG5L91wnd/aEbkv3XCd39oRuS/dcJ3f2hG5L91wnd/aEbkv3XCd39oRuS/dcJ3f2hG5L91wnd/aEbkv3XCd39oRuS/dcJ3f2hG5L91wnd/aEbkv3XCd39oRuS/dcJ3f2hG5L91wnd/aEbkv3XCd39oRuS/dcJ3f2hG5L91wnd/aEbkv3XCd39oRuS/dcJ3f2hG5L91wnd/aEbkv3XCd39oRuS/dcJ3f2hG5L91wnd/aEbkv3XCd39oRuS/dcJ3f2hG5L91wnd/aEbkv3XCd39oRuS/dcJ3f2hG5L91wnd/aEbkv3XCd39oRuS/dcJ3f2hG5L91wnd/aEbkv3XCd39oRuS/dcJ3f2hG5L91wnd/aEbkv3XCd39oRuS/dcJ3f2hG5L91wnd/aEbkv3XCd39oRuS/dcJ3f2hG5L91wnd/aEbkv3XCd39oRuS/dcJ3f2hG5L91wnd/aEbkv3XCd39oRuS/dcJ3f2hG5L91wnd/aEbkv3XCd39oRuS/dcJ3f2hG5L91wnd/aEbkv3XCd39oRuS/dcJ3f2hG5L91wnd/aEbkv3XCd39oRuS/dcJ3f2hG5L91wnd/aEbkv3XCd39oRuS/dcJ3f2hG5L91wnd/aEbkv3XCd39oRuS/dcJ3f2hG5L91wnd/aEbkv3XCd39oRuS/dcJ3f2hG5L91wnd/aEbkv3XCd39oRuS/dcJ3f2hG5L91wnd/aEbkv3XCd39oRuS/dcJ3f2hG5L91wnd/aEbkv3XCd39oRuS/dcJ3f2hG5L91wnd/aEbkv3XCd39oRuS/dcJ3f2hG5L91wnd/aEbkv3XCd39oRuS/dcJ3f2hG5L91wnd/aEbkv3XCd39oRuS/dcJ3f2hG5L91wnd/aEbkv3XCd39oRuS/dcJ3f2hG5L91wnd/aEbkv3XCd39oRuS/dcJ3f2hG5L91wnd/aEbkv3XCd39oRuS/dcJ3f2hG5L91wnd/aEbkv3XCd39oRuS/dcJ3f2hG5L91wnd/aEbkv3XCd39oRuS/dcJ3f2hG5L91wnd/aEbkv3XCd39oRuS/dcJ3f2hG5L91wnd/aEbkv3XCd39oRuS/dcJ3f2hG5L91wnd/aEbkv3XCd39oRuS/dcJ3f2hG5L91wnd/aEbkv3XCd39oRuS/dcJ3f2hG5L91wnd/aEbkv3XCd39oRuS/dcJ3f2hG5L91wnd/aEbkv3XCd39oRuS/dcJ3f2hG5L91wnd/aEbkv3XCd39oRuS/dcJ3f2hG5L91wnd/aEbkv3XCd39oRuS/dcJ3f2hG5L91wnd/aEbkv3XCd39oRuS/dcJ3f2hG5L91wnd/aEbkv3XCd39oRuS/dcJ3f2hG5L91wnd/aEbkvw==",
          "dtype": "f8"
         },
         "xaxis": "x",
         "yaxis": "y"
        },
        {
         "bingroup": "x",
         "hovertemplate": "Liver Disease (1 = Yes, 2 = No)=%{x}<br>count=%{y}<extra></extra>",
         "legendgroup": "1.5782959051052046",
         "marker": {
          "color": "#ab63fa",
          "pattern": {
           "shape": ""
          }
         },
         "name": "1.5782959051052046",
         "orientation": "v",
         "showlegend": true,
         "type": "histogram",
         "x": {
          "bdata": "s2b9NLNA+T+zZv00s0D5P7Nm/TSzQPk/s2b9NLNA+T+zZv00s0D5P7Nm/TSzQPk/s2b9NLNA+T+zZv00s0D5P7Nm/TSzQPk/s2b9NLNA+T+zZv00s0D5P7Nm/TSzQPk/s2b9NLNA+T+zZv00s0D5P7Nm/TSzQPk/s2b9NLNA+T+zZv00s0D5P7Nm/TSzQPk/s2b9NLNA+T+zZv00s0D5P7Nm/TSzQPk/s2b9NLNA+T+zZv00s0D5P7Nm/TSzQPk/s2b9NLNA+T+zZv00s0D5P7Nm/TSzQPk/s2b9NLNA+T+zZv00s0D5P7Nm/TSzQPk/s2b9NLNA+T+zZv00s0D5P7Nm/TSzQPk/s2b9NLNA+T+zZv00s0D5P7Nm/TSzQPk/s2b9NLNA+T+zZv00s0D5P7Nm/TSzQPk/s2b9NLNA+T+zZv00s0D5P7Nm/TSzQPk/s2b9NLNA+T+zZv00s0D5P7Nm/TSzQPk/s2b9NLNA+T+zZv00s0D5P7Nm/TSzQPk/s2b9NLNA+T+zZv00s0D5P7Nm/TSzQPk/s2b9NLNA+T+zZv00s0D5P7Nm/TSzQPk/s2b9NLNA+T+zZv00s0D5P7Nm/TSzQPk/s2b9NLNA+T+zZv00s0D5P7Nm/TSzQPk/s2b9NLNA+T+zZv00s0D5P7Nm/TSzQPk/s2b9NLNA+T+zZv00s0D5P7Nm/TSzQPk/s2b9NLNA+T+zZv00s0D5P7Nm/TSzQPk/s2b9NLNA+T+zZv00s0D5P7Nm/TSzQPk/s2b9NLNA+T+zZv00s0D5P7Nm/TSzQPk/s2b9NLNA+T+zZv00s0D5P7Nm/TSzQPk/s2b9NLNA+T+zZv00s0D5P7Nm/TSzQPk/s2b9NLNA+T+zZv00s0D5P7Nm/TSzQPk/s2b9NLNA+T+zZv00s0D5P7Nm/TSzQPk/s2b9NLNA+T+zZv00s0D5P7Nm/TSzQPk/s2b9NLNA+T+zZv00s0D5P7Nm/TSzQPk/s2b9NLNA+T+zZv00s0D5P7Nm/TSzQPk/s2b9NLNA+T+zZv00s0D5P7Nm/TSzQPk/s2b9NLNA+T+zZv00s0D5P7Nm/TSzQPk/s2b9NLNA+T+zZv00s0D5P7Nm/TSzQPk/s2b9NLNA+T+zZv00s0D5P7Nm/TSzQPk/s2b9NLNA+T+zZv00s0D5P7Nm/TSzQPk/s2b9NLNA+T+zZv00s0D5P7Nm/TSzQPk/s2b9NLNA+T+zZv00s0D5P7Nm/TSzQPk/s2b9NLNA+T+zZv00s0D5P7Nm/TSzQPk/s2b9NLNA+T+zZv00s0D5P7Nm/TSzQPk/s2b9NLNA+T+zZv00s0D5P7Nm/TSzQPk/s2b9NLNA+T+zZv00s0D5P7Nm/TSzQPk/s2b9NLNA+T+zZv00s0D5P7Nm/TSzQPk/s2b9NLNA+T+zZv00s0D5P7Nm/TSzQPk/s2b9NLNA+T+zZv00s0D5P7Nm/TSzQPk/s2b9NLNA+T+zZv00s0D5P7Nm/TSzQPk/s2b9NLNA+T+zZv00s0D5P7Nm/TSzQPk/s2b9NLNA+T+zZv00s0D5P7Nm/TSzQPk/s2b9NLNA+T+zZv00s0D5P7Nm/TSzQPk/s2b9NLNA+T+zZv00s0D5P7Nm/TSzQPk/s2b9NLNA+T+zZv00s0D5P7Nm/TSzQPk/s2b9NLNA+T+zZv00s0D5P7Nm/TSzQPk/s2b9NLNA+T+zZv00s0D5P7Nm/TSzQPk/s2b9NLNA+T+zZv00s0D5P7Nm/TSzQPk/s2b9NLNA+T+zZv00s0D5Pw==",
          "dtype": "f8"
         },
         "xaxis": "x",
         "yaxis": "y"
        }
       ],
       "layout": {
        "barmode": "relative",
        "legend": {
         "title": {
          "text": "Liver Disease (1 = Yes, 2 = No)"
         },
         "tracegroupgap": 0
        },
        "showlegend": false,
        "template": {
         "data": {
          "bar": [
           {
            "error_x": {
             "color": "#2a3f5f"
            },
            "error_y": {
             "color": "#2a3f5f"
            },
            "marker": {
             "line": {
              "color": "white",
              "width": 0.5
             },
             "pattern": {
              "fillmode": "overlay",
              "size": 10,
              "solidity": 0.2
             }
            },
            "type": "bar"
           }
          ],
          "barpolar": [
           {
            "marker": {
             "line": {
              "color": "white",
              "width": 0.5
             },
             "pattern": {
              "fillmode": "overlay",
              "size": 10,
              "solidity": 0.2
             }
            },
            "type": "barpolar"
           }
          ],
          "carpet": [
           {
            "aaxis": {
             "endlinecolor": "#2a3f5f",
             "gridcolor": "#C8D4E3",
             "linecolor": "#C8D4E3",
             "minorgridcolor": "#C8D4E3",
             "startlinecolor": "#2a3f5f"
            },
            "baxis": {
             "endlinecolor": "#2a3f5f",
             "gridcolor": "#C8D4E3",
             "linecolor": "#C8D4E3",
             "minorgridcolor": "#C8D4E3",
             "startlinecolor": "#2a3f5f"
            },
            "type": "carpet"
           }
          ],
          "choropleth": [
           {
            "colorbar": {
             "outlinewidth": 0,
             "ticks": ""
            },
            "type": "choropleth"
           }
          ],
          "contour": [
           {
            "colorbar": {
             "outlinewidth": 0,
             "ticks": ""
            },
            "colorscale": [
             [
              0,
              "#0d0887"
             ],
             [
              0.1111111111111111,
              "#46039f"
             ],
             [
              0.2222222222222222,
              "#7201a8"
             ],
             [
              0.3333333333333333,
              "#9c179e"
             ],
             [
              0.4444444444444444,
              "#bd3786"
             ],
             [
              0.5555555555555556,
              "#d8576b"
             ],
             [
              0.6666666666666666,
              "#ed7953"
             ],
             [
              0.7777777777777778,
              "#fb9f3a"
             ],
             [
              0.8888888888888888,
              "#fdca26"
             ],
             [
              1,
              "#f0f921"
             ]
            ],
            "type": "contour"
           }
          ],
          "contourcarpet": [
           {
            "colorbar": {
             "outlinewidth": 0,
             "ticks": ""
            },
            "type": "contourcarpet"
           }
          ],
          "heatmap": [
           {
            "colorbar": {
             "outlinewidth": 0,
             "ticks": ""
            },
            "colorscale": [
             [
              0,
              "#0d0887"
             ],
             [
              0.1111111111111111,
              "#46039f"
             ],
             [
              0.2222222222222222,
              "#7201a8"
             ],
             [
              0.3333333333333333,
              "#9c179e"
             ],
             [
              0.4444444444444444,
              "#bd3786"
             ],
             [
              0.5555555555555556,
              "#d8576b"
             ],
             [
              0.6666666666666666,
              "#ed7953"
             ],
             [
              0.7777777777777778,
              "#fb9f3a"
             ],
             [
              0.8888888888888888,
              "#fdca26"
             ],
             [
              1,
              "#f0f921"
             ]
            ],
            "type": "heatmap"
           }
          ],
          "histogram": [
           {
            "marker": {
             "pattern": {
              "fillmode": "overlay",
              "size": 10,
              "solidity": 0.2
             }
            },
            "type": "histogram"
           }
          ],
          "histogram2d": [
           {
            "colorbar": {
             "outlinewidth": 0,
             "ticks": ""
            },
            "colorscale": [
             [
              0,
              "#0d0887"
             ],
             [
              0.1111111111111111,
              "#46039f"
             ],
             [
              0.2222222222222222,
              "#7201a8"
             ],
             [
              0.3333333333333333,
              "#9c179e"
             ],
             [
              0.4444444444444444,
              "#bd3786"
             ],
             [
              0.5555555555555556,
              "#d8576b"
             ],
             [
              0.6666666666666666,
              "#ed7953"
             ],
             [
              0.7777777777777778,
              "#fb9f3a"
             ],
             [
              0.8888888888888888,
              "#fdca26"
             ],
             [
              1,
              "#f0f921"
             ]
            ],
            "type": "histogram2d"
           }
          ],
          "histogram2dcontour": [
           {
            "colorbar": {
             "outlinewidth": 0,
             "ticks": ""
            },
            "colorscale": [
             [
              0,
              "#0d0887"
             ],
             [
              0.1111111111111111,
              "#46039f"
             ],
             [
              0.2222222222222222,
              "#7201a8"
             ],
             [
              0.3333333333333333,
              "#9c179e"
             ],
             [
              0.4444444444444444,
              "#bd3786"
             ],
             [
              0.5555555555555556,
              "#d8576b"
             ],
             [
              0.6666666666666666,
              "#ed7953"
             ],
             [
              0.7777777777777778,
              "#fb9f3a"
             ],
             [
              0.8888888888888888,
              "#fdca26"
             ],
             [
              1,
              "#f0f921"
             ]
            ],
            "type": "histogram2dcontour"
           }
          ],
          "mesh3d": [
           {
            "colorbar": {
             "outlinewidth": 0,
             "ticks": ""
            },
            "type": "mesh3d"
           }
          ],
          "parcoords": [
           {
            "line": {
             "colorbar": {
              "outlinewidth": 0,
              "ticks": ""
             }
            },
            "type": "parcoords"
           }
          ],
          "pie": [
           {
            "automargin": true,
            "type": "pie"
           }
          ],
          "scatter": [
           {
            "fillpattern": {
             "fillmode": "overlay",
             "size": 10,
             "solidity": 0.2
            },
            "type": "scatter"
           }
          ],
          "scatter3d": [
           {
            "line": {
             "colorbar": {
              "outlinewidth": 0,
              "ticks": ""
             }
            },
            "marker": {
             "colorbar": {
              "outlinewidth": 0,
              "ticks": ""
             }
            },
            "type": "scatter3d"
           }
          ],
          "scattercarpet": [
           {
            "marker": {
             "colorbar": {
              "outlinewidth": 0,
              "ticks": ""
             }
            },
            "type": "scattercarpet"
           }
          ],
          "scattergeo": [
           {
            "marker": {
             "colorbar": {
              "outlinewidth": 0,
              "ticks": ""
             }
            },
            "type": "scattergeo"
           }
          ],
          "scattergl": [
           {
            "marker": {
             "colorbar": {
              "outlinewidth": 0,
              "ticks": ""
             }
            },
            "type": "scattergl"
           }
          ],
          "scattermap": [
           {
            "marker": {
             "colorbar": {
              "outlinewidth": 0,
              "ticks": ""
             }
            },
            "type": "scattermap"
           }
          ],
          "scattermapbox": [
           {
            "marker": {
             "colorbar": {
              "outlinewidth": 0,
              "ticks": ""
             }
            },
            "type": "scattermapbox"
           }
          ],
          "scatterpolar": [
           {
            "marker": {
             "colorbar": {
              "outlinewidth": 0,
              "ticks": ""
             }
            },
            "type": "scatterpolar"
           }
          ],
          "scatterpolargl": [
           {
            "marker": {
             "colorbar": {
              "outlinewidth": 0,
              "ticks": ""
             }
            },
            "type": "scatterpolargl"
           }
          ],
          "scatterternary": [
           {
            "marker": {
             "colorbar": {
              "outlinewidth": 0,
              "ticks": ""
             }
            },
            "type": "scatterternary"
           }
          ],
          "surface": [
           {
            "colorbar": {
             "outlinewidth": 0,
             "ticks": ""
            },
            "colorscale": [
             [
              0,
              "#0d0887"
             ],
             [
              0.1111111111111111,
              "#46039f"
             ],
             [
              0.2222222222222222,
              "#7201a8"
             ],
             [
              0.3333333333333333,
              "#9c179e"
             ],
             [
              0.4444444444444444,
              "#bd3786"
             ],
             [
              0.5555555555555556,
              "#d8576b"
             ],
             [
              0.6666666666666666,
              "#ed7953"
             ],
             [
              0.7777777777777778,
              "#fb9f3a"
             ],
             [
              0.8888888888888888,
              "#fdca26"
             ],
             [
              1,
              "#f0f921"
             ]
            ],
            "type": "surface"
           }
          ],
          "table": [
           {
            "cells": {
             "fill": {
              "color": "#EBF0F8"
             },
             "line": {
              "color": "white"
             }
            },
            "header": {
             "fill": {
              "color": "#C8D4E3"
             },
             "line": {
              "color": "white"
             }
            },
            "type": "table"
           }
          ]
         },
         "layout": {
          "annotationdefaults": {
           "arrowcolor": "#2a3f5f",
           "arrowhead": 0,
           "arrowwidth": 1
          },
          "autotypenumbers": "strict",
          "coloraxis": {
           "colorbar": {
            "outlinewidth": 0,
            "ticks": ""
           }
          },
          "colorscale": {
           "diverging": [
            [
             0,
             "#8e0152"
            ],
            [
             0.1,
             "#c51b7d"
            ],
            [
             0.2,
             "#de77ae"
            ],
            [
             0.3,
             "#f1b6da"
            ],
            [
             0.4,
             "#fde0ef"
            ],
            [
             0.5,
             "#f7f7f7"
            ],
            [
             0.6,
             "#e6f5d0"
            ],
            [
             0.7,
             "#b8e186"
            ],
            [
             0.8,
             "#7fbc41"
            ],
            [
             0.9,
             "#4d9221"
            ],
            [
             1,
             "#276419"
            ]
           ],
           "sequential": [
            [
             0,
             "#0d0887"
            ],
            [
             0.1111111111111111,
             "#46039f"
            ],
            [
             0.2222222222222222,
             "#7201a8"
            ],
            [
             0.3333333333333333,
             "#9c179e"
            ],
            [
             0.4444444444444444,
             "#bd3786"
            ],
            [
             0.5555555555555556,
             "#d8576b"
            ],
            [
             0.6666666666666666,
             "#ed7953"
            ],
            [
             0.7777777777777778,
             "#fb9f3a"
            ],
            [
             0.8888888888888888,
             "#fdca26"
            ],
            [
             1,
             "#f0f921"
            ]
           ],
           "sequentialminus": [
            [
             0,
             "#0d0887"
            ],
            [
             0.1111111111111111,
             "#46039f"
            ],
            [
             0.2222222222222222,
             "#7201a8"
            ],
            [
             0.3333333333333333,
             "#9c179e"
            ],
            [
             0.4444444444444444,
             "#bd3786"
            ],
            [
             0.5555555555555556,
             "#d8576b"
            ],
            [
             0.6666666666666666,
             "#ed7953"
            ],
            [
             0.7777777777777778,
             "#fb9f3a"
            ],
            [
             0.8888888888888888,
             "#fdca26"
            ],
            [
             1,
             "#f0f921"
            ]
           ]
          },
          "colorway": [
           "#636efa",
           "#EF553B",
           "#00cc96",
           "#ab63fa",
           "#FFA15A",
           "#19d3f3",
           "#FF6692",
           "#B6E880",
           "#FF97FF",
           "#FECB52"
          ],
          "font": {
           "color": "#2a3f5f"
          },
          "geo": {
           "bgcolor": "white",
           "lakecolor": "white",
           "landcolor": "white",
           "showlakes": true,
           "showland": true,
           "subunitcolor": "#C8D4E3"
          },
          "hoverlabel": {
           "align": "left"
          },
          "hovermode": "closest",
          "mapbox": {
           "style": "light"
          },
          "paper_bgcolor": "white",
          "plot_bgcolor": "white",
          "polar": {
           "angularaxis": {
            "gridcolor": "#EBF0F8",
            "linecolor": "#EBF0F8",
            "ticks": ""
           },
           "bgcolor": "white",
           "radialaxis": {
            "gridcolor": "#EBF0F8",
            "linecolor": "#EBF0F8",
            "ticks": ""
           }
          },
          "scene": {
           "xaxis": {
            "backgroundcolor": "white",
            "gridcolor": "#DFE8F3",
            "gridwidth": 2,
            "linecolor": "#EBF0F8",
            "showbackground": true,
            "ticks": "",
            "zerolinecolor": "#EBF0F8"
           },
           "yaxis": {
            "backgroundcolor": "white",
            "gridcolor": "#DFE8F3",
            "gridwidth": 2,
            "linecolor": "#EBF0F8",
            "showbackground": true,
            "ticks": "",
            "zerolinecolor": "#EBF0F8"
           },
           "zaxis": {
            "backgroundcolor": "white",
            "gridcolor": "#DFE8F3",
            "gridwidth": 2,
            "linecolor": "#EBF0F8",
            "showbackground": true,
            "ticks": "",
            "zerolinecolor": "#EBF0F8"
           }
          },
          "shapedefaults": {
           "line": {
            "color": "#2a3f5f"
           }
          },
          "ternary": {
           "aaxis": {
            "gridcolor": "#DFE8F3",
            "linecolor": "#A2B1C6",
            "ticks": ""
           },
           "baxis": {
            "gridcolor": "#DFE8F3",
            "linecolor": "#A2B1C6",
            "ticks": ""
           },
           "bgcolor": "white",
           "caxis": {
            "gridcolor": "#DFE8F3",
            "linecolor": "#A2B1C6",
            "ticks": ""
           }
          },
          "title": {
           "x": 0.05
          },
          "xaxis": {
           "automargin": true,
           "gridcolor": "#EBF0F8",
           "linecolor": "#EBF0F8",
           "ticks": "",
           "title": {
            "standoff": 15
           },
           "zerolinecolor": "#EBF0F8",
           "zerolinewidth": 2
          },
          "yaxis": {
           "automargin": true,
           "gridcolor": "#EBF0F8",
           "linecolor": "#EBF0F8",
           "ticks": "",
           "title": {
            "standoff": 15
           },
           "zerolinecolor": "#EBF0F8",
           "zerolinewidth": 2
          }
         }
        },
        "title": {
         "text": "Liver Disease Cases (Target Variable)"
        },
        "xaxis": {
         "anchor": "y",
         "categoryarray": [
          -0.6335947503667528,
          1.5782959051052046
         ],
         "categoryorder": "array",
         "domain": [
          0,
          1
         ],
         "title": {
          "text": "Liver Disease Presence"
         }
        },
        "yaxis": {
         "anchor": "x",
         "domain": [
          0,
          1
         ],
         "title": {
          "text": "Count"
         }
        }
       }
      }
     },
     "metadata": {},
     "output_type": "display_data"
    }
   ],
   "source": [
    "# 📊 Step 9: Univariate Analysis – Liver Disease Class Distribution\n",
    "fig = px.histogram(\n",
    "    df,\n",
    "    x='dataset',   # ✅ Correct column name for liver disease target\n",
    "    color='dataset',\n",
    "    title=\"Liver Disease Cases (Target Variable)\",\n",
    "    labels={'dataset': 'Liver Disease (1 = Yes, 2 = No)'},\n",
    "    template=\"plotly_white\",\n",
    "    color_discrete_map={1: 'tomato', 2: 'lightgreen'}\n",
    ")\n",
    "\n",
    "fig.update_layout(\n",
    "    xaxis_title=\"Liver Disease Presence\",\n",
    "    yaxis_title=\"Count\",\n",
    "    showlegend=False\n",
    ")\n",
    "\n",
    "fig.show()\n"
   ]
  },
  {
   "cell_type": "code",
   "execution_count": 12,
   "id": "27934a16",
   "metadata": {},
   "outputs": [
    {
     "data": {
      "application/vnd.plotly.v1+json": {
       "config": {
        "plotlyServerURL": "https://plot.ly"
       },
       "data": [
        {
         "alignmentgroup": "True",
         "boxpoints": "all",
         "hovertemplate": "dataset=%{x}<br>total_bilirubin=%{y}<extra></extra>",
         "legendgroup": "-0.6335947503667528",
         "marker": {
          "color": "#00cc96"
         },
         "name": "-0.6335947503667528",
         "notched": false,
         "offsetgroup": "-0.6335947503667528",
         "orientation": "v",
         "showlegend": true,
         "type": "box",
         "x": {
          "bdata": "dcJ3f2hG5L91wnd/aEbkv3XCd39oRuS/dcJ3f2hG5L91wnd/aEbkv3XCd39oRuS/dcJ3f2hG5L91wnd/aEbkv3XCd39oRuS/dcJ3f2hG5L91wnd/aEbkv3XCd39oRuS/dcJ3f2hG5L91wnd/aEbkv3XCd39oRuS/dcJ3f2hG5L91wnd/aEbkv3XCd39oRuS/dcJ3f2hG5L91wnd/aEbkv3XCd39oRuS/dcJ3f2hG5L91wnd/aEbkv3XCd39oRuS/dcJ3f2hG5L91wnd/aEbkv3XCd39oRuS/dcJ3f2hG5L91wnd/aEbkv3XCd39oRuS/dcJ3f2hG5L91wnd/aEbkv3XCd39oRuS/dcJ3f2hG5L91wnd/aEbkv3XCd39oRuS/dcJ3f2hG5L91wnd/aEbkv3XCd39oRuS/dcJ3f2hG5L91wnd/aEbkv3XCd39oRuS/dcJ3f2hG5L91wnd/aEbkv3XCd39oRuS/dcJ3f2hG5L91wnd/aEbkv3XCd39oRuS/dcJ3f2hG5L91wnd/aEbkv3XCd39oRuS/dcJ3f2hG5L91wnd/aEbkv3XCd39oRuS/dcJ3f2hG5L91wnd/aEbkv3XCd39oRuS/dcJ3f2hG5L91wnd/aEbkv3XCd39oRuS/dcJ3f2hG5L91wnd/aEbkv3XCd39oRuS/dcJ3f2hG5L91wnd/aEbkv3XCd39oRuS/dcJ3f2hG5L91wnd/aEbkv3XCd39oRuS/dcJ3f2hG5L91wnd/aEbkv3XCd39oRuS/dcJ3f2hG5L91wnd/aEbkv3XCd39oRuS/dcJ3f2hG5L91wnd/aEbkv3XCd39oRuS/dcJ3f2hG5L91wnd/aEbkv3XCd39oRuS/dcJ3f2hG5L91wnd/aEbkv3XCd39oRuS/dcJ3f2hG5L91wnd/aEbkv3XCd39oRuS/dcJ3f2hG5L91wnd/aEbkv3XCd39oRuS/dcJ3f2hG5L91wnd/aEbkv3XCd39oRuS/dcJ3f2hG5L91wnd/aEbkv3XCd39oRuS/dcJ3f2hG5L91wnd/aEbkv3XCd39oRuS/dcJ3f2hG5L91wnd/aEbkv3XCd39oRuS/dcJ3f2hG5L91wnd/aEbkv3XCd39oRuS/dcJ3f2hG5L91wnd/aEbkv3XCd39oRuS/dcJ3f2hG5L91wnd/aEbkv3XCd39oRuS/dcJ3f2hG5L91wnd/aEbkv3XCd39oRuS/dcJ3f2hG5L91wnd/aEbkv3XCd39oRuS/dcJ3f2hG5L91wnd/aEbkv3XCd39oRuS/dcJ3f2hG5L91wnd/aEbkv3XCd39oRuS/dcJ3f2hG5L91wnd/aEbkv3XCd39oRuS/dcJ3f2hG5L91wnd/aEbkv3XCd39oRuS/dcJ3f2hG5L91wnd/aEbkv3XCd39oRuS/dcJ3f2hG5L91wnd/aEbkv3XCd39oRuS/dcJ3f2hG5L91wnd/aEbkv3XCd39oRuS/dcJ3f2hG5L91wnd/aEbkv3XCd39oRuS/dcJ3f2hG5L91wnd/aEbkv3XCd39oRuS/dcJ3f2hG5L91wnd/aEbkv3XCd39oRuS/dcJ3f2hG5L91wnd/aEbkv3XCd39oRuS/dcJ3f2hG5L91wnd/aEbkv3XCd39oRuS/dcJ3f2hG5L91wnd/aEbkv3XCd39oRuS/dcJ3f2hG5L91wnd/aEbkv3XCd39oRuS/dcJ3f2hG5L91wnd/aEbkv3XCd39oRuS/dcJ3f2hG5L91wnd/aEbkv3XCd39oRuS/dcJ3f2hG5L91wnd/aEbkv3XCd39oRuS/dcJ3f2hG5L91wnd/aEbkv3XCd39oRuS/dcJ3f2hG5L91wnd/aEbkv3XCd39oRuS/dcJ3f2hG5L91wnd/aEbkv3XCd39oRuS/dcJ3f2hG5L91wnd/aEbkv3XCd39oRuS/dcJ3f2hG5L91wnd/aEbkv3XCd39oRuS/dcJ3f2hG5L91wnd/aEbkv3XCd39oRuS/dcJ3f2hG5L91wnd/aEbkv3XCd39oRuS/dcJ3f2hG5L91wnd/aEbkv3XCd39oRuS/dcJ3f2hG5L91wnd/aEbkv3XCd39oRuS/dcJ3f2hG5L91wnd/aEbkv3XCd39oRuS/dcJ3f2hG5L91wnd/aEbkv3XCd39oRuS/dcJ3f2hG5L91wnd/aEbkv3XCd39oRuS/dcJ3f2hG5L91wnd/aEbkv3XCd39oRuS/dcJ3f2hG5L91wnd/aEbkv3XCd39oRuS/dcJ3f2hG5L91wnd/aEbkv3XCd39oRuS/dcJ3f2hG5L91wnd/aEbkv3XCd39oRuS/dcJ3f2hG5L91wnd/aEbkv3XCd39oRuS/dcJ3f2hG5L91wnd/aEbkv3XCd39oRuS/dcJ3f2hG5L91wnd/aEbkv3XCd39oRuS/dcJ3f2hG5L91wnd/aEbkv3XCd39oRuS/dcJ3f2hG5L91wnd/aEbkv3XCd39oRuS/dcJ3f2hG5L91wnd/aEbkv3XCd39oRuS/dcJ3f2hG5L91wnd/aEbkv3XCd39oRuS/dcJ3f2hG5L91wnd/aEbkv3XCd39oRuS/dcJ3f2hG5L91wnd/aEbkv3XCd39oRuS/dcJ3f2hG5L91wnd/aEbkv3XCd39oRuS/dcJ3f2hG5L91wnd/aEbkv3XCd39oRuS/dcJ3f2hG5L91wnd/aEbkv3XCd39oRuS/dcJ3f2hG5L91wnd/aEbkv3XCd39oRuS/dcJ3f2hG5L91wnd/aEbkv3XCd39oRuS/dcJ3f2hG5L91wnd/aEbkv3XCd39oRuS/dcJ3f2hG5L91wnd/aEbkv3XCd39oRuS/dcJ3f2hG5L91wnd/aEbkv3XCd39oRuS/dcJ3f2hG5L91wnd/aEbkv3XCd39oRuS/dcJ3f2hG5L91wnd/aEbkv3XCd39oRuS/dcJ3f2hG5L91wnd/aEbkv3XCd39oRuS/dcJ3f2hG5L91wnd/aEbkv3XCd39oRuS/dcJ3f2hG5L91wnd/aEbkv3XCd39oRuS/dcJ3f2hG5L91wnd/aEbkv3XCd39oRuS/dcJ3f2hG5L91wnd/aEbkv3XCd39oRuS/dcJ3f2hG5L91wnd/aEbkv3XCd39oRuS/dcJ3f2hG5L91wnd/aEbkv3XCd39oRuS/dcJ3f2hG5L91wnd/aEbkv3XCd39oRuS/dcJ3f2hG5L91wnd/aEbkv3XCd39oRuS/dcJ3f2hG5L91wnd/aEbkv3XCd39oRuS/dcJ3f2hG5L91wnd/aEbkv3XCd39oRuS/dcJ3f2hG5L91wnd/aEbkv3XCd39oRuS/dcJ3f2hG5L91wnd/aEbkv3XCd39oRuS/dcJ3f2hG5L91wnd/aEbkv3XCd39oRuS/dcJ3f2hG5L91wnd/aEbkv3XCd39oRuS/dcJ3f2hG5L91wnd/aEbkv3XCd39oRuS/dcJ3f2hG5L91wnd/aEbkv3XCd39oRuS/dcJ3f2hG5L91wnd/aEbkv3XCd39oRuS/dcJ3f2hG5L91wnd/aEbkv3XCd39oRuS/dcJ3f2hG5L91wnd/aEbkv3XCd39oRuS/dcJ3f2hG5L91wnd/aEbkv3XCd39oRuS/dcJ3f2hG5L91wnd/aEbkv3XCd39oRuS/dcJ3f2hG5L91wnd/aEbkv3XCd39oRuS/dcJ3f2hG5L91wnd/aEbkv3XCd39oRuS/dcJ3f2hG5L91wnd/aEbkv3XCd39oRuS/dcJ3f2hG5L91wnd/aEbkv3XCd39oRuS/dcJ3f2hG5L91wnd/aEbkv3XCd39oRuS/dcJ3f2hG5L91wnd/aEbkv3XCd39oRuS/dcJ3f2hG5L91wnd/aEbkv3XCd39oRuS/dcJ3f2hG5L91wnd/aEbkv3XCd39oRuS/dcJ3f2hG5L91wnd/aEbkv3XCd39oRuS/dcJ3f2hG5L91wnd/aEbkv3XCd39oRuS/dcJ3f2hG5L91wnd/aEbkv3XCd39oRuS/dcJ3f2hG5L91wnd/aEbkv3XCd39oRuS/dcJ3f2hG5L91wnd/aEbkv3XCd39oRuS/dcJ3f2hG5L91wnd/aEbkv3XCd39oRuS/dcJ3f2hG5L91wnd/aEbkv3XCd39oRuS/dcJ3f2hG5L91wnd/aEbkv3XCd39oRuS/dcJ3f2hG5L91wnd/aEbkv3XCd39oRuS/dcJ3f2hG5L91wnd/aEbkv3XCd39oRuS/dcJ3f2hG5L91wnd/aEbkv3XCd39oRuS/dcJ3f2hG5L91wnd/aEbkv3XCd39oRuS/dcJ3f2hG5L91wnd/aEbkv3XCd39oRuS/dcJ3f2hG5L91wnd/aEbkv3XCd39oRuS/dcJ3f2hG5L91wnd/aEbkv3XCd39oRuS/dcJ3f2hG5L91wnd/aEbkv3XCd39oRuS/dcJ3f2hG5L91wnd/aEbkv3XCd39oRuS/dcJ3f2hG5L91wnd/aEbkvw==",
          "dtype": "f8"
         },
         "x0": " ",
         "xaxis": "x",
         "y": {
          "bdata": "A6HV9+TO2r9sbmFGTZrzP8e9sokso+Q/K/FS96e217/0Hxzhls64P9aNl5YK7M6/c9bTTLy+2L9z1tNMvL7YvwOh1ffkztq/S4ZWTfnW27+K3Q4nObW4v+ML0qGTrta/A6HV9+TO2r/WjZeWCuzOv3PW00y8vti/c9bTTLy+2L+VY5DqZ6vGv02zB3uWdLC/koDws/kO4j9Hw5Xr4dvMvxilkcach8A/GKWRxpyHwD92odtmee3dPxW1Hzfo7rw/c9bTTLy+2L9TQdD2ap7Uv/3RyAf1HPw/C1xPoVaW07+K3Q4nObW4v3bOjJQWi8K/q3ISfYrVvL/0Hxzhls64P+ML0qGTrta/S4ZWTfnW27+4HMlE5XgDQAOh1ffkztq/S4ZWTfnW278VEgGe52egv+ML0qGTrta/B+i5Nc/j7D8H6Lk1z+PsP7y7VKLQxtm/vLtUotDG2b8r8VL3p7bXvyvxUventte/A6HV9+TO2r9TQdD2ap7UvwtcT6FWltO/lWOQ6merxr/WjZeWCuzOvwOh1ffkztq/A6HV9+TO2r+8u1Si0MbZv7y7VKLQxtm/S4ZWTfnW278DodX35M7av3PW00y8vti/S4ZWTfnW279uSAvR55S0v3bOjJQWi8K/K/FS96e217+2+JNAucvKv0uGVk351tu/C1xPoVaW07+8u1Si0MbZv0uGVk351tu/FbUfN+juvD8OJ1e7E8XYP5KA8LP5DuI/GpB4tbBX6z9VDNgQKM3ZP6as0g+unNM/c9bTTLy+2L/TihiLRa60P0qbb17lBuE/S4ZWTfnW278DodX35M7av3PW00y8vti/k2vXog3f3L+mz/PjiU6Qv0uGVk351tu/A6HV9+TO2r8vdiXHqD74PzhQlrmlPwBAFaoIGtv0AkAXQ24wWmcJQBztXZBSBAlAvLtUotDG2b9VDNgQKM3ZP1c8CEqKqKi/M6zMoBl+0L9uSAvR55S0v6bP8+OJTpC/c9bTTLy+2L/WjZeWCuzOv7RT4pthovQ/fGScyJDozD+8u1Si0MbZv7y7VKLQxtm/vLtUotDG2b+rb5NxxZfCP3uRTfYthtG/e5FN9i2G0b/plhsSo5qgP02zB3uWdLC/A6HV9+TO2r9z1tNMvL7Yv7y7VKLQxtm/e5FN9i2G0b+8u1Si0MbZv57xWGY81do/vgI54Lrb6z9z1tNMvL7YvwOh1ffkztq/A6HV9+TO2r+bJlFMf6bVv72nwVtS3PM/V8aixmsm9T9VDNgQKM3ZP0fDlevh28y/R8OV6+HbzL9bz5hyP8jIP5geivkgHSdAVzwISoqoqL/FCQ4bVSUJQAfouTXP4+w/M6zMoBl+0L9Hw5Xr4dvMv6uYaPLv2vs/S4ZWTfnW279LhlZN+dbbv7y7VKLQxtm/vLtUotDG2b/qKQqIE6n9P3XCQAY+1PI/Q+D1tHM/6D9uSAvR55S0v02zB3uWdLC/S4ZWTfnW27/jC9Khk67Wv6bP8+OJTpC/JS6SlZC7yL9Hw5Xr4dvMv72GXLyN9d4/VQzYECjN2T8HmY4/P5vEv3bOjJQWi8K/tviTQLnLyr9LhlZN+dbbv9H2UvHE0Q5AS4ZWTfnW279LhlZN+dbbv+YDi+ntesC/K8EivkXbqD/0Hxzhls64P3PW00y8vti/c9bTTLy+2L+8u1Si0MbZv4rdDic5tbi/c9bTTLy+2L8zrMygGX7Qv+ML0qGTrta/vLtUotDG2b+8u1Si0MbZv3PW00y8vti/c9bTTLy+2L8zrMygGX7Qv0uGVk351tu/U0HQ9mqe1L8DodX35M7av0uGVk351tu/vLtUotDG2b+K3Q4nObW4v7b4k0C5y8q/c9bTTLy+2L/Dds5LQo7Sv3PW00y8vti/c9bTTLy+2L+8u1Si0MbZv7y7VKLQxtm/c9bTTLy+2L+8u1Si0MbZv3PW00y8vti/1o2Xlgrszr9z1tNMvL7YvwOh1ffkztq/myZRTH+m1b8lLpKVkLvIv3PW00y8vti/M6zMoBl+0L9z1tNMvL7Yv7y7VKLQxtm/TVQDaYyJEUCE3wZvsuQAQMN2zktCjtK/vLtUotDG2b+8u1Si0MbZv5smUUx/ptW/c9bTTLy+2L/0felHBOP8P0uGVk351tu/A6HV9+TO2r9iOXnP55kDQAOh1ffkztq/1o2Xlgrszr+2+JNAucvKv5VjkOpnq8a/K/FS96e217+8u1Si0MbZvwOh1ffkztq/c9bTTLy+2L/Dds5LQo7Sv7y7VKLQxtm/K/FS96e2179bz5hyP8jIPyvxUventte/S4ZWTfnW2792zoyUFovCv0uGVk351tu/c9bTTLy+2L/jC9Khk67Wv3PW00y8vti/M6zMoBl+0L+8u1Si0MbZv3uRTfYthtG/vLtUotDG2b+8u1Si0MbZv+ML0qGTrta/vLtUotDG2b9pfM5FX6kJQLb4k0C5y8q/A6HV9+TO2r+39RQ19I2wPwOh1ffkztq/vLtUotDG2b8zrMygGX7Qv6tyEn2K1by/tviTQLnLyr8zrMygGX7Qv37YMTQYm+M/A6HV9+TO2r8DodX35M7av+8NMInviuE/5gOL6e16wL/WjZeWCuzOvwtcT6FWltO/c9bTTLy+2L+8u1Si0MbZvxUSAZ7nZ6C/TbMHe5Z0sL9LhlZN+dbbvwOh1ffkztq/U0HQ9mqe1L/WjZeWCuzOv1NB0PZqntS/A6HV9+TO2r8LXE+hVpbTv7y7VKLQxtm/A6HV9+TO2r8lLpKVkLvIvwOh1ffkztq/A6HV9+TO2r+8u1Si0MbZv7y7VKLQxtm/c9CtBVDjCEADodX35M7av+mWGxKjmqA/A6HV9+TO2r8DodX35M7avzOszKAZftC/S4ZWTfnW278DodX35M7av7f1FDX0jbA/vLtUotDG2b+8u1Si0MbZv7y7VKLQxtm/S4ZWTfnW27+8u1Si0MbZv3PW00y8vti/D6Mz30Cr5T+K3Q4nObW4vyvxUventte/K/FS96e2178r8VL3p7bXv7y7VKLQxtm/K/FS96e217/HvbKJLKPkP5Nr16IN39y/vLtUotDG2b+8u1Si0MbZvyvxUventte/ds6MlBaLwr8V4tBkhYzRPwtcT6FWltO/zvxPD3GE0D9TQdD2ap7Uv0uGVk351tu/q2+TccWXwj+KxXYKiEfpP2xuYUZNmvM/myZRTH+m1b8DodX35M7av9tQWPgh592/c9bTTLy+2L9Hw5Xr4dvMvwOh1ffkztq/A6HV9+TO2r8r8VL3p7bXv3uRTfYthtG/vLtUotDG2b+8u1Si0MbZv7y7VKLQxtm/B5mOPz+bxL9rMHO0NiflPwOh1ffkztq/vLtUotDG2b8SmX7QYcoJQLy7VKLQxtm/c9bTTLy+2L+fbTWKabvnP7y7VKLQxtm/c9bTTLy+2L8DodX35M7av0uGVk351tu/koDws/kO4j/jC9Khk67Wv5VjkOpnq8a/vLtUotDG2b8DodX35M7av7y7VKLQxtm/K/FS96e217+8u1Si0MbZv+ML0qGTrta/c9bTTLy+2L9LhlZN+dbbv37YMTQYm+M/TtkozAC0kD8HmY4/P5vEv+ML0qGTrta/FeLQZIWM0T/vDTCJ74rhP7y7VKLQxtm/A6HV9+TO2r+8u1Si0MbZvyvxUventte/A6HV9+TO2r8r8VL3p7bXv5VjkOpnq8a/1o2Xlgrszr8rwSK+RduoP4rdDic5tbi/bkgL0eeUtL+8u1Si0MbZv/etatoIRwVATVQDaYyJEUA8gTwZJ+QSQBpU+HnTkQJAc9bTTLy+2L+4HMlE5XgDQEnnyu8NiQVAlWOQ6merxr9z1tNMvL7YvyvxUventte/9B8c4ZbOuD9z1tNMvL7Yv3PW00y8vti/TbMHe5Z0sL/g9CERrqgNQNaNl5YK7M6/zQSXxxa4xj+8u1Si0MbZv0uGVk351tu/OyV8CwJ47z/plhsSo5qgPzOszKAZftC/AWVCDbpdKT9Lfws5ELsRQAtcT6FWltO/pXQKxQMFBUCPM+Yuox4AQLy7VKLQxtm/1o2Xlgrszr+bJlFMf6bVv31cVRDrtNY/myArBRPLBUAehsOm0XYPQA/hIXFXHvQ/JS6SlZC7yL8BZUINul0pP0uGVk351tu/Ld2/sCnM8T/WjZeWCuzOv7y7VKLQxtm/A6HV9+TO2r9Nswd7lnSwvxW1Hzfo7rw/5jZSuqh3GUAxD4vdJ7H+P9cYZ4S3JgFAduE3T8kNAkALXE+hVpbTv8qz/XpNwghAit0OJzm1uL+ANRcPukcBQFeItDRVs+Y/q3ISfYrVvL/jC9Khk67Wv3n0CzM8uf8/t/UUNfSNsD9DHuRGirL2P0uAMAaN+wtAjpzKsh0t/j8vdiXHqD74P0uGVk351tu/vLtUotDG2b9TQdD2ap7Uvw==",
          "dtype": "f8"
         },
         "y0": " ",
         "yaxis": "y"
        },
        {
         "alignmentgroup": "True",
         "boxpoints": "all",
         "hovertemplate": "dataset=%{x}<br>total_bilirubin=%{y}<extra></extra>",
         "legendgroup": "1.5782959051052046",
         "marker": {
          "color": "#ab63fa"
         },
         "name": "1.5782959051052046",
         "notched": false,
         "offsetgroup": "1.5782959051052046",
         "orientation": "v",
         "showlegend": true,
         "type": "box",
         "x": {
          "bdata": "s2b9NLNA+T+zZv00s0D5P7Nm/TSzQPk/s2b9NLNA+T+zZv00s0D5P7Nm/TSzQPk/s2b9NLNA+T+zZv00s0D5P7Nm/TSzQPk/s2b9NLNA+T+zZv00s0D5P7Nm/TSzQPk/s2b9NLNA+T+zZv00s0D5P7Nm/TSzQPk/s2b9NLNA+T+zZv00s0D5P7Nm/TSzQPk/s2b9NLNA+T+zZv00s0D5P7Nm/TSzQPk/s2b9NLNA+T+zZv00s0D5P7Nm/TSzQPk/s2b9NLNA+T+zZv00s0D5P7Nm/TSzQPk/s2b9NLNA+T+zZv00s0D5P7Nm/TSzQPk/s2b9NLNA+T+zZv00s0D5P7Nm/TSzQPk/s2b9NLNA+T+zZv00s0D5P7Nm/TSzQPk/s2b9NLNA+T+zZv00s0D5P7Nm/TSzQPk/s2b9NLNA+T+zZv00s0D5P7Nm/TSzQPk/s2b9NLNA+T+zZv00s0D5P7Nm/TSzQPk/s2b9NLNA+T+zZv00s0D5P7Nm/TSzQPk/s2b9NLNA+T+zZv00s0D5P7Nm/TSzQPk/s2b9NLNA+T+zZv00s0D5P7Nm/TSzQPk/s2b9NLNA+T+zZv00s0D5P7Nm/TSzQPk/s2b9NLNA+T+zZv00s0D5P7Nm/TSzQPk/s2b9NLNA+T+zZv00s0D5P7Nm/TSzQPk/s2b9NLNA+T+zZv00s0D5P7Nm/TSzQPk/s2b9NLNA+T+zZv00s0D5P7Nm/TSzQPk/s2b9NLNA+T+zZv00s0D5P7Nm/TSzQPk/s2b9NLNA+T+zZv00s0D5P7Nm/TSzQPk/s2b9NLNA+T+zZv00s0D5P7Nm/TSzQPk/s2b9NLNA+T+zZv00s0D5P7Nm/TSzQPk/s2b9NLNA+T+zZv00s0D5P7Nm/TSzQPk/s2b9NLNA+T+zZv00s0D5P7Nm/TSzQPk/s2b9NLNA+T+zZv00s0D5P7Nm/TSzQPk/s2b9NLNA+T+zZv00s0D5P7Nm/TSzQPk/s2b9NLNA+T+zZv00s0D5P7Nm/TSzQPk/s2b9NLNA+T+zZv00s0D5P7Nm/TSzQPk/s2b9NLNA+T+zZv00s0D5P7Nm/TSzQPk/s2b9NLNA+T+zZv00s0D5P7Nm/TSzQPk/s2b9NLNA+T+zZv00s0D5P7Nm/TSzQPk/s2b9NLNA+T+zZv00s0D5P7Nm/TSzQPk/s2b9NLNA+T+zZv00s0D5P7Nm/TSzQPk/s2b9NLNA+T+zZv00s0D5P7Nm/TSzQPk/s2b9NLNA+T+zZv00s0D5P7Nm/TSzQPk/s2b9NLNA+T+zZv00s0D5P7Nm/TSzQPk/s2b9NLNA+T+zZv00s0D5P7Nm/TSzQPk/s2b9NLNA+T+zZv00s0D5P7Nm/TSzQPk/s2b9NLNA+T+zZv00s0D5P7Nm/TSzQPk/s2b9NLNA+T+zZv00s0D5P7Nm/TSzQPk/s2b9NLNA+T+zZv00s0D5P7Nm/TSzQPk/s2b9NLNA+T+zZv00s0D5P7Nm/TSzQPk/s2b9NLNA+T+zZv00s0D5P7Nm/TSzQPk/s2b9NLNA+T+zZv00s0D5P7Nm/TSzQPk/s2b9NLNA+T+zZv00s0D5P7Nm/TSzQPk/s2b9NLNA+T+zZv00s0D5P7Nm/TSzQPk/s2b9NLNA+T+zZv00s0D5P7Nm/TSzQPk/s2b9NLNA+T+zZv00s0D5P7Nm/TSzQPk/s2b9NLNA+T+zZv00s0D5P7Nm/TSzQPk/s2b9NLNA+T+zZv00s0D5P7Nm/TSzQPk/s2b9NLNA+T+zZv00s0D5Pw==",
          "dtype": "f8"
         },
         "x0": " ",
         "xaxis": "x",
         "y": {
          "bdata": "c9bTTLy+2L9z1tNMvL7Yv0uGVk351tu/e5FN9i2G0b9z1tNMvL7Yv+ML0qGTrta/A6HV9+TO2r8r8VL3p7bXv6tyEn2K1by/q3ISfYrVvL8DodX35M7av0uGVk351tu/koDws/kO4j8r8VL3p7bXv9aNl5YK7M6/vLtUotDG2b9z1tNMvL7Yv+ML0qGTrta/vLtUotDG2b8DodX35M7avwtcT6FWltO/A6HV9+TO2r9LhlZN+dbbv0uGVk351tu/A6HV9+TO2r+8u1Si0MbZv+2RU2XCpNQ/7ZFTZcKk1D+8u1Si0MbZv7y7VKLQxtm/c9bTTLy+2L8DodX35M7av5smUUx/ptW/VQzYECjN2T/HvbKJLKPkPzOszKAZftC/S4ZWTfnW27/WjZeWCuzOvwOh1ffkztq/vLtUotDG2b9LhlZN+dbbv7y7VKLQxtm/4wvSoZOu1r9LhlZN+dbbv0fDlevh28y/w3bOS0KO0r+8u1Si0MbZv1NB0PZqntS/tviTQLnLyr9z1tNMvL7Yv7y7VKLQxtm/K/FS96e2178DodX35M7av4rdDic5tbi/S4ZWTfnW279z1tNMvL7Yv0uGVk351tu/4wvSoZOu1r8r8VL3p7bXv8N2zktCjtK/vLtUotDG2b9z1tNMvL7YvwOh1ffkztq/4wvSoZOu1r9LhlZN+dbbvwOh1ffkztq/vLtUotDG2b+8u1Si0MbZv3PW00y8vti/vLtUotDG2b9Hw5Xr4dvMv3PW00y8vti/A6HV9+TO2r9TQdD2ap7Uv1NB0PZqntS/A6HV9+TO2r/jC9Khk67Wv3PW00y8vti/c9bTTLy+2L+8u1Si0MbZvwOh1ffkztq/C1xPoVaW079TQdD2ap7Uv7y7VKLQxtm/c9bTTLy+2L9z1tNMvL7Yv3PW00y8vti/vLtUotDG2b+8u1Si0MbZv5smUUx/ptW/AWVCDbpdKT+8u1Si0MbZvwOh1ffkztq/A6HV9+TO2r+8u1Si0MbZv7y7VKLQxtm/vLtUotDG2b8LXE+hVpbTv7y7VKLQxtm/A6HV9+TO2r/jC9Khk67Wv3PW00y8vti/vLtUotDG2b8DodX35M7avwOh1ffkztq/lWOQ6merxr+8u1Si0MbZvwOh1ffkztq/A6HV9+TO2r9LhlZN+dbbvwOh1ffkztq/C1xPoVaW07+K3Q4nObW4v7y7VKLQxtm/A6HV9+TO2r8DodX35M7avwOh1ffkztq/B5mOPz+bxL8DodX35M7avwtcT6FWltO/A6HV9+TO2r8r8VL3p7bXv3uRTfYthtG/U0HQ9mqe1L9LhlZN+dbbv7y7VKLQxtm/c9bTTLy+2L8DodX35M7av5Nr16IN39y/vLtUotDG2b9z1tNMvL7Yv0uGVk351tu/A6HV9+TO2r+8u1Si0MbZvwOh1ffkztq/S4ZWTfnW279LhlZN+dbbvyvxUventte/S4ZWTfnW278DodX35M7avyvxUventte/tviTQLnLyr+VY5DqZ6vGv5Nr16IN39y/vLtUotDG2b8DodX35M7av7y7VKLQxtm/K/FS96e2178DodX35M7avwOh1ffkztq/vLtUotDG2b8r8VL3p7bXv7y7VKLQxtm/c9bTTLy+2L/jC9Khk67WvwOh1ffkztq/e5FN9i2G0b8DodX35M7av7y7VKLQxtm/vLtUotDG2b8DodX35M7avwOh1ffkztq/myZRTH+m1b9LhlZN+dbbvyvxUventte/k2vXog3f3L8r8VL3p7bXvw==",
          "dtype": "f8"
         },
         "y0": " ",
         "yaxis": "y"
        }
       ],
       "layout": {
        "boxmode": "overlay",
        "legend": {
         "title": {
          "text": "dataset"
         },
         "tracegroupgap": 0
        },
        "showlegend": false,
        "template": {
         "data": {
          "bar": [
           {
            "error_x": {
             "color": "#2a3f5f"
            },
            "error_y": {
             "color": "#2a3f5f"
            },
            "marker": {
             "line": {
              "color": "white",
              "width": 0.5
             },
             "pattern": {
              "fillmode": "overlay",
              "size": 10,
              "solidity": 0.2
             }
            },
            "type": "bar"
           }
          ],
          "barpolar": [
           {
            "marker": {
             "line": {
              "color": "white",
              "width": 0.5
             },
             "pattern": {
              "fillmode": "overlay",
              "size": 10,
              "solidity": 0.2
             }
            },
            "type": "barpolar"
           }
          ],
          "carpet": [
           {
            "aaxis": {
             "endlinecolor": "#2a3f5f",
             "gridcolor": "#C8D4E3",
             "linecolor": "#C8D4E3",
             "minorgridcolor": "#C8D4E3",
             "startlinecolor": "#2a3f5f"
            },
            "baxis": {
             "endlinecolor": "#2a3f5f",
             "gridcolor": "#C8D4E3",
             "linecolor": "#C8D4E3",
             "minorgridcolor": "#C8D4E3",
             "startlinecolor": "#2a3f5f"
            },
            "type": "carpet"
           }
          ],
          "choropleth": [
           {
            "colorbar": {
             "outlinewidth": 0,
             "ticks": ""
            },
            "type": "choropleth"
           }
          ],
          "contour": [
           {
            "colorbar": {
             "outlinewidth": 0,
             "ticks": ""
            },
            "colorscale": [
             [
              0,
              "#0d0887"
             ],
             [
              0.1111111111111111,
              "#46039f"
             ],
             [
              0.2222222222222222,
              "#7201a8"
             ],
             [
              0.3333333333333333,
              "#9c179e"
             ],
             [
              0.4444444444444444,
              "#bd3786"
             ],
             [
              0.5555555555555556,
              "#d8576b"
             ],
             [
              0.6666666666666666,
              "#ed7953"
             ],
             [
              0.7777777777777778,
              "#fb9f3a"
             ],
             [
              0.8888888888888888,
              "#fdca26"
             ],
             [
              1,
              "#f0f921"
             ]
            ],
            "type": "contour"
           }
          ],
          "contourcarpet": [
           {
            "colorbar": {
             "outlinewidth": 0,
             "ticks": ""
            },
            "type": "contourcarpet"
           }
          ],
          "heatmap": [
           {
            "colorbar": {
             "outlinewidth": 0,
             "ticks": ""
            },
            "colorscale": [
             [
              0,
              "#0d0887"
             ],
             [
              0.1111111111111111,
              "#46039f"
             ],
             [
              0.2222222222222222,
              "#7201a8"
             ],
             [
              0.3333333333333333,
              "#9c179e"
             ],
             [
              0.4444444444444444,
              "#bd3786"
             ],
             [
              0.5555555555555556,
              "#d8576b"
             ],
             [
              0.6666666666666666,
              "#ed7953"
             ],
             [
              0.7777777777777778,
              "#fb9f3a"
             ],
             [
              0.8888888888888888,
              "#fdca26"
             ],
             [
              1,
              "#f0f921"
             ]
            ],
            "type": "heatmap"
           }
          ],
          "histogram": [
           {
            "marker": {
             "pattern": {
              "fillmode": "overlay",
              "size": 10,
              "solidity": 0.2
             }
            },
            "type": "histogram"
           }
          ],
          "histogram2d": [
           {
            "colorbar": {
             "outlinewidth": 0,
             "ticks": ""
            },
            "colorscale": [
             [
              0,
              "#0d0887"
             ],
             [
              0.1111111111111111,
              "#46039f"
             ],
             [
              0.2222222222222222,
              "#7201a8"
             ],
             [
              0.3333333333333333,
              "#9c179e"
             ],
             [
              0.4444444444444444,
              "#bd3786"
             ],
             [
              0.5555555555555556,
              "#d8576b"
             ],
             [
              0.6666666666666666,
              "#ed7953"
             ],
             [
              0.7777777777777778,
              "#fb9f3a"
             ],
             [
              0.8888888888888888,
              "#fdca26"
             ],
             [
              1,
              "#f0f921"
             ]
            ],
            "type": "histogram2d"
           }
          ],
          "histogram2dcontour": [
           {
            "colorbar": {
             "outlinewidth": 0,
             "ticks": ""
            },
            "colorscale": [
             [
              0,
              "#0d0887"
             ],
             [
              0.1111111111111111,
              "#46039f"
             ],
             [
              0.2222222222222222,
              "#7201a8"
             ],
             [
              0.3333333333333333,
              "#9c179e"
             ],
             [
              0.4444444444444444,
              "#bd3786"
             ],
             [
              0.5555555555555556,
              "#d8576b"
             ],
             [
              0.6666666666666666,
              "#ed7953"
             ],
             [
              0.7777777777777778,
              "#fb9f3a"
             ],
             [
              0.8888888888888888,
              "#fdca26"
             ],
             [
              1,
              "#f0f921"
             ]
            ],
            "type": "histogram2dcontour"
           }
          ],
          "mesh3d": [
           {
            "colorbar": {
             "outlinewidth": 0,
             "ticks": ""
            },
            "type": "mesh3d"
           }
          ],
          "parcoords": [
           {
            "line": {
             "colorbar": {
              "outlinewidth": 0,
              "ticks": ""
             }
            },
            "type": "parcoords"
           }
          ],
          "pie": [
           {
            "automargin": true,
            "type": "pie"
           }
          ],
          "scatter": [
           {
            "fillpattern": {
             "fillmode": "overlay",
             "size": 10,
             "solidity": 0.2
            },
            "type": "scatter"
           }
          ],
          "scatter3d": [
           {
            "line": {
             "colorbar": {
              "outlinewidth": 0,
              "ticks": ""
             }
            },
            "marker": {
             "colorbar": {
              "outlinewidth": 0,
              "ticks": ""
             }
            },
            "type": "scatter3d"
           }
          ],
          "scattercarpet": [
           {
            "marker": {
             "colorbar": {
              "outlinewidth": 0,
              "ticks": ""
             }
            },
            "type": "scattercarpet"
           }
          ],
          "scattergeo": [
           {
            "marker": {
             "colorbar": {
              "outlinewidth": 0,
              "ticks": ""
             }
            },
            "type": "scattergeo"
           }
          ],
          "scattergl": [
           {
            "marker": {
             "colorbar": {
              "outlinewidth": 0,
              "ticks": ""
             }
            },
            "type": "scattergl"
           }
          ],
          "scattermap": [
           {
            "marker": {
             "colorbar": {
              "outlinewidth": 0,
              "ticks": ""
             }
            },
            "type": "scattermap"
           }
          ],
          "scattermapbox": [
           {
            "marker": {
             "colorbar": {
              "outlinewidth": 0,
              "ticks": ""
             }
            },
            "type": "scattermapbox"
           }
          ],
          "scatterpolar": [
           {
            "marker": {
             "colorbar": {
              "outlinewidth": 0,
              "ticks": ""
             }
            },
            "type": "scatterpolar"
           }
          ],
          "scatterpolargl": [
           {
            "marker": {
             "colorbar": {
              "outlinewidth": 0,
              "ticks": ""
             }
            },
            "type": "scatterpolargl"
           }
          ],
          "scatterternary": [
           {
            "marker": {
             "colorbar": {
              "outlinewidth": 0,
              "ticks": ""
             }
            },
            "type": "scatterternary"
           }
          ],
          "surface": [
           {
            "colorbar": {
             "outlinewidth": 0,
             "ticks": ""
            },
            "colorscale": [
             [
              0,
              "#0d0887"
             ],
             [
              0.1111111111111111,
              "#46039f"
             ],
             [
              0.2222222222222222,
              "#7201a8"
             ],
             [
              0.3333333333333333,
              "#9c179e"
             ],
             [
              0.4444444444444444,
              "#bd3786"
             ],
             [
              0.5555555555555556,
              "#d8576b"
             ],
             [
              0.6666666666666666,
              "#ed7953"
             ],
             [
              0.7777777777777778,
              "#fb9f3a"
             ],
             [
              0.8888888888888888,
              "#fdca26"
             ],
             [
              1,
              "#f0f921"
             ]
            ],
            "type": "surface"
           }
          ],
          "table": [
           {
            "cells": {
             "fill": {
              "color": "#EBF0F8"
             },
             "line": {
              "color": "white"
             }
            },
            "header": {
             "fill": {
              "color": "#C8D4E3"
             },
             "line": {
              "color": "white"
             }
            },
            "type": "table"
           }
          ]
         },
         "layout": {
          "annotationdefaults": {
           "arrowcolor": "#2a3f5f",
           "arrowhead": 0,
           "arrowwidth": 1
          },
          "autotypenumbers": "strict",
          "coloraxis": {
           "colorbar": {
            "outlinewidth": 0,
            "ticks": ""
           }
          },
          "colorscale": {
           "diverging": [
            [
             0,
             "#8e0152"
            ],
            [
             0.1,
             "#c51b7d"
            ],
            [
             0.2,
             "#de77ae"
            ],
            [
             0.3,
             "#f1b6da"
            ],
            [
             0.4,
             "#fde0ef"
            ],
            [
             0.5,
             "#f7f7f7"
            ],
            [
             0.6,
             "#e6f5d0"
            ],
            [
             0.7,
             "#b8e186"
            ],
            [
             0.8,
             "#7fbc41"
            ],
            [
             0.9,
             "#4d9221"
            ],
            [
             1,
             "#276419"
            ]
           ],
           "sequential": [
            [
             0,
             "#0d0887"
            ],
            [
             0.1111111111111111,
             "#46039f"
            ],
            [
             0.2222222222222222,
             "#7201a8"
            ],
            [
             0.3333333333333333,
             "#9c179e"
            ],
            [
             0.4444444444444444,
             "#bd3786"
            ],
            [
             0.5555555555555556,
             "#d8576b"
            ],
            [
             0.6666666666666666,
             "#ed7953"
            ],
            [
             0.7777777777777778,
             "#fb9f3a"
            ],
            [
             0.8888888888888888,
             "#fdca26"
            ],
            [
             1,
             "#f0f921"
            ]
           ],
           "sequentialminus": [
            [
             0,
             "#0d0887"
            ],
            [
             0.1111111111111111,
             "#46039f"
            ],
            [
             0.2222222222222222,
             "#7201a8"
            ],
            [
             0.3333333333333333,
             "#9c179e"
            ],
            [
             0.4444444444444444,
             "#bd3786"
            ],
            [
             0.5555555555555556,
             "#d8576b"
            ],
            [
             0.6666666666666666,
             "#ed7953"
            ],
            [
             0.7777777777777778,
             "#fb9f3a"
            ],
            [
             0.8888888888888888,
             "#fdca26"
            ],
            [
             1,
             "#f0f921"
            ]
           ]
          },
          "colorway": [
           "#636efa",
           "#EF553B",
           "#00cc96",
           "#ab63fa",
           "#FFA15A",
           "#19d3f3",
           "#FF6692",
           "#B6E880",
           "#FF97FF",
           "#FECB52"
          ],
          "font": {
           "color": "#2a3f5f"
          },
          "geo": {
           "bgcolor": "white",
           "lakecolor": "white",
           "landcolor": "white",
           "showlakes": true,
           "showland": true,
           "subunitcolor": "#C8D4E3"
          },
          "hoverlabel": {
           "align": "left"
          },
          "hovermode": "closest",
          "mapbox": {
           "style": "light"
          },
          "paper_bgcolor": "white",
          "plot_bgcolor": "white",
          "polar": {
           "angularaxis": {
            "gridcolor": "#EBF0F8",
            "linecolor": "#EBF0F8",
            "ticks": ""
           },
           "bgcolor": "white",
           "radialaxis": {
            "gridcolor": "#EBF0F8",
            "linecolor": "#EBF0F8",
            "ticks": ""
           }
          },
          "scene": {
           "xaxis": {
            "backgroundcolor": "white",
            "gridcolor": "#DFE8F3",
            "gridwidth": 2,
            "linecolor": "#EBF0F8",
            "showbackground": true,
            "ticks": "",
            "zerolinecolor": "#EBF0F8"
           },
           "yaxis": {
            "backgroundcolor": "white",
            "gridcolor": "#DFE8F3",
            "gridwidth": 2,
            "linecolor": "#EBF0F8",
            "showbackground": true,
            "ticks": "",
            "zerolinecolor": "#EBF0F8"
           },
           "zaxis": {
            "backgroundcolor": "white",
            "gridcolor": "#DFE8F3",
            "gridwidth": 2,
            "linecolor": "#EBF0F8",
            "showbackground": true,
            "ticks": "",
            "zerolinecolor": "#EBF0F8"
           }
          },
          "shapedefaults": {
           "line": {
            "color": "#2a3f5f"
           }
          },
          "ternary": {
           "aaxis": {
            "gridcolor": "#DFE8F3",
            "linecolor": "#A2B1C6",
            "ticks": ""
           },
           "baxis": {
            "gridcolor": "#DFE8F3",
            "linecolor": "#A2B1C6",
            "ticks": ""
           },
           "bgcolor": "white",
           "caxis": {
            "gridcolor": "#DFE8F3",
            "linecolor": "#A2B1C6",
            "ticks": ""
           }
          },
          "title": {
           "x": 0.05
          },
          "xaxis": {
           "automargin": true,
           "gridcolor": "#EBF0F8",
           "linecolor": "#EBF0F8",
           "ticks": "",
           "title": {
            "standoff": 15
           },
           "zerolinecolor": "#EBF0F8",
           "zerolinewidth": 2
          },
          "yaxis": {
           "automargin": true,
           "gridcolor": "#EBF0F8",
           "linecolor": "#EBF0F8",
           "ticks": "",
           "title": {
            "standoff": 15
           },
           "zerolinecolor": "#EBF0F8",
           "zerolinewidth": 2
          }
         }
        },
        "title": {
         "text": "Total Bilirubin vs Liver Disease Status"
        },
        "xaxis": {
         "anchor": "y",
         "categoryarray": [
          -0.6335947503667528,
          1.5782959051052046
         ],
         "categoryorder": "array",
         "domain": [
          0,
          1
         ],
         "title": {
          "text": "Liver Disease Status (1 = Disease, 2 = No Disease)"
         }
        },
        "yaxis": {
         "anchor": "x",
         "domain": [
          0,
          1
         ],
         "title": {
          "text": "Total Bilirubin"
         }
        }
       }
      }
     },
     "metadata": {},
     "output_type": "display_data"
    }
   ],
   "source": [
    "# 📊 Step 10: Bivariate Analysis – Total Bilirubin vs Liver Disease Status\n",
    "\n",
    "fig = px.box(\n",
    "    df,\n",
    "    x='dataset',                      # ✅ Use 'dataset' instead of 'target'\n",
    "    y='total_bilirubin',\n",
    "    points='all',\n",
    "    title=\"Total Bilirubin vs Liver Disease Status\",\n",
    "    color='dataset',\n",
    "    template=\"plotly_white\",\n",
    "    color_discrete_map={1: 'tomato', 2: 'lightgreen'}\n",
    ")\n",
    "\n",
    "fig.update_layout(\n",
    "    xaxis_title=\"Liver Disease Status (1 = Disease, 2 = No Disease)\",\n",
    "    yaxis_title=\"Total Bilirubin\",\n",
    "    showlegend=False\n",
    ")\n",
    "\n",
    "fig.show()\n"
   ]
  },
  {
   "cell_type": "code",
   "execution_count": 14,
   "id": "5455b06a",
   "metadata": {},
   "outputs": [
    {
     "data": {
      "application/vnd.plotly.v1+json": {
       "config": {
        "plotlyServerURL": "https://plot.ly"
       },
       "data": [
        {
         "hovertemplate": "Features=%{x}<br>Correlation=%{y}<extra></extra>",
         "legendgroup": "",
         "marker": {
          "color": "#636efa",
          "pattern": {
           "shape": ""
          }
         },
         "name": "",
         "orientation": "v",
         "showlegend": false,
         "textposition": "auto",
         "type": "bar",
         "x": [
          "age",
          "gender",
          "total_bilirubin",
          "direct_bilirubin",
          "alkaline_phosphotase",
          "alamine_aminotransferase",
          "aspartate_aminotransferase",
          "total_protiens",
          "albumin",
          "albumin_and_globulin_ratio",
          "dataset"
         ],
         "xaxis": "x",
         "y": {
          "bdata": "AAAAAAAA+H8AAAAAAAD4fwAAAAAAAPh/AAAAAAAA+H8AAAAAAAD4fwAAAAAAAPh/AAAAAAAA+H8AAAAAAAD4fwAAAAAAAPh/AAAAAAAA+H8AAAAAAAD4fw==",
          "dtype": "f8"
         },
         "yaxis": "y"
        }
       ],
       "layout": {
        "barmode": "relative",
        "legend": {
         "tracegroupgap": 0
        },
        "template": {
         "data": {
          "bar": [
           {
            "error_x": {
             "color": "#2a3f5f"
            },
            "error_y": {
             "color": "#2a3f5f"
            },
            "marker": {
             "line": {
              "color": "white",
              "width": 0.5
             },
             "pattern": {
              "fillmode": "overlay",
              "size": 10,
              "solidity": 0.2
             }
            },
            "type": "bar"
           }
          ],
          "barpolar": [
           {
            "marker": {
             "line": {
              "color": "white",
              "width": 0.5
             },
             "pattern": {
              "fillmode": "overlay",
              "size": 10,
              "solidity": 0.2
             }
            },
            "type": "barpolar"
           }
          ],
          "carpet": [
           {
            "aaxis": {
             "endlinecolor": "#2a3f5f",
             "gridcolor": "#C8D4E3",
             "linecolor": "#C8D4E3",
             "minorgridcolor": "#C8D4E3",
             "startlinecolor": "#2a3f5f"
            },
            "baxis": {
             "endlinecolor": "#2a3f5f",
             "gridcolor": "#C8D4E3",
             "linecolor": "#C8D4E3",
             "minorgridcolor": "#C8D4E3",
             "startlinecolor": "#2a3f5f"
            },
            "type": "carpet"
           }
          ],
          "choropleth": [
           {
            "colorbar": {
             "outlinewidth": 0,
             "ticks": ""
            },
            "type": "choropleth"
           }
          ],
          "contour": [
           {
            "colorbar": {
             "outlinewidth": 0,
             "ticks": ""
            },
            "colorscale": [
             [
              0,
              "#0d0887"
             ],
             [
              0.1111111111111111,
              "#46039f"
             ],
             [
              0.2222222222222222,
              "#7201a8"
             ],
             [
              0.3333333333333333,
              "#9c179e"
             ],
             [
              0.4444444444444444,
              "#bd3786"
             ],
             [
              0.5555555555555556,
              "#d8576b"
             ],
             [
              0.6666666666666666,
              "#ed7953"
             ],
             [
              0.7777777777777778,
              "#fb9f3a"
             ],
             [
              0.8888888888888888,
              "#fdca26"
             ],
             [
              1,
              "#f0f921"
             ]
            ],
            "type": "contour"
           }
          ],
          "contourcarpet": [
           {
            "colorbar": {
             "outlinewidth": 0,
             "ticks": ""
            },
            "type": "contourcarpet"
           }
          ],
          "heatmap": [
           {
            "colorbar": {
             "outlinewidth": 0,
             "ticks": ""
            },
            "colorscale": [
             [
              0,
              "#0d0887"
             ],
             [
              0.1111111111111111,
              "#46039f"
             ],
             [
              0.2222222222222222,
              "#7201a8"
             ],
             [
              0.3333333333333333,
              "#9c179e"
             ],
             [
              0.4444444444444444,
              "#bd3786"
             ],
             [
              0.5555555555555556,
              "#d8576b"
             ],
             [
              0.6666666666666666,
              "#ed7953"
             ],
             [
              0.7777777777777778,
              "#fb9f3a"
             ],
             [
              0.8888888888888888,
              "#fdca26"
             ],
             [
              1,
              "#f0f921"
             ]
            ],
            "type": "heatmap"
           }
          ],
          "histogram": [
           {
            "marker": {
             "pattern": {
              "fillmode": "overlay",
              "size": 10,
              "solidity": 0.2
             }
            },
            "type": "histogram"
           }
          ],
          "histogram2d": [
           {
            "colorbar": {
             "outlinewidth": 0,
             "ticks": ""
            },
            "colorscale": [
             [
              0,
              "#0d0887"
             ],
             [
              0.1111111111111111,
              "#46039f"
             ],
             [
              0.2222222222222222,
              "#7201a8"
             ],
             [
              0.3333333333333333,
              "#9c179e"
             ],
             [
              0.4444444444444444,
              "#bd3786"
             ],
             [
              0.5555555555555556,
              "#d8576b"
             ],
             [
              0.6666666666666666,
              "#ed7953"
             ],
             [
              0.7777777777777778,
              "#fb9f3a"
             ],
             [
              0.8888888888888888,
              "#fdca26"
             ],
             [
              1,
              "#f0f921"
             ]
            ],
            "type": "histogram2d"
           }
          ],
          "histogram2dcontour": [
           {
            "colorbar": {
             "outlinewidth": 0,
             "ticks": ""
            },
            "colorscale": [
             [
              0,
              "#0d0887"
             ],
             [
              0.1111111111111111,
              "#46039f"
             ],
             [
              0.2222222222222222,
              "#7201a8"
             ],
             [
              0.3333333333333333,
              "#9c179e"
             ],
             [
              0.4444444444444444,
              "#bd3786"
             ],
             [
              0.5555555555555556,
              "#d8576b"
             ],
             [
              0.6666666666666666,
              "#ed7953"
             ],
             [
              0.7777777777777778,
              "#fb9f3a"
             ],
             [
              0.8888888888888888,
              "#fdca26"
             ],
             [
              1,
              "#f0f921"
             ]
            ],
            "type": "histogram2dcontour"
           }
          ],
          "mesh3d": [
           {
            "colorbar": {
             "outlinewidth": 0,
             "ticks": ""
            },
            "type": "mesh3d"
           }
          ],
          "parcoords": [
           {
            "line": {
             "colorbar": {
              "outlinewidth": 0,
              "ticks": ""
             }
            },
            "type": "parcoords"
           }
          ],
          "pie": [
           {
            "automargin": true,
            "type": "pie"
           }
          ],
          "scatter": [
           {
            "fillpattern": {
             "fillmode": "overlay",
             "size": 10,
             "solidity": 0.2
            },
            "type": "scatter"
           }
          ],
          "scatter3d": [
           {
            "line": {
             "colorbar": {
              "outlinewidth": 0,
              "ticks": ""
             }
            },
            "marker": {
             "colorbar": {
              "outlinewidth": 0,
              "ticks": ""
             }
            },
            "type": "scatter3d"
           }
          ],
          "scattercarpet": [
           {
            "marker": {
             "colorbar": {
              "outlinewidth": 0,
              "ticks": ""
             }
            },
            "type": "scattercarpet"
           }
          ],
          "scattergeo": [
           {
            "marker": {
             "colorbar": {
              "outlinewidth": 0,
              "ticks": ""
             }
            },
            "type": "scattergeo"
           }
          ],
          "scattergl": [
           {
            "marker": {
             "colorbar": {
              "outlinewidth": 0,
              "ticks": ""
             }
            },
            "type": "scattergl"
           }
          ],
          "scattermap": [
           {
            "marker": {
             "colorbar": {
              "outlinewidth": 0,
              "ticks": ""
             }
            },
            "type": "scattermap"
           }
          ],
          "scattermapbox": [
           {
            "marker": {
             "colorbar": {
              "outlinewidth": 0,
              "ticks": ""
             }
            },
            "type": "scattermapbox"
           }
          ],
          "scatterpolar": [
           {
            "marker": {
             "colorbar": {
              "outlinewidth": 0,
              "ticks": ""
             }
            },
            "type": "scatterpolar"
           }
          ],
          "scatterpolargl": [
           {
            "marker": {
             "colorbar": {
              "outlinewidth": 0,
              "ticks": ""
             }
            },
            "type": "scatterpolargl"
           }
          ],
          "scatterternary": [
           {
            "marker": {
             "colorbar": {
              "outlinewidth": 0,
              "ticks": ""
             }
            },
            "type": "scatterternary"
           }
          ],
          "surface": [
           {
            "colorbar": {
             "outlinewidth": 0,
             "ticks": ""
            },
            "colorscale": [
             [
              0,
              "#0d0887"
             ],
             [
              0.1111111111111111,
              "#46039f"
             ],
             [
              0.2222222222222222,
              "#7201a8"
             ],
             [
              0.3333333333333333,
              "#9c179e"
             ],
             [
              0.4444444444444444,
              "#bd3786"
             ],
             [
              0.5555555555555556,
              "#d8576b"
             ],
             [
              0.6666666666666666,
              "#ed7953"
             ],
             [
              0.7777777777777778,
              "#fb9f3a"
             ],
             [
              0.8888888888888888,
              "#fdca26"
             ],
             [
              1,
              "#f0f921"
             ]
            ],
            "type": "surface"
           }
          ],
          "table": [
           {
            "cells": {
             "fill": {
              "color": "#EBF0F8"
             },
             "line": {
              "color": "white"
             }
            },
            "header": {
             "fill": {
              "color": "#C8D4E3"
             },
             "line": {
              "color": "white"
             }
            },
            "type": "table"
           }
          ]
         },
         "layout": {
          "annotationdefaults": {
           "arrowcolor": "#2a3f5f",
           "arrowhead": 0,
           "arrowwidth": 1
          },
          "autotypenumbers": "strict",
          "coloraxis": {
           "colorbar": {
            "outlinewidth": 0,
            "ticks": ""
           }
          },
          "colorscale": {
           "diverging": [
            [
             0,
             "#8e0152"
            ],
            [
             0.1,
             "#c51b7d"
            ],
            [
             0.2,
             "#de77ae"
            ],
            [
             0.3,
             "#f1b6da"
            ],
            [
             0.4,
             "#fde0ef"
            ],
            [
             0.5,
             "#f7f7f7"
            ],
            [
             0.6,
             "#e6f5d0"
            ],
            [
             0.7,
             "#b8e186"
            ],
            [
             0.8,
             "#7fbc41"
            ],
            [
             0.9,
             "#4d9221"
            ],
            [
             1,
             "#276419"
            ]
           ],
           "sequential": [
            [
             0,
             "#0d0887"
            ],
            [
             0.1111111111111111,
             "#46039f"
            ],
            [
             0.2222222222222222,
             "#7201a8"
            ],
            [
             0.3333333333333333,
             "#9c179e"
            ],
            [
             0.4444444444444444,
             "#bd3786"
            ],
            [
             0.5555555555555556,
             "#d8576b"
            ],
            [
             0.6666666666666666,
             "#ed7953"
            ],
            [
             0.7777777777777778,
             "#fb9f3a"
            ],
            [
             0.8888888888888888,
             "#fdca26"
            ],
            [
             1,
             "#f0f921"
            ]
           ],
           "sequentialminus": [
            [
             0,
             "#0d0887"
            ],
            [
             0.1111111111111111,
             "#46039f"
            ],
            [
             0.2222222222222222,
             "#7201a8"
            ],
            [
             0.3333333333333333,
             "#9c179e"
            ],
            [
             0.4444444444444444,
             "#bd3786"
            ],
            [
             0.5555555555555556,
             "#d8576b"
            ],
            [
             0.6666666666666666,
             "#ed7953"
            ],
            [
             0.7777777777777778,
             "#fb9f3a"
            ],
            [
             0.8888888888888888,
             "#fdca26"
            ],
            [
             1,
             "#f0f921"
            ]
           ]
          },
          "colorway": [
           "#636efa",
           "#EF553B",
           "#00cc96",
           "#ab63fa",
           "#FFA15A",
           "#19d3f3",
           "#FF6692",
           "#B6E880",
           "#FF97FF",
           "#FECB52"
          ],
          "font": {
           "color": "#2a3f5f"
          },
          "geo": {
           "bgcolor": "white",
           "lakecolor": "white",
           "landcolor": "white",
           "showlakes": true,
           "showland": true,
           "subunitcolor": "#C8D4E3"
          },
          "hoverlabel": {
           "align": "left"
          },
          "hovermode": "closest",
          "mapbox": {
           "style": "light"
          },
          "paper_bgcolor": "white",
          "plot_bgcolor": "white",
          "polar": {
           "angularaxis": {
            "gridcolor": "#EBF0F8",
            "linecolor": "#EBF0F8",
            "ticks": ""
           },
           "bgcolor": "white",
           "radialaxis": {
            "gridcolor": "#EBF0F8",
            "linecolor": "#EBF0F8",
            "ticks": ""
           }
          },
          "scene": {
           "xaxis": {
            "backgroundcolor": "white",
            "gridcolor": "#DFE8F3",
            "gridwidth": 2,
            "linecolor": "#EBF0F8",
            "showbackground": true,
            "ticks": "",
            "zerolinecolor": "#EBF0F8"
           },
           "yaxis": {
            "backgroundcolor": "white",
            "gridcolor": "#DFE8F3",
            "gridwidth": 2,
            "linecolor": "#EBF0F8",
            "showbackground": true,
            "ticks": "",
            "zerolinecolor": "#EBF0F8"
           },
           "zaxis": {
            "backgroundcolor": "white",
            "gridcolor": "#DFE8F3",
            "gridwidth": 2,
            "linecolor": "#EBF0F8",
            "showbackground": true,
            "ticks": "",
            "zerolinecolor": "#EBF0F8"
           }
          },
          "shapedefaults": {
           "line": {
            "color": "#2a3f5f"
           }
          },
          "ternary": {
           "aaxis": {
            "gridcolor": "#DFE8F3",
            "linecolor": "#A2B1C6",
            "ticks": ""
           },
           "baxis": {
            "gridcolor": "#DFE8F3",
            "linecolor": "#A2B1C6",
            "ticks": ""
           },
           "bgcolor": "white",
           "caxis": {
            "gridcolor": "#DFE8F3",
            "linecolor": "#A2B1C6",
            "ticks": ""
           }
          },
          "title": {
           "x": 0.05
          },
          "xaxis": {
           "automargin": true,
           "gridcolor": "#EBF0F8",
           "linecolor": "#EBF0F8",
           "ticks": "",
           "title": {
            "standoff": 15
           },
           "zerolinecolor": "#EBF0F8",
           "zerolinewidth": 2
          },
          "yaxis": {
           "automargin": true,
           "gridcolor": "#EBF0F8",
           "linecolor": "#EBF0F8",
           "ticks": "",
           "title": {
            "standoff": 15
           },
           "zerolinecolor": "#EBF0F8",
           "zerolinewidth": 2
          }
         }
        },
        "title": {
         "text": "Feature Correlation with Target (Liver Disease)"
        },
        "xaxis": {
         "anchor": "y",
         "domain": [
          0,
          1
         ],
         "title": {
          "text": "Features"
         }
        },
        "yaxis": {
         "anchor": "x",
         "domain": [
          0,
          1
         ],
         "title": {
          "text": "Correlation with Liver Disease"
         }
        }
       }
      }
     },
     "metadata": {},
     "output_type": "display_data"
    }
   ],
   "source": [
    "# 📊 Step 11: Bivariate Analysis – Correlation with Target (Liver Disease)\n",
    "\n",
    "df['target'] = df['dataset'].map({1: 1, 2: 0})  # Only run once\n",
    "\n",
    "corr = df.corr(numeric_only=True)['target'].drop('target').sort_values(ascending=False)\n",
    "\n",
    "fig = px.bar(\n",
    "    x=corr.index,\n",
    "    y=corr.values,\n",
    "    title=\"Feature Correlation with Target (Liver Disease)\",\n",
    "    labels={'x': 'Features', 'y': 'Correlation'},\n",
    "    template=\"plotly_white\"\n",
    ")\n",
    "\n",
    "fig.update_layout(\n",
    "    xaxis_title=\"Features\",\n",
    "    yaxis_title=\"Correlation with Liver Disease\"\n",
    ")\n",
    "\n",
    "fig.show()\n"
   ]
  },
  {
   "cell_type": "code",
   "execution_count": 15,
   "id": "af900b94",
   "metadata": {},
   "outputs": [
    {
     "data": {
      "application/vnd.plotly.v1+json": {
       "config": {
        "plotlyServerURL": "https://plot.ly"
       },
       "data": [
        {
         "colorscale": [
          [
           0,
           "#440154"
          ],
          [
           0.1111111111111111,
           "#482878"
          ],
          [
           0.2222222222222222,
           "#3e4989"
          ],
          [
           0.3333333333333333,
           "#31688e"
          ],
          [
           0.4444444444444444,
           "#26828e"
          ],
          [
           0.5555555555555556,
           "#1f9e89"
          ],
          [
           0.6666666666666666,
           "#35b779"
          ],
          [
           0.7777777777777778,
           "#6ece58"
          ],
          [
           0.8888888888888888,
           "#b5de2b"
          ],
          [
           1,
           "#fde725"
          ]
         ],
         "type": "heatmap",
         "x": [
          "age",
          "gender",
          "total_bilirubin",
          "direct_bilirubin",
          "alkaline_phosphotase",
          "alamine_aminotransferase",
          "aspartate_aminotransferase",
          "total_protiens",
          "albumin",
          "albumin_and_globulin_ratio",
          "dataset",
          "target"
         ],
         "y": [
          "age",
          "gender",
          "total_bilirubin",
          "direct_bilirubin",
          "alkaline_phosphotase",
          "alamine_aminotransferase",
          "aspartate_aminotransferase",
          "total_protiens",
          "albumin",
          "albumin_and_globulin_ratio",
          "dataset",
          "target"
         ],
         "z": {
          "bdata": "AAAAAAAA8D9qXF4bd/WsP41BIVkEF4g/Cu9Rnd/Wfj/l48kXtZa0P1GLxM7yPba/vw1Q6j9jlL8pUJ4Ju/7Hv8DBv5znBNG/L7BhedOky7/OXR+RtJTBvwAAAAAAAPh/alxeG3f1rD8AAAAAAADwP8Z2FHLD27Y/lpbSxjO2uT+JJoET9Secv0YzM7a5E7U/VYUuhuqQtD+dVfP7otC2v95/9ow6A7i/SibazE0Var8S7QaYNRm1vwAAAAAAAPh/jUEhWQQXiD/GdhRyw9u2PwAAAAAAAPA/8AvLvd786z94ezOCH3TKP0JgKDF5Zss/mjcevEFxzj/8TjZ4Y5aAvziis4izcsy/vYwPm7Reyr+jJ07wwi/MvwAAAAAAAPh/Cu9Rnd/Wfj+WltLGM7a5P/ALy73e/Os/AAAAAAAA8D+eNwe1eBLOP8rnUIk98M0/RRoFwJl70D9fT3XCYy8iv7FnamR9QM2/BhKZQq2Uyb9M5i1Pcn7PvwAAAAAAAPh/5ePJF7WWtD+JJoET9Secv3h7M4IfdMo/njcHtXgSzj8AAAAAAADwP1ipXtdHFsA/B0WZ2KxmxT+dkmwD3jKdv+9HoTyPLcW/O9LUT6Pszb/0hZIZranHvwAAAAAAAPh/UYvEzvI9tr9GMzO2uRO1P0JgKDF5Zss/yudQiT3wzT9YqV7XRxbAPwAAAAAAAPA/LASAa8hX6T83Pju58cSlvwD/h+eZdJ6/WeZYok52Yr858W8U0urEvwAAAAAAAPh/vw1Q6j9jlL9VhS6G6pC0P5o3HrxBcc4/RRoFwJl70D8HRZnYrGbFPywEgGvIV+k/AAAAAAAA8D/aPM1Qx0KavwXPdtCV1bW/+ylmTvHmsb8SpVWpkHLDvwAAAAAAAPh/KVCeCbv+x7+dVfP7otC2v/xONnhjloC/X091wmMvIr+dkmwD3jKdvzc+O7nxxKW/2jzNUMdCmr8AAAAAAADwP7/YOQX3Fuk/CieUhRPuzT8oibx3meyhPwAAAAAAAPh/wMG/nOcE0b/ef/aMOgO4vziis4izcsy/sWdqZH1Azb/vR6E8jy3FvwD/h+eZdJ6/Bc920JXVtb+/2DkF9xbpPwAAAAAAAPA/yPRBFXb05T/GADkpW6jEPwAAAAAAAPh/L7BhedOky79KJtrMTRVqv72MD5u0Xsq/BhKZQq2Uyb870tRPo+zNv1nmWKJOdmK/+ylmTvHmsb8KJ5SFE+7NP8j0QRV29OU/AAAAAAAA8D+xKitqIMHEPwAAAAAAAPh/zl0fkbSUwb8S7QaYNRm1v6MnTvDCL8y/TOYtT3J+z7/0hZIZranHvznxbxTS6sS/EqVVqZByw78oibx3meyhP8YAOSlbqMQ/sSoraiDBxD8AAAAAAADwPwAAAAAAAPh/AAAAAAAA+H8AAAAAAAD4fwAAAAAAAPh/AAAAAAAA+H8AAAAAAAD4fwAAAAAAAPh/AAAAAAAA+H8AAAAAAAD4fwAAAAAAAPh/AAAAAAAA+H8AAAAAAAD4fwAAAAAAAPh/",
          "dtype": "f8",
          "shape": "12, 12"
         }
        }
       ],
       "layout": {
        "template": {
         "data": {
          "bar": [
           {
            "error_x": {
             "color": "#2a3f5f"
            },
            "error_y": {
             "color": "#2a3f5f"
            },
            "marker": {
             "line": {
              "color": "#E5ECF6",
              "width": 0.5
             },
             "pattern": {
              "fillmode": "overlay",
              "size": 10,
              "solidity": 0.2
             }
            },
            "type": "bar"
           }
          ],
          "barpolar": [
           {
            "marker": {
             "line": {
              "color": "#E5ECF6",
              "width": 0.5
             },
             "pattern": {
              "fillmode": "overlay",
              "size": 10,
              "solidity": 0.2
             }
            },
            "type": "barpolar"
           }
          ],
          "carpet": [
           {
            "aaxis": {
             "endlinecolor": "#2a3f5f",
             "gridcolor": "white",
             "linecolor": "white",
             "minorgridcolor": "white",
             "startlinecolor": "#2a3f5f"
            },
            "baxis": {
             "endlinecolor": "#2a3f5f",
             "gridcolor": "white",
             "linecolor": "white",
             "minorgridcolor": "white",
             "startlinecolor": "#2a3f5f"
            },
            "type": "carpet"
           }
          ],
          "choropleth": [
           {
            "colorbar": {
             "outlinewidth": 0,
             "ticks": ""
            },
            "type": "choropleth"
           }
          ],
          "contour": [
           {
            "colorbar": {
             "outlinewidth": 0,
             "ticks": ""
            },
            "colorscale": [
             [
              0,
              "#0d0887"
             ],
             [
              0.1111111111111111,
              "#46039f"
             ],
             [
              0.2222222222222222,
              "#7201a8"
             ],
             [
              0.3333333333333333,
              "#9c179e"
             ],
             [
              0.4444444444444444,
              "#bd3786"
             ],
             [
              0.5555555555555556,
              "#d8576b"
             ],
             [
              0.6666666666666666,
              "#ed7953"
             ],
             [
              0.7777777777777778,
              "#fb9f3a"
             ],
             [
              0.8888888888888888,
              "#fdca26"
             ],
             [
              1,
              "#f0f921"
             ]
            ],
            "type": "contour"
           }
          ],
          "contourcarpet": [
           {
            "colorbar": {
             "outlinewidth": 0,
             "ticks": ""
            },
            "type": "contourcarpet"
           }
          ],
          "heatmap": [
           {
            "colorbar": {
             "outlinewidth": 0,
             "ticks": ""
            },
            "colorscale": [
             [
              0,
              "#0d0887"
             ],
             [
              0.1111111111111111,
              "#46039f"
             ],
             [
              0.2222222222222222,
              "#7201a8"
             ],
             [
              0.3333333333333333,
              "#9c179e"
             ],
             [
              0.4444444444444444,
              "#bd3786"
             ],
             [
              0.5555555555555556,
              "#d8576b"
             ],
             [
              0.6666666666666666,
              "#ed7953"
             ],
             [
              0.7777777777777778,
              "#fb9f3a"
             ],
             [
              0.8888888888888888,
              "#fdca26"
             ],
             [
              1,
              "#f0f921"
             ]
            ],
            "type": "heatmap"
           }
          ],
          "histogram": [
           {
            "marker": {
             "pattern": {
              "fillmode": "overlay",
              "size": 10,
              "solidity": 0.2
             }
            },
            "type": "histogram"
           }
          ],
          "histogram2d": [
           {
            "colorbar": {
             "outlinewidth": 0,
             "ticks": ""
            },
            "colorscale": [
             [
              0,
              "#0d0887"
             ],
             [
              0.1111111111111111,
              "#46039f"
             ],
             [
              0.2222222222222222,
              "#7201a8"
             ],
             [
              0.3333333333333333,
              "#9c179e"
             ],
             [
              0.4444444444444444,
              "#bd3786"
             ],
             [
              0.5555555555555556,
              "#d8576b"
             ],
             [
              0.6666666666666666,
              "#ed7953"
             ],
             [
              0.7777777777777778,
              "#fb9f3a"
             ],
             [
              0.8888888888888888,
              "#fdca26"
             ],
             [
              1,
              "#f0f921"
             ]
            ],
            "type": "histogram2d"
           }
          ],
          "histogram2dcontour": [
           {
            "colorbar": {
             "outlinewidth": 0,
             "ticks": ""
            },
            "colorscale": [
             [
              0,
              "#0d0887"
             ],
             [
              0.1111111111111111,
              "#46039f"
             ],
             [
              0.2222222222222222,
              "#7201a8"
             ],
             [
              0.3333333333333333,
              "#9c179e"
             ],
             [
              0.4444444444444444,
              "#bd3786"
             ],
             [
              0.5555555555555556,
              "#d8576b"
             ],
             [
              0.6666666666666666,
              "#ed7953"
             ],
             [
              0.7777777777777778,
              "#fb9f3a"
             ],
             [
              0.8888888888888888,
              "#fdca26"
             ],
             [
              1,
              "#f0f921"
             ]
            ],
            "type": "histogram2dcontour"
           }
          ],
          "mesh3d": [
           {
            "colorbar": {
             "outlinewidth": 0,
             "ticks": ""
            },
            "type": "mesh3d"
           }
          ],
          "parcoords": [
           {
            "line": {
             "colorbar": {
              "outlinewidth": 0,
              "ticks": ""
             }
            },
            "type": "parcoords"
           }
          ],
          "pie": [
           {
            "automargin": true,
            "type": "pie"
           }
          ],
          "scatter": [
           {
            "fillpattern": {
             "fillmode": "overlay",
             "size": 10,
             "solidity": 0.2
            },
            "type": "scatter"
           }
          ],
          "scatter3d": [
           {
            "line": {
             "colorbar": {
              "outlinewidth": 0,
              "ticks": ""
             }
            },
            "marker": {
             "colorbar": {
              "outlinewidth": 0,
              "ticks": ""
             }
            },
            "type": "scatter3d"
           }
          ],
          "scattercarpet": [
           {
            "marker": {
             "colorbar": {
              "outlinewidth": 0,
              "ticks": ""
             }
            },
            "type": "scattercarpet"
           }
          ],
          "scattergeo": [
           {
            "marker": {
             "colorbar": {
              "outlinewidth": 0,
              "ticks": ""
             }
            },
            "type": "scattergeo"
           }
          ],
          "scattergl": [
           {
            "marker": {
             "colorbar": {
              "outlinewidth": 0,
              "ticks": ""
             }
            },
            "type": "scattergl"
           }
          ],
          "scattermap": [
           {
            "marker": {
             "colorbar": {
              "outlinewidth": 0,
              "ticks": ""
             }
            },
            "type": "scattermap"
           }
          ],
          "scattermapbox": [
           {
            "marker": {
             "colorbar": {
              "outlinewidth": 0,
              "ticks": ""
             }
            },
            "type": "scattermapbox"
           }
          ],
          "scatterpolar": [
           {
            "marker": {
             "colorbar": {
              "outlinewidth": 0,
              "ticks": ""
             }
            },
            "type": "scatterpolar"
           }
          ],
          "scatterpolargl": [
           {
            "marker": {
             "colorbar": {
              "outlinewidth": 0,
              "ticks": ""
             }
            },
            "type": "scatterpolargl"
           }
          ],
          "scatterternary": [
           {
            "marker": {
             "colorbar": {
              "outlinewidth": 0,
              "ticks": ""
             }
            },
            "type": "scatterternary"
           }
          ],
          "surface": [
           {
            "colorbar": {
             "outlinewidth": 0,
             "ticks": ""
            },
            "colorscale": [
             [
              0,
              "#0d0887"
             ],
             [
              0.1111111111111111,
              "#46039f"
             ],
             [
              0.2222222222222222,
              "#7201a8"
             ],
             [
              0.3333333333333333,
              "#9c179e"
             ],
             [
              0.4444444444444444,
              "#bd3786"
             ],
             [
              0.5555555555555556,
              "#d8576b"
             ],
             [
              0.6666666666666666,
              "#ed7953"
             ],
             [
              0.7777777777777778,
              "#fb9f3a"
             ],
             [
              0.8888888888888888,
              "#fdca26"
             ],
             [
              1,
              "#f0f921"
             ]
            ],
            "type": "surface"
           }
          ],
          "table": [
           {
            "cells": {
             "fill": {
              "color": "#EBF0F8"
             },
             "line": {
              "color": "white"
             }
            },
            "header": {
             "fill": {
              "color": "#C8D4E3"
             },
             "line": {
              "color": "white"
             }
            },
            "type": "table"
           }
          ]
         },
         "layout": {
          "annotationdefaults": {
           "arrowcolor": "#2a3f5f",
           "arrowhead": 0,
           "arrowwidth": 1
          },
          "autotypenumbers": "strict",
          "coloraxis": {
           "colorbar": {
            "outlinewidth": 0,
            "ticks": ""
           }
          },
          "colorscale": {
           "diverging": [
            [
             0,
             "#8e0152"
            ],
            [
             0.1,
             "#c51b7d"
            ],
            [
             0.2,
             "#de77ae"
            ],
            [
             0.3,
             "#f1b6da"
            ],
            [
             0.4,
             "#fde0ef"
            ],
            [
             0.5,
             "#f7f7f7"
            ],
            [
             0.6,
             "#e6f5d0"
            ],
            [
             0.7,
             "#b8e186"
            ],
            [
             0.8,
             "#7fbc41"
            ],
            [
             0.9,
             "#4d9221"
            ],
            [
             1,
             "#276419"
            ]
           ],
           "sequential": [
            [
             0,
             "#0d0887"
            ],
            [
             0.1111111111111111,
             "#46039f"
            ],
            [
             0.2222222222222222,
             "#7201a8"
            ],
            [
             0.3333333333333333,
             "#9c179e"
            ],
            [
             0.4444444444444444,
             "#bd3786"
            ],
            [
             0.5555555555555556,
             "#d8576b"
            ],
            [
             0.6666666666666666,
             "#ed7953"
            ],
            [
             0.7777777777777778,
             "#fb9f3a"
            ],
            [
             0.8888888888888888,
             "#fdca26"
            ],
            [
             1,
             "#f0f921"
            ]
           ],
           "sequentialminus": [
            [
             0,
             "#0d0887"
            ],
            [
             0.1111111111111111,
             "#46039f"
            ],
            [
             0.2222222222222222,
             "#7201a8"
            ],
            [
             0.3333333333333333,
             "#9c179e"
            ],
            [
             0.4444444444444444,
             "#bd3786"
            ],
            [
             0.5555555555555556,
             "#d8576b"
            ],
            [
             0.6666666666666666,
             "#ed7953"
            ],
            [
             0.7777777777777778,
             "#fb9f3a"
            ],
            [
             0.8888888888888888,
             "#fdca26"
            ],
            [
             1,
             "#f0f921"
            ]
           ]
          },
          "colorway": [
           "#636efa",
           "#EF553B",
           "#00cc96",
           "#ab63fa",
           "#FFA15A",
           "#19d3f3",
           "#FF6692",
           "#B6E880",
           "#FF97FF",
           "#FECB52"
          ],
          "font": {
           "color": "#2a3f5f"
          },
          "geo": {
           "bgcolor": "white",
           "lakecolor": "white",
           "landcolor": "#E5ECF6",
           "showlakes": true,
           "showland": true,
           "subunitcolor": "white"
          },
          "hoverlabel": {
           "align": "left"
          },
          "hovermode": "closest",
          "mapbox": {
           "style": "light"
          },
          "paper_bgcolor": "white",
          "plot_bgcolor": "#E5ECF6",
          "polar": {
           "angularaxis": {
            "gridcolor": "white",
            "linecolor": "white",
            "ticks": ""
           },
           "bgcolor": "#E5ECF6",
           "radialaxis": {
            "gridcolor": "white",
            "linecolor": "white",
            "ticks": ""
           }
          },
          "scene": {
           "xaxis": {
            "backgroundcolor": "#E5ECF6",
            "gridcolor": "white",
            "gridwidth": 2,
            "linecolor": "white",
            "showbackground": true,
            "ticks": "",
            "zerolinecolor": "white"
           },
           "yaxis": {
            "backgroundcolor": "#E5ECF6",
            "gridcolor": "white",
            "gridwidth": 2,
            "linecolor": "white",
            "showbackground": true,
            "ticks": "",
            "zerolinecolor": "white"
           },
           "zaxis": {
            "backgroundcolor": "#E5ECF6",
            "gridcolor": "white",
            "gridwidth": 2,
            "linecolor": "white",
            "showbackground": true,
            "ticks": "",
            "zerolinecolor": "white"
           }
          },
          "shapedefaults": {
           "line": {
            "color": "#2a3f5f"
           }
          },
          "ternary": {
           "aaxis": {
            "gridcolor": "white",
            "linecolor": "white",
            "ticks": ""
           },
           "baxis": {
            "gridcolor": "white",
            "linecolor": "white",
            "ticks": ""
           },
           "bgcolor": "#E5ECF6",
           "caxis": {
            "gridcolor": "white",
            "linecolor": "white",
            "ticks": ""
           }
          },
          "title": {
           "x": 0.05
          },
          "xaxis": {
           "automargin": true,
           "gridcolor": "white",
           "linecolor": "white",
           "ticks": "",
           "title": {
            "standoff": 15
           },
           "zerolinecolor": "white",
           "zerolinewidth": 2
          },
          "yaxis": {
           "automargin": true,
           "gridcolor": "white",
           "linecolor": "white",
           "ticks": "",
           "title": {
            "standoff": 15
           },
           "zerolinecolor": "white",
           "zerolinewidth": 2
          }
         }
        },
        "title": {
         "text": "Correlation Heatmap of Numerical Features"
        },
        "xaxis": {
         "nticks": 12
        }
       }
      }
     },
     "metadata": {},
     "output_type": "display_data"
    }
   ],
   "source": [
    "# 📊 Step 12: Multivariate Analysis – Correlation Heatmap\n",
    "\n",
    "# Select only numeric columns\n",
    "numeric_df = df.select_dtypes(include='number')\n",
    "\n",
    "# Compute correlation\n",
    "corr_matrix = numeric_df.corr()\n",
    "\n",
    "# Create heatmap\n",
    "fig = go.Figure(data=go.Heatmap(\n",
    "    z=corr_matrix.values,\n",
    "    x=corr_matrix.columns,\n",
    "    y=corr_matrix.columns,\n",
    "    colorscale='Viridis'\n",
    "))\n",
    "\n",
    "fig.update_layout(\n",
    "    title=\"Correlation Heatmap of Numerical Features\",\n",
    "    xaxis_nticks=len(corr_matrix.columns)\n",
    ")\n",
    "\n",
    "fig.show()\n"
   ]
  },
  {
   "cell_type": "code",
   "execution_count": 16,
   "id": "9fe152a2",
   "metadata": {},
   "outputs": [
    {
     "data": {
      "application/vnd.plotly.v1+json": {
       "config": {
        "plotlyServerURL": "https://plot.ly"
       },
       "data": [
        {
         "diagonal": {
          "visible": false
         },
         "dimensions": [
          {
           "axis": {
            "matches": true
           },
           "label": "age",
           "values": {
            "bdata": "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",
            "dtype": "f8"
           }
          },
          {
           "axis": {
            "matches": true
           },
           "label": "total_bilirubin",
           "values": {
            "bdata": "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",
            "dtype": "f8"
           }
          },
          {
           "axis": {
            "matches": true
           },
           "label": "alkaline_phosphotase",
           "values": {
            "bdata": "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",
            "dtype": "f8"
           }
          },
          {
           "axis": {
            "matches": true
           },
           "label": "Liver Disease (0 = No, 1 = Yes)",
           "values": {
            "bdata": "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",
            "dtype": "f8"
           }
          }
         ],
         "hovertemplate": "%{xaxis.title.text}=%{x}<br>%{yaxis.title.text}=%{y}<br>Liver Disease (0 = No, 1 = Yes)=%{marker.color}<extra></extra>",
         "legendgroup": "",
         "marker": {
          "color": {
           "bdata": "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",
           "dtype": "f8"
          },
          "coloraxis": "coloraxis",
          "symbol": "circle"
         },
         "name": "",
         "showlegend": false,
         "type": "splom"
        }
       ],
       "layout": {
        "coloraxis": {
         "colorbar": {
          "title": {
           "text": "Liver Disease (0 = No, 1 = Yes)"
          }
         },
         "colorscale": [
          [
           0,
           "#0d0887"
          ],
          [
           0.1111111111111111,
           "#46039f"
          ],
          [
           0.2222222222222222,
           "#7201a8"
          ],
          [
           0.3333333333333333,
           "#9c179e"
          ],
          [
           0.4444444444444444,
           "#bd3786"
          ],
          [
           0.5555555555555556,
           "#d8576b"
          ],
          [
           0.6666666666666666,
           "#ed7953"
          ],
          [
           0.7777777777777778,
           "#fb9f3a"
          ],
          [
           0.8888888888888888,
           "#fdca26"
          ],
          [
           1,
           "#f0f921"
          ]
         ]
        },
        "dragmode": "select",
        "legend": {
         "tracegroupgap": 0
        },
        "template": {
         "data": {
          "bar": [
           {
            "error_x": {
             "color": "#2a3f5f"
            },
            "error_y": {
             "color": "#2a3f5f"
            },
            "marker": {
             "line": {
              "color": "white",
              "width": 0.5
             },
             "pattern": {
              "fillmode": "overlay",
              "size": 10,
              "solidity": 0.2
             }
            },
            "type": "bar"
           }
          ],
          "barpolar": [
           {
            "marker": {
             "line": {
              "color": "white",
              "width": 0.5
             },
             "pattern": {
              "fillmode": "overlay",
              "size": 10,
              "solidity": 0.2
             }
            },
            "type": "barpolar"
           }
          ],
          "carpet": [
           {
            "aaxis": {
             "endlinecolor": "#2a3f5f",
             "gridcolor": "#C8D4E3",
             "linecolor": "#C8D4E3",
             "minorgridcolor": "#C8D4E3",
             "startlinecolor": "#2a3f5f"
            },
            "baxis": {
             "endlinecolor": "#2a3f5f",
             "gridcolor": "#C8D4E3",
             "linecolor": "#C8D4E3",
             "minorgridcolor": "#C8D4E3",
             "startlinecolor": "#2a3f5f"
            },
            "type": "carpet"
           }
          ],
          "choropleth": [
           {
            "colorbar": {
             "outlinewidth": 0,
             "ticks": ""
            },
            "type": "choropleth"
           }
          ],
          "contour": [
           {
            "colorbar": {
             "outlinewidth": 0,
             "ticks": ""
            },
            "colorscale": [
             [
              0,
              "#0d0887"
             ],
             [
              0.1111111111111111,
              "#46039f"
             ],
             [
              0.2222222222222222,
              "#7201a8"
             ],
             [
              0.3333333333333333,
              "#9c179e"
             ],
             [
              0.4444444444444444,
              "#bd3786"
             ],
             [
              0.5555555555555556,
              "#d8576b"
             ],
             [
              0.6666666666666666,
              "#ed7953"
             ],
             [
              0.7777777777777778,
              "#fb9f3a"
             ],
             [
              0.8888888888888888,
              "#fdca26"
             ],
             [
              1,
              "#f0f921"
             ]
            ],
            "type": "contour"
           }
          ],
          "contourcarpet": [
           {
            "colorbar": {
             "outlinewidth": 0,
             "ticks": ""
            },
            "type": "contourcarpet"
           }
          ],
          "heatmap": [
           {
            "colorbar": {
             "outlinewidth": 0,
             "ticks": ""
            },
            "colorscale": [
             [
              0,
              "#0d0887"
             ],
             [
              0.1111111111111111,
              "#46039f"
             ],
             [
              0.2222222222222222,
              "#7201a8"
             ],
             [
              0.3333333333333333,
              "#9c179e"
             ],
             [
              0.4444444444444444,
              "#bd3786"
             ],
             [
              0.5555555555555556,
              "#d8576b"
             ],
             [
              0.6666666666666666,
              "#ed7953"
             ],
             [
              0.7777777777777778,
              "#fb9f3a"
             ],
             [
              0.8888888888888888,
              "#fdca26"
             ],
             [
              1,
              "#f0f921"
             ]
            ],
            "type": "heatmap"
           }
          ],
          "histogram": [
           {
            "marker": {
             "pattern": {
              "fillmode": "overlay",
              "size": 10,
              "solidity": 0.2
             }
            },
            "type": "histogram"
           }
          ],
          "histogram2d": [
           {
            "colorbar": {
             "outlinewidth": 0,
             "ticks": ""
            },
            "colorscale": [
             [
              0,
              "#0d0887"
             ],
             [
              0.1111111111111111,
              "#46039f"
             ],
             [
              0.2222222222222222,
              "#7201a8"
             ],
             [
              0.3333333333333333,
              "#9c179e"
             ],
             [
              0.4444444444444444,
              "#bd3786"
             ],
             [
              0.5555555555555556,
              "#d8576b"
             ],
             [
              0.6666666666666666,
              "#ed7953"
             ],
             [
              0.7777777777777778,
              "#fb9f3a"
             ],
             [
              0.8888888888888888,
              "#fdca26"
             ],
             [
              1,
              "#f0f921"
             ]
            ],
            "type": "histogram2d"
           }
          ],
          "histogram2dcontour": [
           {
            "colorbar": {
             "outlinewidth": 0,
             "ticks": ""
            },
            "colorscale": [
             [
              0,
              "#0d0887"
             ],
             [
              0.1111111111111111,
              "#46039f"
             ],
             [
              0.2222222222222222,
              "#7201a8"
             ],
             [
              0.3333333333333333,
              "#9c179e"
             ],
             [
              0.4444444444444444,
              "#bd3786"
             ],
             [
              0.5555555555555556,
              "#d8576b"
             ],
             [
              0.6666666666666666,
              "#ed7953"
             ],
             [
              0.7777777777777778,
              "#fb9f3a"
             ],
             [
              0.8888888888888888,
              "#fdca26"
             ],
             [
              1,
              "#f0f921"
             ]
            ],
            "type": "histogram2dcontour"
           }
          ],
          "mesh3d": [
           {
            "colorbar": {
             "outlinewidth": 0,
             "ticks": ""
            },
            "type": "mesh3d"
           }
          ],
          "parcoords": [
           {
            "line": {
             "colorbar": {
              "outlinewidth": 0,
              "ticks": ""
             }
            },
            "type": "parcoords"
           }
          ],
          "pie": [
           {
            "automargin": true,
            "type": "pie"
           }
          ],
          "scatter": [
           {
            "fillpattern": {
             "fillmode": "overlay",
             "size": 10,
             "solidity": 0.2
            },
            "type": "scatter"
           }
          ],
          "scatter3d": [
           {
            "line": {
             "colorbar": {
              "outlinewidth": 0,
              "ticks": ""
             }
            },
            "marker": {
             "colorbar": {
              "outlinewidth": 0,
              "ticks": ""
             }
            },
            "type": "scatter3d"
           }
          ],
          "scattercarpet": [
           {
            "marker": {
             "colorbar": {
              "outlinewidth": 0,
              "ticks": ""
             }
            },
            "type": "scattercarpet"
           }
          ],
          "scattergeo": [
           {
            "marker": {
             "colorbar": {
              "outlinewidth": 0,
              "ticks": ""
             }
            },
            "type": "scattergeo"
           }
          ],
          "scattergl": [
           {
            "marker": {
             "colorbar": {
              "outlinewidth": 0,
              "ticks": ""
             }
            },
            "type": "scattergl"
           }
          ],
          "scattermap": [
           {
            "marker": {
             "colorbar": {
              "outlinewidth": 0,
              "ticks": ""
             }
            },
            "type": "scattermap"
           }
          ],
          "scattermapbox": [
           {
            "marker": {
             "colorbar": {
              "outlinewidth": 0,
              "ticks": ""
             }
            },
            "type": "scattermapbox"
           }
          ],
          "scatterpolar": [
           {
            "marker": {
             "colorbar": {
              "outlinewidth": 0,
              "ticks": ""
             }
            },
            "type": "scatterpolar"
           }
          ],
          "scatterpolargl": [
           {
            "marker": {
             "colorbar": {
              "outlinewidth": 0,
              "ticks": ""
             }
            },
            "type": "scatterpolargl"
           }
          ],
          "scatterternary": [
           {
            "marker": {
             "colorbar": {
              "outlinewidth": 0,
              "ticks": ""
             }
            },
            "type": "scatterternary"
           }
          ],
          "surface": [
           {
            "colorbar": {
             "outlinewidth": 0,
             "ticks": ""
            },
            "colorscale": [
             [
              0,
              "#0d0887"
             ],
             [
              0.1111111111111111,
              "#46039f"
             ],
             [
              0.2222222222222222,
              "#7201a8"
             ],
             [
              0.3333333333333333,
              "#9c179e"
             ],
             [
              0.4444444444444444,
              "#bd3786"
             ],
             [
              0.5555555555555556,
              "#d8576b"
             ],
             [
              0.6666666666666666,
              "#ed7953"
             ],
             [
              0.7777777777777778,
              "#fb9f3a"
             ],
             [
              0.8888888888888888,
              "#fdca26"
             ],
             [
              1,
              "#f0f921"
             ]
            ],
            "type": "surface"
           }
          ],
          "table": [
           {
            "cells": {
             "fill": {
              "color": "#EBF0F8"
             },
             "line": {
              "color": "white"
             }
            },
            "header": {
             "fill": {
              "color": "#C8D4E3"
             },
             "line": {
              "color": "white"
             }
            },
            "type": "table"
           }
          ]
         },
         "layout": {
          "annotationdefaults": {
           "arrowcolor": "#2a3f5f",
           "arrowhead": 0,
           "arrowwidth": 1
          },
          "autotypenumbers": "strict",
          "coloraxis": {
           "colorbar": {
            "outlinewidth": 0,
            "ticks": ""
           }
          },
          "colorscale": {
           "diverging": [
            [
             0,
             "#8e0152"
            ],
            [
             0.1,
             "#c51b7d"
            ],
            [
             0.2,
             "#de77ae"
            ],
            [
             0.3,
             "#f1b6da"
            ],
            [
             0.4,
             "#fde0ef"
            ],
            [
             0.5,
             "#f7f7f7"
            ],
            [
             0.6,
             "#e6f5d0"
            ],
            [
             0.7,
             "#b8e186"
            ],
            [
             0.8,
             "#7fbc41"
            ],
            [
             0.9,
             "#4d9221"
            ],
            [
             1,
             "#276419"
            ]
           ],
           "sequential": [
            [
             0,
             "#0d0887"
            ],
            [
             0.1111111111111111,
             "#46039f"
            ],
            [
             0.2222222222222222,
             "#7201a8"
            ],
            [
             0.3333333333333333,
             "#9c179e"
            ],
            [
             0.4444444444444444,
             "#bd3786"
            ],
            [
             0.5555555555555556,
             "#d8576b"
            ],
            [
             0.6666666666666666,
             "#ed7953"
            ],
            [
             0.7777777777777778,
             "#fb9f3a"
            ],
            [
             0.8888888888888888,
             "#fdca26"
            ],
            [
             1,
             "#f0f921"
            ]
           ],
           "sequentialminus": [
            [
             0,
             "#0d0887"
            ],
            [
             0.1111111111111111,
             "#46039f"
            ],
            [
             0.2222222222222222,
             "#7201a8"
            ],
            [
             0.3333333333333333,
             "#9c179e"
            ],
            [
             0.4444444444444444,
             "#bd3786"
            ],
            [
             0.5555555555555556,
             "#d8576b"
            ],
            [
             0.6666666666666666,
             "#ed7953"
            ],
            [
             0.7777777777777778,
             "#fb9f3a"
            ],
            [
             0.8888888888888888,
             "#fdca26"
            ],
            [
             1,
             "#f0f921"
            ]
           ]
          },
          "colorway": [
           "#636efa",
           "#EF553B",
           "#00cc96",
           "#ab63fa",
           "#FFA15A",
           "#19d3f3",
           "#FF6692",
           "#B6E880",
           "#FF97FF",
           "#FECB52"
          ],
          "font": {
           "color": "#2a3f5f"
          },
          "geo": {
           "bgcolor": "white",
           "lakecolor": "white",
           "landcolor": "white",
           "showlakes": true,
           "showland": true,
           "subunitcolor": "#C8D4E3"
          },
          "hoverlabel": {
           "align": "left"
          },
          "hovermode": "closest",
          "mapbox": {
           "style": "light"
          },
          "paper_bgcolor": "white",
          "plot_bgcolor": "white",
          "polar": {
           "angularaxis": {
            "gridcolor": "#EBF0F8",
            "linecolor": "#EBF0F8",
            "ticks": ""
           },
           "bgcolor": "white",
           "radialaxis": {
            "gridcolor": "#EBF0F8",
            "linecolor": "#EBF0F8",
            "ticks": ""
           }
          },
          "scene": {
           "xaxis": {
            "backgroundcolor": "white",
            "gridcolor": "#DFE8F3",
            "gridwidth": 2,
            "linecolor": "#EBF0F8",
            "showbackground": true,
            "ticks": "",
            "zerolinecolor": "#EBF0F8"
           },
           "yaxis": {
            "backgroundcolor": "white",
            "gridcolor": "#DFE8F3",
            "gridwidth": 2,
            "linecolor": "#EBF0F8",
            "showbackground": true,
            "ticks": "",
            "zerolinecolor": "#EBF0F8"
           },
           "zaxis": {
            "backgroundcolor": "white",
            "gridcolor": "#DFE8F3",
            "gridwidth": 2,
            "linecolor": "#EBF0F8",
            "showbackground": true,
            "ticks": "",
            "zerolinecolor": "#EBF0F8"
           }
          },
          "shapedefaults": {
           "line": {
            "color": "#2a3f5f"
           }
          },
          "ternary": {
           "aaxis": {
            "gridcolor": "#DFE8F3",
            "linecolor": "#A2B1C6",
            "ticks": ""
           },
           "baxis": {
            "gridcolor": "#DFE8F3",
            "linecolor": "#A2B1C6",
            "ticks": ""
           },
           "bgcolor": "white",
           "caxis": {
            "gridcolor": "#DFE8F3",
            "linecolor": "#A2B1C6",
            "ticks": ""
           }
          },
          "title": {
           "x": 0.05
          },
          "xaxis": {
           "automargin": true,
           "gridcolor": "#EBF0F8",
           "linecolor": "#EBF0F8",
           "ticks": "",
           "title": {
            "standoff": 15
           },
           "zerolinecolor": "#EBF0F8",
           "zerolinewidth": 2
          },
          "yaxis": {
           "automargin": true,
           "gridcolor": "#EBF0F8",
           "linecolor": "#EBF0F8",
           "ticks": "",
           "title": {
            "standoff": 15
           },
           "zerolinecolor": "#EBF0F8",
           "zerolinewidth": 2
          }
         }
        },
        "title": {
         "text": "Scatter Matrix of Selected Liver Features"
        }
       }
      }
     },
     "metadata": {},
     "output_type": "display_data"
    }
   ],
   "source": [
    "# 📊 Step 13: Multivariate Analysis – Scatter Matrix of Selected Liver Features\n",
    "\n",
    "# Ensure 'target' column is available\n",
    "df['target'] = df['dataset'].map({1: 1, 2: 0})\n",
    "\n",
    "# Selected numeric features\n",
    "selected = ['age', 'total_bilirubin', 'alkaline_phosphotase', 'target']\n",
    "\n",
    "# Create scatter matrix\n",
    "fig = px.scatter_matrix(\n",
    "    df[selected],\n",
    "    color='target',\n",
    "    title=\"Scatter Matrix of Selected Liver Features\",\n",
    "    dimensions=selected,\n",
    "    template=\"plotly_white\",\n",
    "    labels={'target': 'Liver Disease (0 = No, 1 = Yes)'}\n",
    ")\n",
    "\n",
    "# Hide diagonal histograms (optional for cleaner view)\n",
    "fig.update_traces(diagonal_visible=False)\n",
    "\n",
    "fig.show()\n"
   ]
  },
  {
   "cell_type": "code",
   "execution_count": 18,
   "id": "6e06e664",
   "metadata": {},
   "outputs": [
    {
     "data": {
      "application/vnd.plotly.v1+json": {
       "config": {
        "plotlyServerURL": "https://plot.ly"
       },
       "data": [
        {
         "bingroup": "x",
         "hovertemplate": "Gender=%{x}<br>count=%{y}<extra></extra>",
         "legendgroup": "",
         "marker": {
          "color": "#636efa",
          "pattern": {
           "shape": ""
          }
         },
         "name": "",
         "orientation": "v",
         "showlegend": false,
         "type": "histogram",
         "x": [
          "-1.7622808524230469",
          "0.5674464422768088",
          "0.5674464422768088",
          "0.5674464422768088",
          "0.5674464422768088",
          "0.5674464422768088",
          "-1.7622808524230469",
          "-1.7622808524230469",
          "0.5674464422768088",
          "0.5674464422768088",
          "0.5674464422768088",
          "0.5674464422768088",
          "0.5674464422768088",
          "-1.7622808524230469",
          "0.5674464422768088",
          "0.5674464422768088",
          "0.5674464422768088",
          "0.5674464422768088",
          "-1.7622808524230469",
          "-1.7622808524230469",
          "0.5674464422768088",
          "0.5674464422768088",
          "0.5674464422768088",
          "0.5674464422768088",
          "0.5674464422768088",
          "0.5674464422768088",
          "0.5674464422768088",
          "0.5674464422768088",
          "0.5674464422768088",
          "-1.7622808524230469",
          "0.5674464422768088",
          "0.5674464422768088",
          "0.5674464422768088",
          "-1.7622808524230469",
          "-1.7622808524230469",
          "0.5674464422768088",
          "-1.7622808524230469",
          "-1.7622808524230469",
          "0.5674464422768088",
          "0.5674464422768088",
          "0.5674464422768088",
          "0.5674464422768088",
          "0.5674464422768088",
          "0.5674464422768088",
          "-1.7622808524230469",
          "0.5674464422768088",
          "0.5674464422768088",
          "0.5674464422768088",
          "-1.7622808524230469",
          "0.5674464422768088",
          "-1.7622808524230469",
          "-1.7622808524230469",
          "0.5674464422768088",
          "0.5674464422768088",
          "0.5674464422768088",
          "0.5674464422768088",
          "0.5674464422768088",
          "-1.7622808524230469",
          "0.5674464422768088",
          "0.5674464422768088",
          "-1.7622808524230469",
          "0.5674464422768088",
          "0.5674464422768088",
          "0.5674464422768088",
          "0.5674464422768088",
          "0.5674464422768088",
          "0.5674464422768088",
          "0.5674464422768088",
          "0.5674464422768088",
          "0.5674464422768088",
          "-1.7622808524230469",
          "-1.7622808524230469",
          "-1.7622808524230469",
          "0.5674464422768088",
          "0.5674464422768088",
          "-1.7622808524230469",
          "0.5674464422768088",
          "-1.7622808524230469",
          "0.5674464422768088",
          "-1.7622808524230469",
          "-1.7622808524230469",
          "0.5674464422768088",
          "0.5674464422768088",
          "0.5674464422768088",
          "0.5674464422768088",
          "0.5674464422768088",
          "0.5674464422768088",
          "0.5674464422768088",
          "0.5674464422768088",
          "0.5674464422768088",
          "0.5674464422768088",
          "0.5674464422768088",
          "0.5674464422768088",
          "0.5674464422768088",
          "0.5674464422768088",
          "0.5674464422768088",
          "0.5674464422768088",
          "0.5674464422768088",
          "0.5674464422768088",
          "0.5674464422768088",
          "0.5674464422768088",
          "0.5674464422768088",
          "0.5674464422768088",
          "-1.7622808524230469",
          "0.5674464422768088",
          "0.5674464422768088",
          "0.5674464422768088",
          "0.5674464422768088",
          "0.5674464422768088",
          "0.5674464422768088",
          "-1.7622808524230469",
          "0.5674464422768088",
          "0.5674464422768088",
          "0.5674464422768088",
          "0.5674464422768088",
          "0.5674464422768088",
          "0.5674464422768088",
          "0.5674464422768088",
          "0.5674464422768088",
          "0.5674464422768088",
          "0.5674464422768088",
          "0.5674464422768088",
          "0.5674464422768088",
          "-1.7622808524230469",
          "0.5674464422768088",
          "0.5674464422768088",
          "0.5674464422768088",
          "0.5674464422768088",
          "-1.7622808524230469",
          "0.5674464422768088",
          "0.5674464422768088",
          "-1.7622808524230469",
          "-1.7622808524230469",
          "0.5674464422768088",
          "0.5674464422768088",
          "0.5674464422768088",
          "-1.7622808524230469",
          "0.5674464422768088",
          "0.5674464422768088",
          "0.5674464422768088",
          "0.5674464422768088",
          "-1.7622808524230469",
          "0.5674464422768088",
          "0.5674464422768088",
          "-1.7622808524230469",
          "0.5674464422768088",
          "-1.7622808524230469",
          "0.5674464422768088",
          "0.5674464422768088",
          "0.5674464422768088",
          "0.5674464422768088",
          "0.5674464422768088",
          "-1.7622808524230469",
          "0.5674464422768088",
          "0.5674464422768088",
          "0.5674464422768088",
          "0.5674464422768088",
          "0.5674464422768088",
          "0.5674464422768088",
          "0.5674464422768088",
          "0.5674464422768088",
          "0.5674464422768088",
          "0.5674464422768088",
          "0.5674464422768088",
          "0.5674464422768088",
          "0.5674464422768088",
          "0.5674464422768088",
          "-1.7622808524230469",
          "0.5674464422768088",
          "0.5674464422768088",
          "0.5674464422768088",
          "-1.7622808524230469",
          "0.5674464422768088",
          "0.5674464422768088",
          "0.5674464422768088",
          "0.5674464422768088",
          "0.5674464422768088",
          "0.5674464422768088",
          "0.5674464422768088",
          "0.5674464422768088",
          "0.5674464422768088",
          "0.5674464422768088",
          "0.5674464422768088",
          "0.5674464422768088",
          "0.5674464422768088",
          "0.5674464422768088",
          "0.5674464422768088",
          "0.5674464422768088",
          "0.5674464422768088",
          "-1.7622808524230469",
          "0.5674464422768088",
          "0.5674464422768088",
          "0.5674464422768088",
          "0.5674464422768088",
          "0.5674464422768088",
          "0.5674464422768088",
          "0.5674464422768088",
          "-1.7622808524230469",
          "0.5674464422768088",
          "-1.7622808524230469",
          "0.5674464422768088",
          "0.5674464422768088",
          "-1.7622808524230469",
          "0.5674464422768088",
          "0.5674464422768088",
          "0.5674464422768088",
          "0.5674464422768088",
          "0.5674464422768088",
          "-1.7622808524230469",
          "-1.7622808524230469",
          "0.5674464422768088",
          "0.5674464422768088",
          "0.5674464422768088",
          "-1.7622808524230469",
          "0.5674464422768088",
          "0.5674464422768088",
          "0.5674464422768088",
          "0.5674464422768088",
          "0.5674464422768088",
          "0.5674464422768088",
          "0.5674464422768088",
          "0.5674464422768088",
          "0.5674464422768088",
          "0.5674464422768088",
          "0.5674464422768088",
          "0.5674464422768088",
          "0.5674464422768088",
          "-1.7622808524230469",
          "-1.7622808524230469",
          "0.5674464422768088",
          "0.5674464422768088",
          "0.5674464422768088",
          "0.5674464422768088",
          "0.5674464422768088",
          "-1.7622808524230469",
          "0.5674464422768088",
          "0.5674464422768088",
          "-1.7622808524230469",
          "-1.7622808524230469",
          "0.5674464422768088",
          "0.5674464422768088",
          "0.5674464422768088",
          "-1.7622808524230469",
          "-1.7622808524230469",
          "0.5674464422768088",
          "0.5674464422768088",
          "0.5674464422768088",
          "0.5674464422768088",
          "0.5674464422768088",
          "0.5674464422768088",
          "0.5674464422768088",
          "0.5674464422768088",
          "0.5674464422768088",
          "-1.7622808524230469",
          "-1.7622808524230469",
          "0.5674464422768088",
          "0.5674464422768088",
          "0.5674464422768088",
          "0.5674464422768088",
          "0.5674464422768088",
          "0.5674464422768088",
          "0.5674464422768088",
          "0.5674464422768088",
          "-1.7622808524230469",
          "0.5674464422768088",
          "0.5674464422768088",
          "0.5674464422768088",
          "-1.7622808524230469",
          "0.5674464422768088",
          "0.5674464422768088",
          "0.5674464422768088",
          "0.5674464422768088",
          "0.5674464422768088",
          "0.5674464422768088",
          "0.5674464422768088",
          "0.5674464422768088",
          "0.5674464422768088",
          "0.5674464422768088",
          "0.5674464422768088",
          "-1.7622808524230469",
          "0.5674464422768088",
          "0.5674464422768088",
          "0.5674464422768088",
          "0.5674464422768088",
          "0.5674464422768088",
          "0.5674464422768088",
          "-1.7622808524230469",
          "0.5674464422768088",
          "-1.7622808524230469",
          "0.5674464422768088",
          "-1.7622808524230469",
          "0.5674464422768088",
          "0.5674464422768088",
          "0.5674464422768088",
          "0.5674464422768088",
          "0.5674464422768088",
          "-1.7622808524230469",
          "-1.7622808524230469",
          "-1.7622808524230469",
          "-1.7622808524230469",
          "0.5674464422768088",
          "-1.7622808524230469",
          "-1.7622808524230469",
          "0.5674464422768088",
          "-1.7622808524230469",
          "-1.7622808524230469",
          "0.5674464422768088",
          "0.5674464422768088",
          "-1.7622808524230469",
          "-1.7622808524230469",
          "0.5674464422768088",
          "-1.7622808524230469",
          "0.5674464422768088",
          "-1.7622808524230469",
          "0.5674464422768088",
          "0.5674464422768088",
          "0.5674464422768088",
          "0.5674464422768088",
          "0.5674464422768088",
          "0.5674464422768088",
          "-1.7622808524230469",
          "-1.7622808524230469",
          "0.5674464422768088",
          "0.5674464422768088",
          "0.5674464422768088",
          "0.5674464422768088",
          "-1.7622808524230469",
          "0.5674464422768088",
          "0.5674464422768088",
          "0.5674464422768088",
          "0.5674464422768088",
          "0.5674464422768088",
          "0.5674464422768088",
          "-1.7622808524230469",
          "-1.7622808524230469",
          "-1.7622808524230469",
          "0.5674464422768088",
          "0.5674464422768088",
          "0.5674464422768088",
          "0.5674464422768088",
          "0.5674464422768088",
          "-1.7622808524230469",
          "0.5674464422768088",
          "0.5674464422768088",
          "0.5674464422768088",
          "0.5674464422768088",
          "0.5674464422768088",
          "0.5674464422768088",
          "0.5674464422768088",
          "-1.7622808524230469",
          "0.5674464422768088",
          "0.5674464422768088",
          "-1.7622808524230469",
          "-1.7622808524230469",
          "-1.7622808524230469",
          "0.5674464422768088",
          "0.5674464422768088",
          "0.5674464422768088",
          "0.5674464422768088",
          "-1.7622808524230469",
          "0.5674464422768088",
          "-1.7622808524230469",
          "0.5674464422768088",
          "-1.7622808524230469",
          "0.5674464422768088",
          "0.5674464422768088",
          "0.5674464422768088",
          "0.5674464422768088",
          "-1.7622808524230469",
          "-1.7622808524230469",
          "-1.7622808524230469",
          "0.5674464422768088",
          "0.5674464422768088",
          "-1.7622808524230469",
          "-1.7622808524230469",
          "0.5674464422768088",
          "0.5674464422768088",
          "-1.7622808524230469",
          "-1.7622808524230469",
          "0.5674464422768088",
          "0.5674464422768088",
          "0.5674464422768088",
          "-1.7622808524230469",
          "-1.7622808524230469",
          "0.5674464422768088",
          "0.5674464422768088",
          "0.5674464422768088",
          "0.5674464422768088",
          "0.5674464422768088",
          "0.5674464422768088",
          "0.5674464422768088",
          "0.5674464422768088",
          "0.5674464422768088",
          "0.5674464422768088",
          "-1.7622808524230469",
          "0.5674464422768088",
          "0.5674464422768088",
          "0.5674464422768088",
          "0.5674464422768088",
          "0.5674464422768088",
          "-1.7622808524230469",
          "0.5674464422768088",
          "-1.7622808524230469",
          "0.5674464422768088",
          "0.5674464422768088",
          "-1.7622808524230469",
          "0.5674464422768088",
          "0.5674464422768088",
          "0.5674464422768088",
          "0.5674464422768088",
          "0.5674464422768088",
          "-1.7622808524230469",
          "0.5674464422768088",
          "0.5674464422768088",
          "0.5674464422768088",
          "0.5674464422768088",
          "0.5674464422768088",
          "0.5674464422768088",
          "0.5674464422768088",
          "-1.7622808524230469",
          "-1.7622808524230469",
          "0.5674464422768088",
          "0.5674464422768088",
          "0.5674464422768088",
          "-1.7622808524230469",
          "0.5674464422768088",
          "0.5674464422768088",
          "0.5674464422768088",
          "-1.7622808524230469",
          "0.5674464422768088",
          "-1.7622808524230469",
          "-1.7622808524230469",
          "0.5674464422768088",
          "-1.7622808524230469",
          "-1.7622808524230469",
          "-1.7622808524230469",
          "0.5674464422768088",
          "0.5674464422768088",
          "0.5674464422768088",
          "-1.7622808524230469",
          "-1.7622808524230469",
          "-1.7622808524230469",
          "-1.7622808524230469",
          "-1.7622808524230469",
          "0.5674464422768088",
          "0.5674464422768088",
          "0.5674464422768088",
          "-1.7622808524230469",
          "-1.7622808524230469",
          "-1.7622808524230469",
          "0.5674464422768088",
          "0.5674464422768088",
          "0.5674464422768088",
          "0.5674464422768088",
          "0.5674464422768088",
          "-1.7622808524230469",
          "0.5674464422768088",
          "0.5674464422768088",
          "0.5674464422768088",
          "0.5674464422768088",
          "-1.7622808524230469",
          "-1.7622808524230469",
          "0.5674464422768088",
          "0.5674464422768088",
          "-1.7622808524230469",
          "-1.7622808524230469",
          "-1.7622808524230469",
          "-1.7622808524230469",
          "0.5674464422768088",
          "0.5674464422768088",
          "0.5674464422768088",
          "-1.7622808524230469",
          "0.5674464422768088",
          "0.5674464422768088",
          "0.5674464422768088",
          "0.5674464422768088",
          "0.5674464422768088",
          "0.5674464422768088",
          "0.5674464422768088",
          "0.5674464422768088",
          "0.5674464422768088",
          "0.5674464422768088",
          "0.5674464422768088",
          "0.5674464422768088",
          "0.5674464422768088",
          "-1.7622808524230469",
          "-1.7622808524230469",
          "0.5674464422768088",
          "0.5674464422768088",
          "0.5674464422768088",
          "-1.7622808524230469",
          "0.5674464422768088",
          "-1.7622808524230469",
          "0.5674464422768088",
          "0.5674464422768088",
          "0.5674464422768088",
          "0.5674464422768088",
          "0.5674464422768088",
          "0.5674464422768088",
          "0.5674464422768088",
          "0.5674464422768088",
          "0.5674464422768088",
          "0.5674464422768088",
          "0.5674464422768088",
          "0.5674464422768088",
          "0.5674464422768088",
          "0.5674464422768088",
          "0.5674464422768088",
          "0.5674464422768088",
          "0.5674464422768088",
          "-1.7622808524230469",
          "0.5674464422768088",
          "0.5674464422768088",
          "0.5674464422768088",
          "0.5674464422768088",
          "0.5674464422768088",
          "0.5674464422768088",
          "0.5674464422768088",
          "0.5674464422768088",
          "0.5674464422768088",
          "0.5674464422768088",
          "0.5674464422768088",
          "-1.7622808524230469",
          "0.5674464422768088",
          "0.5674464422768088",
          "-1.7622808524230469",
          "0.5674464422768088",
          "0.5674464422768088",
          "0.5674464422768088",
          "0.5674464422768088",
          "-1.7622808524230469",
          "0.5674464422768088",
          "0.5674464422768088",
          "-1.7622808524230469",
          "0.5674464422768088",
          "0.5674464422768088",
          "0.5674464422768088",
          "-1.7622808524230469",
          "0.5674464422768088",
          "-1.7622808524230469",
          "0.5674464422768088",
          "0.5674464422768088",
          "0.5674464422768088",
          "0.5674464422768088",
          "-1.7622808524230469",
          "-1.7622808524230469",
          "0.5674464422768088",
          "-1.7622808524230469",
          "0.5674464422768088",
          "-1.7622808524230469",
          "0.5674464422768088",
          "0.5674464422768088",
          "0.5674464422768088",
          "0.5674464422768088",
          "0.5674464422768088",
          "0.5674464422768088",
          "0.5674464422768088",
          "0.5674464422768088",
          "0.5674464422768088",
          "0.5674464422768088",
          "0.5674464422768088",
          "0.5674464422768088",
          "0.5674464422768088",
          "0.5674464422768088",
          "-1.7622808524230469",
          "0.5674464422768088",
          "-1.7622808524230469",
          "0.5674464422768088",
          "-1.7622808524230469",
          "0.5674464422768088",
          "0.5674464422768088",
          "0.5674464422768088",
          "0.5674464422768088",
          "0.5674464422768088",
          "0.5674464422768088",
          "0.5674464422768088",
          "0.5674464422768088",
          "0.5674464422768088",
          "0.5674464422768088",
          "0.5674464422768088",
          "0.5674464422768088",
          "0.5674464422768088",
          "0.5674464422768088"
         ],
         "xaxis": "x",
         "yaxis": "y"
        }
       ],
       "layout": {
        "barmode": "relative",
        "legend": {
         "tracegroupgap": 0
        },
        "template": {
         "data": {
          "bar": [
           {
            "error_x": {
             "color": "#2a3f5f"
            },
            "error_y": {
             "color": "#2a3f5f"
            },
            "marker": {
             "line": {
              "color": "white",
              "width": 0.5
             },
             "pattern": {
              "fillmode": "overlay",
              "size": 10,
              "solidity": 0.2
             }
            },
            "type": "bar"
           }
          ],
          "barpolar": [
           {
            "marker": {
             "line": {
              "color": "white",
              "width": 0.5
             },
             "pattern": {
              "fillmode": "overlay",
              "size": 10,
              "solidity": 0.2
             }
            },
            "type": "barpolar"
           }
          ],
          "carpet": [
           {
            "aaxis": {
             "endlinecolor": "#2a3f5f",
             "gridcolor": "#C8D4E3",
             "linecolor": "#C8D4E3",
             "minorgridcolor": "#C8D4E3",
             "startlinecolor": "#2a3f5f"
            },
            "baxis": {
             "endlinecolor": "#2a3f5f",
             "gridcolor": "#C8D4E3",
             "linecolor": "#C8D4E3",
             "minorgridcolor": "#C8D4E3",
             "startlinecolor": "#2a3f5f"
            },
            "type": "carpet"
           }
          ],
          "choropleth": [
           {
            "colorbar": {
             "outlinewidth": 0,
             "ticks": ""
            },
            "type": "choropleth"
           }
          ],
          "contour": [
           {
            "colorbar": {
             "outlinewidth": 0,
             "ticks": ""
            },
            "colorscale": [
             [
              0,
              "#0d0887"
             ],
             [
              0.1111111111111111,
              "#46039f"
             ],
             [
              0.2222222222222222,
              "#7201a8"
             ],
             [
              0.3333333333333333,
              "#9c179e"
             ],
             [
              0.4444444444444444,
              "#bd3786"
             ],
             [
              0.5555555555555556,
              "#d8576b"
             ],
             [
              0.6666666666666666,
              "#ed7953"
             ],
             [
              0.7777777777777778,
              "#fb9f3a"
             ],
             [
              0.8888888888888888,
              "#fdca26"
             ],
             [
              1,
              "#f0f921"
             ]
            ],
            "type": "contour"
           }
          ],
          "contourcarpet": [
           {
            "colorbar": {
             "outlinewidth": 0,
             "ticks": ""
            },
            "type": "contourcarpet"
           }
          ],
          "heatmap": [
           {
            "colorbar": {
             "outlinewidth": 0,
             "ticks": ""
            },
            "colorscale": [
             [
              0,
              "#0d0887"
             ],
             [
              0.1111111111111111,
              "#46039f"
             ],
             [
              0.2222222222222222,
              "#7201a8"
             ],
             [
              0.3333333333333333,
              "#9c179e"
             ],
             [
              0.4444444444444444,
              "#bd3786"
             ],
             [
              0.5555555555555556,
              "#d8576b"
             ],
             [
              0.6666666666666666,
              "#ed7953"
             ],
             [
              0.7777777777777778,
              "#fb9f3a"
             ],
             [
              0.8888888888888888,
              "#fdca26"
             ],
             [
              1,
              "#f0f921"
             ]
            ],
            "type": "heatmap"
           }
          ],
          "histogram": [
           {
            "marker": {
             "pattern": {
              "fillmode": "overlay",
              "size": 10,
              "solidity": 0.2
             }
            },
            "type": "histogram"
           }
          ],
          "histogram2d": [
           {
            "colorbar": {
             "outlinewidth": 0,
             "ticks": ""
            },
            "colorscale": [
             [
              0,
              "#0d0887"
             ],
             [
              0.1111111111111111,
              "#46039f"
             ],
             [
              0.2222222222222222,
              "#7201a8"
             ],
             [
              0.3333333333333333,
              "#9c179e"
             ],
             [
              0.4444444444444444,
              "#bd3786"
             ],
             [
              0.5555555555555556,
              "#d8576b"
             ],
             [
              0.6666666666666666,
              "#ed7953"
             ],
             [
              0.7777777777777778,
              "#fb9f3a"
             ],
             [
              0.8888888888888888,
              "#fdca26"
             ],
             [
              1,
              "#f0f921"
             ]
            ],
            "type": "histogram2d"
           }
          ],
          "histogram2dcontour": [
           {
            "colorbar": {
             "outlinewidth": 0,
             "ticks": ""
            },
            "colorscale": [
             [
              0,
              "#0d0887"
             ],
             [
              0.1111111111111111,
              "#46039f"
             ],
             [
              0.2222222222222222,
              "#7201a8"
             ],
             [
              0.3333333333333333,
              "#9c179e"
             ],
             [
              0.4444444444444444,
              "#bd3786"
             ],
             [
              0.5555555555555556,
              "#d8576b"
             ],
             [
              0.6666666666666666,
              "#ed7953"
             ],
             [
              0.7777777777777778,
              "#fb9f3a"
             ],
             [
              0.8888888888888888,
              "#fdca26"
             ],
             [
              1,
              "#f0f921"
             ]
            ],
            "type": "histogram2dcontour"
           }
          ],
          "mesh3d": [
           {
            "colorbar": {
             "outlinewidth": 0,
             "ticks": ""
            },
            "type": "mesh3d"
           }
          ],
          "parcoords": [
           {
            "line": {
             "colorbar": {
              "outlinewidth": 0,
              "ticks": ""
             }
            },
            "type": "parcoords"
           }
          ],
          "pie": [
           {
            "automargin": true,
            "type": "pie"
           }
          ],
          "scatter": [
           {
            "fillpattern": {
             "fillmode": "overlay",
             "size": 10,
             "solidity": 0.2
            },
            "type": "scatter"
           }
          ],
          "scatter3d": [
           {
            "line": {
             "colorbar": {
              "outlinewidth": 0,
              "ticks": ""
             }
            },
            "marker": {
             "colorbar": {
              "outlinewidth": 0,
              "ticks": ""
             }
            },
            "type": "scatter3d"
           }
          ],
          "scattercarpet": [
           {
            "marker": {
             "colorbar": {
              "outlinewidth": 0,
              "ticks": ""
             }
            },
            "type": "scattercarpet"
           }
          ],
          "scattergeo": [
           {
            "marker": {
             "colorbar": {
              "outlinewidth": 0,
              "ticks": ""
             }
            },
            "type": "scattergeo"
           }
          ],
          "scattergl": [
           {
            "marker": {
             "colorbar": {
              "outlinewidth": 0,
              "ticks": ""
             }
            },
            "type": "scattergl"
           }
          ],
          "scattermap": [
           {
            "marker": {
             "colorbar": {
              "outlinewidth": 0,
              "ticks": ""
             }
            },
            "type": "scattermap"
           }
          ],
          "scattermapbox": [
           {
            "marker": {
             "colorbar": {
              "outlinewidth": 0,
              "ticks": ""
             }
            },
            "type": "scattermapbox"
           }
          ],
          "scatterpolar": [
           {
            "marker": {
             "colorbar": {
              "outlinewidth": 0,
              "ticks": ""
             }
            },
            "type": "scatterpolar"
           }
          ],
          "scatterpolargl": [
           {
            "marker": {
             "colorbar": {
              "outlinewidth": 0,
              "ticks": ""
             }
            },
            "type": "scatterpolargl"
           }
          ],
          "scatterternary": [
           {
            "marker": {
             "colorbar": {
              "outlinewidth": 0,
              "ticks": ""
             }
            },
            "type": "scatterternary"
           }
          ],
          "surface": [
           {
            "colorbar": {
             "outlinewidth": 0,
             "ticks": ""
            },
            "colorscale": [
             [
              0,
              "#0d0887"
             ],
             [
              0.1111111111111111,
              "#46039f"
             ],
             [
              0.2222222222222222,
              "#7201a8"
             ],
             [
              0.3333333333333333,
              "#9c179e"
             ],
             [
              0.4444444444444444,
              "#bd3786"
             ],
             [
              0.5555555555555556,
              "#d8576b"
             ],
             [
              0.6666666666666666,
              "#ed7953"
             ],
             [
              0.7777777777777778,
              "#fb9f3a"
             ],
             [
              0.8888888888888888,
              "#fdca26"
             ],
             [
              1,
              "#f0f921"
             ]
            ],
            "type": "surface"
           }
          ],
          "table": [
           {
            "cells": {
             "fill": {
              "color": "#EBF0F8"
             },
             "line": {
              "color": "white"
             }
            },
            "header": {
             "fill": {
              "color": "#C8D4E3"
             },
             "line": {
              "color": "white"
             }
            },
            "type": "table"
           }
          ]
         },
         "layout": {
          "annotationdefaults": {
           "arrowcolor": "#2a3f5f",
           "arrowhead": 0,
           "arrowwidth": 1
          },
          "autotypenumbers": "strict",
          "coloraxis": {
           "colorbar": {
            "outlinewidth": 0,
            "ticks": ""
           }
          },
          "colorscale": {
           "diverging": [
            [
             0,
             "#8e0152"
            ],
            [
             0.1,
             "#c51b7d"
            ],
            [
             0.2,
             "#de77ae"
            ],
            [
             0.3,
             "#f1b6da"
            ],
            [
             0.4,
             "#fde0ef"
            ],
            [
             0.5,
             "#f7f7f7"
            ],
            [
             0.6,
             "#e6f5d0"
            ],
            [
             0.7,
             "#b8e186"
            ],
            [
             0.8,
             "#7fbc41"
            ],
            [
             0.9,
             "#4d9221"
            ],
            [
             1,
             "#276419"
            ]
           ],
           "sequential": [
            [
             0,
             "#0d0887"
            ],
            [
             0.1111111111111111,
             "#46039f"
            ],
            [
             0.2222222222222222,
             "#7201a8"
            ],
            [
             0.3333333333333333,
             "#9c179e"
            ],
            [
             0.4444444444444444,
             "#bd3786"
            ],
            [
             0.5555555555555556,
             "#d8576b"
            ],
            [
             0.6666666666666666,
             "#ed7953"
            ],
            [
             0.7777777777777778,
             "#fb9f3a"
            ],
            [
             0.8888888888888888,
             "#fdca26"
            ],
            [
             1,
             "#f0f921"
            ]
           ],
           "sequentialminus": [
            [
             0,
             "#0d0887"
            ],
            [
             0.1111111111111111,
             "#46039f"
            ],
            [
             0.2222222222222222,
             "#7201a8"
            ],
            [
             0.3333333333333333,
             "#9c179e"
            ],
            [
             0.4444444444444444,
             "#bd3786"
            ],
            [
             0.5555555555555556,
             "#d8576b"
            ],
            [
             0.6666666666666666,
             "#ed7953"
            ],
            [
             0.7777777777777778,
             "#fb9f3a"
            ],
            [
             0.8888888888888888,
             "#fdca26"
            ],
            [
             1,
             "#f0f921"
            ]
           ]
          },
          "colorway": [
           "#636efa",
           "#EF553B",
           "#00cc96",
           "#ab63fa",
           "#FFA15A",
           "#19d3f3",
           "#FF6692",
           "#B6E880",
           "#FF97FF",
           "#FECB52"
          ],
          "font": {
           "color": "#2a3f5f"
          },
          "geo": {
           "bgcolor": "white",
           "lakecolor": "white",
           "landcolor": "white",
           "showlakes": true,
           "showland": true,
           "subunitcolor": "#C8D4E3"
          },
          "hoverlabel": {
           "align": "left"
          },
          "hovermode": "closest",
          "mapbox": {
           "style": "light"
          },
          "paper_bgcolor": "white",
          "plot_bgcolor": "white",
          "polar": {
           "angularaxis": {
            "gridcolor": "#EBF0F8",
            "linecolor": "#EBF0F8",
            "ticks": ""
           },
           "bgcolor": "white",
           "radialaxis": {
            "gridcolor": "#EBF0F8",
            "linecolor": "#EBF0F8",
            "ticks": ""
           }
          },
          "scene": {
           "xaxis": {
            "backgroundcolor": "white",
            "gridcolor": "#DFE8F3",
            "gridwidth": 2,
            "linecolor": "#EBF0F8",
            "showbackground": true,
            "ticks": "",
            "zerolinecolor": "#EBF0F8"
           },
           "yaxis": {
            "backgroundcolor": "white",
            "gridcolor": "#DFE8F3",
            "gridwidth": 2,
            "linecolor": "#EBF0F8",
            "showbackground": true,
            "ticks": "",
            "zerolinecolor": "#EBF0F8"
           },
           "zaxis": {
            "backgroundcolor": "white",
            "gridcolor": "#DFE8F3",
            "gridwidth": 2,
            "linecolor": "#EBF0F8",
            "showbackground": true,
            "ticks": "",
            "zerolinecolor": "#EBF0F8"
           }
          },
          "shapedefaults": {
           "line": {
            "color": "#2a3f5f"
           }
          },
          "ternary": {
           "aaxis": {
            "gridcolor": "#DFE8F3",
            "linecolor": "#A2B1C6",
            "ticks": ""
           },
           "baxis": {
            "gridcolor": "#DFE8F3",
            "linecolor": "#A2B1C6",
            "ticks": ""
           },
           "bgcolor": "white",
           "caxis": {
            "gridcolor": "#DFE8F3",
            "linecolor": "#A2B1C6",
            "ticks": ""
           }
          },
          "title": {
           "x": 0.05
          },
          "xaxis": {
           "automargin": true,
           "gridcolor": "#EBF0F8",
           "linecolor": "#EBF0F8",
           "ticks": "",
           "title": {
            "standoff": 15
           },
           "zerolinecolor": "#EBF0F8",
           "zerolinewidth": 2
          },
          "yaxis": {
           "automargin": true,
           "gridcolor": "#EBF0F8",
           "linecolor": "#EBF0F8",
           "ticks": "",
           "title": {
            "standoff": 15
           },
           "zerolinecolor": "#EBF0F8",
           "zerolinewidth": 2
          }
         }
        },
        "title": {
         "text": "Gender Distribution"
        },
        "xaxis": {
         "anchor": "y",
         "domain": [
          0,
          1
         ],
         "title": {
          "text": "Gender"
         }
        },
        "yaxis": {
         "anchor": "x",
         "domain": [
          0,
          1
         ],
         "title": {
          "text": "Count"
         }
        }
       }
      }
     },
     "metadata": {},
     "output_type": "display_data"
    }
   ],
   "source": [
    "# 📊 Step 14: Other Analysis – Gender Distribution\n",
    "\n",
    "# Convert gender column to string before applying string methods\n",
    "df['gender'] = df['gender'].astype(str).str.strip().str.lower()\n",
    "\n",
    "# Optional: Replace known variations to standard labels\n",
    "df['gender'] = df['gender'].replace({\n",
    "    'm': 'male', 'f': 'female',\n",
    "    'male': 'male', 'female': 'female'\n",
    "})\n",
    "\n",
    "# Plot\n",
    "fig = px.histogram(\n",
    "    df,\n",
    "    x='gender',\n",
    "    title=\"Gender Distribution\",\n",
    "    labels={'gender': 'Gender'},\n",
    "    template=\"plotly_white\"\n",
    ")\n",
    "\n",
    "fig.update_layout(\n",
    "    xaxis_title=\"Gender\",\n",
    "    yaxis_title=\"Count\"\n",
    ")\n",
    "\n",
    "fig.show()\n"
   ]
  }
 ],
 "metadata": {
  "kernelspec": {
   "display_name": ".venv (3.13.3)",
   "language": "python",
   "name": "python3"
  },
  "language_info": {
   "codemirror_mode": {
    "name": "ipython",
    "version": 3
   },
   "file_extension": ".py",
   "mimetype": "text/x-python",
   "name": "python",
   "nbconvert_exporter": "python",
   "pygments_lexer": "ipython3",
   "version": "3.13.3"
  }
 },
 "nbformat": 4,
 "nbformat_minor": 5
}
