{
 "cells": [
  {
   "cell_type": "code",
   "execution_count": 1,
   "id": "92b4269b",
   "metadata": {},
   "outputs": [],
   "source": [
    "# 📌 Step 1: Import Required Libraries\n",
    "\n",
    "# Data manipulation\n",
    "import pandas as pd\n",
    "import numpy as np\n",
    "\n",
    "# Plotly for interactive visualization\n",
    "import plotly.express as px\n",
    "import plotly.graph_objects as go\n",
    "\n",
    "# Preprocessing\n",
    "from sklearn.preprocessing import StandardScaler\n"
   ]
  },
  {
   "cell_type": "code",
   "execution_count": 2,
   "id": "10d23463",
   "metadata": {},
   "outputs": [
    {
     "data": {
      "text/html": [
       "<div>\n",
       "<style scoped>\n",
       "    .dataframe tbody tr th:only-of-type {\n",
       "        vertical-align: middle;\n",
       "    }\n",
       "\n",
       "    .dataframe tbody tr th {\n",
       "        vertical-align: top;\n",
       "    }\n",
       "\n",
       "    .dataframe thead th {\n",
       "        text-align: right;\n",
       "    }\n",
       "</style>\n",
       "<table border=\"1\" class=\"dataframe\">\n",
       "  <thead>\n",
       "    <tr style=\"text-align: right;\">\n",
       "      <th></th>\n",
       "      <th>name</th>\n",
       "      <th>mdvp:fo(hz)</th>\n",
       "      <th>mdvp:fhi(hz)</th>\n",
       "      <th>mdvp:flo(hz)</th>\n",
       "      <th>mdvp:jitter(%)</th>\n",
       "      <th>mdvp:jitter(abs)</th>\n",
       "      <th>mdvp:rap</th>\n",
       "      <th>mdvp:ppq</th>\n",
       "      <th>jitter:ddp</th>\n",
       "      <th>mdvp:shimmer</th>\n",
       "      <th>...</th>\n",
       "      <th>shimmer:dda</th>\n",
       "      <th>nhr</th>\n",
       "      <th>hnr</th>\n",
       "      <th>status</th>\n",
       "      <th>rpde</th>\n",
       "      <th>dfa</th>\n",
       "      <th>spread1</th>\n",
       "      <th>spread2</th>\n",
       "      <th>d2</th>\n",
       "      <th>ppe</th>\n",
       "    </tr>\n",
       "  </thead>\n",
       "  <tbody>\n",
       "    <tr>\n",
       "      <th>0</th>\n",
       "      <td>phon_R01_S01_1</td>\n",
       "      <td>119.992</td>\n",
       "      <td>157.302</td>\n",
       "      <td>74.997</td>\n",
       "      <td>0.00784</td>\n",
       "      <td>0.00007</td>\n",
       "      <td>0.00370</td>\n",
       "      <td>0.00554</td>\n",
       "      <td>0.01109</td>\n",
       "      <td>0.04374</td>\n",
       "      <td>...</td>\n",
       "      <td>0.06545</td>\n",
       "      <td>0.02211</td>\n",
       "      <td>21.033</td>\n",
       "      <td>1</td>\n",
       "      <td>0.414783</td>\n",
       "      <td>0.815285</td>\n",
       "      <td>-4.813031</td>\n",
       "      <td>0.266482</td>\n",
       "      <td>2.301442</td>\n",
       "      <td>0.284654</td>\n",
       "    </tr>\n",
       "    <tr>\n",
       "      <th>1</th>\n",
       "      <td>phon_R01_S01_2</td>\n",
       "      <td>122.400</td>\n",
       "      <td>148.650</td>\n",
       "      <td>113.819</td>\n",
       "      <td>0.00968</td>\n",
       "      <td>0.00008</td>\n",
       "      <td>0.00465</td>\n",
       "      <td>0.00696</td>\n",
       "      <td>0.01394</td>\n",
       "      <td>0.06134</td>\n",
       "      <td>...</td>\n",
       "      <td>0.09403</td>\n",
       "      <td>0.01929</td>\n",
       "      <td>19.085</td>\n",
       "      <td>1</td>\n",
       "      <td>0.458359</td>\n",
       "      <td>0.819521</td>\n",
       "      <td>-4.075192</td>\n",
       "      <td>0.335590</td>\n",
       "      <td>2.486855</td>\n",
       "      <td>0.368674</td>\n",
       "    </tr>\n",
       "    <tr>\n",
       "      <th>2</th>\n",
       "      <td>phon_R01_S01_3</td>\n",
       "      <td>116.682</td>\n",
       "      <td>131.111</td>\n",
       "      <td>111.555</td>\n",
       "      <td>0.01050</td>\n",
       "      <td>0.00009</td>\n",
       "      <td>0.00544</td>\n",
       "      <td>0.00781</td>\n",
       "      <td>0.01633</td>\n",
       "      <td>0.05233</td>\n",
       "      <td>...</td>\n",
       "      <td>0.08270</td>\n",
       "      <td>0.01309</td>\n",
       "      <td>20.651</td>\n",
       "      <td>1</td>\n",
       "      <td>0.429895</td>\n",
       "      <td>0.825288</td>\n",
       "      <td>-4.443179</td>\n",
       "      <td>0.311173</td>\n",
       "      <td>2.342259</td>\n",
       "      <td>0.332634</td>\n",
       "    </tr>\n",
       "    <tr>\n",
       "      <th>3</th>\n",
       "      <td>phon_R01_S01_4</td>\n",
       "      <td>116.676</td>\n",
       "      <td>137.871</td>\n",
       "      <td>111.366</td>\n",
       "      <td>0.00997</td>\n",
       "      <td>0.00009</td>\n",
       "      <td>0.00502</td>\n",
       "      <td>0.00698</td>\n",
       "      <td>0.01505</td>\n",
       "      <td>0.05492</td>\n",
       "      <td>...</td>\n",
       "      <td>0.08771</td>\n",
       "      <td>0.01353</td>\n",
       "      <td>20.644</td>\n",
       "      <td>1</td>\n",
       "      <td>0.434969</td>\n",
       "      <td>0.819235</td>\n",
       "      <td>-4.117501</td>\n",
       "      <td>0.334147</td>\n",
       "      <td>2.405554</td>\n",
       "      <td>0.368975</td>\n",
       "    </tr>\n",
       "    <tr>\n",
       "      <th>4</th>\n",
       "      <td>phon_R01_S01_5</td>\n",
       "      <td>116.014</td>\n",
       "      <td>141.781</td>\n",
       "      <td>110.655</td>\n",
       "      <td>0.01284</td>\n",
       "      <td>0.00011</td>\n",
       "      <td>0.00655</td>\n",
       "      <td>0.00908</td>\n",
       "      <td>0.01966</td>\n",
       "      <td>0.06425</td>\n",
       "      <td>...</td>\n",
       "      <td>0.10470</td>\n",
       "      <td>0.01767</td>\n",
       "      <td>19.649</td>\n",
       "      <td>1</td>\n",
       "      <td>0.417356</td>\n",
       "      <td>0.823484</td>\n",
       "      <td>-3.747787</td>\n",
       "      <td>0.234513</td>\n",
       "      <td>2.332180</td>\n",
       "      <td>0.410335</td>\n",
       "    </tr>\n",
       "  </tbody>\n",
       "</table>\n",
       "<p>5 rows × 24 columns</p>\n",
       "</div>"
      ],
      "text/plain": [
       "             name  mdvp:fo(hz)  mdvp:fhi(hz)  mdvp:flo(hz)  mdvp:jitter(%)  \\\n",
       "0  phon_R01_S01_1      119.992       157.302        74.997         0.00784   \n",
       "1  phon_R01_S01_2      122.400       148.650       113.819         0.00968   \n",
       "2  phon_R01_S01_3      116.682       131.111       111.555         0.01050   \n",
       "3  phon_R01_S01_4      116.676       137.871       111.366         0.00997   \n",
       "4  phon_R01_S01_5      116.014       141.781       110.655         0.01284   \n",
       "\n",
       "   mdvp:jitter(abs)  mdvp:rap  mdvp:ppq  jitter:ddp  mdvp:shimmer  ...  \\\n",
       "0           0.00007   0.00370   0.00554     0.01109       0.04374  ...   \n",
       "1           0.00008   0.00465   0.00696     0.01394       0.06134  ...   \n",
       "2           0.00009   0.00544   0.00781     0.01633       0.05233  ...   \n",
       "3           0.00009   0.00502   0.00698     0.01505       0.05492  ...   \n",
       "4           0.00011   0.00655   0.00908     0.01966       0.06425  ...   \n",
       "\n",
       "   shimmer:dda      nhr     hnr  status      rpde       dfa   spread1  \\\n",
       "0      0.06545  0.02211  21.033       1  0.414783  0.815285 -4.813031   \n",
       "1      0.09403  0.01929  19.085       1  0.458359  0.819521 -4.075192   \n",
       "2      0.08270  0.01309  20.651       1  0.429895  0.825288 -4.443179   \n",
       "3      0.08771  0.01353  20.644       1  0.434969  0.819235 -4.117501   \n",
       "4      0.10470  0.01767  19.649       1  0.417356  0.823484 -3.747787   \n",
       "\n",
       "    spread2        d2       ppe  \n",
       "0  0.266482  2.301442  0.284654  \n",
       "1  0.335590  2.486855  0.368674  \n",
       "2  0.311173  2.342259  0.332634  \n",
       "3  0.334147  2.405554  0.368975  \n",
       "4  0.234513  2.332180  0.410335  \n",
       "\n",
       "[5 rows x 24 columns]"
      ]
     },
     "execution_count": 2,
     "metadata": {},
     "output_type": "execute_result"
    }
   ],
   "source": [
    "# 📌 Step 2: Load the Parkinson’s Dataset\n",
    "\n",
    "# Load the dataset from CSV file\n",
    "df = pd.read_csv(\"parkinsons.csv\")\n",
    "\n",
    "# Clean column names: lowercase and replace spaces with underscores\n",
    "df.columns = df.columns.str.strip().str.lower().str.replace(\" \", \"_\")\n",
    "\n",
    "# Preview the first few rows\n",
    "df.head()\n"
   ]
  },
  {
   "cell_type": "code",
   "execution_count": 3,
   "id": "f2da3f30",
   "metadata": {},
   "outputs": [
    {
     "name": "stdout",
     "output_type": "stream",
     "text": [
      "<class 'pandas.core.frame.DataFrame'>\n",
      "RangeIndex: 195 entries, 0 to 194\n",
      "Data columns (total 24 columns):\n",
      " #   Column            Non-Null Count  Dtype  \n",
      "---  ------            --------------  -----  \n",
      " 0   name              195 non-null    object \n",
      " 1   mdvp:fo(hz)       195 non-null    float64\n",
      " 2   mdvp:fhi(hz)      195 non-null    float64\n",
      " 3   mdvp:flo(hz)      195 non-null    float64\n",
      " 4   mdvp:jitter(%)    195 non-null    float64\n",
      " 5   mdvp:jitter(abs)  195 non-null    float64\n",
      " 6   mdvp:rap          195 non-null    float64\n",
      " 7   mdvp:ppq          195 non-null    float64\n",
      " 8   jitter:ddp        195 non-null    float64\n",
      " 9   mdvp:shimmer      195 non-null    float64\n",
      " 10  mdvp:shimmer(db)  195 non-null    float64\n",
      " 11  shimmer:apq3      195 non-null    float64\n",
      " 12  shimmer:apq5      195 non-null    float64\n",
      " 13  mdvp:apq          195 non-null    float64\n",
      " 14  shimmer:dda       195 non-null    float64\n",
      " 15  nhr               195 non-null    float64\n",
      " 16  hnr               195 non-null    float64\n",
      " 17  status            195 non-null    int64  \n",
      " 18  rpde              195 non-null    float64\n",
      " 19  dfa               195 non-null    float64\n",
      " 20  spread1           195 non-null    float64\n",
      " 21  spread2           195 non-null    float64\n",
      " 22  d2                195 non-null    float64\n",
      " 23  ppe               195 non-null    float64\n",
      "dtypes: float64(22), int64(1), object(1)\n",
      "memory usage: 36.7+ KB\n"
     ]
    },
    {
     "data": {
      "text/plain": [
       "status\n",
       "1    147\n",
       "0     48\n",
       "Name: count, dtype: int64"
      ]
     },
     "execution_count": 3,
     "metadata": {},
     "output_type": "execute_result"
    }
   ],
   "source": [
    "# 📌 Step 3: Basic Inspection – Check for Nulls and Target\n",
    "\n",
    "# Overview of data types and missing values\n",
    "df.info()\n",
    "\n",
    "# Count missing values per column\n",
    "df.isnull().sum()\n",
    "\n",
    "# Check value counts of target column 'status' (0 = healthy, 1 = Parkinson’s)\n",
    "df['status'].value_counts()\n"
   ]
  },
  {
   "cell_type": "code",
   "execution_count": 4,
   "id": "71b33813",
   "metadata": {},
   "outputs": [],
   "source": [
    "# 📌 Step 4: Drop Identifier Column (e.g., 'name')\n",
    "\n",
    "# Drop the 'name' column since it's an identifier and not useful for modeling\n",
    "if 'name' in df.columns:\n",
    "    df.drop('name', axis=1, inplace=True)\n"
   ]
  },
  {
   "cell_type": "code",
   "execution_count": 5,
   "id": "fd88e1ce",
   "metadata": {},
   "outputs": [
    {
     "data": {
      "text/html": [
       "<div>\n",
       "<style scoped>\n",
       "    .dataframe tbody tr th:only-of-type {\n",
       "        vertical-align: middle;\n",
       "    }\n",
       "\n",
       "    .dataframe tbody tr th {\n",
       "        vertical-align: top;\n",
       "    }\n",
       "\n",
       "    .dataframe thead th {\n",
       "        text-align: right;\n",
       "    }\n",
       "</style>\n",
       "<table border=\"1\" class=\"dataframe\">\n",
       "  <thead>\n",
       "    <tr style=\"text-align: right;\">\n",
       "      <th></th>\n",
       "      <th>mdvp:fo(hz)</th>\n",
       "      <th>mdvp:fhi(hz)</th>\n",
       "      <th>mdvp:flo(hz)</th>\n",
       "      <th>mdvp:jitter(%)</th>\n",
       "      <th>mdvp:jitter(abs)</th>\n",
       "      <th>mdvp:rap</th>\n",
       "      <th>mdvp:ppq</th>\n",
       "      <th>jitter:ddp</th>\n",
       "      <th>mdvp:shimmer</th>\n",
       "      <th>mdvp:shimmer(db)</th>\n",
       "      <th>...</th>\n",
       "      <th>shimmer:dda</th>\n",
       "      <th>nhr</th>\n",
       "      <th>hnr</th>\n",
       "      <th>rpde</th>\n",
       "      <th>dfa</th>\n",
       "      <th>spread1</th>\n",
       "      <th>spread2</th>\n",
       "      <th>d2</th>\n",
       "      <th>ppe</th>\n",
       "      <th>status</th>\n",
       "    </tr>\n",
       "  </thead>\n",
       "  <tbody>\n",
       "    <tr>\n",
       "      <th>0</th>\n",
       "      <td>-0.829300</td>\n",
       "      <td>-0.436165</td>\n",
       "      <td>-0.952037</td>\n",
       "      <td>0.334914</td>\n",
       "      <td>0.749759</td>\n",
       "      <td>0.132963</td>\n",
       "      <td>0.760800</td>\n",
       "      <td>0.131755</td>\n",
       "      <td>0.745985</td>\n",
       "      <td>0.739536</td>\n",
       "      <td>...</td>\n",
       "      <td>0.607532</td>\n",
       "      <td>-0.067893</td>\n",
       "      <td>-0.193225</td>\n",
       "      <td>-0.807838</td>\n",
       "      <td>1.760814</td>\n",
       "      <td>0.801323</td>\n",
       "      <td>0.480477</td>\n",
       "      <td>-0.210531</td>\n",
       "      <td>0.868886</td>\n",
       "      <td>1</td>\n",
       "    </tr>\n",
       "    <tr>\n",
       "      <th>1</th>\n",
       "      <td>-0.770972</td>\n",
       "      <td>-0.530974</td>\n",
       "      <td>-0.057721</td>\n",
       "      <td>0.715418</td>\n",
       "      <td>1.037674</td>\n",
       "      <td>0.453892</td>\n",
       "      <td>1.276809</td>\n",
       "      <td>0.452684</td>\n",
       "      <td>1.681731</td>\n",
       "      <td>1.768464</td>\n",
       "      <td>...</td>\n",
       "      <td>1.548254</td>\n",
       "      <td>-0.137843</td>\n",
       "      <td>-0.634508</td>\n",
       "      <td>-0.387524</td>\n",
       "      <td>1.837562</td>\n",
       "      <td>1.479853</td>\n",
       "      <td>1.311185</td>\n",
       "      <td>0.275077</td>\n",
       "      <td>1.803605</td>\n",
       "      <td>1</td>\n",
       "    </tr>\n",
       "    <tr>\n",
       "      <th>2</th>\n",
       "      <td>-0.909476</td>\n",
       "      <td>-0.723168</td>\n",
       "      <td>-0.109875</td>\n",
       "      <td>0.884991</td>\n",
       "      <td>1.325589</td>\n",
       "      <td>0.720770</td>\n",
       "      <td>1.585687</td>\n",
       "      <td>0.721813</td>\n",
       "      <td>1.202693</td>\n",
       "      <td>1.027636</td>\n",
       "      <td>...</td>\n",
       "      <td>1.175323</td>\n",
       "      <td>-0.291633</td>\n",
       "      <td>-0.279760</td>\n",
       "      <td>-0.662075</td>\n",
       "      <td>1.942048</td>\n",
       "      <td>1.141445</td>\n",
       "      <td>1.017682</td>\n",
       "      <td>-0.103629</td>\n",
       "      <td>1.402661</td>\n",
       "      <td>1</td>\n",
       "    </tr>\n",
       "    <tr>\n",
       "      <th>3</th>\n",
       "      <td>-0.909622</td>\n",
       "      <td>-0.649092</td>\n",
       "      <td>-0.114229</td>\n",
       "      <td>0.775389</td>\n",
       "      <td>1.325589</td>\n",
       "      <td>0.578885</td>\n",
       "      <td>1.284076</td>\n",
       "      <td>0.577677</td>\n",
       "      <td>1.340396</td>\n",
       "      <td>1.207698</td>\n",
       "      <td>...</td>\n",
       "      <td>1.340229</td>\n",
       "      <td>-0.280719</td>\n",
       "      <td>-0.281346</td>\n",
       "      <td>-0.613134</td>\n",
       "      <td>1.832380</td>\n",
       "      <td>1.440945</td>\n",
       "      <td>1.293840</td>\n",
       "      <td>0.062145</td>\n",
       "      <td>1.806954</td>\n",
       "      <td>1</td>\n",
       "    </tr>\n",
       "    <tr>\n",
       "      <th>4</th>\n",
       "      <td>-0.925657</td>\n",
       "      <td>-0.606245</td>\n",
       "      <td>-0.130608</td>\n",
       "      <td>1.368893</td>\n",
       "      <td>1.901418</td>\n",
       "      <td>1.095750</td>\n",
       "      <td>2.047187</td>\n",
       "      <td>1.096793</td>\n",
       "      <td>1.836448</td>\n",
       "      <td>1.552389</td>\n",
       "      <td>...</td>\n",
       "      <td>1.899461</td>\n",
       "      <td>-0.178026</td>\n",
       "      <td>-0.506745</td>\n",
       "      <td>-0.783021</td>\n",
       "      <td>1.909364</td>\n",
       "      <td>1.780940</td>\n",
       "      <td>0.096195</td>\n",
       "      <td>-0.130026</td>\n",
       "      <td>2.267082</td>\n",
       "      <td>1</td>\n",
       "    </tr>\n",
       "  </tbody>\n",
       "</table>\n",
       "<p>5 rows × 23 columns</p>\n",
       "</div>"
      ],
      "text/plain": [
       "   mdvp:fo(hz)  mdvp:fhi(hz)  mdvp:flo(hz)  mdvp:jitter(%)  mdvp:jitter(abs)  \\\n",
       "0    -0.829300     -0.436165     -0.952037        0.334914          0.749759   \n",
       "1    -0.770972     -0.530974     -0.057721        0.715418          1.037674   \n",
       "2    -0.909476     -0.723168     -0.109875        0.884991          1.325589   \n",
       "3    -0.909622     -0.649092     -0.114229        0.775389          1.325589   \n",
       "4    -0.925657     -0.606245     -0.130608        1.368893          1.901418   \n",
       "\n",
       "   mdvp:rap  mdvp:ppq  jitter:ddp  mdvp:shimmer  mdvp:shimmer(db)  ...  \\\n",
       "0  0.132963  0.760800    0.131755      0.745985          0.739536  ...   \n",
       "1  0.453892  1.276809    0.452684      1.681731          1.768464  ...   \n",
       "2  0.720770  1.585687    0.721813      1.202693          1.027636  ...   \n",
       "3  0.578885  1.284076    0.577677      1.340396          1.207698  ...   \n",
       "4  1.095750  2.047187    1.096793      1.836448          1.552389  ...   \n",
       "\n",
       "   shimmer:dda       nhr       hnr      rpde       dfa   spread1   spread2  \\\n",
       "0     0.607532 -0.067893 -0.193225 -0.807838  1.760814  0.801323  0.480477   \n",
       "1     1.548254 -0.137843 -0.634508 -0.387524  1.837562  1.479853  1.311185   \n",
       "2     1.175323 -0.291633 -0.279760 -0.662075  1.942048  1.141445  1.017682   \n",
       "3     1.340229 -0.280719 -0.281346 -0.613134  1.832380  1.440945  1.293840   \n",
       "4     1.899461 -0.178026 -0.506745 -0.783021  1.909364  1.780940  0.096195   \n",
       "\n",
       "         d2       ppe  status  \n",
       "0 -0.210531  0.868886       1  \n",
       "1  0.275077  1.803605       1  \n",
       "2 -0.103629  1.402661       1  \n",
       "3  0.062145  1.806954       1  \n",
       "4 -0.130026  2.267082       1  \n",
       "\n",
       "[5 rows x 23 columns]"
      ]
     },
     "execution_count": 5,
     "metadata": {},
     "output_type": "execute_result"
    }
   ],
   "source": [
    "# 📌 Step 5: Feature Scaling and Preprocessing\n",
    "\n",
    "# Split features and target\n",
    "X = df.drop(\"status\", axis=1)\n",
    "y = df[\"status\"]\n",
    "\n",
    "# Apply StandardScaler to normalize feature values\n",
    "scaler = StandardScaler()\n",
    "X_scaled = scaler.fit_transform(X)\n",
    "\n",
    "# Convert scaled features back to DataFrame for EDA\n",
    "df_scaled = pd.DataFrame(X_scaled, columns=X.columns)\n",
    "\n",
    "# Add back the target column\n",
    "df_scaled['status'] = y.reset_index(drop=True)\n",
    "\n",
    "# View the processed data\n",
    "df_scaled.head()\n"
   ]
  },
  {
   "cell_type": "code",
   "execution_count": 6,
   "id": "53ed4c5d",
   "metadata": {},
   "outputs": [
    {
     "name": "stdout",
     "output_type": "stream",
     "text": [
      "✅ Cleaned dataset saved as 'parkinsons_cleaned.csv'\n"
     ]
    }
   ],
   "source": [
    "# 📌 Step 6: Save Cleaned Dataset to CSV\n",
    "\n",
    "# Save the cleaned and scaled data for model training\n",
    "df_scaled.to_csv(\"parkinsons_cleaned.csv\", index=False)\n",
    "print(\"✅ Cleaned dataset saved as 'parkinsons_cleaned.csv'\")\n"
   ]
  },
  {
   "cell_type": "code",
   "execution_count": 7,
   "id": "992ed0be",
   "metadata": {},
   "outputs": [
    {
     "name": "stdout",
     "output_type": "stream",
     "text": [
      "status\n",
      "1    147\n",
      "0     48\n",
      "Name: count, dtype: int64\n"
     ]
    },
    {
     "data": {
      "application/vnd.plotly.v1+json": {
       "config": {
        "plotlyServerURL": "https://plot.ly"
       },
       "data": [
        {
         "alignmentgroup": "True",
         "bingroup": "x",
         "hovertemplate": "Status (0 = Healthy, 1 = Parkinson’s)=%{x}<br>count=%{y}<extra></extra>",
         "legendgroup": "1",
         "marker": {
          "color": "#636efa",
          "pattern": {
           "shape": ""
          }
         },
         "name": "1",
         "offsetgroup": "1",
         "orientation": "v",
         "showlegend": true,
         "type": "histogram",
         "x": {
          "bdata": "AQEBAQEBAQEBAQEBAQEBAQEBAQEBAQEBAQEBAQEBAQEBAQEBAQEBAQEBAQEBAQEBAQEBAQEBAQEBAQEBAQEBAQEBAQEBAQEBAQEBAQEBAQEBAQEBAQEBAQEBAQEBAQEBAQEBAQEBAQEBAQEBAQEBAQEBAQEBAQEBAQEBAQEBAQEBAQEBAQEBAQEBAQEBAQEBAQEB",
          "dtype": "i1"
         },
         "xaxis": "x",
         "yaxis": "y"
        },
        {
         "alignmentgroup": "True",
         "bingroup": "x",
         "hovertemplate": "Status (0 = Healthy, 1 = Parkinson’s)=%{x}<br>count=%{y}<extra></extra>",
         "legendgroup": "0",
         "marker": {
          "color": "#EF553B",
          "pattern": {
           "shape": ""
          }
         },
         "name": "0",
         "offsetgroup": "0",
         "orientation": "v",
         "showlegend": true,
         "type": "histogram",
         "x": {
          "bdata": "AAAAAAAAAAAAAAAAAAAAAAAAAAAAAAAAAAAAAAAAAAAAAAAAAAAAAAAAAAAAAAAA",
          "dtype": "i1"
         },
         "xaxis": "x",
         "yaxis": "y"
        }
       ],
       "layout": {
        "barmode": "group",
        "legend": {
         "title": {
          "text": "Status (0 = Healthy, 1 = Parkinson’s)"
         },
         "tracegroupgap": 0
        },
        "template": {
         "data": {
          "bar": [
           {
            "error_x": {
             "color": "#2a3f5f"
            },
            "error_y": {
             "color": "#2a3f5f"
            },
            "marker": {
             "line": {
              "color": "white",
              "width": 0.5
             },
             "pattern": {
              "fillmode": "overlay",
              "size": 10,
              "solidity": 0.2
             }
            },
            "type": "bar"
           }
          ],
          "barpolar": [
           {
            "marker": {
             "line": {
              "color": "white",
              "width": 0.5
             },
             "pattern": {
              "fillmode": "overlay",
              "size": 10,
              "solidity": 0.2
             }
            },
            "type": "barpolar"
           }
          ],
          "carpet": [
           {
            "aaxis": {
             "endlinecolor": "#2a3f5f",
             "gridcolor": "#C8D4E3",
             "linecolor": "#C8D4E3",
             "minorgridcolor": "#C8D4E3",
             "startlinecolor": "#2a3f5f"
            },
            "baxis": {
             "endlinecolor": "#2a3f5f",
             "gridcolor": "#C8D4E3",
             "linecolor": "#C8D4E3",
             "minorgridcolor": "#C8D4E3",
             "startlinecolor": "#2a3f5f"
            },
            "type": "carpet"
           }
          ],
          "choropleth": [
           {
            "colorbar": {
             "outlinewidth": 0,
             "ticks": ""
            },
            "type": "choropleth"
           }
          ],
          "contour": [
           {
            "colorbar": {
             "outlinewidth": 0,
             "ticks": ""
            },
            "colorscale": [
             [
              0,
              "#0d0887"
             ],
             [
              0.1111111111111111,
              "#46039f"
             ],
             [
              0.2222222222222222,
              "#7201a8"
             ],
             [
              0.3333333333333333,
              "#9c179e"
             ],
             [
              0.4444444444444444,
              "#bd3786"
             ],
             [
              0.5555555555555556,
              "#d8576b"
             ],
             [
              0.6666666666666666,
              "#ed7953"
             ],
             [
              0.7777777777777778,
              "#fb9f3a"
             ],
             [
              0.8888888888888888,
              "#fdca26"
             ],
             [
              1,
              "#f0f921"
             ]
            ],
            "type": "contour"
           }
          ],
          "contourcarpet": [
           {
            "colorbar": {
             "outlinewidth": 0,
             "ticks": ""
            },
            "type": "contourcarpet"
           }
          ],
          "heatmap": [
           {
            "colorbar": {
             "outlinewidth": 0,
             "ticks": ""
            },
            "colorscale": [
             [
              0,
              "#0d0887"
             ],
             [
              0.1111111111111111,
              "#46039f"
             ],
             [
              0.2222222222222222,
              "#7201a8"
             ],
             [
              0.3333333333333333,
              "#9c179e"
             ],
             [
              0.4444444444444444,
              "#bd3786"
             ],
             [
              0.5555555555555556,
              "#d8576b"
             ],
             [
              0.6666666666666666,
              "#ed7953"
             ],
             [
              0.7777777777777778,
              "#fb9f3a"
             ],
             [
              0.8888888888888888,
              "#fdca26"
             ],
             [
              1,
              "#f0f921"
             ]
            ],
            "type": "heatmap"
           }
          ],
          "histogram": [
           {
            "marker": {
             "pattern": {
              "fillmode": "overlay",
              "size": 10,
              "solidity": 0.2
             }
            },
            "type": "histogram"
           }
          ],
          "histogram2d": [
           {
            "colorbar": {
             "outlinewidth": 0,
             "ticks": ""
            },
            "colorscale": [
             [
              0,
              "#0d0887"
             ],
             [
              0.1111111111111111,
              "#46039f"
             ],
             [
              0.2222222222222222,
              "#7201a8"
             ],
             [
              0.3333333333333333,
              "#9c179e"
             ],
             [
              0.4444444444444444,
              "#bd3786"
             ],
             [
              0.5555555555555556,
              "#d8576b"
             ],
             [
              0.6666666666666666,
              "#ed7953"
             ],
             [
              0.7777777777777778,
              "#fb9f3a"
             ],
             [
              0.8888888888888888,
              "#fdca26"
             ],
             [
              1,
              "#f0f921"
             ]
            ],
            "type": "histogram2d"
           }
          ],
          "histogram2dcontour": [
           {
            "colorbar": {
             "outlinewidth": 0,
             "ticks": ""
            },
            "colorscale": [
             [
              0,
              "#0d0887"
             ],
             [
              0.1111111111111111,
              "#46039f"
             ],
             [
              0.2222222222222222,
              "#7201a8"
             ],
             [
              0.3333333333333333,
              "#9c179e"
             ],
             [
              0.4444444444444444,
              "#bd3786"
             ],
             [
              0.5555555555555556,
              "#d8576b"
             ],
             [
              0.6666666666666666,
              "#ed7953"
             ],
             [
              0.7777777777777778,
              "#fb9f3a"
             ],
             [
              0.8888888888888888,
              "#fdca26"
             ],
             [
              1,
              "#f0f921"
             ]
            ],
            "type": "histogram2dcontour"
           }
          ],
          "mesh3d": [
           {
            "colorbar": {
             "outlinewidth": 0,
             "ticks": ""
            },
            "type": "mesh3d"
           }
          ],
          "parcoords": [
           {
            "line": {
             "colorbar": {
              "outlinewidth": 0,
              "ticks": ""
             }
            },
            "type": "parcoords"
           }
          ],
          "pie": [
           {
            "automargin": true,
            "type": "pie"
           }
          ],
          "scatter": [
           {
            "fillpattern": {
             "fillmode": "overlay",
             "size": 10,
             "solidity": 0.2
            },
            "type": "scatter"
           }
          ],
          "scatter3d": [
           {
            "line": {
             "colorbar": {
              "outlinewidth": 0,
              "ticks": ""
             }
            },
            "marker": {
             "colorbar": {
              "outlinewidth": 0,
              "ticks": ""
             }
            },
            "type": "scatter3d"
           }
          ],
          "scattercarpet": [
           {
            "marker": {
             "colorbar": {
              "outlinewidth": 0,
              "ticks": ""
             }
            },
            "type": "scattercarpet"
           }
          ],
          "scattergeo": [
           {
            "marker": {
             "colorbar": {
              "outlinewidth": 0,
              "ticks": ""
             }
            },
            "type": "scattergeo"
           }
          ],
          "scattergl": [
           {
            "marker": {
             "colorbar": {
              "outlinewidth": 0,
              "ticks": ""
             }
            },
            "type": "scattergl"
           }
          ],
          "scattermap": [
           {
            "marker": {
             "colorbar": {
              "outlinewidth": 0,
              "ticks": ""
             }
            },
            "type": "scattermap"
           }
          ],
          "scattermapbox": [
           {
            "marker": {
             "colorbar": {
              "outlinewidth": 0,
              "ticks": ""
             }
            },
            "type": "scattermapbox"
           }
          ],
          "scatterpolar": [
           {
            "marker": {
             "colorbar": {
              "outlinewidth": 0,
              "ticks": ""
             }
            },
            "type": "scatterpolar"
           }
          ],
          "scatterpolargl": [
           {
            "marker": {
             "colorbar": {
              "outlinewidth": 0,
              "ticks": ""
             }
            },
            "type": "scatterpolargl"
           }
          ],
          "scatterternary": [
           {
            "marker": {
             "colorbar": {
              "outlinewidth": 0,
              "ticks": ""
             }
            },
            "type": "scatterternary"
           }
          ],
          "surface": [
           {
            "colorbar": {
             "outlinewidth": 0,
             "ticks": ""
            },
            "colorscale": [
             [
              0,
              "#0d0887"
             ],
             [
              0.1111111111111111,
              "#46039f"
             ],
             [
              0.2222222222222222,
              "#7201a8"
             ],
             [
              0.3333333333333333,
              "#9c179e"
             ],
             [
              0.4444444444444444,
              "#bd3786"
             ],
             [
              0.5555555555555556,
              "#d8576b"
             ],
             [
              0.6666666666666666,
              "#ed7953"
             ],
             [
              0.7777777777777778,
              "#fb9f3a"
             ],
             [
              0.8888888888888888,
              "#fdca26"
             ],
             [
              1,
              "#f0f921"
             ]
            ],
            "type": "surface"
           }
          ],
          "table": [
           {
            "cells": {
             "fill": {
              "color": "#EBF0F8"
             },
             "line": {
              "color": "white"
             }
            },
            "header": {
             "fill": {
              "color": "#C8D4E3"
             },
             "line": {
              "color": "white"
             }
            },
            "type": "table"
           }
          ]
         },
         "layout": {
          "annotationdefaults": {
           "arrowcolor": "#2a3f5f",
           "arrowhead": 0,
           "arrowwidth": 1
          },
          "autotypenumbers": "strict",
          "coloraxis": {
           "colorbar": {
            "outlinewidth": 0,
            "ticks": ""
           }
          },
          "colorscale": {
           "diverging": [
            [
             0,
             "#8e0152"
            ],
            [
             0.1,
             "#c51b7d"
            ],
            [
             0.2,
             "#de77ae"
            ],
            [
             0.3,
             "#f1b6da"
            ],
            [
             0.4,
             "#fde0ef"
            ],
            [
             0.5,
             "#f7f7f7"
            ],
            [
             0.6,
             "#e6f5d0"
            ],
            [
             0.7,
             "#b8e186"
            ],
            [
             0.8,
             "#7fbc41"
            ],
            [
             0.9,
             "#4d9221"
            ],
            [
             1,
             "#276419"
            ]
           ],
           "sequential": [
            [
             0,
             "#0d0887"
            ],
            [
             0.1111111111111111,
             "#46039f"
            ],
            [
             0.2222222222222222,
             "#7201a8"
            ],
            [
             0.3333333333333333,
             "#9c179e"
            ],
            [
             0.4444444444444444,
             "#bd3786"
            ],
            [
             0.5555555555555556,
             "#d8576b"
            ],
            [
             0.6666666666666666,
             "#ed7953"
            ],
            [
             0.7777777777777778,
             "#fb9f3a"
            ],
            [
             0.8888888888888888,
             "#fdca26"
            ],
            [
             1,
             "#f0f921"
            ]
           ],
           "sequentialminus": [
            [
             0,
             "#0d0887"
            ],
            [
             0.1111111111111111,
             "#46039f"
            ],
            [
             0.2222222222222222,
             "#7201a8"
            ],
            [
             0.3333333333333333,
             "#9c179e"
            ],
            [
             0.4444444444444444,
             "#bd3786"
            ],
            [
             0.5555555555555556,
             "#d8576b"
            ],
            [
             0.6666666666666666,
             "#ed7953"
            ],
            [
             0.7777777777777778,
             "#fb9f3a"
            ],
            [
             0.8888888888888888,
             "#fdca26"
            ],
            [
             1,
             "#f0f921"
            ]
           ]
          },
          "colorway": [
           "#636efa",
           "#EF553B",
           "#00cc96",
           "#ab63fa",
           "#FFA15A",
           "#19d3f3",
           "#FF6692",
           "#B6E880",
           "#FF97FF",
           "#FECB52"
          ],
          "font": {
           "color": "#2a3f5f"
          },
          "geo": {
           "bgcolor": "white",
           "lakecolor": "white",
           "landcolor": "white",
           "showlakes": true,
           "showland": true,
           "subunitcolor": "#C8D4E3"
          },
          "hoverlabel": {
           "align": "left"
          },
          "hovermode": "closest",
          "mapbox": {
           "style": "light"
          },
          "paper_bgcolor": "white",
          "plot_bgcolor": "white",
          "polar": {
           "angularaxis": {
            "gridcolor": "#EBF0F8",
            "linecolor": "#EBF0F8",
            "ticks": ""
           },
           "bgcolor": "white",
           "radialaxis": {
            "gridcolor": "#EBF0F8",
            "linecolor": "#EBF0F8",
            "ticks": ""
           }
          },
          "scene": {
           "xaxis": {
            "backgroundcolor": "white",
            "gridcolor": "#DFE8F3",
            "gridwidth": 2,
            "linecolor": "#EBF0F8",
            "showbackground": true,
            "ticks": "",
            "zerolinecolor": "#EBF0F8"
           },
           "yaxis": {
            "backgroundcolor": "white",
            "gridcolor": "#DFE8F3",
            "gridwidth": 2,
            "linecolor": "#EBF0F8",
            "showbackground": true,
            "ticks": "",
            "zerolinecolor": "#EBF0F8"
           },
           "zaxis": {
            "backgroundcolor": "white",
            "gridcolor": "#DFE8F3",
            "gridwidth": 2,
            "linecolor": "#EBF0F8",
            "showbackground": true,
            "ticks": "",
            "zerolinecolor": "#EBF0F8"
           }
          },
          "shapedefaults": {
           "line": {
            "color": "#2a3f5f"
           }
          },
          "ternary": {
           "aaxis": {
            "gridcolor": "#DFE8F3",
            "linecolor": "#A2B1C6",
            "ticks": ""
           },
           "baxis": {
            "gridcolor": "#DFE8F3",
            "linecolor": "#A2B1C6",
            "ticks": ""
           },
           "bgcolor": "white",
           "caxis": {
            "gridcolor": "#DFE8F3",
            "linecolor": "#A2B1C6",
            "ticks": ""
           }
          },
          "title": {
           "x": 0.05
          },
          "xaxis": {
           "automargin": true,
           "gridcolor": "#EBF0F8",
           "linecolor": "#EBF0F8",
           "ticks": "",
           "title": {
            "standoff": 15
           },
           "zerolinecolor": "#EBF0F8",
           "zerolinewidth": 2
          },
          "yaxis": {
           "automargin": true,
           "gridcolor": "#EBF0F8",
           "linecolor": "#EBF0F8",
           "ticks": "",
           "title": {
            "standoff": 15
           },
           "zerolinecolor": "#EBF0F8",
           "zerolinewidth": 2
          }
         }
        },
        "title": {
         "text": "Parkinson’s Disease vs Healthy"
        },
        "xaxis": {
         "anchor": "y",
         "categoryarray": [
          1,
          0
         ],
         "categoryorder": "array",
         "domain": [
          0,
          1
         ],
         "title": {
          "text": "Status"
         }
        },
        "yaxis": {
         "anchor": "x",
         "domain": [
          0,
          1
         ],
         "title": {
          "text": "Count"
         }
        }
       }
      }
     },
     "metadata": {},
     "output_type": "display_data"
    }
   ],
   "source": [
    "# 📊 Step 7: Univariate Analysis – Target Class Distribution\n",
    "\n",
    "\n",
    "# ✅ Make sure 'status' exists in the dataframe and is integer (0 or 1)\n",
    "print(df_scaled['status'].value_counts())  # Debug check\n",
    "\n",
    "# ✅ Plot the count of Parkinson’s vs Healthy\n",
    "fig = px.histogram(\n",
    "    df_scaled, \n",
    "    x='status', \n",
    "    color='status', \n",
    "    title=\"Parkinson’s Disease vs Healthy\",\n",
    "    labels={'status': 'Status (0 = Healthy, 1 = Parkinson’s)'},\n",
    "    barmode='group',\n",
    "    template='plotly_white'\n",
    ")\n",
    "fig.update_layout(xaxis_title=\"Status\", yaxis_title=\"Count\")\n",
    "fig.show()\n"
   ]
  },
  {
   "cell_type": "code",
   "execution_count": 9,
   "id": "863ffa7f",
   "metadata": {},
   "outputs": [
    {
     "name": "stdout",
     "output_type": "stream",
     "text": [
      "['mdvp:fo(hz)', 'mdvp:fhi(hz)', 'mdvp:flo(hz)', 'mdvp:jitter(%)', 'mdvp:jitter(abs)', 'mdvp:rap', 'mdvp:ppq', 'jitter:ddp', 'mdvp:shimmer', 'mdvp:shimmer(db)', 'shimmer:apq3', 'shimmer:apq5', 'mdvp:apq', 'shimmer:dda', 'nhr', 'hnr', 'rpde', 'dfa', 'spread1', 'spread2', 'd2', 'ppe', 'status']\n"
     ]
    },
    {
     "data": {
      "application/vnd.plotly.v1+json": {
       "config": {
        "plotlyServerURL": "https://plot.ly"
       },
       "data": [
        {
         "alignmentgroup": "True",
         "boxpoints": "all",
         "hovertemplate": "status=%{x}<br>mdvp:fo(hz)=%{y}<extra></extra>",
         "legendgroup": "1",
         "marker": {
          "color": "#636efa"
         },
         "name": "1",
         "notched": false,
         "offsetgroup": "1",
         "orientation": "v",
         "showlegend": true,
         "type": "box",
         "x": {
          "bdata": "AQEBAQEBAQEBAQEBAQEBAQEBAQEBAQEBAQEBAQEBAQEBAQEBAQEBAQEBAQEBAQEBAQEBAQEBAQEBAQEBAQEBAQEBAQEBAQEBAQEBAQEBAQEBAQEBAQEBAQEBAQEBAQEBAQEBAQEBAQEBAQEBAQEBAQEBAQEBAQEBAQEBAQEBAQEBAQEBAQEBAQEBAQEBAQEBAQEB",
          "dtype": "i1"
         },
         "x0": " ",
         "xaxis": "x",
         "y": {
          "bdata": "eCiKbZ+J6r/O1UnSzKvovxEMnTZuGu2/eGD+AJ8b7b8ywZuP+57tv6NiY0+AGuq/5oty3A1T6r/X69+94Szyv7MxIGf7q/a/dzbQeNru9r+KLlFg4Yn5v+7QAsqUJ/i/Izmtz8XS2r+KRemwBVfXv19zlYzsKKG/Czl6udCy0r8MOAr8giHPvyhmowcZjtY/b3SZoYlVnb9ilGS3uf2qP3Rcbrn94YK/E9P9jJpLgb+dM9bmjj3VP3cw6TyThd4/XvS077s6zT/dem87yE/zv+cbGbMyENo/EzLsU5Xkxr+bEcgDNQOcP2jORTEp28k/rKX8lGBU4j9q5jd42gHhP4c+H4YiIeQ/hs0/p1D46T95h24gx8DoPxKxMAx8Huc/BCVP54ma8b9zdnKIEDLxv6No9yvN+vC/E4TEi/Wk7L/BuHbsVvPsvwdijlKNhu6/uuc4knyH1b9Rf48ltcHav4QYsm2zlNC/p4lcLGUIw78YdZZLx9PRv9mlU9IwtNu/h1KhKil46r+zxzOhWlzwv+8TYxF/1fC/2PBxZgfe8L+VmDmC1Abwv4oCBOTR6/C/WmyOITbO9r95t3Ff77f0vwHdi0ythva/7GDrTWK49r8P/8GFFaX0v+A7Zjn+evW/57QlyV+K4T84G4xL6bvkPwypPtYImeI/7X9AGOEX4T/jGdblCH7eP6L77bB/wOM/k5SVE7cv0z8e9ZMdljKsv4SIkOvvd8K/jH2OZtoWqr9kx4BpsUa2P09dlIb89LM/VBNOF3FOvj+++5YsvKDmv7/+FF3rCua/CuAPs9l75b/fPJYgryjmvxDT3I0X++O/q6pyQMhC17+n/194Mp+4v6l/WrQaY3a/QyMm5nQmvL9QtFshQxGVPzdiOiABFK2/exDGxaPGq79XYZDoZxPuPzNQZoATBPI/04KEWnQK9T+cV+Fj+ovzP5qTPeBhq/U/yUi8R/kw9D/N7mRsGjqtv3K+l5h/vrg/Z8n6mBef2T9LnzwjiaXiPzJ4umFpX/g/BnTgHw+a47+d1qijoIPhP1pO0mQj3di/d0EdqEeK5T8CocIZse6oP499df/lEsy/aUCGQP/u2L/Wrh38BqDTP2J3xLZQSOu/qW5sw4546r9oVrhLsE7qv6Omz6Q8Veq/tJfZwFpD67+TEm53q4Drv2VXun/XffK/bGvTzDr38L/EZZSkrqXvv5RBaHkd1O+/GdmSzgdG8L8ASKj5/oPtv/kkJAUcBdk/GIgJTDLf9D8BVOzgPiTxP9QDJkGJ0/I/BBhhD6S58j8dzmt2A8v6P7zc3H1fGdg/78r041K05j9xCx/bUqjqP/yC1TBfwvI/ZcN541cq6T8Hu3akVuntP3VuFllQAvE/FE/OKCV96b+8LGWfnzrrv9DDVa+xLuy/Ilqt63+46L+KJ3FuPRzsv+QYDIXfxOW/P/SKiHli5L8qWSWQZf/uv+/HHxJMKO6/0PvJQrHA7r8aCzpW3E7wv7UrU1vQIvS/+qBDBbfmrr+MrJqVydzAv1fjQuhT3sK/Yf3H9kd+t78vxRIeIeHBv2ttweysWbu/",
          "dtype": "f8"
         },
         "y0": " ",
         "yaxis": "y"
        },
        {
         "alignmentgroup": "True",
         "boxpoints": "all",
         "hovertemplate": "status=%{x}<br>mdvp:fo(hz)=%{y}<extra></extra>",
         "legendgroup": "0",
         "marker": {
          "color": "#EF553B"
         },
         "name": "0",
         "notched": false,
         "offsetgroup": "0",
         "orientation": "v",
         "showlegend": true,
         "type": "box",
         "x": {
          "bdata": "AAAAAAAAAAAAAAAAAAAAAAAAAAAAAAAAAAAAAAAAAAAAAAAAAAAAAAAAAAAAAAAA",
          "dtype": "i1"
         },
         "x0": " ",
         "xaxis": "x",
         "y": {
          "bdata": "U9vNKiGb8D8E/KZFpHDxP3kEDPDNHPE/nvQ8FA+e8j+grVKOI/nyP4hrKel8TvI/tcBExVEVAEBE5p65lOQAQCL7cGyISQFAuMo5wWksAUCbDtVORbABQGXXmRLMCANAIXxjFt7V6L+214yC4jvov6z1CQsCFue/ZBu11S+d5b9zjWDYYlTkv0OxyPJ6S+O/72583HZI9T9C6jYPacv6Px4lR1llW/o/51+XjdLp/D8hwnO0RiL9P4jjwz5q9/w/wtAH89fE/z/ZdeOhIRoAQJevSQ9MhARA+SaX+grM8D8jHzsP3a0AQNTpQoN5lgFAsmJ72Xgn8L/DDxmg2trwv32WniMtZ++/UFrgHona7L8GmB3DyRzuv+wzPvPEVO2/UifP3nuu7L/b7MKsffnsv9HOtGMCae2/lfiY0G4z7b8Ju32t5V3tvzX9NxPovu6/AXCmqj5t8j8O+ev7H/HeP36nRV5fbfU/m+yeaI633z9YPJ4Jm0LxP7OL/s7tRvc/",
          "dtype": "f8"
         },
         "y0": " ",
         "yaxis": "y"
        }
       ],
       "layout": {
        "boxmode": "group",
        "legend": {
         "title": {
          "text": "status"
         },
         "tracegroupgap": 0
        },
        "template": {
         "data": {
          "bar": [
           {
            "error_x": {
             "color": "#2a3f5f"
            },
            "error_y": {
             "color": "#2a3f5f"
            },
            "marker": {
             "line": {
              "color": "white",
              "width": 0.5
             },
             "pattern": {
              "fillmode": "overlay",
              "size": 10,
              "solidity": 0.2
             }
            },
            "type": "bar"
           }
          ],
          "barpolar": [
           {
            "marker": {
             "line": {
              "color": "white",
              "width": 0.5
             },
             "pattern": {
              "fillmode": "overlay",
              "size": 10,
              "solidity": 0.2
             }
            },
            "type": "barpolar"
           }
          ],
          "carpet": [
           {
            "aaxis": {
             "endlinecolor": "#2a3f5f",
             "gridcolor": "#C8D4E3",
             "linecolor": "#C8D4E3",
             "minorgridcolor": "#C8D4E3",
             "startlinecolor": "#2a3f5f"
            },
            "baxis": {
             "endlinecolor": "#2a3f5f",
             "gridcolor": "#C8D4E3",
             "linecolor": "#C8D4E3",
             "minorgridcolor": "#C8D4E3",
             "startlinecolor": "#2a3f5f"
            },
            "type": "carpet"
           }
          ],
          "choropleth": [
           {
            "colorbar": {
             "outlinewidth": 0,
             "ticks": ""
            },
            "type": "choropleth"
           }
          ],
          "contour": [
           {
            "colorbar": {
             "outlinewidth": 0,
             "ticks": ""
            },
            "colorscale": [
             [
              0,
              "#0d0887"
             ],
             [
              0.1111111111111111,
              "#46039f"
             ],
             [
              0.2222222222222222,
              "#7201a8"
             ],
             [
              0.3333333333333333,
              "#9c179e"
             ],
             [
              0.4444444444444444,
              "#bd3786"
             ],
             [
              0.5555555555555556,
              "#d8576b"
             ],
             [
              0.6666666666666666,
              "#ed7953"
             ],
             [
              0.7777777777777778,
              "#fb9f3a"
             ],
             [
              0.8888888888888888,
              "#fdca26"
             ],
             [
              1,
              "#f0f921"
             ]
            ],
            "type": "contour"
           }
          ],
          "contourcarpet": [
           {
            "colorbar": {
             "outlinewidth": 0,
             "ticks": ""
            },
            "type": "contourcarpet"
           }
          ],
          "heatmap": [
           {
            "colorbar": {
             "outlinewidth": 0,
             "ticks": ""
            },
            "colorscale": [
             [
              0,
              "#0d0887"
             ],
             [
              0.1111111111111111,
              "#46039f"
             ],
             [
              0.2222222222222222,
              "#7201a8"
             ],
             [
              0.3333333333333333,
              "#9c179e"
             ],
             [
              0.4444444444444444,
              "#bd3786"
             ],
             [
              0.5555555555555556,
              "#d8576b"
             ],
             [
              0.6666666666666666,
              "#ed7953"
             ],
             [
              0.7777777777777778,
              "#fb9f3a"
             ],
             [
              0.8888888888888888,
              "#fdca26"
             ],
             [
              1,
              "#f0f921"
             ]
            ],
            "type": "heatmap"
           }
          ],
          "histogram": [
           {
            "marker": {
             "pattern": {
              "fillmode": "overlay",
              "size": 10,
              "solidity": 0.2
             }
            },
            "type": "histogram"
           }
          ],
          "histogram2d": [
           {
            "colorbar": {
             "outlinewidth": 0,
             "ticks": ""
            },
            "colorscale": [
             [
              0,
              "#0d0887"
             ],
             [
              0.1111111111111111,
              "#46039f"
             ],
             [
              0.2222222222222222,
              "#7201a8"
             ],
             [
              0.3333333333333333,
              "#9c179e"
             ],
             [
              0.4444444444444444,
              "#bd3786"
             ],
             [
              0.5555555555555556,
              "#d8576b"
             ],
             [
              0.6666666666666666,
              "#ed7953"
             ],
             [
              0.7777777777777778,
              "#fb9f3a"
             ],
             [
              0.8888888888888888,
              "#fdca26"
             ],
             [
              1,
              "#f0f921"
             ]
            ],
            "type": "histogram2d"
           }
          ],
          "histogram2dcontour": [
           {
            "colorbar": {
             "outlinewidth": 0,
             "ticks": ""
            },
            "colorscale": [
             [
              0,
              "#0d0887"
             ],
             [
              0.1111111111111111,
              "#46039f"
             ],
             [
              0.2222222222222222,
              "#7201a8"
             ],
             [
              0.3333333333333333,
              "#9c179e"
             ],
             [
              0.4444444444444444,
              "#bd3786"
             ],
             [
              0.5555555555555556,
              "#d8576b"
             ],
             [
              0.6666666666666666,
              "#ed7953"
             ],
             [
              0.7777777777777778,
              "#fb9f3a"
             ],
             [
              0.8888888888888888,
              "#fdca26"
             ],
             [
              1,
              "#f0f921"
             ]
            ],
            "type": "histogram2dcontour"
           }
          ],
          "mesh3d": [
           {
            "colorbar": {
             "outlinewidth": 0,
             "ticks": ""
            },
            "type": "mesh3d"
           }
          ],
          "parcoords": [
           {
            "line": {
             "colorbar": {
              "outlinewidth": 0,
              "ticks": ""
             }
            },
            "type": "parcoords"
           }
          ],
          "pie": [
           {
            "automargin": true,
            "type": "pie"
           }
          ],
          "scatter": [
           {
            "fillpattern": {
             "fillmode": "overlay",
             "size": 10,
             "solidity": 0.2
            },
            "type": "scatter"
           }
          ],
          "scatter3d": [
           {
            "line": {
             "colorbar": {
              "outlinewidth": 0,
              "ticks": ""
             }
            },
            "marker": {
             "colorbar": {
              "outlinewidth": 0,
              "ticks": ""
             }
            },
            "type": "scatter3d"
           }
          ],
          "scattercarpet": [
           {
            "marker": {
             "colorbar": {
              "outlinewidth": 0,
              "ticks": ""
             }
            },
            "type": "scattercarpet"
           }
          ],
          "scattergeo": [
           {
            "marker": {
             "colorbar": {
              "outlinewidth": 0,
              "ticks": ""
             }
            },
            "type": "scattergeo"
           }
          ],
          "scattergl": [
           {
            "marker": {
             "colorbar": {
              "outlinewidth": 0,
              "ticks": ""
             }
            },
            "type": "scattergl"
           }
          ],
          "scattermap": [
           {
            "marker": {
             "colorbar": {
              "outlinewidth": 0,
              "ticks": ""
             }
            },
            "type": "scattermap"
           }
          ],
          "scattermapbox": [
           {
            "marker": {
             "colorbar": {
              "outlinewidth": 0,
              "ticks": ""
             }
            },
            "type": "scattermapbox"
           }
          ],
          "scatterpolar": [
           {
            "marker": {
             "colorbar": {
              "outlinewidth": 0,
              "ticks": ""
             }
            },
            "type": "scatterpolar"
           }
          ],
          "scatterpolargl": [
           {
            "marker": {
             "colorbar": {
              "outlinewidth": 0,
              "ticks": ""
             }
            },
            "type": "scatterpolargl"
           }
          ],
          "scatterternary": [
           {
            "marker": {
             "colorbar": {
              "outlinewidth": 0,
              "ticks": ""
             }
            },
            "type": "scatterternary"
           }
          ],
          "surface": [
           {
            "colorbar": {
             "outlinewidth": 0,
             "ticks": ""
            },
            "colorscale": [
             [
              0,
              "#0d0887"
             ],
             [
              0.1111111111111111,
              "#46039f"
             ],
             [
              0.2222222222222222,
              "#7201a8"
             ],
             [
              0.3333333333333333,
              "#9c179e"
             ],
             [
              0.4444444444444444,
              "#bd3786"
             ],
             [
              0.5555555555555556,
              "#d8576b"
             ],
             [
              0.6666666666666666,
              "#ed7953"
             ],
             [
              0.7777777777777778,
              "#fb9f3a"
             ],
             [
              0.8888888888888888,
              "#fdca26"
             ],
             [
              1,
              "#f0f921"
             ]
            ],
            "type": "surface"
           }
          ],
          "table": [
           {
            "cells": {
             "fill": {
              "color": "#EBF0F8"
             },
             "line": {
              "color": "white"
             }
            },
            "header": {
             "fill": {
              "color": "#C8D4E3"
             },
             "line": {
              "color": "white"
             }
            },
            "type": "table"
           }
          ]
         },
         "layout": {
          "annotationdefaults": {
           "arrowcolor": "#2a3f5f",
           "arrowhead": 0,
           "arrowwidth": 1
          },
          "autotypenumbers": "strict",
          "coloraxis": {
           "colorbar": {
            "outlinewidth": 0,
            "ticks": ""
           }
          },
          "colorscale": {
           "diverging": [
            [
             0,
             "#8e0152"
            ],
            [
             0.1,
             "#c51b7d"
            ],
            [
             0.2,
             "#de77ae"
            ],
            [
             0.3,
             "#f1b6da"
            ],
            [
             0.4,
             "#fde0ef"
            ],
            [
             0.5,
             "#f7f7f7"
            ],
            [
             0.6,
             "#e6f5d0"
            ],
            [
             0.7,
             "#b8e186"
            ],
            [
             0.8,
             "#7fbc41"
            ],
            [
             0.9,
             "#4d9221"
            ],
            [
             1,
             "#276419"
            ]
           ],
           "sequential": [
            [
             0,
             "#0d0887"
            ],
            [
             0.1111111111111111,
             "#46039f"
            ],
            [
             0.2222222222222222,
             "#7201a8"
            ],
            [
             0.3333333333333333,
             "#9c179e"
            ],
            [
             0.4444444444444444,
             "#bd3786"
            ],
            [
             0.5555555555555556,
             "#d8576b"
            ],
            [
             0.6666666666666666,
             "#ed7953"
            ],
            [
             0.7777777777777778,
             "#fb9f3a"
            ],
            [
             0.8888888888888888,
             "#fdca26"
            ],
            [
             1,
             "#f0f921"
            ]
           ],
           "sequentialminus": [
            [
             0,
             "#0d0887"
            ],
            [
             0.1111111111111111,
             "#46039f"
            ],
            [
             0.2222222222222222,
             "#7201a8"
            ],
            [
             0.3333333333333333,
             "#9c179e"
            ],
            [
             0.4444444444444444,
             "#bd3786"
            ],
            [
             0.5555555555555556,
             "#d8576b"
            ],
            [
             0.6666666666666666,
             "#ed7953"
            ],
            [
             0.7777777777777778,
             "#fb9f3a"
            ],
            [
             0.8888888888888888,
             "#fdca26"
            ],
            [
             1,
             "#f0f921"
            ]
           ]
          },
          "colorway": [
           "#636efa",
           "#EF553B",
           "#00cc96",
           "#ab63fa",
           "#FFA15A",
           "#19d3f3",
           "#FF6692",
           "#B6E880",
           "#FF97FF",
           "#FECB52"
          ],
          "font": {
           "color": "#2a3f5f"
          },
          "geo": {
           "bgcolor": "white",
           "lakecolor": "white",
           "landcolor": "white",
           "showlakes": true,
           "showland": true,
           "subunitcolor": "#C8D4E3"
          },
          "hoverlabel": {
           "align": "left"
          },
          "hovermode": "closest",
          "mapbox": {
           "style": "light"
          },
          "paper_bgcolor": "white",
          "plot_bgcolor": "white",
          "polar": {
           "angularaxis": {
            "gridcolor": "#EBF0F8",
            "linecolor": "#EBF0F8",
            "ticks": ""
           },
           "bgcolor": "white",
           "radialaxis": {
            "gridcolor": "#EBF0F8",
            "linecolor": "#EBF0F8",
            "ticks": ""
           }
          },
          "scene": {
           "xaxis": {
            "backgroundcolor": "white",
            "gridcolor": "#DFE8F3",
            "gridwidth": 2,
            "linecolor": "#EBF0F8",
            "showbackground": true,
            "ticks": "",
            "zerolinecolor": "#EBF0F8"
           },
           "yaxis": {
            "backgroundcolor": "white",
            "gridcolor": "#DFE8F3",
            "gridwidth": 2,
            "linecolor": "#EBF0F8",
            "showbackground": true,
            "ticks": "",
            "zerolinecolor": "#EBF0F8"
           },
           "zaxis": {
            "backgroundcolor": "white",
            "gridcolor": "#DFE8F3",
            "gridwidth": 2,
            "linecolor": "#EBF0F8",
            "showbackground": true,
            "ticks": "",
            "zerolinecolor": "#EBF0F8"
           }
          },
          "shapedefaults": {
           "line": {
            "color": "#2a3f5f"
           }
          },
          "ternary": {
           "aaxis": {
            "gridcolor": "#DFE8F3",
            "linecolor": "#A2B1C6",
            "ticks": ""
           },
           "baxis": {
            "gridcolor": "#DFE8F3",
            "linecolor": "#A2B1C6",
            "ticks": ""
           },
           "bgcolor": "white",
           "caxis": {
            "gridcolor": "#DFE8F3",
            "linecolor": "#A2B1C6",
            "ticks": ""
           }
          },
          "title": {
           "x": 0.05
          },
          "xaxis": {
           "automargin": true,
           "gridcolor": "#EBF0F8",
           "linecolor": "#EBF0F8",
           "ticks": "",
           "title": {
            "standoff": 15
           },
           "zerolinecolor": "#EBF0F8",
           "zerolinewidth": 2
          },
          "yaxis": {
           "automargin": true,
           "gridcolor": "#EBF0F8",
           "linecolor": "#EBF0F8",
           "ticks": "",
           "title": {
            "standoff": 15
           },
           "zerolinecolor": "#EBF0F8",
           "zerolinewidth": 2
          }
         }
        },
        "title": {
         "text": "Fundamental Frequency vs Parkinson’s Status"
        },
        "xaxis": {
         "anchor": "y",
         "categoryarray": [
          1,
          0
         ],
         "categoryorder": "array",
         "domain": [
          0,
          1
         ],
         "title": {
          "text": "Status (0 = Healthy, 1 = Parkinson’s)"
         }
        },
        "yaxis": {
         "anchor": "x",
         "domain": [
          0,
          1
         ],
         "title": {
          "text": "Fo (Hz)"
         }
        }
       }
      }
     },
     "metadata": {},
     "output_type": "display_data"
    }
   ],
   "source": [
    "# 📊 Step 8: Bivariate Analysis – Example Feature vs Status\n",
    "\n",
    "# ✅ Confirm the column exists\n",
    "print(df_scaled.columns.tolist())  # Debug: see all columns\n",
    "\n",
    "# 📊 Plot Box Plot for \"mdvp:fo(hz)\" across Parkinson’s status\n",
    "if 'mdvp:fo(hz)' in df_scaled.columns:\n",
    "    fig = px.box(\n",
    "        df_scaled, \n",
    "        x='status', \n",
    "        y='mdvp:fo(hz)', \n",
    "        points=\"all\", \n",
    "        title=\"Fundamental Frequency vs Parkinson’s Status\",\n",
    "        color='status',\n",
    "        template=\"plotly_white\"\n",
    "    )\n",
    "    fig.update_layout(\n",
    "        xaxis_title=\"Status (0 = Healthy, 1 = Parkinson’s)\", \n",
    "        yaxis_title=\"Fo (Hz)\",\n",
    "        boxmode='group'\n",
    "    )\n",
    "    fig.show()\n",
    "else:\n",
    "    print(\"⚠️ Column 'mdvp:fo(hz)' not found in dataset.\")\n"
   ]
  },
  {
   "cell_type": "code",
   "execution_count": 10,
   "id": "9dd62677",
   "metadata": {},
   "outputs": [
    {
     "data": {
      "application/vnd.plotly.v1+json": {
       "config": {
        "plotlyServerURL": "https://plot.ly"
       },
       "data": [
        {
         "hovertemplate": "Correlation=%{x}<br>Feature=%{y}<extra></extra>",
         "legendgroup": "",
         "marker": {
          "color": "#636efa",
          "pattern": {
           "shape": ""
          }
         },
         "name": "",
         "orientation": "h",
         "showlegend": false,
         "textposition": "auto",
         "type": "bar",
         "x": {
          "bdata": "1TOTIicT4j9h+tjSRf7gP+GzHiYiHN0/jEP0h/iD1z+8Z1j28lDXP9JNGUo3edY/Wls3b9Fx1j/qAUs6Wz/WP6yloxw3P9Y/qU8AYlrG1T/2JjwLfqzVP+SMPduQv9M/GIRcoQh60j9S0O2SWc7RP6L9jcwUEdE/+KuPx7oQ0T8KMtrqoanNP6Qgw0w4P8g/cg35sPRDxb8Sj19ADyPXv35f8i80Vdi/7gDOBNeL2L8=",
          "dtype": "f8"
         },
         "xaxis": "x",
         "y": [
          "spread1",
          "ppe",
          "spread2",
          "mdvp:shimmer",
          "mdvp:apq",
          "shimmer:apq5",
          "mdvp:shimmer(db)",
          "shimmer:apq3",
          "shimmer:dda",
          "d2",
          "mdvp:jitter(abs)",
          "rpde",
          "mdvp:ppq",
          "mdvp:jitter(%)",
          "mdvp:rap",
          "jitter:ddp",
          "dfa",
          "nhr",
          "mdvp:fhi(hz)",
          "hnr",
          "mdvp:flo(hz)",
          "mdvp:fo(hz)"
         ],
         "yaxis": "y"
        }
       ],
       "layout": {
        "barmode": "relative",
        "legend": {
         "tracegroupgap": 0
        },
        "template": {
         "data": {
          "bar": [
           {
            "error_x": {
             "color": "#2a3f5f"
            },
            "error_y": {
             "color": "#2a3f5f"
            },
            "marker": {
             "line": {
              "color": "white",
              "width": 0.5
             },
             "pattern": {
              "fillmode": "overlay",
              "size": 10,
              "solidity": 0.2
             }
            },
            "type": "bar"
           }
          ],
          "barpolar": [
           {
            "marker": {
             "line": {
              "color": "white",
              "width": 0.5
             },
             "pattern": {
              "fillmode": "overlay",
              "size": 10,
              "solidity": 0.2
             }
            },
            "type": "barpolar"
           }
          ],
          "carpet": [
           {
            "aaxis": {
             "endlinecolor": "#2a3f5f",
             "gridcolor": "#C8D4E3",
             "linecolor": "#C8D4E3",
             "minorgridcolor": "#C8D4E3",
             "startlinecolor": "#2a3f5f"
            },
            "baxis": {
             "endlinecolor": "#2a3f5f",
             "gridcolor": "#C8D4E3",
             "linecolor": "#C8D4E3",
             "minorgridcolor": "#C8D4E3",
             "startlinecolor": "#2a3f5f"
            },
            "type": "carpet"
           }
          ],
          "choropleth": [
           {
            "colorbar": {
             "outlinewidth": 0,
             "ticks": ""
            },
            "type": "choropleth"
           }
          ],
          "contour": [
           {
            "colorbar": {
             "outlinewidth": 0,
             "ticks": ""
            },
            "colorscale": [
             [
              0,
              "#0d0887"
             ],
             [
              0.1111111111111111,
              "#46039f"
             ],
             [
              0.2222222222222222,
              "#7201a8"
             ],
             [
              0.3333333333333333,
              "#9c179e"
             ],
             [
              0.4444444444444444,
              "#bd3786"
             ],
             [
              0.5555555555555556,
              "#d8576b"
             ],
             [
              0.6666666666666666,
              "#ed7953"
             ],
             [
              0.7777777777777778,
              "#fb9f3a"
             ],
             [
              0.8888888888888888,
              "#fdca26"
             ],
             [
              1,
              "#f0f921"
             ]
            ],
            "type": "contour"
           }
          ],
          "contourcarpet": [
           {
            "colorbar": {
             "outlinewidth": 0,
             "ticks": ""
            },
            "type": "contourcarpet"
           }
          ],
          "heatmap": [
           {
            "colorbar": {
             "outlinewidth": 0,
             "ticks": ""
            },
            "colorscale": [
             [
              0,
              "#0d0887"
             ],
             [
              0.1111111111111111,
              "#46039f"
             ],
             [
              0.2222222222222222,
              "#7201a8"
             ],
             [
              0.3333333333333333,
              "#9c179e"
             ],
             [
              0.4444444444444444,
              "#bd3786"
             ],
             [
              0.5555555555555556,
              "#d8576b"
             ],
             [
              0.6666666666666666,
              "#ed7953"
             ],
             [
              0.7777777777777778,
              "#fb9f3a"
             ],
             [
              0.8888888888888888,
              "#fdca26"
             ],
             [
              1,
              "#f0f921"
             ]
            ],
            "type": "heatmap"
           }
          ],
          "histogram": [
           {
            "marker": {
             "pattern": {
              "fillmode": "overlay",
              "size": 10,
              "solidity": 0.2
             }
            },
            "type": "histogram"
           }
          ],
          "histogram2d": [
           {
            "colorbar": {
             "outlinewidth": 0,
             "ticks": ""
            },
            "colorscale": [
             [
              0,
              "#0d0887"
             ],
             [
              0.1111111111111111,
              "#46039f"
             ],
             [
              0.2222222222222222,
              "#7201a8"
             ],
             [
              0.3333333333333333,
              "#9c179e"
             ],
             [
              0.4444444444444444,
              "#bd3786"
             ],
             [
              0.5555555555555556,
              "#d8576b"
             ],
             [
              0.6666666666666666,
              "#ed7953"
             ],
             [
              0.7777777777777778,
              "#fb9f3a"
             ],
             [
              0.8888888888888888,
              "#fdca26"
             ],
             [
              1,
              "#f0f921"
             ]
            ],
            "type": "histogram2d"
           }
          ],
          "histogram2dcontour": [
           {
            "colorbar": {
             "outlinewidth": 0,
             "ticks": ""
            },
            "colorscale": [
             [
              0,
              "#0d0887"
             ],
             [
              0.1111111111111111,
              "#46039f"
             ],
             [
              0.2222222222222222,
              "#7201a8"
             ],
             [
              0.3333333333333333,
              "#9c179e"
             ],
             [
              0.4444444444444444,
              "#bd3786"
             ],
             [
              0.5555555555555556,
              "#d8576b"
             ],
             [
              0.6666666666666666,
              "#ed7953"
             ],
             [
              0.7777777777777778,
              "#fb9f3a"
             ],
             [
              0.8888888888888888,
              "#fdca26"
             ],
             [
              1,
              "#f0f921"
             ]
            ],
            "type": "histogram2dcontour"
           }
          ],
          "mesh3d": [
           {
            "colorbar": {
             "outlinewidth": 0,
             "ticks": ""
            },
            "type": "mesh3d"
           }
          ],
          "parcoords": [
           {
            "line": {
             "colorbar": {
              "outlinewidth": 0,
              "ticks": ""
             }
            },
            "type": "parcoords"
           }
          ],
          "pie": [
           {
            "automargin": true,
            "type": "pie"
           }
          ],
          "scatter": [
           {
            "fillpattern": {
             "fillmode": "overlay",
             "size": 10,
             "solidity": 0.2
            },
            "type": "scatter"
           }
          ],
          "scatter3d": [
           {
            "line": {
             "colorbar": {
              "outlinewidth": 0,
              "ticks": ""
             }
            },
            "marker": {
             "colorbar": {
              "outlinewidth": 0,
              "ticks": ""
             }
            },
            "type": "scatter3d"
           }
          ],
          "scattercarpet": [
           {
            "marker": {
             "colorbar": {
              "outlinewidth": 0,
              "ticks": ""
             }
            },
            "type": "scattercarpet"
           }
          ],
          "scattergeo": [
           {
            "marker": {
             "colorbar": {
              "outlinewidth": 0,
              "ticks": ""
             }
            },
            "type": "scattergeo"
           }
          ],
          "scattergl": [
           {
            "marker": {
             "colorbar": {
              "outlinewidth": 0,
              "ticks": ""
             }
            },
            "type": "scattergl"
           }
          ],
          "scattermap": [
           {
            "marker": {
             "colorbar": {
              "outlinewidth": 0,
              "ticks": ""
             }
            },
            "type": "scattermap"
           }
          ],
          "scattermapbox": [
           {
            "marker": {
             "colorbar": {
              "outlinewidth": 0,
              "ticks": ""
             }
            },
            "type": "scattermapbox"
           }
          ],
          "scatterpolar": [
           {
            "marker": {
             "colorbar": {
              "outlinewidth": 0,
              "ticks": ""
             }
            },
            "type": "scatterpolar"
           }
          ],
          "scatterpolargl": [
           {
            "marker": {
             "colorbar": {
              "outlinewidth": 0,
              "ticks": ""
             }
            },
            "type": "scatterpolargl"
           }
          ],
          "scatterternary": [
           {
            "marker": {
             "colorbar": {
              "outlinewidth": 0,
              "ticks": ""
             }
            },
            "type": "scatterternary"
           }
          ],
          "surface": [
           {
            "colorbar": {
             "outlinewidth": 0,
             "ticks": ""
            },
            "colorscale": [
             [
              0,
              "#0d0887"
             ],
             [
              0.1111111111111111,
              "#46039f"
             ],
             [
              0.2222222222222222,
              "#7201a8"
             ],
             [
              0.3333333333333333,
              "#9c179e"
             ],
             [
              0.4444444444444444,
              "#bd3786"
             ],
             [
              0.5555555555555556,
              "#d8576b"
             ],
             [
              0.6666666666666666,
              "#ed7953"
             ],
             [
              0.7777777777777778,
              "#fb9f3a"
             ],
             [
              0.8888888888888888,
              "#fdca26"
             ],
             [
              1,
              "#f0f921"
             ]
            ],
            "type": "surface"
           }
          ],
          "table": [
           {
            "cells": {
             "fill": {
              "color": "#EBF0F8"
             },
             "line": {
              "color": "white"
             }
            },
            "header": {
             "fill": {
              "color": "#C8D4E3"
             },
             "line": {
              "color": "white"
             }
            },
            "type": "table"
           }
          ]
         },
         "layout": {
          "annotationdefaults": {
           "arrowcolor": "#2a3f5f",
           "arrowhead": 0,
           "arrowwidth": 1
          },
          "autotypenumbers": "strict",
          "coloraxis": {
           "colorbar": {
            "outlinewidth": 0,
            "ticks": ""
           }
          },
          "colorscale": {
           "diverging": [
            [
             0,
             "#8e0152"
            ],
            [
             0.1,
             "#c51b7d"
            ],
            [
             0.2,
             "#de77ae"
            ],
            [
             0.3,
             "#f1b6da"
            ],
            [
             0.4,
             "#fde0ef"
            ],
            [
             0.5,
             "#f7f7f7"
            ],
            [
             0.6,
             "#e6f5d0"
            ],
            [
             0.7,
             "#b8e186"
            ],
            [
             0.8,
             "#7fbc41"
            ],
            [
             0.9,
             "#4d9221"
            ],
            [
             1,
             "#276419"
            ]
           ],
           "sequential": [
            [
             0,
             "#0d0887"
            ],
            [
             0.1111111111111111,
             "#46039f"
            ],
            [
             0.2222222222222222,
             "#7201a8"
            ],
            [
             0.3333333333333333,
             "#9c179e"
            ],
            [
             0.4444444444444444,
             "#bd3786"
            ],
            [
             0.5555555555555556,
             "#d8576b"
            ],
            [
             0.6666666666666666,
             "#ed7953"
            ],
            [
             0.7777777777777778,
             "#fb9f3a"
            ],
            [
             0.8888888888888888,
             "#fdca26"
            ],
            [
             1,
             "#f0f921"
            ]
           ],
           "sequentialminus": [
            [
             0,
             "#0d0887"
            ],
            [
             0.1111111111111111,
             "#46039f"
            ],
            [
             0.2222222222222222,
             "#7201a8"
            ],
            [
             0.3333333333333333,
             "#9c179e"
            ],
            [
             0.4444444444444444,
             "#bd3786"
            ],
            [
             0.5555555555555556,
             "#d8576b"
            ],
            [
             0.6666666666666666,
             "#ed7953"
            ],
            [
             0.7777777777777778,
             "#fb9f3a"
            ],
            [
             0.8888888888888888,
             "#fdca26"
            ],
            [
             1,
             "#f0f921"
            ]
           ]
          },
          "colorway": [
           "#636efa",
           "#EF553B",
           "#00cc96",
           "#ab63fa",
           "#FFA15A",
           "#19d3f3",
           "#FF6692",
           "#B6E880",
           "#FF97FF",
           "#FECB52"
          ],
          "font": {
           "color": "#2a3f5f"
          },
          "geo": {
           "bgcolor": "white",
           "lakecolor": "white",
           "landcolor": "white",
           "showlakes": true,
           "showland": true,
           "subunitcolor": "#C8D4E3"
          },
          "hoverlabel": {
           "align": "left"
          },
          "hovermode": "closest",
          "mapbox": {
           "style": "light"
          },
          "paper_bgcolor": "white",
          "plot_bgcolor": "white",
          "polar": {
           "angularaxis": {
            "gridcolor": "#EBF0F8",
            "linecolor": "#EBF0F8",
            "ticks": ""
           },
           "bgcolor": "white",
           "radialaxis": {
            "gridcolor": "#EBF0F8",
            "linecolor": "#EBF0F8",
            "ticks": ""
           }
          },
          "scene": {
           "xaxis": {
            "backgroundcolor": "white",
            "gridcolor": "#DFE8F3",
            "gridwidth": 2,
            "linecolor": "#EBF0F8",
            "showbackground": true,
            "ticks": "",
            "zerolinecolor": "#EBF0F8"
           },
           "yaxis": {
            "backgroundcolor": "white",
            "gridcolor": "#DFE8F3",
            "gridwidth": 2,
            "linecolor": "#EBF0F8",
            "showbackground": true,
            "ticks": "",
            "zerolinecolor": "#EBF0F8"
           },
           "zaxis": {
            "backgroundcolor": "white",
            "gridcolor": "#DFE8F3",
            "gridwidth": 2,
            "linecolor": "#EBF0F8",
            "showbackground": true,
            "ticks": "",
            "zerolinecolor": "#EBF0F8"
           }
          },
          "shapedefaults": {
           "line": {
            "color": "#2a3f5f"
           }
          },
          "ternary": {
           "aaxis": {
            "gridcolor": "#DFE8F3",
            "linecolor": "#A2B1C6",
            "ticks": ""
           },
           "baxis": {
            "gridcolor": "#DFE8F3",
            "linecolor": "#A2B1C6",
            "ticks": ""
           },
           "bgcolor": "white",
           "caxis": {
            "gridcolor": "#DFE8F3",
            "linecolor": "#A2B1C6",
            "ticks": ""
           }
          },
          "title": {
           "x": 0.05
          },
          "xaxis": {
           "automargin": true,
           "gridcolor": "#EBF0F8",
           "linecolor": "#EBF0F8",
           "ticks": "",
           "title": {
            "standoff": 15
           },
           "zerolinecolor": "#EBF0F8",
           "zerolinewidth": 2
          },
          "yaxis": {
           "automargin": true,
           "gridcolor": "#EBF0F8",
           "linecolor": "#EBF0F8",
           "ticks": "",
           "title": {
            "standoff": 15
           },
           "zerolinecolor": "#EBF0F8",
           "zerolinewidth": 2
          }
         }
        },
        "title": {
         "text": "Feature Correlation with Parkinson’s Disease"
        },
        "xaxis": {
         "anchor": "y",
         "domain": [
          0,
          1
         ],
         "title": {
          "text": "Correlation"
         }
        },
        "yaxis": {
         "anchor": "x",
         "categoryorder": "total ascending",
         "domain": [
          0,
          1
         ],
         "title": {
          "text": "Feature"
         }
        }
       }
      }
     },
     "metadata": {},
     "output_type": "display_data"
    }
   ],
   "source": [
    "# 📊 Step 9: Feature Correlation with Target Variable (Parkinson’s Disease)\n",
    "\n",
    "# ✅ Compute correlation of each feature with 'status'\n",
    "if 'status' in df_scaled.columns:\n",
    "    corr = df_scaled.corr(numeric_only=True)['status'].drop('status').sort_values(ascending=False)\n",
    "\n",
    "    # ✅ Plot feature correlation as a horizontal bar chart\n",
    "    fig = px.bar(\n",
    "        x=corr.values, \n",
    "        y=corr.index,\n",
    "        orientation='h',\n",
    "        title=\"Feature Correlation with Parkinson’s Disease\",\n",
    "        labels={'x': 'Correlation', 'y': 'Feature'},\n",
    "        template=\"plotly_white\"\n",
    "    )\n",
    "    fig.update_layout(yaxis={'categoryorder': 'total ascending'})\n",
    "    fig.show()\n",
    "else:\n",
    "    print(\"⚠️ 'status' column not found in dataset.\")\n"
   ]
  },
  {
   "cell_type": "code",
   "execution_count": 11,
   "id": "a8fc867e",
   "metadata": {},
   "outputs": [
    {
     "data": {
      "application/vnd.plotly.v1+json": {
       "config": {
        "plotlyServerURL": "https://plot.ly"
       },
       "data": [
        {
         "colorscale": [
          [
           0,
           "#440154"
          ],
          [
           0.1111111111111111,
           "#482878"
          ],
          [
           0.2222222222222222,
           "#3e4989"
          ],
          [
           0.3333333333333333,
           "#31688e"
          ],
          [
           0.4444444444444444,
           "#26828e"
          ],
          [
           0.5555555555555556,
           "#1f9e89"
          ],
          [
           0.6666666666666666,
           "#35b779"
          ],
          [
           0.7777777777777778,
           "#6ece58"
          ],
          [
           0.8888888888888888,
           "#b5de2b"
          ],
          [
           1,
           "#fde725"
          ]
         ],
         "type": "heatmap",
         "x": [
          "mdvp:fo(hz)",
          "mdvp:fhi(hz)",
          "mdvp:flo(hz)",
          "mdvp:jitter(%)",
          "mdvp:jitter(abs)",
          "mdvp:rap",
          "mdvp:ppq",
          "jitter:ddp",
          "mdvp:shimmer",
          "mdvp:shimmer(db)",
          "shimmer:apq3",
          "shimmer:apq5",
          "mdvp:apq",
          "shimmer:dda",
          "nhr",
          "hnr",
          "rpde",
          "dfa",
          "spread1",
          "spread2",
          "d2",
          "ppe",
          "status"
         ],
         "y": [
          "mdvp:fo(hz)",
          "mdvp:fhi(hz)",
          "mdvp:flo(hz)",
          "mdvp:jitter(%)",
          "mdvp:jitter(abs)",
          "mdvp:rap",
          "mdvp:ppq",
          "jitter:ddp",
          "mdvp:shimmer",
          "mdvp:shimmer(db)",
          "shimmer:apq3",
          "shimmer:apq5",
          "mdvp:apq",
          "shimmer:dda",
          "nhr",
          "hnr",
          "rpde",
          "dfa",
          "spread1",
          "spread2",
          "d2",
          "ppe",
          "status"
         ],
         "z": {
          "bdata": "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",
          "dtype": "f8",
          "shape": "23, 23"
         }
        }
       ],
       "layout": {
        "template": {
         "data": {
          "bar": [
           {
            "error_x": {
             "color": "#2a3f5f"
            },
            "error_y": {
             "color": "#2a3f5f"
            },
            "marker": {
             "line": {
              "color": "#E5ECF6",
              "width": 0.5
             },
             "pattern": {
              "fillmode": "overlay",
              "size": 10,
              "solidity": 0.2
             }
            },
            "type": "bar"
           }
          ],
          "barpolar": [
           {
            "marker": {
             "line": {
              "color": "#E5ECF6",
              "width": 0.5
             },
             "pattern": {
              "fillmode": "overlay",
              "size": 10,
              "solidity": 0.2
             }
            },
            "type": "barpolar"
           }
          ],
          "carpet": [
           {
            "aaxis": {
             "endlinecolor": "#2a3f5f",
             "gridcolor": "white",
             "linecolor": "white",
             "minorgridcolor": "white",
             "startlinecolor": "#2a3f5f"
            },
            "baxis": {
             "endlinecolor": "#2a3f5f",
             "gridcolor": "white",
             "linecolor": "white",
             "minorgridcolor": "white",
             "startlinecolor": "#2a3f5f"
            },
            "type": "carpet"
           }
          ],
          "choropleth": [
           {
            "colorbar": {
             "outlinewidth": 0,
             "ticks": ""
            },
            "type": "choropleth"
           }
          ],
          "contour": [
           {
            "colorbar": {
             "outlinewidth": 0,
             "ticks": ""
            },
            "colorscale": [
             [
              0,
              "#0d0887"
             ],
             [
              0.1111111111111111,
              "#46039f"
             ],
             [
              0.2222222222222222,
              "#7201a8"
             ],
             [
              0.3333333333333333,
              "#9c179e"
             ],
             [
              0.4444444444444444,
              "#bd3786"
             ],
             [
              0.5555555555555556,
              "#d8576b"
             ],
             [
              0.6666666666666666,
              "#ed7953"
             ],
             [
              0.7777777777777778,
              "#fb9f3a"
             ],
             [
              0.8888888888888888,
              "#fdca26"
             ],
             [
              1,
              "#f0f921"
             ]
            ],
            "type": "contour"
           }
          ],
          "contourcarpet": [
           {
            "colorbar": {
             "outlinewidth": 0,
             "ticks": ""
            },
            "type": "contourcarpet"
           }
          ],
          "heatmap": [
           {
            "colorbar": {
             "outlinewidth": 0,
             "ticks": ""
            },
            "colorscale": [
             [
              0,
              "#0d0887"
             ],
             [
              0.1111111111111111,
              "#46039f"
             ],
             [
              0.2222222222222222,
              "#7201a8"
             ],
             [
              0.3333333333333333,
              "#9c179e"
             ],
             [
              0.4444444444444444,
              "#bd3786"
             ],
             [
              0.5555555555555556,
              "#d8576b"
             ],
             [
              0.6666666666666666,
              "#ed7953"
             ],
             [
              0.7777777777777778,
              "#fb9f3a"
             ],
             [
              0.8888888888888888,
              "#fdca26"
             ],
             [
              1,
              "#f0f921"
             ]
            ],
            "type": "heatmap"
           }
          ],
          "histogram": [
           {
            "marker": {
             "pattern": {
              "fillmode": "overlay",
              "size": 10,
              "solidity": 0.2
             }
            },
            "type": "histogram"
           }
          ],
          "histogram2d": [
           {
            "colorbar": {
             "outlinewidth": 0,
             "ticks": ""
            },
            "colorscale": [
             [
              0,
              "#0d0887"
             ],
             [
              0.1111111111111111,
              "#46039f"
             ],
             [
              0.2222222222222222,
              "#7201a8"
             ],
             [
              0.3333333333333333,
              "#9c179e"
             ],
             [
              0.4444444444444444,
              "#bd3786"
             ],
             [
              0.5555555555555556,
              "#d8576b"
             ],
             [
              0.6666666666666666,
              "#ed7953"
             ],
             [
              0.7777777777777778,
              "#fb9f3a"
             ],
             [
              0.8888888888888888,
              "#fdca26"
             ],
             [
              1,
              "#f0f921"
             ]
            ],
            "type": "histogram2d"
           }
          ],
          "histogram2dcontour": [
           {
            "colorbar": {
             "outlinewidth": 0,
             "ticks": ""
            },
            "colorscale": [
             [
              0,
              "#0d0887"
             ],
             [
              0.1111111111111111,
              "#46039f"
             ],
             [
              0.2222222222222222,
              "#7201a8"
             ],
             [
              0.3333333333333333,
              "#9c179e"
             ],
             [
              0.4444444444444444,
              "#bd3786"
             ],
             [
              0.5555555555555556,
              "#d8576b"
             ],
             [
              0.6666666666666666,
              "#ed7953"
             ],
             [
              0.7777777777777778,
              "#fb9f3a"
             ],
             [
              0.8888888888888888,
              "#fdca26"
             ],
             [
              1,
              "#f0f921"
             ]
            ],
            "type": "histogram2dcontour"
           }
          ],
          "mesh3d": [
           {
            "colorbar": {
             "outlinewidth": 0,
             "ticks": ""
            },
            "type": "mesh3d"
           }
          ],
          "parcoords": [
           {
            "line": {
             "colorbar": {
              "outlinewidth": 0,
              "ticks": ""
             }
            },
            "type": "parcoords"
           }
          ],
          "pie": [
           {
            "automargin": true,
            "type": "pie"
           }
          ],
          "scatter": [
           {
            "fillpattern": {
             "fillmode": "overlay",
             "size": 10,
             "solidity": 0.2
            },
            "type": "scatter"
           }
          ],
          "scatter3d": [
           {
            "line": {
             "colorbar": {
              "outlinewidth": 0,
              "ticks": ""
             }
            },
            "marker": {
             "colorbar": {
              "outlinewidth": 0,
              "ticks": ""
             }
            },
            "type": "scatter3d"
           }
          ],
          "scattercarpet": [
           {
            "marker": {
             "colorbar": {
              "outlinewidth": 0,
              "ticks": ""
             }
            },
            "type": "scattercarpet"
           }
          ],
          "scattergeo": [
           {
            "marker": {
             "colorbar": {
              "outlinewidth": 0,
              "ticks": ""
             }
            },
            "type": "scattergeo"
           }
          ],
          "scattergl": [
           {
            "marker": {
             "colorbar": {
              "outlinewidth": 0,
              "ticks": ""
             }
            },
            "type": "scattergl"
           }
          ],
          "scattermap": [
           {
            "marker": {
             "colorbar": {
              "outlinewidth": 0,
              "ticks": ""
             }
            },
            "type": "scattermap"
           }
          ],
          "scattermapbox": [
           {
            "marker": {
             "colorbar": {
              "outlinewidth": 0,
              "ticks": ""
             }
            },
            "type": "scattermapbox"
           }
          ],
          "scatterpolar": [
           {
            "marker": {
             "colorbar": {
              "outlinewidth": 0,
              "ticks": ""
             }
            },
            "type": "scatterpolar"
           }
          ],
          "scatterpolargl": [
           {
            "marker": {
             "colorbar": {
              "outlinewidth": 0,
              "ticks": ""
             }
            },
            "type": "scatterpolargl"
           }
          ],
          "scatterternary": [
           {
            "marker": {
             "colorbar": {
              "outlinewidth": 0,
              "ticks": ""
             }
            },
            "type": "scatterternary"
           }
          ],
          "surface": [
           {
            "colorbar": {
             "outlinewidth": 0,
             "ticks": ""
            },
            "colorscale": [
             [
              0,
              "#0d0887"
             ],
             [
              0.1111111111111111,
              "#46039f"
             ],
             [
              0.2222222222222222,
              "#7201a8"
             ],
             [
              0.3333333333333333,
              "#9c179e"
             ],
             [
              0.4444444444444444,
              "#bd3786"
             ],
             [
              0.5555555555555556,
              "#d8576b"
             ],
             [
              0.6666666666666666,
              "#ed7953"
             ],
             [
              0.7777777777777778,
              "#fb9f3a"
             ],
             [
              0.8888888888888888,
              "#fdca26"
             ],
             [
              1,
              "#f0f921"
             ]
            ],
            "type": "surface"
           }
          ],
          "table": [
           {
            "cells": {
             "fill": {
              "color": "#EBF0F8"
             },
             "line": {
              "color": "white"
             }
            },
            "header": {
             "fill": {
              "color": "#C8D4E3"
             },
             "line": {
              "color": "white"
             }
            },
            "type": "table"
           }
          ]
         },
         "layout": {
          "annotationdefaults": {
           "arrowcolor": "#2a3f5f",
           "arrowhead": 0,
           "arrowwidth": 1
          },
          "autotypenumbers": "strict",
          "coloraxis": {
           "colorbar": {
            "outlinewidth": 0,
            "ticks": ""
           }
          },
          "colorscale": {
           "diverging": [
            [
             0,
             "#8e0152"
            ],
            [
             0.1,
             "#c51b7d"
            ],
            [
             0.2,
             "#de77ae"
            ],
            [
             0.3,
             "#f1b6da"
            ],
            [
             0.4,
             "#fde0ef"
            ],
            [
             0.5,
             "#f7f7f7"
            ],
            [
             0.6,
             "#e6f5d0"
            ],
            [
             0.7,
             "#b8e186"
            ],
            [
             0.8,
             "#7fbc41"
            ],
            [
             0.9,
             "#4d9221"
            ],
            [
             1,
             "#276419"
            ]
           ],
           "sequential": [
            [
             0,
             "#0d0887"
            ],
            [
             0.1111111111111111,
             "#46039f"
            ],
            [
             0.2222222222222222,
             "#7201a8"
            ],
            [
             0.3333333333333333,
             "#9c179e"
            ],
            [
             0.4444444444444444,
             "#bd3786"
            ],
            [
             0.5555555555555556,
             "#d8576b"
            ],
            [
             0.6666666666666666,
             "#ed7953"
            ],
            [
             0.7777777777777778,
             "#fb9f3a"
            ],
            [
             0.8888888888888888,
             "#fdca26"
            ],
            [
             1,
             "#f0f921"
            ]
           ],
           "sequentialminus": [
            [
             0,
             "#0d0887"
            ],
            [
             0.1111111111111111,
             "#46039f"
            ],
            [
             0.2222222222222222,
             "#7201a8"
            ],
            [
             0.3333333333333333,
             "#9c179e"
            ],
            [
             0.4444444444444444,
             "#bd3786"
            ],
            [
             0.5555555555555556,
             "#d8576b"
            ],
            [
             0.6666666666666666,
             "#ed7953"
            ],
            [
             0.7777777777777778,
             "#fb9f3a"
            ],
            [
             0.8888888888888888,
             "#fdca26"
            ],
            [
             1,
             "#f0f921"
            ]
           ]
          },
          "colorway": [
           "#636efa",
           "#EF553B",
           "#00cc96",
           "#ab63fa",
           "#FFA15A",
           "#19d3f3",
           "#FF6692",
           "#B6E880",
           "#FF97FF",
           "#FECB52"
          ],
          "font": {
           "color": "#2a3f5f"
          },
          "geo": {
           "bgcolor": "white",
           "lakecolor": "white",
           "landcolor": "#E5ECF6",
           "showlakes": true,
           "showland": true,
           "subunitcolor": "white"
          },
          "hoverlabel": {
           "align": "left"
          },
          "hovermode": "closest",
          "mapbox": {
           "style": "light"
          },
          "paper_bgcolor": "white",
          "plot_bgcolor": "#E5ECF6",
          "polar": {
           "angularaxis": {
            "gridcolor": "white",
            "linecolor": "white",
            "ticks": ""
           },
           "bgcolor": "#E5ECF6",
           "radialaxis": {
            "gridcolor": "white",
            "linecolor": "white",
            "ticks": ""
           }
          },
          "scene": {
           "xaxis": {
            "backgroundcolor": "#E5ECF6",
            "gridcolor": "white",
            "gridwidth": 2,
            "linecolor": "white",
            "showbackground": true,
            "ticks": "",
            "zerolinecolor": "white"
           },
           "yaxis": {
            "backgroundcolor": "#E5ECF6",
            "gridcolor": "white",
            "gridwidth": 2,
            "linecolor": "white",
            "showbackground": true,
            "ticks": "",
            "zerolinecolor": "white"
           },
           "zaxis": {
            "backgroundcolor": "#E5ECF6",
            "gridcolor": "white",
            "gridwidth": 2,
            "linecolor": "white",
            "showbackground": true,
            "ticks": "",
            "zerolinecolor": "white"
           }
          },
          "shapedefaults": {
           "line": {
            "color": "#2a3f5f"
           }
          },
          "ternary": {
           "aaxis": {
            "gridcolor": "white",
            "linecolor": "white",
            "ticks": ""
           },
           "baxis": {
            "gridcolor": "white",
            "linecolor": "white",
            "ticks": ""
           },
           "bgcolor": "#E5ECF6",
           "caxis": {
            "gridcolor": "white",
            "linecolor": "white",
            "ticks": ""
           }
          },
          "title": {
           "x": 0.05
          },
          "xaxis": {
           "automargin": true,
           "gridcolor": "white",
           "linecolor": "white",
           "ticks": "",
           "title": {
            "standoff": 15
           },
           "zerolinecolor": "white",
           "zerolinewidth": 2
          },
          "yaxis": {
           "automargin": true,
           "gridcolor": "white",
           "linecolor": "white",
           "ticks": "",
           "title": {
            "standoff": 15
           },
           "zerolinecolor": "white",
           "zerolinewidth": 2
          }
         }
        },
        "title": {
         "text": "Correlation Heatmap of Parkinson’s Features"
        }
       }
      }
     },
     "metadata": {},
     "output_type": "display_data"
    }
   ],
   "source": [
    "# 📊 Step 10: Multivariate Analysis – Correlation Heatmap (Parkinson’s Dataset)\n",
    "\n",
    "# Plot a full heatmap of feature correlations\n",
    "fig = go.Figure(data=go.Heatmap(\n",
    "    z=df_scaled.corr().values,\n",
    "    x=df_scaled.columns,\n",
    "    y=df_scaled.columns,\n",
    "    colorscale='Viridis'\n",
    "))\n",
    "fig.update_layout(title=\"Correlation Heatmap of Parkinson’s Features\")\n",
    "fig.show()\n"
   ]
  }
 ],
 "metadata": {
  "kernelspec": {
   "display_name": ".venv (3.13.3)",
   "language": "python",
   "name": "python3"
  },
  "language_info": {
   "codemirror_mode": {
    "name": "ipython",
    "version": 3
   },
   "file_extension": ".py",
   "mimetype": "text/x-python",
   "name": "python",
   "nbconvert_exporter": "python",
   "pygments_lexer": "ipython3",
   "version": "3.13.3"
  }
 },
 "nbformat": 4,
 "nbformat_minor": 5
}
