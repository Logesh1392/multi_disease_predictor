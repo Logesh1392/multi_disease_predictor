{
 "cells": [
  {
   "cell_type": "code",
   "execution_count": 1,
   "id": "6a1f1587",
   "metadata": {},
   "outputs": [],
   "source": [
    "# 📌 Step 1: Import Libraries\n",
    "\n",
    "import pandas as pd\n",
    "import numpy as np\n",
    "import plotly.express as px\n",
    "import plotly.graph_objects as go\n",
    "from sklearn.preprocessing import LabelEncoder, StandardScaler\n"
   ]
  },
  {
   "cell_type": "code",
   "execution_count": 2,
   "id": "76b0003e",
   "metadata": {},
   "outputs": [
    {
     "data": {
      "text/html": [
       "<div>\n",
       "<style scoped>\n",
       "    .dataframe tbody tr th:only-of-type {\n",
       "        vertical-align: middle;\n",
       "    }\n",
       "\n",
       "    .dataframe tbody tr th {\n",
       "        vertical-align: top;\n",
       "    }\n",
       "\n",
       "    .dataframe thead th {\n",
       "        text-align: right;\n",
       "    }\n",
       "</style>\n",
       "<table border=\"1\" class=\"dataframe\">\n",
       "  <thead>\n",
       "    <tr style=\"text-align: right;\">\n",
       "      <th></th>\n",
       "      <th>id</th>\n",
       "      <th>age</th>\n",
       "      <th>bp</th>\n",
       "      <th>sg</th>\n",
       "      <th>al</th>\n",
       "      <th>su</th>\n",
       "      <th>rbc</th>\n",
       "      <th>pc</th>\n",
       "      <th>pcc</th>\n",
       "      <th>ba</th>\n",
       "      <th>...</th>\n",
       "      <th>pcv</th>\n",
       "      <th>wc</th>\n",
       "      <th>rc</th>\n",
       "      <th>htn</th>\n",
       "      <th>dm</th>\n",
       "      <th>cad</th>\n",
       "      <th>appet</th>\n",
       "      <th>pe</th>\n",
       "      <th>ane</th>\n",
       "      <th>classification</th>\n",
       "    </tr>\n",
       "  </thead>\n",
       "  <tbody>\n",
       "    <tr>\n",
       "      <th>0</th>\n",
       "      <td>0</td>\n",
       "      <td>48.0</td>\n",
       "      <td>80.0</td>\n",
       "      <td>1.020</td>\n",
       "      <td>1.0</td>\n",
       "      <td>0.0</td>\n",
       "      <td>NaN</td>\n",
       "      <td>normal</td>\n",
       "      <td>notpresent</td>\n",
       "      <td>notpresent</td>\n",
       "      <td>...</td>\n",
       "      <td>44</td>\n",
       "      <td>7800</td>\n",
       "      <td>5.2</td>\n",
       "      <td>yes</td>\n",
       "      <td>yes</td>\n",
       "      <td>no</td>\n",
       "      <td>good</td>\n",
       "      <td>no</td>\n",
       "      <td>no</td>\n",
       "      <td>ckd</td>\n",
       "    </tr>\n",
       "    <tr>\n",
       "      <th>1</th>\n",
       "      <td>1</td>\n",
       "      <td>7.0</td>\n",
       "      <td>50.0</td>\n",
       "      <td>1.020</td>\n",
       "      <td>4.0</td>\n",
       "      <td>0.0</td>\n",
       "      <td>NaN</td>\n",
       "      <td>normal</td>\n",
       "      <td>notpresent</td>\n",
       "      <td>notpresent</td>\n",
       "      <td>...</td>\n",
       "      <td>38</td>\n",
       "      <td>6000</td>\n",
       "      <td>NaN</td>\n",
       "      <td>no</td>\n",
       "      <td>no</td>\n",
       "      <td>no</td>\n",
       "      <td>good</td>\n",
       "      <td>no</td>\n",
       "      <td>no</td>\n",
       "      <td>ckd</td>\n",
       "    </tr>\n",
       "    <tr>\n",
       "      <th>2</th>\n",
       "      <td>2</td>\n",
       "      <td>62.0</td>\n",
       "      <td>80.0</td>\n",
       "      <td>1.010</td>\n",
       "      <td>2.0</td>\n",
       "      <td>3.0</td>\n",
       "      <td>normal</td>\n",
       "      <td>normal</td>\n",
       "      <td>notpresent</td>\n",
       "      <td>notpresent</td>\n",
       "      <td>...</td>\n",
       "      <td>31</td>\n",
       "      <td>7500</td>\n",
       "      <td>NaN</td>\n",
       "      <td>no</td>\n",
       "      <td>yes</td>\n",
       "      <td>no</td>\n",
       "      <td>poor</td>\n",
       "      <td>no</td>\n",
       "      <td>yes</td>\n",
       "      <td>ckd</td>\n",
       "    </tr>\n",
       "    <tr>\n",
       "      <th>3</th>\n",
       "      <td>3</td>\n",
       "      <td>48.0</td>\n",
       "      <td>70.0</td>\n",
       "      <td>1.005</td>\n",
       "      <td>4.0</td>\n",
       "      <td>0.0</td>\n",
       "      <td>normal</td>\n",
       "      <td>abnormal</td>\n",
       "      <td>present</td>\n",
       "      <td>notpresent</td>\n",
       "      <td>...</td>\n",
       "      <td>32</td>\n",
       "      <td>6700</td>\n",
       "      <td>3.9</td>\n",
       "      <td>yes</td>\n",
       "      <td>no</td>\n",
       "      <td>no</td>\n",
       "      <td>poor</td>\n",
       "      <td>yes</td>\n",
       "      <td>yes</td>\n",
       "      <td>ckd</td>\n",
       "    </tr>\n",
       "    <tr>\n",
       "      <th>4</th>\n",
       "      <td>4</td>\n",
       "      <td>51.0</td>\n",
       "      <td>80.0</td>\n",
       "      <td>1.010</td>\n",
       "      <td>2.0</td>\n",
       "      <td>0.0</td>\n",
       "      <td>normal</td>\n",
       "      <td>normal</td>\n",
       "      <td>notpresent</td>\n",
       "      <td>notpresent</td>\n",
       "      <td>...</td>\n",
       "      <td>35</td>\n",
       "      <td>7300</td>\n",
       "      <td>4.6</td>\n",
       "      <td>no</td>\n",
       "      <td>no</td>\n",
       "      <td>no</td>\n",
       "      <td>good</td>\n",
       "      <td>no</td>\n",
       "      <td>no</td>\n",
       "      <td>ckd</td>\n",
       "    </tr>\n",
       "  </tbody>\n",
       "</table>\n",
       "<p>5 rows × 26 columns</p>\n",
       "</div>"
      ],
      "text/plain": [
       "   id   age    bp     sg   al   su     rbc        pc         pcc          ba  \\\n",
       "0   0  48.0  80.0  1.020  1.0  0.0     NaN    normal  notpresent  notpresent   \n",
       "1   1   7.0  50.0  1.020  4.0  0.0     NaN    normal  notpresent  notpresent   \n",
       "2   2  62.0  80.0  1.010  2.0  3.0  normal    normal  notpresent  notpresent   \n",
       "3   3  48.0  70.0  1.005  4.0  0.0  normal  abnormal     present  notpresent   \n",
       "4   4  51.0  80.0  1.010  2.0  0.0  normal    normal  notpresent  notpresent   \n",
       "\n",
       "   ...  pcv    wc   rc  htn   dm  cad appet   pe  ane classification  \n",
       "0  ...   44  7800  5.2  yes  yes   no  good   no   no            ckd  \n",
       "1  ...   38  6000  NaN   no   no   no  good   no   no            ckd  \n",
       "2  ...   31  7500  NaN   no  yes   no  poor   no  yes            ckd  \n",
       "3  ...   32  6700  3.9  yes   no   no  poor  yes  yes            ckd  \n",
       "4  ...   35  7300  4.6   no   no   no  good   no   no            ckd  \n",
       "\n",
       "[5 rows x 26 columns]"
      ]
     },
     "execution_count": 2,
     "metadata": {},
     "output_type": "execute_result"
    }
   ],
   "source": [
    "# Step 2: Load Dataset\n",
    "\n",
    "\n",
    "# Load dataset\n",
    "df = pd.read_csv(r\"E:\\MultipleDisease\\kidney_disease.csv\")  # Use raw string 'r' to handle Windows paths safely\n",
    "\n",
    "# Clean column names: strip whitespace, lowercase, replace spaces with underscores\n",
    "df.columns = df.columns.str.strip().str.lower().str.replace(' ', '_')\n",
    "\n",
    "# Display the first 5 rows\n",
    "df.head()\n"
   ]
  },
  {
   "cell_type": "code",
   "execution_count": 11,
   "id": "4411cabd",
   "metadata": {},
   "outputs": [
    {
     "data": {
      "text/plain": [
       "classification\n",
       "1    250\n",
       "0    150\n",
       "Name: count, dtype: int64"
      ]
     },
     "execution_count": 11,
     "metadata": {},
     "output_type": "execute_result"
    }
   ],
   "source": [
    "# 📌 Step 3: Basic Data Cleaning\n",
    "\n",
    "# Drop unnamed columns (e.g., 'Unnamed: 0') if present\n",
    "df = df.loc[:, ~df.columns.str.contains('^unnamed', case=False)]\n",
    "\n",
    "# Drop rows where 'classification' (target) is missing\n",
    "df.dropna(subset=['classification'], inplace=True)\n",
    "\n",
    "# Clean and encode the target variable\n",
    "df['classification'] = (\n",
    "    df['classification']\n",
    "    .astype(str)                      # Ensure all are strings\n",
    "    .str.strip()                      # Remove leading/trailing spaces or tabs\n",
    "    .str.lower()                      # Convert to lowercase\n",
    "    .replace({'ckd': 1, 'ckd\\t': 1, 'notckd': 0, 'notckd\\t': 0})\n",
    ")\n",
    "\n",
    "# Show class distribution\n",
    "df['classification'].value_counts()\n"
   ]
  },
  {
   "cell_type": "code",
   "execution_count": 12,
   "id": "9817e9ad",
   "metadata": {},
   "outputs": [
    {
     "data": {
      "text/html": [
       "<div>\n",
       "<style scoped>\n",
       "    .dataframe tbody tr th:only-of-type {\n",
       "        vertical-align: middle;\n",
       "    }\n",
       "\n",
       "    .dataframe tbody tr th {\n",
       "        vertical-align: top;\n",
       "    }\n",
       "\n",
       "    .dataframe thead th {\n",
       "        text-align: right;\n",
       "    }\n",
       "</style>\n",
       "<table border=\"1\" class=\"dataframe\">\n",
       "  <thead>\n",
       "    <tr style=\"text-align: right;\">\n",
       "      <th></th>\n",
       "      <th>id</th>\n",
       "      <th>age</th>\n",
       "      <th>bp</th>\n",
       "      <th>sg</th>\n",
       "      <th>al</th>\n",
       "      <th>su</th>\n",
       "      <th>rbc</th>\n",
       "      <th>pc</th>\n",
       "      <th>pcc</th>\n",
       "      <th>ba</th>\n",
       "      <th>...</th>\n",
       "      <th>pcv</th>\n",
       "      <th>wc</th>\n",
       "      <th>rc</th>\n",
       "      <th>htn</th>\n",
       "      <th>dm</th>\n",
       "      <th>cad</th>\n",
       "      <th>appet</th>\n",
       "      <th>pe</th>\n",
       "      <th>ane</th>\n",
       "      <th>classification</th>\n",
       "    </tr>\n",
       "  </thead>\n",
       "  <tbody>\n",
       "    <tr>\n",
       "      <th>0</th>\n",
       "      <td>-1.727726</td>\n",
       "      <td>-0.210031</td>\n",
       "      <td>0.254214</td>\n",
       "      <td>0.421486</td>\n",
       "      <td>0.076249</td>\n",
       "      <td>-0.380269</td>\n",
       "      <td>-0.560523</td>\n",
       "      <td>0.684468</td>\n",
       "      <td>-0.291825</td>\n",
       "      <td>-0.17932</td>\n",
       "      <td>...</td>\n",
       "      <td>0.189948</td>\n",
       "      <td>0.253875</td>\n",
       "      <td>-0.125620</td>\n",
       "      <td>1.298336</td>\n",
       "      <td>1.370741</td>\n",
       "      <td>-0.276686</td>\n",
       "      <td>-0.510723</td>\n",
       "      <td>-0.472690</td>\n",
       "      <td>-0.407926</td>\n",
       "      <td>1</td>\n",
       "    </tr>\n",
       "    <tr>\n",
       "      <th>1</th>\n",
       "      <td>-1.719066</td>\n",
       "      <td>-2.627234</td>\n",
       "      <td>-1.972476</td>\n",
       "      <td>0.421486</td>\n",
       "      <td>2.363728</td>\n",
       "      <td>-0.380269</td>\n",
       "      <td>-0.560523</td>\n",
       "      <td>0.684468</td>\n",
       "      <td>-0.291825</td>\n",
       "      <td>-0.17932</td>\n",
       "      <td>...</td>\n",
       "      <td>-0.390784</td>\n",
       "      <td>-0.325583</td>\n",
       "      <td>1.074572</td>\n",
       "      <td>-0.738270</td>\n",
       "      <td>-0.698302</td>\n",
       "      <td>-0.276686</td>\n",
       "      <td>-0.510723</td>\n",
       "      <td>-0.472690</td>\n",
       "      <td>-0.407926</td>\n",
       "      <td>1</td>\n",
       "    </tr>\n",
       "    <tr>\n",
       "      <th>2</th>\n",
       "      <td>-1.710406</td>\n",
       "      <td>0.615355</td>\n",
       "      <td>0.254214</td>\n",
       "      <td>-1.421074</td>\n",
       "      <td>0.838742</td>\n",
       "      <td>2.507853</td>\n",
       "      <td>0.895381</td>\n",
       "      <td>0.684468</td>\n",
       "      <td>-0.291825</td>\n",
       "      <td>-0.17932</td>\n",
       "      <td>...</td>\n",
       "      <td>-1.068304</td>\n",
       "      <td>0.181443</td>\n",
       "      <td>1.074572</td>\n",
       "      <td>-0.738270</td>\n",
       "      <td>1.370741</td>\n",
       "      <td>-0.276686</td>\n",
       "      <td>1.965511</td>\n",
       "      <td>-0.472690</td>\n",
       "      <td>2.357675</td>\n",
       "      <td>1</td>\n",
       "    </tr>\n",
       "    <tr>\n",
       "      <th>3</th>\n",
       "      <td>-1.701745</td>\n",
       "      <td>-0.210031</td>\n",
       "      <td>-0.488016</td>\n",
       "      <td>-2.342354</td>\n",
       "      <td>2.363728</td>\n",
       "      <td>-0.380269</td>\n",
       "      <td>0.895381</td>\n",
       "      <td>-1.838915</td>\n",
       "      <td>2.780013</td>\n",
       "      <td>-0.17932</td>\n",
       "      <td>...</td>\n",
       "      <td>-0.971515</td>\n",
       "      <td>-0.108286</td>\n",
       "      <td>-1.165786</td>\n",
       "      <td>1.298336</td>\n",
       "      <td>-0.698302</td>\n",
       "      <td>-0.276686</td>\n",
       "      <td>1.965511</td>\n",
       "      <td>2.048324</td>\n",
       "      <td>2.357675</td>\n",
       "      <td>1</td>\n",
       "    </tr>\n",
       "    <tr>\n",
       "      <th>4</th>\n",
       "      <td>-1.693085</td>\n",
       "      <td>-0.033163</td>\n",
       "      <td>0.254214</td>\n",
       "      <td>-1.421074</td>\n",
       "      <td>0.838742</td>\n",
       "      <td>-0.380269</td>\n",
       "      <td>0.895381</td>\n",
       "      <td>0.684468</td>\n",
       "      <td>-0.291825</td>\n",
       "      <td>-0.17932</td>\n",
       "      <td>...</td>\n",
       "      <td>-0.681149</td>\n",
       "      <td>0.109010</td>\n",
       "      <td>-0.605697</td>\n",
       "      <td>-0.738270</td>\n",
       "      <td>-0.698302</td>\n",
       "      <td>-0.276686</td>\n",
       "      <td>-0.510723</td>\n",
       "      <td>-0.472690</td>\n",
       "      <td>-0.407926</td>\n",
       "      <td>1</td>\n",
       "    </tr>\n",
       "  </tbody>\n",
       "</table>\n",
       "<p>5 rows × 26 columns</p>\n",
       "</div>"
      ],
      "text/plain": [
       "         id       age        bp        sg        al        su       rbc  \\\n",
       "0 -1.727726 -0.210031  0.254214  0.421486  0.076249 -0.380269 -0.560523   \n",
       "1 -1.719066 -2.627234 -1.972476  0.421486  2.363728 -0.380269 -0.560523   \n",
       "2 -1.710406  0.615355  0.254214 -1.421074  0.838742  2.507853  0.895381   \n",
       "3 -1.701745 -0.210031 -0.488016 -2.342354  2.363728 -0.380269  0.895381   \n",
       "4 -1.693085 -0.033163  0.254214 -1.421074  0.838742 -0.380269  0.895381   \n",
       "\n",
       "         pc       pcc       ba  ...       pcv        wc        rc       htn  \\\n",
       "0  0.684468 -0.291825 -0.17932  ...  0.189948  0.253875 -0.125620  1.298336   \n",
       "1  0.684468 -0.291825 -0.17932  ... -0.390784 -0.325583  1.074572 -0.738270   \n",
       "2  0.684468 -0.291825 -0.17932  ... -1.068304  0.181443  1.074572 -0.738270   \n",
       "3 -1.838915  2.780013 -0.17932  ... -0.971515 -0.108286 -1.165786  1.298336   \n",
       "4  0.684468 -0.291825 -0.17932  ... -0.681149  0.109010 -0.605697 -0.738270   \n",
       "\n",
       "         dm       cad     appet        pe       ane  classification  \n",
       "0  1.370741 -0.276686 -0.510723 -0.472690 -0.407926               1  \n",
       "1 -0.698302 -0.276686 -0.510723 -0.472690 -0.407926               1  \n",
       "2  1.370741 -0.276686  1.965511 -0.472690  2.357675               1  \n",
       "3 -0.698302 -0.276686  1.965511  2.048324  2.357675               1  \n",
       "4 -0.698302 -0.276686 -0.510723 -0.472690 -0.407926               1  \n",
       "\n",
       "[5 rows x 26 columns]"
      ]
     },
     "execution_count": 12,
     "metadata": {},
     "output_type": "execute_result"
    }
   ],
   "source": [
    "# 📌 Step 4: Encode Categorical Variables\n",
    "# Identify categorical columns\n",
    "categorical_cols = df.select_dtypes(include='object').columns\n",
    "\n",
    "# Initialize label encoder\n",
    "le = LabelEncoder()\n",
    "\n",
    "# Encode each categorical column\n",
    "for col in categorical_cols:\n",
    "    # Step 1: Clean and handle missing values\n",
    "    df[col] = df[col].astype(str).str.strip().replace('?', pd.NA)\n",
    "\n",
    "    # Step 2: Fill missing with mode (most frequent value)\n",
    "    if df[col].isna().sum() > 0:\n",
    "        df[col] = df[col].fillna(df[col].mode()[0])\n",
    "\n",
    "    # Step 3: Encode with LabelEncoder\n",
    "    df[col] = le.fit_transform(df[col])\n",
    "\n",
    "# Display updated dataset\n",
    "df.head()\n"
   ]
  },
  {
   "cell_type": "code",
   "execution_count": 13,
   "id": "1e51e646",
   "metadata": {},
   "outputs": [
    {
     "data": {
      "text/html": [
       "<div>\n",
       "<style scoped>\n",
       "    .dataframe tbody tr th:only-of-type {\n",
       "        vertical-align: middle;\n",
       "    }\n",
       "\n",
       "    .dataframe tbody tr th {\n",
       "        vertical-align: top;\n",
       "    }\n",
       "\n",
       "    .dataframe thead th {\n",
       "        text-align: right;\n",
       "    }\n",
       "</style>\n",
       "<table border=\"1\" class=\"dataframe\">\n",
       "  <thead>\n",
       "    <tr style=\"text-align: right;\">\n",
       "      <th></th>\n",
       "      <th>id</th>\n",
       "      <th>age</th>\n",
       "      <th>bp</th>\n",
       "      <th>sg</th>\n",
       "      <th>al</th>\n",
       "      <th>su</th>\n",
       "      <th>rbc</th>\n",
       "      <th>pc</th>\n",
       "      <th>pcc</th>\n",
       "      <th>ba</th>\n",
       "      <th>...</th>\n",
       "      <th>pcv</th>\n",
       "      <th>wc</th>\n",
       "      <th>rc</th>\n",
       "      <th>htn</th>\n",
       "      <th>dm</th>\n",
       "      <th>cad</th>\n",
       "      <th>appet</th>\n",
       "      <th>pe</th>\n",
       "      <th>ane</th>\n",
       "      <th>classification</th>\n",
       "    </tr>\n",
       "  </thead>\n",
       "  <tbody>\n",
       "    <tr>\n",
       "      <th>0</th>\n",
       "      <td>-1.727726</td>\n",
       "      <td>-0.210031</td>\n",
       "      <td>0.254214</td>\n",
       "      <td>0.421486</td>\n",
       "      <td>0.076249</td>\n",
       "      <td>-0.380269</td>\n",
       "      <td>-0.560523</td>\n",
       "      <td>0.684468</td>\n",
       "      <td>-0.291825</td>\n",
       "      <td>-0.17932</td>\n",
       "      <td>...</td>\n",
       "      <td>0.189948</td>\n",
       "      <td>0.253875</td>\n",
       "      <td>-0.125620</td>\n",
       "      <td>1.298336</td>\n",
       "      <td>1.370741</td>\n",
       "      <td>-0.276686</td>\n",
       "      <td>-0.510723</td>\n",
       "      <td>-0.472690</td>\n",
       "      <td>-0.407926</td>\n",
       "      <td>1</td>\n",
       "    </tr>\n",
       "    <tr>\n",
       "      <th>1</th>\n",
       "      <td>-1.719066</td>\n",
       "      <td>-2.627234</td>\n",
       "      <td>-1.972476</td>\n",
       "      <td>0.421486</td>\n",
       "      <td>2.363728</td>\n",
       "      <td>-0.380269</td>\n",
       "      <td>-0.560523</td>\n",
       "      <td>0.684468</td>\n",
       "      <td>-0.291825</td>\n",
       "      <td>-0.17932</td>\n",
       "      <td>...</td>\n",
       "      <td>-0.390784</td>\n",
       "      <td>-0.325583</td>\n",
       "      <td>1.074572</td>\n",
       "      <td>-0.738270</td>\n",
       "      <td>-0.698302</td>\n",
       "      <td>-0.276686</td>\n",
       "      <td>-0.510723</td>\n",
       "      <td>-0.472690</td>\n",
       "      <td>-0.407926</td>\n",
       "      <td>1</td>\n",
       "    </tr>\n",
       "    <tr>\n",
       "      <th>2</th>\n",
       "      <td>-1.710406</td>\n",
       "      <td>0.615355</td>\n",
       "      <td>0.254214</td>\n",
       "      <td>-1.421074</td>\n",
       "      <td>0.838742</td>\n",
       "      <td>2.507853</td>\n",
       "      <td>0.895381</td>\n",
       "      <td>0.684468</td>\n",
       "      <td>-0.291825</td>\n",
       "      <td>-0.17932</td>\n",
       "      <td>...</td>\n",
       "      <td>-1.068304</td>\n",
       "      <td>0.181443</td>\n",
       "      <td>1.074572</td>\n",
       "      <td>-0.738270</td>\n",
       "      <td>1.370741</td>\n",
       "      <td>-0.276686</td>\n",
       "      <td>1.965511</td>\n",
       "      <td>-0.472690</td>\n",
       "      <td>2.357675</td>\n",
       "      <td>1</td>\n",
       "    </tr>\n",
       "    <tr>\n",
       "      <th>3</th>\n",
       "      <td>-1.701745</td>\n",
       "      <td>-0.210031</td>\n",
       "      <td>-0.488016</td>\n",
       "      <td>-2.342354</td>\n",
       "      <td>2.363728</td>\n",
       "      <td>-0.380269</td>\n",
       "      <td>0.895381</td>\n",
       "      <td>-1.838915</td>\n",
       "      <td>2.780013</td>\n",
       "      <td>-0.17932</td>\n",
       "      <td>...</td>\n",
       "      <td>-0.971515</td>\n",
       "      <td>-0.108286</td>\n",
       "      <td>-1.165786</td>\n",
       "      <td>1.298336</td>\n",
       "      <td>-0.698302</td>\n",
       "      <td>-0.276686</td>\n",
       "      <td>1.965511</td>\n",
       "      <td>2.048324</td>\n",
       "      <td>2.357675</td>\n",
       "      <td>1</td>\n",
       "    </tr>\n",
       "    <tr>\n",
       "      <th>4</th>\n",
       "      <td>-1.693085</td>\n",
       "      <td>-0.033163</td>\n",
       "      <td>0.254214</td>\n",
       "      <td>-1.421074</td>\n",
       "      <td>0.838742</td>\n",
       "      <td>-0.380269</td>\n",
       "      <td>0.895381</td>\n",
       "      <td>0.684468</td>\n",
       "      <td>-0.291825</td>\n",
       "      <td>-0.17932</td>\n",
       "      <td>...</td>\n",
       "      <td>-0.681149</td>\n",
       "      <td>0.109010</td>\n",
       "      <td>-0.605697</td>\n",
       "      <td>-0.738270</td>\n",
       "      <td>-0.698302</td>\n",
       "      <td>-0.276686</td>\n",
       "      <td>-0.510723</td>\n",
       "      <td>-0.472690</td>\n",
       "      <td>-0.407926</td>\n",
       "      <td>1</td>\n",
       "    </tr>\n",
       "  </tbody>\n",
       "</table>\n",
       "<p>5 rows × 26 columns</p>\n",
       "</div>"
      ],
      "text/plain": [
       "         id       age        bp        sg        al        su       rbc  \\\n",
       "0 -1.727726 -0.210031  0.254214  0.421486  0.076249 -0.380269 -0.560523   \n",
       "1 -1.719066 -2.627234 -1.972476  0.421486  2.363728 -0.380269 -0.560523   \n",
       "2 -1.710406  0.615355  0.254214 -1.421074  0.838742  2.507853  0.895381   \n",
       "3 -1.701745 -0.210031 -0.488016 -2.342354  2.363728 -0.380269  0.895381   \n",
       "4 -1.693085 -0.033163  0.254214 -1.421074  0.838742 -0.380269  0.895381   \n",
       "\n",
       "         pc       pcc       ba  ...       pcv        wc        rc       htn  \\\n",
       "0  0.684468 -0.291825 -0.17932  ...  0.189948  0.253875 -0.125620  1.298336   \n",
       "1  0.684468 -0.291825 -0.17932  ... -0.390784 -0.325583  1.074572 -0.738270   \n",
       "2  0.684468 -0.291825 -0.17932  ... -1.068304  0.181443  1.074572 -0.738270   \n",
       "3 -1.838915  2.780013 -0.17932  ... -0.971515 -0.108286 -1.165786  1.298336   \n",
       "4  0.684468 -0.291825 -0.17932  ... -0.681149  0.109010 -0.605697 -0.738270   \n",
       "\n",
       "         dm       cad     appet        pe       ane  classification  \n",
       "0  1.370741 -0.276686 -0.510723 -0.472690 -0.407926               1  \n",
       "1 -0.698302 -0.276686 -0.510723 -0.472690 -0.407926               1  \n",
       "2  1.370741 -0.276686  1.965511 -0.472690  2.357675               1  \n",
       "3 -0.698302 -0.276686  1.965511  2.048324  2.357675               1  \n",
       "4 -0.698302 -0.276686 -0.510723 -0.472690 -0.407926               1  \n",
       "\n",
       "[5 rows x 26 columns]"
      ]
     },
     "execution_count": 13,
     "metadata": {},
     "output_type": "execute_result"
    }
   ],
   "source": [
    "# 📌 Step 5: Handle Missing Numeric Values & Scale\n",
    "from sklearn.preprocessing import StandardScaler\n",
    "\n",
    "# Select only numeric columns, excluding the target\n",
    "numerical_cols = df.select_dtypes(include=['float64', 'int64']).columns.drop('classification')\n",
    "\n",
    "# Fill missing values with the median (more robust than mean)\n",
    "for col in numerical_cols:\n",
    "    df[col] = df[col].fillna(df[col].median())\n",
    "\n",
    "# Standardize (z-score) the numerical features\n",
    "scaler = StandardScaler()\n",
    "df[numerical_cols] = scaler.fit_transform(df[numerical_cols])\n",
    "\n",
    "# View final preprocessed data\n",
    "df.head()\n"
   ]
  },
  {
   "cell_type": "code",
   "execution_count": 9,
   "id": "91752f78",
   "metadata": {},
   "outputs": [
    {
     "name": "stdout",
     "output_type": "stream",
     "text": [
      "✅ Cleaned dataset saved as 'kidney_cleaned.csv'\n"
     ]
    }
   ],
   "source": [
    "\n",
    "df.to_csv(\"kidney_cleaned.csv\", index=False)\n",
    "print(\"✅ Cleaned dataset saved as 'kidney_cleaned.csv'\")\n"
   ]
  },
  {
   "cell_type": "code",
   "execution_count": 14,
   "id": "5049da77",
   "metadata": {},
   "outputs": [
    {
     "data": {
      "application/vnd.plotly.v1+json": {
       "config": {
        "plotlyServerURL": "https://plot.ly"
       },
       "data": [
        {
         "bingroup": "x",
         "hovertemplate": "age=%{x}<br>count=%{y}<extra></extra>",
         "legendgroup": "",
         "marker": {
          "color": "indianred",
          "pattern": {
           "shape": ""
          }
         },
         "name": "",
         "nbinsx": 30,
         "orientation": "v",
         "showlegend": false,
         "type": "histogram",
         "x": {
          "bdata": "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",
          "dtype": "f8"
         },
         "xaxis": "x",
         "yaxis": "y"
        },
        {
         "hovertemplate": "age=%{x}<extra></extra>",
         "legendgroup": "",
         "marker": {
          "color": "indianred"
         },
         "name": "",
         "notched": true,
         "showlegend": false,
         "type": "box",
         "x": {
          "bdata": "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",
          "dtype": "f8"
         },
         "xaxis": "x2",
         "yaxis": "y2"
        }
       ],
       "layout": {
        "bargap": 0.1,
        "barmode": "relative",
        "legend": {
         "tracegroupgap": 0
        },
        "template": {
         "data": {
          "bar": [
           {
            "error_x": {
             "color": "#2a3f5f"
            },
            "error_y": {
             "color": "#2a3f5f"
            },
            "marker": {
             "line": {
              "color": "#E5ECF6",
              "width": 0.5
             },
             "pattern": {
              "fillmode": "overlay",
              "size": 10,
              "solidity": 0.2
             }
            },
            "type": "bar"
           }
          ],
          "barpolar": [
           {
            "marker": {
             "line": {
              "color": "#E5ECF6",
              "width": 0.5
             },
             "pattern": {
              "fillmode": "overlay",
              "size": 10,
              "solidity": 0.2
             }
            },
            "type": "barpolar"
           }
          ],
          "carpet": [
           {
            "aaxis": {
             "endlinecolor": "#2a3f5f",
             "gridcolor": "white",
             "linecolor": "white",
             "minorgridcolor": "white",
             "startlinecolor": "#2a3f5f"
            },
            "baxis": {
             "endlinecolor": "#2a3f5f",
             "gridcolor": "white",
             "linecolor": "white",
             "minorgridcolor": "white",
             "startlinecolor": "#2a3f5f"
            },
            "type": "carpet"
           }
          ],
          "choropleth": [
           {
            "colorbar": {
             "outlinewidth": 0,
             "ticks": ""
            },
            "type": "choropleth"
           }
          ],
          "contour": [
           {
            "colorbar": {
             "outlinewidth": 0,
             "ticks": ""
            },
            "colorscale": [
             [
              0,
              "#0d0887"
             ],
             [
              0.1111111111111111,
              "#46039f"
             ],
             [
              0.2222222222222222,
              "#7201a8"
             ],
             [
              0.3333333333333333,
              "#9c179e"
             ],
             [
              0.4444444444444444,
              "#bd3786"
             ],
             [
              0.5555555555555556,
              "#d8576b"
             ],
             [
              0.6666666666666666,
              "#ed7953"
             ],
             [
              0.7777777777777778,
              "#fb9f3a"
             ],
             [
              0.8888888888888888,
              "#fdca26"
             ],
             [
              1,
              "#f0f921"
             ]
            ],
            "type": "contour"
           }
          ],
          "contourcarpet": [
           {
            "colorbar": {
             "outlinewidth": 0,
             "ticks": ""
            },
            "type": "contourcarpet"
           }
          ],
          "heatmap": [
           {
            "colorbar": {
             "outlinewidth": 0,
             "ticks": ""
            },
            "colorscale": [
             [
              0,
              "#0d0887"
             ],
             [
              0.1111111111111111,
              "#46039f"
             ],
             [
              0.2222222222222222,
              "#7201a8"
             ],
             [
              0.3333333333333333,
              "#9c179e"
             ],
             [
              0.4444444444444444,
              "#bd3786"
             ],
             [
              0.5555555555555556,
              "#d8576b"
             ],
             [
              0.6666666666666666,
              "#ed7953"
             ],
             [
              0.7777777777777778,
              "#fb9f3a"
             ],
             [
              0.8888888888888888,
              "#fdca26"
             ],
             [
              1,
              "#f0f921"
             ]
            ],
            "type": "heatmap"
           }
          ],
          "histogram": [
           {
            "marker": {
             "pattern": {
              "fillmode": "overlay",
              "size": 10,
              "solidity": 0.2
             }
            },
            "type": "histogram"
           }
          ],
          "histogram2d": [
           {
            "colorbar": {
             "outlinewidth": 0,
             "ticks": ""
            },
            "colorscale": [
             [
              0,
              "#0d0887"
             ],
             [
              0.1111111111111111,
              "#46039f"
             ],
             [
              0.2222222222222222,
              "#7201a8"
             ],
             [
              0.3333333333333333,
              "#9c179e"
             ],
             [
              0.4444444444444444,
              "#bd3786"
             ],
             [
              0.5555555555555556,
              "#d8576b"
             ],
             [
              0.6666666666666666,
              "#ed7953"
             ],
             [
              0.7777777777777778,
              "#fb9f3a"
             ],
             [
              0.8888888888888888,
              "#fdca26"
             ],
             [
              1,
              "#f0f921"
             ]
            ],
            "type": "histogram2d"
           }
          ],
          "histogram2dcontour": [
           {
            "colorbar": {
             "outlinewidth": 0,
             "ticks": ""
            },
            "colorscale": [
             [
              0,
              "#0d0887"
             ],
             [
              0.1111111111111111,
              "#46039f"
             ],
             [
              0.2222222222222222,
              "#7201a8"
             ],
             [
              0.3333333333333333,
              "#9c179e"
             ],
             [
              0.4444444444444444,
              "#bd3786"
             ],
             [
              0.5555555555555556,
              "#d8576b"
             ],
             [
              0.6666666666666666,
              "#ed7953"
             ],
             [
              0.7777777777777778,
              "#fb9f3a"
             ],
             [
              0.8888888888888888,
              "#fdca26"
             ],
             [
              1,
              "#f0f921"
             ]
            ],
            "type": "histogram2dcontour"
           }
          ],
          "mesh3d": [
           {
            "colorbar": {
             "outlinewidth": 0,
             "ticks": ""
            },
            "type": "mesh3d"
           }
          ],
          "parcoords": [
           {
            "line": {
             "colorbar": {
              "outlinewidth": 0,
              "ticks": ""
             }
            },
            "type": "parcoords"
           }
          ],
          "pie": [
           {
            "automargin": true,
            "type": "pie"
           }
          ],
          "scatter": [
           {
            "fillpattern": {
             "fillmode": "overlay",
             "size": 10,
             "solidity": 0.2
            },
            "type": "scatter"
           }
          ],
          "scatter3d": [
           {
            "line": {
             "colorbar": {
              "outlinewidth": 0,
              "ticks": ""
             }
            },
            "marker": {
             "colorbar": {
              "outlinewidth": 0,
              "ticks": ""
             }
            },
            "type": "scatter3d"
           }
          ],
          "scattercarpet": [
           {
            "marker": {
             "colorbar": {
              "outlinewidth": 0,
              "ticks": ""
             }
            },
            "type": "scattercarpet"
           }
          ],
          "scattergeo": [
           {
            "marker": {
             "colorbar": {
              "outlinewidth": 0,
              "ticks": ""
             }
            },
            "type": "scattergeo"
           }
          ],
          "scattergl": [
           {
            "marker": {
             "colorbar": {
              "outlinewidth": 0,
              "ticks": ""
             }
            },
            "type": "scattergl"
           }
          ],
          "scattermap": [
           {
            "marker": {
             "colorbar": {
              "outlinewidth": 0,
              "ticks": ""
             }
            },
            "type": "scattermap"
           }
          ],
          "scattermapbox": [
           {
            "marker": {
             "colorbar": {
              "outlinewidth": 0,
              "ticks": ""
             }
            },
            "type": "scattermapbox"
           }
          ],
          "scatterpolar": [
           {
            "marker": {
             "colorbar": {
              "outlinewidth": 0,
              "ticks": ""
             }
            },
            "type": "scatterpolar"
           }
          ],
          "scatterpolargl": [
           {
            "marker": {
             "colorbar": {
              "outlinewidth": 0,
              "ticks": ""
             }
            },
            "type": "scatterpolargl"
           }
          ],
          "scatterternary": [
           {
            "marker": {
             "colorbar": {
              "outlinewidth": 0,
              "ticks": ""
             }
            },
            "type": "scatterternary"
           }
          ],
          "surface": [
           {
            "colorbar": {
             "outlinewidth": 0,
             "ticks": ""
            },
            "colorscale": [
             [
              0,
              "#0d0887"
             ],
             [
              0.1111111111111111,
              "#46039f"
             ],
             [
              0.2222222222222222,
              "#7201a8"
             ],
             [
              0.3333333333333333,
              "#9c179e"
             ],
             [
              0.4444444444444444,
              "#bd3786"
             ],
             [
              0.5555555555555556,
              "#d8576b"
             ],
             [
              0.6666666666666666,
              "#ed7953"
             ],
             [
              0.7777777777777778,
              "#fb9f3a"
             ],
             [
              0.8888888888888888,
              "#fdca26"
             ],
             [
              1,
              "#f0f921"
             ]
            ],
            "type": "surface"
           }
          ],
          "table": [
           {
            "cells": {
             "fill": {
              "color": "#EBF0F8"
             },
             "line": {
              "color": "white"
             }
            },
            "header": {
             "fill": {
              "color": "#C8D4E3"
             },
             "line": {
              "color": "white"
             }
            },
            "type": "table"
           }
          ]
         },
         "layout": {
          "annotationdefaults": {
           "arrowcolor": "#2a3f5f",
           "arrowhead": 0,
           "arrowwidth": 1
          },
          "autotypenumbers": "strict",
          "coloraxis": {
           "colorbar": {
            "outlinewidth": 0,
            "ticks": ""
           }
          },
          "colorscale": {
           "diverging": [
            [
             0,
             "#8e0152"
            ],
            [
             0.1,
             "#c51b7d"
            ],
            [
             0.2,
             "#de77ae"
            ],
            [
             0.3,
             "#f1b6da"
            ],
            [
             0.4,
             "#fde0ef"
            ],
            [
             0.5,
             "#f7f7f7"
            ],
            [
             0.6,
             "#e6f5d0"
            ],
            [
             0.7,
             "#b8e186"
            ],
            [
             0.8,
             "#7fbc41"
            ],
            [
             0.9,
             "#4d9221"
            ],
            [
             1,
             "#276419"
            ]
           ],
           "sequential": [
            [
             0,
             "#0d0887"
            ],
            [
             0.1111111111111111,
             "#46039f"
            ],
            [
             0.2222222222222222,
             "#7201a8"
            ],
            [
             0.3333333333333333,
             "#9c179e"
            ],
            [
             0.4444444444444444,
             "#bd3786"
            ],
            [
             0.5555555555555556,
             "#d8576b"
            ],
            [
             0.6666666666666666,
             "#ed7953"
            ],
            [
             0.7777777777777778,
             "#fb9f3a"
            ],
            [
             0.8888888888888888,
             "#fdca26"
            ],
            [
             1,
             "#f0f921"
            ]
           ],
           "sequentialminus": [
            [
             0,
             "#0d0887"
            ],
            [
             0.1111111111111111,
             "#46039f"
            ],
            [
             0.2222222222222222,
             "#7201a8"
            ],
            [
             0.3333333333333333,
             "#9c179e"
            ],
            [
             0.4444444444444444,
             "#bd3786"
            ],
            [
             0.5555555555555556,
             "#d8576b"
            ],
            [
             0.6666666666666666,
             "#ed7953"
            ],
            [
             0.7777777777777778,
             "#fb9f3a"
            ],
            [
             0.8888888888888888,
             "#fdca26"
            ],
            [
             1,
             "#f0f921"
            ]
           ]
          },
          "colorway": [
           "#636efa",
           "#EF553B",
           "#00cc96",
           "#ab63fa",
           "#FFA15A",
           "#19d3f3",
           "#FF6692",
           "#B6E880",
           "#FF97FF",
           "#FECB52"
          ],
          "font": {
           "color": "#2a3f5f"
          },
          "geo": {
           "bgcolor": "white",
           "lakecolor": "white",
           "landcolor": "#E5ECF6",
           "showlakes": true,
           "showland": true,
           "subunitcolor": "white"
          },
          "hoverlabel": {
           "align": "left"
          },
          "hovermode": "closest",
          "mapbox": {
           "style": "light"
          },
          "paper_bgcolor": "white",
          "plot_bgcolor": "#E5ECF6",
          "polar": {
           "angularaxis": {
            "gridcolor": "white",
            "linecolor": "white",
            "ticks": ""
           },
           "bgcolor": "#E5ECF6",
           "radialaxis": {
            "gridcolor": "white",
            "linecolor": "white",
            "ticks": ""
           }
          },
          "scene": {
           "xaxis": {
            "backgroundcolor": "#E5ECF6",
            "gridcolor": "white",
            "gridwidth": 2,
            "linecolor": "white",
            "showbackground": true,
            "ticks": "",
            "zerolinecolor": "white"
           },
           "yaxis": {
            "backgroundcolor": "#E5ECF6",
            "gridcolor": "white",
            "gridwidth": 2,
            "linecolor": "white",
            "showbackground": true,
            "ticks": "",
            "zerolinecolor": "white"
           },
           "zaxis": {
            "backgroundcolor": "#E5ECF6",
            "gridcolor": "white",
            "gridwidth": 2,
            "linecolor": "white",
            "showbackground": true,
            "ticks": "",
            "zerolinecolor": "white"
           }
          },
          "shapedefaults": {
           "line": {
            "color": "#2a3f5f"
           }
          },
          "ternary": {
           "aaxis": {
            "gridcolor": "white",
            "linecolor": "white",
            "ticks": ""
           },
           "baxis": {
            "gridcolor": "white",
            "linecolor": "white",
            "ticks": ""
           },
           "bgcolor": "#E5ECF6",
           "caxis": {
            "gridcolor": "white",
            "linecolor": "white",
            "ticks": ""
           }
          },
          "title": {
           "x": 0.05
          },
          "xaxis": {
           "automargin": true,
           "gridcolor": "white",
           "linecolor": "white",
           "ticks": "",
           "title": {
            "standoff": 15
           },
           "zerolinecolor": "white",
           "zerolinewidth": 2
          },
          "yaxis": {
           "automargin": true,
           "gridcolor": "white",
           "linecolor": "white",
           "ticks": "",
           "title": {
            "standoff": 15
           },
           "zerolinecolor": "white",
           "zerolinewidth": 2
          }
         }
        },
        "title": {
         "text": "Age Distribution of Patients"
        },
        "xaxis": {
         "anchor": "y",
         "domain": [
          0,
          1
         ],
         "title": {
          "text": "Age"
         }
        },
        "xaxis2": {
         "anchor": "y2",
         "domain": [
          0,
          1
         ],
         "matches": "x",
         "showgrid": true,
         "showticklabels": false
        },
        "yaxis": {
         "anchor": "x",
         "domain": [
          0,
          0.8316
         ],
         "title": {
          "text": "Count"
         }
        },
        "yaxis2": {
         "anchor": "x2",
         "domain": [
          0.8416,
          1
         ],
         "matches": "y2",
         "showgrid": false,
         "showline": false,
         "showticklabels": false,
         "ticks": ""
        }
       }
      }
     },
     "metadata": {},
     "output_type": "display_data"
    }
   ],
   "source": [
    "\n",
    "# 📊 Step 6: Univariate Analysis – Age Distribution\n",
    "fig = px.histogram(\n",
    "    df,\n",
    "    x='age',\n",
    "    nbins=30,\n",
    "    title=\"Age Distribution of Patients\",\n",
    "    color_discrete_sequence=['indianred'],  # Optional styling\n",
    "    marginal=\"box\"  # Adds a boxplot on top\n",
    ")\n",
    "fig.update_layout(\n",
    "    xaxis_title='Age',\n",
    "    yaxis_title='Count',\n",
    "    bargap=0.1\n",
    ")\n",
    "fig.show()\n"
   ]
  },
  {
   "cell_type": "code",
   "execution_count": 15,
   "id": "a94a5150",
   "metadata": {},
   "outputs": [
    {
     "data": {
      "application/vnd.plotly.v1+json": {
       "config": {
        "plotlyServerURL": "https://plot.ly"
       },
       "data": [
        {
         "bingroup": "x",
         "hovertemplate": "CKD Status=%{x}<br>count=%{y}<extra></extra>",
         "legendgroup": "CKD",
         "marker": {
          "color": "darkred",
          "pattern": {
           "shape": ""
          }
         },
         "name": "CKD",
         "orientation": "v",
         "showlegend": true,
         "type": "histogram",
         "x": [
          "CKD",
          "CKD",
          "CKD",
          "CKD",
          "CKD",
          "CKD",
          "CKD",
          "CKD",
          "CKD",
          "CKD",
          "CKD",
          "CKD",
          "CKD",
          "CKD",
          "CKD",
          "CKD",
          "CKD",
          "CKD",
          "CKD",
          "CKD",
          "CKD",
          "CKD",
          "CKD",
          "CKD",
          "CKD",
          "CKD",
          "CKD",
          "CKD",
          "CKD",
          "CKD",
          "CKD",
          "CKD",
          "CKD",
          "CKD",
          "CKD",
          "CKD",
          "CKD",
          "CKD",
          "CKD",
          "CKD",
          "CKD",
          "CKD",
          "CKD",
          "CKD",
          "CKD",
          "CKD",
          "CKD",
          "CKD",
          "CKD",
          "CKD",
          "CKD",
          "CKD",
          "CKD",
          "CKD",
          "CKD",
          "CKD",
          "CKD",
          "CKD",
          "CKD",
          "CKD",
          "CKD",
          "CKD",
          "CKD",
          "CKD",
          "CKD",
          "CKD",
          "CKD",
          "CKD",
          "CKD",
          "CKD",
          "CKD",
          "CKD",
          "CKD",
          "CKD",
          "CKD",
          "CKD",
          "CKD",
          "CKD",
          "CKD",
          "CKD",
          "CKD",
          "CKD",
          "CKD",
          "CKD",
          "CKD",
          "CKD",
          "CKD",
          "CKD",
          "CKD",
          "CKD",
          "CKD",
          "CKD",
          "CKD",
          "CKD",
          "CKD",
          "CKD",
          "CKD",
          "CKD",
          "CKD",
          "CKD",
          "CKD",
          "CKD",
          "CKD",
          "CKD",
          "CKD",
          "CKD",
          "CKD",
          "CKD",
          "CKD",
          "CKD",
          "CKD",
          "CKD",
          "CKD",
          "CKD",
          "CKD",
          "CKD",
          "CKD",
          "CKD",
          "CKD",
          "CKD",
          "CKD",
          "CKD",
          "CKD",
          "CKD",
          "CKD",
          "CKD",
          "CKD",
          "CKD",
          "CKD",
          "CKD",
          "CKD",
          "CKD",
          "CKD",
          "CKD",
          "CKD",
          "CKD",
          "CKD",
          "CKD",
          "CKD",
          "CKD",
          "CKD",
          "CKD",
          "CKD",
          "CKD",
          "CKD",
          "CKD",
          "CKD",
          "CKD",
          "CKD",
          "CKD",
          "CKD",
          "CKD",
          "CKD",
          "CKD",
          "CKD",
          "CKD",
          "CKD",
          "CKD",
          "CKD",
          "CKD",
          "CKD",
          "CKD",
          "CKD",
          "CKD",
          "CKD",
          "CKD",
          "CKD",
          "CKD",
          "CKD",
          "CKD",
          "CKD",
          "CKD",
          "CKD",
          "CKD",
          "CKD",
          "CKD",
          "CKD",
          "CKD",
          "CKD",
          "CKD",
          "CKD",
          "CKD",
          "CKD",
          "CKD",
          "CKD",
          "CKD",
          "CKD",
          "CKD",
          "CKD",
          "CKD",
          "CKD",
          "CKD",
          "CKD",
          "CKD",
          "CKD",
          "CKD",
          "CKD",
          "CKD",
          "CKD",
          "CKD",
          "CKD",
          "CKD",
          "CKD",
          "CKD",
          "CKD",
          "CKD",
          "CKD",
          "CKD",
          "CKD",
          "CKD",
          "CKD",
          "CKD",
          "CKD",
          "CKD",
          "CKD",
          "CKD",
          "CKD",
          "CKD",
          "CKD",
          "CKD",
          "CKD",
          "CKD",
          "CKD",
          "CKD",
          "CKD",
          "CKD",
          "CKD",
          "CKD",
          "CKD",
          "CKD",
          "CKD",
          "CKD",
          "CKD",
          "CKD",
          "CKD",
          "CKD",
          "CKD",
          "CKD",
          "CKD",
          "CKD",
          "CKD",
          "CKD",
          "CKD",
          "CKD",
          "CKD",
          "CKD",
          "CKD",
          "CKD",
          "CKD",
          "CKD"
         ],
         "xaxis": "x",
         "yaxis": "y"
        },
        {
         "bingroup": "x",
         "hovertemplate": "CKD Status=%{x}<br>count=%{y}<extra></extra>",
         "legendgroup": "Not CKD",
         "marker": {
          "color": "darkgreen",
          "pattern": {
           "shape": ""
          }
         },
         "name": "Not CKD",
         "orientation": "v",
         "showlegend": true,
         "type": "histogram",
         "x": [
          "Not CKD",
          "Not CKD",
          "Not CKD",
          "Not CKD",
          "Not CKD",
          "Not CKD",
          "Not CKD",
          "Not CKD",
          "Not CKD",
          "Not CKD",
          "Not CKD",
          "Not CKD",
          "Not CKD",
          "Not CKD",
          "Not CKD",
          "Not CKD",
          "Not CKD",
          "Not CKD",
          "Not CKD",
          "Not CKD",
          "Not CKD",
          "Not CKD",
          "Not CKD",
          "Not CKD",
          "Not CKD",
          "Not CKD",
          "Not CKD",
          "Not CKD",
          "Not CKD",
          "Not CKD",
          "Not CKD",
          "Not CKD",
          "Not CKD",
          "Not CKD",
          "Not CKD",
          "Not CKD",
          "Not CKD",
          "Not CKD",
          "Not CKD",
          "Not CKD",
          "Not CKD",
          "Not CKD",
          "Not CKD",
          "Not CKD",
          "Not CKD",
          "Not CKD",
          "Not CKD",
          "Not CKD",
          "Not CKD",
          "Not CKD",
          "Not CKD",
          "Not CKD",
          "Not CKD",
          "Not CKD",
          "Not CKD",
          "Not CKD",
          "Not CKD",
          "Not CKD",
          "Not CKD",
          "Not CKD",
          "Not CKD",
          "Not CKD",
          "Not CKD",
          "Not CKD",
          "Not CKD",
          "Not CKD",
          "Not CKD",
          "Not CKD",
          "Not CKD",
          "Not CKD",
          "Not CKD",
          "Not CKD",
          "Not CKD",
          "Not CKD",
          "Not CKD",
          "Not CKD",
          "Not CKD",
          "Not CKD",
          "Not CKD",
          "Not CKD",
          "Not CKD",
          "Not CKD",
          "Not CKD",
          "Not CKD",
          "Not CKD",
          "Not CKD",
          "Not CKD",
          "Not CKD",
          "Not CKD",
          "Not CKD",
          "Not CKD",
          "Not CKD",
          "Not CKD",
          "Not CKD",
          "Not CKD",
          "Not CKD",
          "Not CKD",
          "Not CKD",
          "Not CKD",
          "Not CKD",
          "Not CKD",
          "Not CKD",
          "Not CKD",
          "Not CKD",
          "Not CKD",
          "Not CKD",
          "Not CKD",
          "Not CKD",
          "Not CKD",
          "Not CKD",
          "Not CKD",
          "Not CKD",
          "Not CKD",
          "Not CKD",
          "Not CKD",
          "Not CKD",
          "Not CKD",
          "Not CKD",
          "Not CKD",
          "Not CKD",
          "Not CKD",
          "Not CKD",
          "Not CKD",
          "Not CKD",
          "Not CKD",
          "Not CKD",
          "Not CKD",
          "Not CKD",
          "Not CKD",
          "Not CKD",
          "Not CKD",
          "Not CKD",
          "Not CKD",
          "Not CKD",
          "Not CKD",
          "Not CKD",
          "Not CKD",
          "Not CKD",
          "Not CKD",
          "Not CKD",
          "Not CKD",
          "Not CKD",
          "Not CKD",
          "Not CKD",
          "Not CKD",
          "Not CKD",
          "Not CKD",
          "Not CKD",
          "Not CKD",
          "Not CKD"
         ],
         "xaxis": "x",
         "yaxis": "y"
        }
       ],
       "layout": {
        "barmode": "relative",
        "legend": {
         "title": {
          "text": "CKD Status"
         },
         "tracegroupgap": 0
        },
        "showlegend": false,
        "template": {
         "data": {
          "bar": [
           {
            "error_x": {
             "color": "#2a3f5f"
            },
            "error_y": {
             "color": "#2a3f5f"
            },
            "marker": {
             "line": {
              "color": "#E5ECF6",
              "width": 0.5
             },
             "pattern": {
              "fillmode": "overlay",
              "size": 10,
              "solidity": 0.2
             }
            },
            "type": "bar"
           }
          ],
          "barpolar": [
           {
            "marker": {
             "line": {
              "color": "#E5ECF6",
              "width": 0.5
             },
             "pattern": {
              "fillmode": "overlay",
              "size": 10,
              "solidity": 0.2
             }
            },
            "type": "barpolar"
           }
          ],
          "carpet": [
           {
            "aaxis": {
             "endlinecolor": "#2a3f5f",
             "gridcolor": "white",
             "linecolor": "white",
             "minorgridcolor": "white",
             "startlinecolor": "#2a3f5f"
            },
            "baxis": {
             "endlinecolor": "#2a3f5f",
             "gridcolor": "white",
             "linecolor": "white",
             "minorgridcolor": "white",
             "startlinecolor": "#2a3f5f"
            },
            "type": "carpet"
           }
          ],
          "choropleth": [
           {
            "colorbar": {
             "outlinewidth": 0,
             "ticks": ""
            },
            "type": "choropleth"
           }
          ],
          "contour": [
           {
            "colorbar": {
             "outlinewidth": 0,
             "ticks": ""
            },
            "colorscale": [
             [
              0,
              "#0d0887"
             ],
             [
              0.1111111111111111,
              "#46039f"
             ],
             [
              0.2222222222222222,
              "#7201a8"
             ],
             [
              0.3333333333333333,
              "#9c179e"
             ],
             [
              0.4444444444444444,
              "#bd3786"
             ],
             [
              0.5555555555555556,
              "#d8576b"
             ],
             [
              0.6666666666666666,
              "#ed7953"
             ],
             [
              0.7777777777777778,
              "#fb9f3a"
             ],
             [
              0.8888888888888888,
              "#fdca26"
             ],
             [
              1,
              "#f0f921"
             ]
            ],
            "type": "contour"
           }
          ],
          "contourcarpet": [
           {
            "colorbar": {
             "outlinewidth": 0,
             "ticks": ""
            },
            "type": "contourcarpet"
           }
          ],
          "heatmap": [
           {
            "colorbar": {
             "outlinewidth": 0,
             "ticks": ""
            },
            "colorscale": [
             [
              0,
              "#0d0887"
             ],
             [
              0.1111111111111111,
              "#46039f"
             ],
             [
              0.2222222222222222,
              "#7201a8"
             ],
             [
              0.3333333333333333,
              "#9c179e"
             ],
             [
              0.4444444444444444,
              "#bd3786"
             ],
             [
              0.5555555555555556,
              "#d8576b"
             ],
             [
              0.6666666666666666,
              "#ed7953"
             ],
             [
              0.7777777777777778,
              "#fb9f3a"
             ],
             [
              0.8888888888888888,
              "#fdca26"
             ],
             [
              1,
              "#f0f921"
             ]
            ],
            "type": "heatmap"
           }
          ],
          "histogram": [
           {
            "marker": {
             "pattern": {
              "fillmode": "overlay",
              "size": 10,
              "solidity": 0.2
             }
            },
            "type": "histogram"
           }
          ],
          "histogram2d": [
           {
            "colorbar": {
             "outlinewidth": 0,
             "ticks": ""
            },
            "colorscale": [
             [
              0,
              "#0d0887"
             ],
             [
              0.1111111111111111,
              "#46039f"
             ],
             [
              0.2222222222222222,
              "#7201a8"
             ],
             [
              0.3333333333333333,
              "#9c179e"
             ],
             [
              0.4444444444444444,
              "#bd3786"
             ],
             [
              0.5555555555555556,
              "#d8576b"
             ],
             [
              0.6666666666666666,
              "#ed7953"
             ],
             [
              0.7777777777777778,
              "#fb9f3a"
             ],
             [
              0.8888888888888888,
              "#fdca26"
             ],
             [
              1,
              "#f0f921"
             ]
            ],
            "type": "histogram2d"
           }
          ],
          "histogram2dcontour": [
           {
            "colorbar": {
             "outlinewidth": 0,
             "ticks": ""
            },
            "colorscale": [
             [
              0,
              "#0d0887"
             ],
             [
              0.1111111111111111,
              "#46039f"
             ],
             [
              0.2222222222222222,
              "#7201a8"
             ],
             [
              0.3333333333333333,
              "#9c179e"
             ],
             [
              0.4444444444444444,
              "#bd3786"
             ],
             [
              0.5555555555555556,
              "#d8576b"
             ],
             [
              0.6666666666666666,
              "#ed7953"
             ],
             [
              0.7777777777777778,
              "#fb9f3a"
             ],
             [
              0.8888888888888888,
              "#fdca26"
             ],
             [
              1,
              "#f0f921"
             ]
            ],
            "type": "histogram2dcontour"
           }
          ],
          "mesh3d": [
           {
            "colorbar": {
             "outlinewidth": 0,
             "ticks": ""
            },
            "type": "mesh3d"
           }
          ],
          "parcoords": [
           {
            "line": {
             "colorbar": {
              "outlinewidth": 0,
              "ticks": ""
             }
            },
            "type": "parcoords"
           }
          ],
          "pie": [
           {
            "automargin": true,
            "type": "pie"
           }
          ],
          "scatter": [
           {
            "fillpattern": {
             "fillmode": "overlay",
             "size": 10,
             "solidity": 0.2
            },
            "type": "scatter"
           }
          ],
          "scatter3d": [
           {
            "line": {
             "colorbar": {
              "outlinewidth": 0,
              "ticks": ""
             }
            },
            "marker": {
             "colorbar": {
              "outlinewidth": 0,
              "ticks": ""
             }
            },
            "type": "scatter3d"
           }
          ],
          "scattercarpet": [
           {
            "marker": {
             "colorbar": {
              "outlinewidth": 0,
              "ticks": ""
             }
            },
            "type": "scattercarpet"
           }
          ],
          "scattergeo": [
           {
            "marker": {
             "colorbar": {
              "outlinewidth": 0,
              "ticks": ""
             }
            },
            "type": "scattergeo"
           }
          ],
          "scattergl": [
           {
            "marker": {
             "colorbar": {
              "outlinewidth": 0,
              "ticks": ""
             }
            },
            "type": "scattergl"
           }
          ],
          "scattermap": [
           {
            "marker": {
             "colorbar": {
              "outlinewidth": 0,
              "ticks": ""
             }
            },
            "type": "scattermap"
           }
          ],
          "scattermapbox": [
           {
            "marker": {
             "colorbar": {
              "outlinewidth": 0,
              "ticks": ""
             }
            },
            "type": "scattermapbox"
           }
          ],
          "scatterpolar": [
           {
            "marker": {
             "colorbar": {
              "outlinewidth": 0,
              "ticks": ""
             }
            },
            "type": "scatterpolar"
           }
          ],
          "scatterpolargl": [
           {
            "marker": {
             "colorbar": {
              "outlinewidth": 0,
              "ticks": ""
             }
            },
            "type": "scatterpolargl"
           }
          ],
          "scatterternary": [
           {
            "marker": {
             "colorbar": {
              "outlinewidth": 0,
              "ticks": ""
             }
            },
            "type": "scatterternary"
           }
          ],
          "surface": [
           {
            "colorbar": {
             "outlinewidth": 0,
             "ticks": ""
            },
            "colorscale": [
             [
              0,
              "#0d0887"
             ],
             [
              0.1111111111111111,
              "#46039f"
             ],
             [
              0.2222222222222222,
              "#7201a8"
             ],
             [
              0.3333333333333333,
              "#9c179e"
             ],
             [
              0.4444444444444444,
              "#bd3786"
             ],
             [
              0.5555555555555556,
              "#d8576b"
             ],
             [
              0.6666666666666666,
              "#ed7953"
             ],
             [
              0.7777777777777778,
              "#fb9f3a"
             ],
             [
              0.8888888888888888,
              "#fdca26"
             ],
             [
              1,
              "#f0f921"
             ]
            ],
            "type": "surface"
           }
          ],
          "table": [
           {
            "cells": {
             "fill": {
              "color": "#EBF0F8"
             },
             "line": {
              "color": "white"
             }
            },
            "header": {
             "fill": {
              "color": "#C8D4E3"
             },
             "line": {
              "color": "white"
             }
            },
            "type": "table"
           }
          ]
         },
         "layout": {
          "annotationdefaults": {
           "arrowcolor": "#2a3f5f",
           "arrowhead": 0,
           "arrowwidth": 1
          },
          "autotypenumbers": "strict",
          "coloraxis": {
           "colorbar": {
            "outlinewidth": 0,
            "ticks": ""
           }
          },
          "colorscale": {
           "diverging": [
            [
             0,
             "#8e0152"
            ],
            [
             0.1,
             "#c51b7d"
            ],
            [
             0.2,
             "#de77ae"
            ],
            [
             0.3,
             "#f1b6da"
            ],
            [
             0.4,
             "#fde0ef"
            ],
            [
             0.5,
             "#f7f7f7"
            ],
            [
             0.6,
             "#e6f5d0"
            ],
            [
             0.7,
             "#b8e186"
            ],
            [
             0.8,
             "#7fbc41"
            ],
            [
             0.9,
             "#4d9221"
            ],
            [
             1,
             "#276419"
            ]
           ],
           "sequential": [
            [
             0,
             "#0d0887"
            ],
            [
             0.1111111111111111,
             "#46039f"
            ],
            [
             0.2222222222222222,
             "#7201a8"
            ],
            [
             0.3333333333333333,
             "#9c179e"
            ],
            [
             0.4444444444444444,
             "#bd3786"
            ],
            [
             0.5555555555555556,
             "#d8576b"
            ],
            [
             0.6666666666666666,
             "#ed7953"
            ],
            [
             0.7777777777777778,
             "#fb9f3a"
            ],
            [
             0.8888888888888888,
             "#fdca26"
            ],
            [
             1,
             "#f0f921"
            ]
           ],
           "sequentialminus": [
            [
             0,
             "#0d0887"
            ],
            [
             0.1111111111111111,
             "#46039f"
            ],
            [
             0.2222222222222222,
             "#7201a8"
            ],
            [
             0.3333333333333333,
             "#9c179e"
            ],
            [
             0.4444444444444444,
             "#bd3786"
            ],
            [
             0.5555555555555556,
             "#d8576b"
            ],
            [
             0.6666666666666666,
             "#ed7953"
            ],
            [
             0.7777777777777778,
             "#fb9f3a"
            ],
            [
             0.8888888888888888,
             "#fdca26"
            ],
            [
             1,
             "#f0f921"
            ]
           ]
          },
          "colorway": [
           "#636efa",
           "#EF553B",
           "#00cc96",
           "#ab63fa",
           "#FFA15A",
           "#19d3f3",
           "#FF6692",
           "#B6E880",
           "#FF97FF",
           "#FECB52"
          ],
          "font": {
           "color": "#2a3f5f"
          },
          "geo": {
           "bgcolor": "white",
           "lakecolor": "white",
           "landcolor": "#E5ECF6",
           "showlakes": true,
           "showland": true,
           "subunitcolor": "white"
          },
          "hoverlabel": {
           "align": "left"
          },
          "hovermode": "closest",
          "mapbox": {
           "style": "light"
          },
          "paper_bgcolor": "white",
          "plot_bgcolor": "#E5ECF6",
          "polar": {
           "angularaxis": {
            "gridcolor": "white",
            "linecolor": "white",
            "ticks": ""
           },
           "bgcolor": "#E5ECF6",
           "radialaxis": {
            "gridcolor": "white",
            "linecolor": "white",
            "ticks": ""
           }
          },
          "scene": {
           "xaxis": {
            "backgroundcolor": "#E5ECF6",
            "gridcolor": "white",
            "gridwidth": 2,
            "linecolor": "white",
            "showbackground": true,
            "ticks": "",
            "zerolinecolor": "white"
           },
           "yaxis": {
            "backgroundcolor": "#E5ECF6",
            "gridcolor": "white",
            "gridwidth": 2,
            "linecolor": "white",
            "showbackground": true,
            "ticks": "",
            "zerolinecolor": "white"
           },
           "zaxis": {
            "backgroundcolor": "#E5ECF6",
            "gridcolor": "white",
            "gridwidth": 2,
            "linecolor": "white",
            "showbackground": true,
            "ticks": "",
            "zerolinecolor": "white"
           }
          },
          "shapedefaults": {
           "line": {
            "color": "#2a3f5f"
           }
          },
          "ternary": {
           "aaxis": {
            "gridcolor": "white",
            "linecolor": "white",
            "ticks": ""
           },
           "baxis": {
            "gridcolor": "white",
            "linecolor": "white",
            "ticks": ""
           },
           "bgcolor": "#E5ECF6",
           "caxis": {
            "gridcolor": "white",
            "linecolor": "white",
            "ticks": ""
           }
          },
          "title": {
           "x": 0.05
          },
          "xaxis": {
           "automargin": true,
           "gridcolor": "white",
           "linecolor": "white",
           "ticks": "",
           "title": {
            "standoff": 15
           },
           "zerolinecolor": "white",
           "zerolinewidth": 2
          },
          "yaxis": {
           "automargin": true,
           "gridcolor": "white",
           "linecolor": "white",
           "ticks": "",
           "title": {
            "standoff": 15
           },
           "zerolinecolor": "white",
           "zerolinewidth": 2
          }
         }
        },
        "title": {
         "text": "CKD vs Not CKD (Target Variable)"
        },
        "xaxis": {
         "anchor": "y",
         "categoryarray": [
          "CKD",
          "Not CKD"
         ],
         "categoryorder": "array",
         "domain": [
          0,
          1
         ],
         "title": {
          "text": "CKD Status"
         }
        },
        "yaxis": {
         "anchor": "x",
         "domain": [
          0,
          1
         ],
         "title": {
          "text": "Number of Patients"
         }
        }
       }
      }
     },
     "metadata": {},
     "output_type": "display_data"
    }
   ],
   "source": [
    "\n",
    "# 📊 Step 7: Univariate Analysis – CKD vs Not CKD\n",
    "\n",
    "# Map numeric target to labels for better visualization\n",
    "df['ckd_status'] = df['classification'].map({1: 'CKD', 0: 'Not CKD'})\n",
    "\n",
    "fig = px.histogram(\n",
    "    df,\n",
    "    x='ckd_status',\n",
    "    color='ckd_status',\n",
    "    title=\"CKD vs Not CKD (Target Variable)\",\n",
    "    labels={'ckd_status': 'CKD Status'},\n",
    "    color_discrete_sequence=['darkred', 'darkgreen']\n",
    ")\n",
    "\n",
    "fig.update_layout(\n",
    "    xaxis_title='CKD Status',\n",
    "    yaxis_title='Number of Patients',\n",
    "    showlegend=False\n",
    ")\n",
    "\n",
    "fig.show()\n"
   ]
  },
  {
   "cell_type": "code",
   "execution_count": null,
   "id": "66a9fa59",
   "metadata": {},
   "outputs": [
    {
     "data": {
      "application/vnd.plotly.v1+json": {
       "config": {
        "plotlyServerURL": "https://plot.ly"
       },
       "data": [
        {
         "alignmentgroup": "True",
         "boxpoints": "all",
         "hovertemplate": "classification=%{x}<br>bu=%{y}<extra></extra>",
         "legendgroup": "1",
         "marker": {
          "color": "#636efa"
         },
         "name": "1",
         "notched": false,
         "offsetgroup": "1",
         "orientation": "v",
         "showlegend": true,
         "type": "box",
         "x": {
          "bdata": "AQEBAQEBAQEBAQEBAQEBAQEBAQEBAQEBAQEBAQEBAQEBAQEBAQEBAQEBAQEBAQEBAQEBAQEBAQEBAQEBAQEBAQEBAQEBAQEBAQEBAQEBAQEBAQEBAQEBAQEBAQEBAQEBAQEBAQEBAQEBAQEBAQEBAQEBAQEBAQEBAQEBAQEBAQEBAQEBAQEBAQEBAQEBAQEBAQEBAQEBAQEBAQEBAQEBAQEBAQEBAQEBAQEBAQEBAQEBAQEBAQEBAQEBAQEBAQEBAQEBAQEBAQEBAQEBAQEBAQEBAQEBAQEBAQEBAQEBAQEBAQEBAQEBAQEBAQEBAQEBAQEBAQEBAQEBAQ==",
          "dtype": "i1"
         },
         "x0": " ",
         "xaxis": "x",
         "y": {
          "bdata": "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",
          "dtype": "f8"
         },
         "y0": " ",
         "yaxis": "y"
        },
        {
         "alignmentgroup": "True",
         "boxpoints": "all",
         "hovertemplate": "classification=%{x}<br>bu=%{y}<extra></extra>",
         "legendgroup": "0",
         "marker": {
          "color": "#EF553B"
         },
         "name": "0",
         "notched": false,
         "offsetgroup": "0",
         "orientation": "v",
         "showlegend": true,
         "type": "box",
         "x": {
          "bdata": "AAAAAAAAAAAAAAAAAAAAAAAAAAAAAAAAAAAAAAAAAAAAAAAAAAAAAAAAAAAAAAAAAAAAAAAAAAAAAAAAAAAAAAAAAAAAAAAAAAAAAAAAAAAAAAAAAAAAAAAAAAAAAAAAAAAAAAAAAAAAAAAAAAAAAAAAAAAAAAAAAAAAAAAAAAAAAAAAAAAAAAAAAAAAAAAAAAAAAAAA",
          "dtype": "i1"
         },
         "x0": " ",
         "xaxis": "x",
         "y": {
          "bdata": "fPjFI4pJ7r/f34wUS9jav6WuGvbM9cO/kd3UISq/6b+iGQM4FEDYv/ltfPqgQuO/fPjFI4pJ7r/f34wUS9jav+SIbfwAzee/vKfyHWqq4L+iGQM4FEDYvy020GZcBOC/AmyyahwZ6b9cAbiLcb7Lv6fC4x/KNOW/ZVN5W92n1b+R3dQhKr/pvzuJW1+dvN6/pa4a9sz1w79z+o+zDnPovxymFvGBcN2/F1HBaLyO5L+wwBmQRQvrv/7C0YJmJNy/NjQG19fa5b/FpSiO5YDmvyiN736mD9O/XAG4i3G+y7/rxmWib3fQvzY0BtfX2uW/O4lbX5283r9o6JAZll3Bv+vGZaJvd9C/KI3vfqYP07/B/EemL4zZv3P6j7MOc+i/AmyyahwZ6b/FpSiO5YDmv1wBuItxvsu/LTbQZlwE4L9q/FlDk5ziv+vGZaJvd9C/KI3vfqYP079z+o+zDnPov2jokBmWXcG/F1HBaLyO5L+iGQM4FEDYv4jfnrGu6OO/pa4a9sz1w7/idKTSA47Gv4jfnrGu6OO/O4lbX5283r/rxmWib3fQv4jfnrGu6OO/ohkDOBRA2L8XUcFovI7kv0sZFdV3UOG/kd3UISq/6b9cAbiLcb7LvxdRwWi8juS/+W18+qBC478CbLJqHBnpvyiN736mD9O/avxZQ5Oc4r9cAbiLcb7LvyiN736mD9O/SxkV1XdQ4b/idKTSA47Gv9qKN4yF9uG/sMAZkEUL67+lrhr2zPXDv4Q2vsn489a/ZVN5W92n1b9LGRXVd1Dhv7DAGZBFC+u/aOiQGZZdwb8XUcFovI7kv7yn8h1qquC/2oo3jIX24b8XUcFovI7kvy020GZcBOC/hDa+yfjz1r87iVtfnbzev1wBuItxvsu/KI3vfqYP07+Zx0FoqFbOv/ltfPqgQuO/ZVN5W92n1b8cphbxgXDdvyiN736mD9O/2oo3jIX24b/B/EemL4zZv1wBuItxvsu//sLRgmYk3L/5bXz6oELjvwJssmocGem/R3A07cFb1L8XUcFovI7kv3P6j7MOc+i/39+MFEvY2r/kiG38AM3nv6WuGvbM9cO/Hzsurzomyb/B/EemL4zZv5Hd1CEqv+m/p8LjH8o05b+iGQM4FEDYvyFP99g3Zeq/xaUojuWA5r9o6JAZll3Bv4Q2vsn489a/IU/32Ddl6r9z+o+zDnPov2VTeVvdp9W/68Zlom930L9cAbiLcb7Lv7DAGZBFC+u/R3A07cFb1L8oje9+pg/Tv+J0pNIDjsa/KI3vfqYP079o6JAZll3Bv4jfnrGu6OO/ohkDOBRA2L/rxmWib3fQv0dwNO3BW9S/IU/32Ddl6r/5bXz6oELjvyiN736mD9O/mcdBaKhWzr82NAbX19rlvx87Lq86Jsm/xaUojuWA5r9cAbiLcb7LvwJssmocGem/F1HBaLyO5L8fOy6vOibJv5Hd1CEqv+m/sMAZkEUL67/idKTSA47GvxdRwWi8juS/IU/32Ddl6r/idKTSA47Gv5nHQWioVs6/XAG4i3G+y7+lrhr2zPXDv7yn8h1qquC/iN+esa7o479o6JAZll3BvwJssmocGem/",
          "dtype": "f8"
         },
         "y0": " ",
         "yaxis": "y"
        }
       ],
       "layout": {
        "boxmode": "overlay",
        "legend": {
         "title": {
          "text": "classification"
         },
         "tracegroupgap": 0
        },
        "showlegend": false,
        "template": {
         "data": {
          "bar": [
           {
            "error_x": {
             "color": "#2a3f5f"
            },
            "error_y": {
             "color": "#2a3f5f"
            },
            "marker": {
             "line": {
              "color": "white",
              "width": 0.5
             },
             "pattern": {
              "fillmode": "overlay",
              "size": 10,
              "solidity": 0.2
             }
            },
            "type": "bar"
           }
          ],
          "barpolar": [
           {
            "marker": {
             "line": {
              "color": "white",
              "width": 0.5
             },
             "pattern": {
              "fillmode": "overlay",
              "size": 10,
              "solidity": 0.2
             }
            },
            "type": "barpolar"
           }
          ],
          "carpet": [
           {
            "aaxis": {
             "endlinecolor": "#2a3f5f",
             "gridcolor": "#C8D4E3",
             "linecolor": "#C8D4E3",
             "minorgridcolor": "#C8D4E3",
             "startlinecolor": "#2a3f5f"
            },
            "baxis": {
             "endlinecolor": "#2a3f5f",
             "gridcolor": "#C8D4E3",
             "linecolor": "#C8D4E3",
             "minorgridcolor": "#C8D4E3",
             "startlinecolor": "#2a3f5f"
            },
            "type": "carpet"
           }
          ],
          "choropleth": [
           {
            "colorbar": {
             "outlinewidth": 0,
             "ticks": ""
            },
            "type": "choropleth"
           }
          ],
          "contour": [
           {
            "colorbar": {
             "outlinewidth": 0,
             "ticks": ""
            },
            "colorscale": [
             [
              0,
              "#0d0887"
             ],
             [
              0.1111111111111111,
              "#46039f"
             ],
             [
              0.2222222222222222,
              "#7201a8"
             ],
             [
              0.3333333333333333,
              "#9c179e"
             ],
             [
              0.4444444444444444,
              "#bd3786"
             ],
             [
              0.5555555555555556,
              "#d8576b"
             ],
             [
              0.6666666666666666,
              "#ed7953"
             ],
             [
              0.7777777777777778,
              "#fb9f3a"
             ],
             [
              0.8888888888888888,
              "#fdca26"
             ],
             [
              1,
              "#f0f921"
             ]
            ],
            "type": "contour"
           }
          ],
          "contourcarpet": [
           {
            "colorbar": {
             "outlinewidth": 0,
             "ticks": ""
            },
            "type": "contourcarpet"
           }
          ],
          "heatmap": [
           {
            "colorbar": {
             "outlinewidth": 0,
             "ticks": ""
            },
            "colorscale": [
             [
              0,
              "#0d0887"
             ],
             [
              0.1111111111111111,
              "#46039f"
             ],
             [
              0.2222222222222222,
              "#7201a8"
             ],
             [
              0.3333333333333333,
              "#9c179e"
             ],
             [
              0.4444444444444444,
              "#bd3786"
             ],
             [
              0.5555555555555556,
              "#d8576b"
             ],
             [
              0.6666666666666666,
              "#ed7953"
             ],
             [
              0.7777777777777778,
              "#fb9f3a"
             ],
             [
              0.8888888888888888,
              "#fdca26"
             ],
             [
              1,
              "#f0f921"
             ]
            ],
            "type": "heatmap"
           }
          ],
          "histogram": [
           {
            "marker": {
             "pattern": {
              "fillmode": "overlay",
              "size": 10,
              "solidity": 0.2
             }
            },
            "type": "histogram"
           }
          ],
          "histogram2d": [
           {
            "colorbar": {
             "outlinewidth": 0,
             "ticks": ""
            },
            "colorscale": [
             [
              0,
              "#0d0887"
             ],
             [
              0.1111111111111111,
              "#46039f"
             ],
             [
              0.2222222222222222,
              "#7201a8"
             ],
             [
              0.3333333333333333,
              "#9c179e"
             ],
             [
              0.4444444444444444,
              "#bd3786"
             ],
             [
              0.5555555555555556,
              "#d8576b"
             ],
             [
              0.6666666666666666,
              "#ed7953"
             ],
             [
              0.7777777777777778,
              "#fb9f3a"
             ],
             [
              0.8888888888888888,
              "#fdca26"
             ],
             [
              1,
              "#f0f921"
             ]
            ],
            "type": "histogram2d"
           }
          ],
          "histogram2dcontour": [
           {
            "colorbar": {
             "outlinewidth": 0,
             "ticks": ""
            },
            "colorscale": [
             [
              0,
              "#0d0887"
             ],
             [
              0.1111111111111111,
              "#46039f"
             ],
             [
              0.2222222222222222,
              "#7201a8"
             ],
             [
              0.3333333333333333,
              "#9c179e"
             ],
             [
              0.4444444444444444,
              "#bd3786"
             ],
             [
              0.5555555555555556,
              "#d8576b"
             ],
             [
              0.6666666666666666,
              "#ed7953"
             ],
             [
              0.7777777777777778,
              "#fb9f3a"
             ],
             [
              0.8888888888888888,
              "#fdca26"
             ],
             [
              1,
              "#f0f921"
             ]
            ],
            "type": "histogram2dcontour"
           }
          ],
          "mesh3d": [
           {
            "colorbar": {
             "outlinewidth": 0,
             "ticks": ""
            },
            "type": "mesh3d"
           }
          ],
          "parcoords": [
           {
            "line": {
             "colorbar": {
              "outlinewidth": 0,
              "ticks": ""
             }
            },
            "type": "parcoords"
           }
          ],
          "pie": [
           {
            "automargin": true,
            "type": "pie"
           }
          ],
          "scatter": [
           {
            "fillpattern": {
             "fillmode": "overlay",
             "size": 10,
             "solidity": 0.2
            },
            "type": "scatter"
           }
          ],
          "scatter3d": [
           {
            "line": {
             "colorbar": {
              "outlinewidth": 0,
              "ticks": ""
             }
            },
            "marker": {
             "colorbar": {
              "outlinewidth": 0,
              "ticks": ""
             }
            },
            "type": "scatter3d"
           }
          ],
          "scattercarpet": [
           {
            "marker": {
             "colorbar": {
              "outlinewidth": 0,
              "ticks": ""
             }
            },
            "type": "scattercarpet"
           }
          ],
          "scattergeo": [
           {
            "marker": {
             "colorbar": {
              "outlinewidth": 0,
              "ticks": ""
             }
            },
            "type": "scattergeo"
           }
          ],
          "scattergl": [
           {
            "marker": {
             "colorbar": {
              "outlinewidth": 0,
              "ticks": ""
             }
            },
            "type": "scattergl"
           }
          ],
          "scattermap": [
           {
            "marker": {
             "colorbar": {
              "outlinewidth": 0,
              "ticks": ""
             }
            },
            "type": "scattermap"
           }
          ],
          "scattermapbox": [
           {
            "marker": {
             "colorbar": {
              "outlinewidth": 0,
              "ticks": ""
             }
            },
            "type": "scattermapbox"
           }
          ],
          "scatterpolar": [
           {
            "marker": {
             "colorbar": {
              "outlinewidth": 0,
              "ticks": ""
             }
            },
            "type": "scatterpolar"
           }
          ],
          "scatterpolargl": [
           {
            "marker": {
             "colorbar": {
              "outlinewidth": 0,
              "ticks": ""
             }
            },
            "type": "scatterpolargl"
           }
          ],
          "scatterternary": [
           {
            "marker": {
             "colorbar": {
              "outlinewidth": 0,
              "ticks": ""
             }
            },
            "type": "scatterternary"
           }
          ],
          "surface": [
           {
            "colorbar": {
             "outlinewidth": 0,
             "ticks": ""
            },
            "colorscale": [
             [
              0,
              "#0d0887"
             ],
             [
              0.1111111111111111,
              "#46039f"
             ],
             [
              0.2222222222222222,
              "#7201a8"
             ],
             [
              0.3333333333333333,
              "#9c179e"
             ],
             [
              0.4444444444444444,
              "#bd3786"
             ],
             [
              0.5555555555555556,
              "#d8576b"
             ],
             [
              0.6666666666666666,
              "#ed7953"
             ],
             [
              0.7777777777777778,
              "#fb9f3a"
             ],
             [
              0.8888888888888888,
              "#fdca26"
             ],
             [
              1,
              "#f0f921"
             ]
            ],
            "type": "surface"
           }
          ],
          "table": [
           {
            "cells": {
             "fill": {
              "color": "#EBF0F8"
             },
             "line": {
              "color": "white"
             }
            },
            "header": {
             "fill": {
              "color": "#C8D4E3"
             },
             "line": {
              "color": "white"
             }
            },
            "type": "table"
           }
          ]
         },
         "layout": {
          "annotationdefaults": {
           "arrowcolor": "#2a3f5f",
           "arrowhead": 0,
           "arrowwidth": 1
          },
          "autotypenumbers": "strict",
          "coloraxis": {
           "colorbar": {
            "outlinewidth": 0,
            "ticks": ""
           }
          },
          "colorscale": {
           "diverging": [
            [
             0,
             "#8e0152"
            ],
            [
             0.1,
             "#c51b7d"
            ],
            [
             0.2,
             "#de77ae"
            ],
            [
             0.3,
             "#f1b6da"
            ],
            [
             0.4,
             "#fde0ef"
            ],
            [
             0.5,
             "#f7f7f7"
            ],
            [
             0.6,
             "#e6f5d0"
            ],
            [
             0.7,
             "#b8e186"
            ],
            [
             0.8,
             "#7fbc41"
            ],
            [
             0.9,
             "#4d9221"
            ],
            [
             1,
             "#276419"
            ]
           ],
           "sequential": [
            [
             0,
             "#0d0887"
            ],
            [
             0.1111111111111111,
             "#46039f"
            ],
            [
             0.2222222222222222,
             "#7201a8"
            ],
            [
             0.3333333333333333,
             "#9c179e"
            ],
            [
             0.4444444444444444,
             "#bd3786"
            ],
            [
             0.5555555555555556,
             "#d8576b"
            ],
            [
             0.6666666666666666,
             "#ed7953"
            ],
            [
             0.7777777777777778,
             "#fb9f3a"
            ],
            [
             0.8888888888888888,
             "#fdca26"
            ],
            [
             1,
             "#f0f921"
            ]
           ],
           "sequentialminus": [
            [
             0,
             "#0d0887"
            ],
            [
             0.1111111111111111,
             "#46039f"
            ],
            [
             0.2222222222222222,
             "#7201a8"
            ],
            [
             0.3333333333333333,
             "#9c179e"
            ],
            [
             0.4444444444444444,
             "#bd3786"
            ],
            [
             0.5555555555555556,
             "#d8576b"
            ],
            [
             0.6666666666666666,
             "#ed7953"
            ],
            [
             0.7777777777777778,
             "#fb9f3a"
            ],
            [
             0.8888888888888888,
             "#fdca26"
            ],
            [
             1,
             "#f0f921"
            ]
           ]
          },
          "colorway": [
           "#636efa",
           "#EF553B",
           "#00cc96",
           "#ab63fa",
           "#FFA15A",
           "#19d3f3",
           "#FF6692",
           "#B6E880",
           "#FF97FF",
           "#FECB52"
          ],
          "font": {
           "color": "#2a3f5f"
          },
          "geo": {
           "bgcolor": "white",
           "lakecolor": "white",
           "landcolor": "white",
           "showlakes": true,
           "showland": true,
           "subunitcolor": "#C8D4E3"
          },
          "hoverlabel": {
           "align": "left"
          },
          "hovermode": "closest",
          "mapbox": {
           "style": "light"
          },
          "paper_bgcolor": "white",
          "plot_bgcolor": "white",
          "polar": {
           "angularaxis": {
            "gridcolor": "#EBF0F8",
            "linecolor": "#EBF0F8",
            "ticks": ""
           },
           "bgcolor": "white",
           "radialaxis": {
            "gridcolor": "#EBF0F8",
            "linecolor": "#EBF0F8",
            "ticks": ""
           }
          },
          "scene": {
           "xaxis": {
            "backgroundcolor": "white",
            "gridcolor": "#DFE8F3",
            "gridwidth": 2,
            "linecolor": "#EBF0F8",
            "showbackground": true,
            "ticks": "",
            "zerolinecolor": "#EBF0F8"
           },
           "yaxis": {
            "backgroundcolor": "white",
            "gridcolor": "#DFE8F3",
            "gridwidth": 2,
            "linecolor": "#EBF0F8",
            "showbackground": true,
            "ticks": "",
            "zerolinecolor": "#EBF0F8"
           },
           "zaxis": {
            "backgroundcolor": "white",
            "gridcolor": "#DFE8F3",
            "gridwidth": 2,
            "linecolor": "#EBF0F8",
            "showbackground": true,
            "ticks": "",
            "zerolinecolor": "#EBF0F8"
           }
          },
          "shapedefaults": {
           "line": {
            "color": "#2a3f5f"
           }
          },
          "ternary": {
           "aaxis": {
            "gridcolor": "#DFE8F3",
            "linecolor": "#A2B1C6",
            "ticks": ""
           },
           "baxis": {
            "gridcolor": "#DFE8F3",
            "linecolor": "#A2B1C6",
            "ticks": ""
           },
           "bgcolor": "white",
           "caxis": {
            "gridcolor": "#DFE8F3",
            "linecolor": "#A2B1C6",
            "ticks": ""
           }
          },
          "title": {
           "x": 0.05
          },
          "xaxis": {
           "automargin": true,
           "gridcolor": "#EBF0F8",
           "linecolor": "#EBF0F8",
           "ticks": "",
           "title": {
            "standoff": 15
           },
           "zerolinecolor": "#EBF0F8",
           "zerolinewidth": 2
          },
          "yaxis": {
           "automargin": true,
           "gridcolor": "#EBF0F8",
           "linecolor": "#EBF0F8",
           "ticks": "",
           "title": {
            "standoff": 15
           },
           "zerolinecolor": "#EBF0F8",
           "zerolinewidth": 2
          }
         }
        },
        "title": {
         "text": "Blood Urea by CKD Classification"
        },
        "xaxis": {
         "anchor": "y",
         "categoryarray": [
          1,
          0
         ],
         "categoryorder": "array",
         "domain": [
          0,
          1
         ],
         "title": {
          "text": "Classification (0 = Not CKD, 1 = CKD)"
         }
        },
        "yaxis": {
         "anchor": "x",
         "domain": [
          0,
          1
         ],
         "title": {
          "text": "Blood Urea (mg/dL)"
         }
        }
       }
      }
     },
     "metadata": {},
     "output_type": "display_data"
    }
   ],
   "source": [
    "# 📊 Step 8: Bivariate Analysis – Blood Urea vs CKD Status\n",
    "\n",
    "\n",
    "# Ensure correct data type\n",
    "df['bu'] = pd.to_numeric(df['bu'], errors='coerce')\n",
    "df = df[df['bu'].notna()]  # Drop rows with NaN in blood urea\n",
    "\n",
    "# Create box plot\n",
    "fig = px.box(\n",
    "    df,\n",
    "    x='classification',\n",
    "    y='bu',  # Corrected from 'blood_urea' to 'bu'\n",
    "    points=\"all\",\n",
    "    title=\"Blood Urea by CKD Classification\",\n",
    "    color='classification',\n",
    "    template=\"plotly_white\"\n",
    ")\n",
    "\n",
    "# Update layout\n",
    "fig.update_layout(\n",
    "    xaxis_title=\"Classification (0 = Not CKD, 1 = CKD)\",\n",
    "    yaxis_title=\"Blood Urea (mg/dL)\",\n",
    "    showlegend=False\n",
    ")\n",
    "\n",
    "fig.show()\n"
   ]
  },
  {
   "cell_type": "code",
   "execution_count": 18,
   "id": "2487bd59",
   "metadata": {},
   "outputs": [
    {
     "data": {
      "application/vnd.plotly.v1+json": {
       "config": {
        "plotlyServerURL": "https://plot.ly"
       },
       "data": [
        {
         "hovertemplate": "Features=%{x}<br>Correlation=%{y}<extra></extra>",
         "legendgroup": "",
         "marker": {
          "color": "#636efa",
          "pattern": {
           "shape": ""
          }
         },
         "name": "",
         "orientation": "v",
         "showlegend": false,
         "textposition": "auto",
         "type": "bar",
         "x": [
          "htn",
          "dm",
          "al",
          "appet",
          "bgr",
          "pe",
          "bu",
          "ane",
          "su",
          "bp",
          "sc",
          "pcc",
          "cad",
          "age",
          "ba",
          "wc",
          "pot",
          "rc",
          "sod",
          "pcv",
          "pc",
          "rbc",
          "sg",
          "hemo",
          "id"
         ],
         "xaxis": "x",
         "y": {
          "bdata": "Ye6FYv/44j9KvFg+IP7hPxX0d0WOAuE/7zhEL9Xo2D/EhtgYykbYPz5KPW0zRNg/Rd4xvyCk1z/ntBfD+SLVP9cYLwL/2dI/pqVxDt3L0j99MNQ7w6PSPxXqCn4ih9I/5kRCOacA0D8raok/6SnNPxWHZwKtUMw/HEIrFJxJvz/4n4AAILKwP+gPxz+wjKq/A5w+owBv1b9/XXP3H9zVv8eq17XYLd6/mVze71MH5L8sGzqPqBrlvyARq+dnPue/EpQ16DjV6r8=",
          "dtype": "f8"
         },
         "yaxis": "y"
        }
       ],
       "layout": {
        "barmode": "relative",
        "legend": {
         "tracegroupgap": 0
        },
        "template": {
         "data": {
          "bar": [
           {
            "error_x": {
             "color": "#2a3f5f"
            },
            "error_y": {
             "color": "#2a3f5f"
            },
            "marker": {
             "line": {
              "color": "white",
              "width": 0.5
             },
             "pattern": {
              "fillmode": "overlay",
              "size": 10,
              "solidity": 0.2
             }
            },
            "type": "bar"
           }
          ],
          "barpolar": [
           {
            "marker": {
             "line": {
              "color": "white",
              "width": 0.5
             },
             "pattern": {
              "fillmode": "overlay",
              "size": 10,
              "solidity": 0.2
             }
            },
            "type": "barpolar"
           }
          ],
          "carpet": [
           {
            "aaxis": {
             "endlinecolor": "#2a3f5f",
             "gridcolor": "#C8D4E3",
             "linecolor": "#C8D4E3",
             "minorgridcolor": "#C8D4E3",
             "startlinecolor": "#2a3f5f"
            },
            "baxis": {
             "endlinecolor": "#2a3f5f",
             "gridcolor": "#C8D4E3",
             "linecolor": "#C8D4E3",
             "minorgridcolor": "#C8D4E3",
             "startlinecolor": "#2a3f5f"
            },
            "type": "carpet"
           }
          ],
          "choropleth": [
           {
            "colorbar": {
             "outlinewidth": 0,
             "ticks": ""
            },
            "type": "choropleth"
           }
          ],
          "contour": [
           {
            "colorbar": {
             "outlinewidth": 0,
             "ticks": ""
            },
            "colorscale": [
             [
              0,
              "#0d0887"
             ],
             [
              0.1111111111111111,
              "#46039f"
             ],
             [
              0.2222222222222222,
              "#7201a8"
             ],
             [
              0.3333333333333333,
              "#9c179e"
             ],
             [
              0.4444444444444444,
              "#bd3786"
             ],
             [
              0.5555555555555556,
              "#d8576b"
             ],
             [
              0.6666666666666666,
              "#ed7953"
             ],
             [
              0.7777777777777778,
              "#fb9f3a"
             ],
             [
              0.8888888888888888,
              "#fdca26"
             ],
             [
              1,
              "#f0f921"
             ]
            ],
            "type": "contour"
           }
          ],
          "contourcarpet": [
           {
            "colorbar": {
             "outlinewidth": 0,
             "ticks": ""
            },
            "type": "contourcarpet"
           }
          ],
          "heatmap": [
           {
            "colorbar": {
             "outlinewidth": 0,
             "ticks": ""
            },
            "colorscale": [
             [
              0,
              "#0d0887"
             ],
             [
              0.1111111111111111,
              "#46039f"
             ],
             [
              0.2222222222222222,
              "#7201a8"
             ],
             [
              0.3333333333333333,
              "#9c179e"
             ],
             [
              0.4444444444444444,
              "#bd3786"
             ],
             [
              0.5555555555555556,
              "#d8576b"
             ],
             [
              0.6666666666666666,
              "#ed7953"
             ],
             [
              0.7777777777777778,
              "#fb9f3a"
             ],
             [
              0.8888888888888888,
              "#fdca26"
             ],
             [
              1,
              "#f0f921"
             ]
            ],
            "type": "heatmap"
           }
          ],
          "histogram": [
           {
            "marker": {
             "pattern": {
              "fillmode": "overlay",
              "size": 10,
              "solidity": 0.2
             }
            },
            "type": "histogram"
           }
          ],
          "histogram2d": [
           {
            "colorbar": {
             "outlinewidth": 0,
             "ticks": ""
            },
            "colorscale": [
             [
              0,
              "#0d0887"
             ],
             [
              0.1111111111111111,
              "#46039f"
             ],
             [
              0.2222222222222222,
              "#7201a8"
             ],
             [
              0.3333333333333333,
              "#9c179e"
             ],
             [
              0.4444444444444444,
              "#bd3786"
             ],
             [
              0.5555555555555556,
              "#d8576b"
             ],
             [
              0.6666666666666666,
              "#ed7953"
             ],
             [
              0.7777777777777778,
              "#fb9f3a"
             ],
             [
              0.8888888888888888,
              "#fdca26"
             ],
             [
              1,
              "#f0f921"
             ]
            ],
            "type": "histogram2d"
           }
          ],
          "histogram2dcontour": [
           {
            "colorbar": {
             "outlinewidth": 0,
             "ticks": ""
            },
            "colorscale": [
             [
              0,
              "#0d0887"
             ],
             [
              0.1111111111111111,
              "#46039f"
             ],
             [
              0.2222222222222222,
              "#7201a8"
             ],
             [
              0.3333333333333333,
              "#9c179e"
             ],
             [
              0.4444444444444444,
              "#bd3786"
             ],
             [
              0.5555555555555556,
              "#d8576b"
             ],
             [
              0.6666666666666666,
              "#ed7953"
             ],
             [
              0.7777777777777778,
              "#fb9f3a"
             ],
             [
              0.8888888888888888,
              "#fdca26"
             ],
             [
              1,
              "#f0f921"
             ]
            ],
            "type": "histogram2dcontour"
           }
          ],
          "mesh3d": [
           {
            "colorbar": {
             "outlinewidth": 0,
             "ticks": ""
            },
            "type": "mesh3d"
           }
          ],
          "parcoords": [
           {
            "line": {
             "colorbar": {
              "outlinewidth": 0,
              "ticks": ""
             }
            },
            "type": "parcoords"
           }
          ],
          "pie": [
           {
            "automargin": true,
            "type": "pie"
           }
          ],
          "scatter": [
           {
            "fillpattern": {
             "fillmode": "overlay",
             "size": 10,
             "solidity": 0.2
            },
            "type": "scatter"
           }
          ],
          "scatter3d": [
           {
            "line": {
             "colorbar": {
              "outlinewidth": 0,
              "ticks": ""
             }
            },
            "marker": {
             "colorbar": {
              "outlinewidth": 0,
              "ticks": ""
             }
            },
            "type": "scatter3d"
           }
          ],
          "scattercarpet": [
           {
            "marker": {
             "colorbar": {
              "outlinewidth": 0,
              "ticks": ""
             }
            },
            "type": "scattercarpet"
           }
          ],
          "scattergeo": [
           {
            "marker": {
             "colorbar": {
              "outlinewidth": 0,
              "ticks": ""
             }
            },
            "type": "scattergeo"
           }
          ],
          "scattergl": [
           {
            "marker": {
             "colorbar": {
              "outlinewidth": 0,
              "ticks": ""
             }
            },
            "type": "scattergl"
           }
          ],
          "scattermap": [
           {
            "marker": {
             "colorbar": {
              "outlinewidth": 0,
              "ticks": ""
             }
            },
            "type": "scattermap"
           }
          ],
          "scattermapbox": [
           {
            "marker": {
             "colorbar": {
              "outlinewidth": 0,
              "ticks": ""
             }
            },
            "type": "scattermapbox"
           }
          ],
          "scatterpolar": [
           {
            "marker": {
             "colorbar": {
              "outlinewidth": 0,
              "ticks": ""
             }
            },
            "type": "scatterpolar"
           }
          ],
          "scatterpolargl": [
           {
            "marker": {
             "colorbar": {
              "outlinewidth": 0,
              "ticks": ""
             }
            },
            "type": "scatterpolargl"
           }
          ],
          "scatterternary": [
           {
            "marker": {
             "colorbar": {
              "outlinewidth": 0,
              "ticks": ""
             }
            },
            "type": "scatterternary"
           }
          ],
          "surface": [
           {
            "colorbar": {
             "outlinewidth": 0,
             "ticks": ""
            },
            "colorscale": [
             [
              0,
              "#0d0887"
             ],
             [
              0.1111111111111111,
              "#46039f"
             ],
             [
              0.2222222222222222,
              "#7201a8"
             ],
             [
              0.3333333333333333,
              "#9c179e"
             ],
             [
              0.4444444444444444,
              "#bd3786"
             ],
             [
              0.5555555555555556,
              "#d8576b"
             ],
             [
              0.6666666666666666,
              "#ed7953"
             ],
             [
              0.7777777777777778,
              "#fb9f3a"
             ],
             [
              0.8888888888888888,
              "#fdca26"
             ],
             [
              1,
              "#f0f921"
             ]
            ],
            "type": "surface"
           }
          ],
          "table": [
           {
            "cells": {
             "fill": {
              "color": "#EBF0F8"
             },
             "line": {
              "color": "white"
             }
            },
            "header": {
             "fill": {
              "color": "#C8D4E3"
             },
             "line": {
              "color": "white"
             }
            },
            "type": "table"
           }
          ]
         },
         "layout": {
          "annotationdefaults": {
           "arrowcolor": "#2a3f5f",
           "arrowhead": 0,
           "arrowwidth": 1
          },
          "autotypenumbers": "strict",
          "coloraxis": {
           "colorbar": {
            "outlinewidth": 0,
            "ticks": ""
           }
          },
          "colorscale": {
           "diverging": [
            [
             0,
             "#8e0152"
            ],
            [
             0.1,
             "#c51b7d"
            ],
            [
             0.2,
             "#de77ae"
            ],
            [
             0.3,
             "#f1b6da"
            ],
            [
             0.4,
             "#fde0ef"
            ],
            [
             0.5,
             "#f7f7f7"
            ],
            [
             0.6,
             "#e6f5d0"
            ],
            [
             0.7,
             "#b8e186"
            ],
            [
             0.8,
             "#7fbc41"
            ],
            [
             0.9,
             "#4d9221"
            ],
            [
             1,
             "#276419"
            ]
           ],
           "sequential": [
            [
             0,
             "#0d0887"
            ],
            [
             0.1111111111111111,
             "#46039f"
            ],
            [
             0.2222222222222222,
             "#7201a8"
            ],
            [
             0.3333333333333333,
             "#9c179e"
            ],
            [
             0.4444444444444444,
             "#bd3786"
            ],
            [
             0.5555555555555556,
             "#d8576b"
            ],
            [
             0.6666666666666666,
             "#ed7953"
            ],
            [
             0.7777777777777778,
             "#fb9f3a"
            ],
            [
             0.8888888888888888,
             "#fdca26"
            ],
            [
             1,
             "#f0f921"
            ]
           ],
           "sequentialminus": [
            [
             0,
             "#0d0887"
            ],
            [
             0.1111111111111111,
             "#46039f"
            ],
            [
             0.2222222222222222,
             "#7201a8"
            ],
            [
             0.3333333333333333,
             "#9c179e"
            ],
            [
             0.4444444444444444,
             "#bd3786"
            ],
            [
             0.5555555555555556,
             "#d8576b"
            ],
            [
             0.6666666666666666,
             "#ed7953"
            ],
            [
             0.7777777777777778,
             "#fb9f3a"
            ],
            [
             0.8888888888888888,
             "#fdca26"
            ],
            [
             1,
             "#f0f921"
            ]
           ]
          },
          "colorway": [
           "#636efa",
           "#EF553B",
           "#00cc96",
           "#ab63fa",
           "#FFA15A",
           "#19d3f3",
           "#FF6692",
           "#B6E880",
           "#FF97FF",
           "#FECB52"
          ],
          "font": {
           "color": "#2a3f5f"
          },
          "geo": {
           "bgcolor": "white",
           "lakecolor": "white",
           "landcolor": "white",
           "showlakes": true,
           "showland": true,
           "subunitcolor": "#C8D4E3"
          },
          "hoverlabel": {
           "align": "left"
          },
          "hovermode": "closest",
          "mapbox": {
           "style": "light"
          },
          "paper_bgcolor": "white",
          "plot_bgcolor": "white",
          "polar": {
           "angularaxis": {
            "gridcolor": "#EBF0F8",
            "linecolor": "#EBF0F8",
            "ticks": ""
           },
           "bgcolor": "white",
           "radialaxis": {
            "gridcolor": "#EBF0F8",
            "linecolor": "#EBF0F8",
            "ticks": ""
           }
          },
          "scene": {
           "xaxis": {
            "backgroundcolor": "white",
            "gridcolor": "#DFE8F3",
            "gridwidth": 2,
            "linecolor": "#EBF0F8",
            "showbackground": true,
            "ticks": "",
            "zerolinecolor": "#EBF0F8"
           },
           "yaxis": {
            "backgroundcolor": "white",
            "gridcolor": "#DFE8F3",
            "gridwidth": 2,
            "linecolor": "#EBF0F8",
            "showbackground": true,
            "ticks": "",
            "zerolinecolor": "#EBF0F8"
           },
           "zaxis": {
            "backgroundcolor": "white",
            "gridcolor": "#DFE8F3",
            "gridwidth": 2,
            "linecolor": "#EBF0F8",
            "showbackground": true,
            "ticks": "",
            "zerolinecolor": "#EBF0F8"
           }
          },
          "shapedefaults": {
           "line": {
            "color": "#2a3f5f"
           }
          },
          "ternary": {
           "aaxis": {
            "gridcolor": "#DFE8F3",
            "linecolor": "#A2B1C6",
            "ticks": ""
           },
           "baxis": {
            "gridcolor": "#DFE8F3",
            "linecolor": "#A2B1C6",
            "ticks": ""
           },
           "bgcolor": "white",
           "caxis": {
            "gridcolor": "#DFE8F3",
            "linecolor": "#A2B1C6",
            "ticks": ""
           }
          },
          "title": {
           "x": 0.05
          },
          "xaxis": {
           "automargin": true,
           "gridcolor": "#EBF0F8",
           "linecolor": "#EBF0F8",
           "ticks": "",
           "title": {
            "standoff": 15
           },
           "zerolinecolor": "#EBF0F8",
           "zerolinewidth": 2
          },
          "yaxis": {
           "automargin": true,
           "gridcolor": "#EBF0F8",
           "linecolor": "#EBF0F8",
           "ticks": "",
           "title": {
            "standoff": 15
           },
           "zerolinecolor": "#EBF0F8",
           "zerolinewidth": 2
          }
         }
        },
        "title": {
         "text": "Feature Correlation with Target (CKD)"
        },
        "xaxis": {
         "anchor": "y",
         "domain": [
          0,
          1
         ],
         "tickangle": -45,
         "title": {
          "text": "Features"
         }
        },
        "yaxis": {
         "anchor": "x",
         "domain": [
          0,
          1
         ],
         "title": {
          "text": "Correlation Coefficient"
         }
        }
       }
      }
     },
     "metadata": {},
     "output_type": "display_data"
    }
   ],
   "source": [
    "# 📊 Step 9: Bivariate – Correlation with Target (Bar Plot)\n",
    "\n",
    "# Calculate correlation with target 'classification'\n",
    "correlations = df.corr(numeric_only=True)['classification'].drop('classification').sort_values(ascending=False)\n",
    "\n",
    "# Create bar plot using Plotly\n",
    "fig = px.bar(\n",
    "    x=correlations.index,\n",
    "    y=correlations.values,\n",
    "    title=\"Feature Correlation with Target (CKD)\",\n",
    "    labels={'x': 'Features', 'y': 'Correlation'},\n",
    "    template=\"plotly_white\"\n",
    ")\n",
    "\n",
    "# Update layout\n",
    "fig.update_layout(\n",
    "    xaxis_title=\"Features\",\n",
    "    yaxis_title=\"Correlation Coefficient\",\n",
    "    xaxis_tickangle=-45\n",
    ")\n",
    "\n",
    "fig.show()\n"
   ]
  },
  {
   "cell_type": "code",
   "execution_count": 19,
   "id": "b26738fa",
   "metadata": {},
   "outputs": [
    {
     "data": {
      "application/vnd.plotly.v1+json": {
       "config": {
        "plotlyServerURL": "https://plot.ly"
       },
       "data": [
        {
         "colorbar": {
          "title": {
           "text": "Correlation"
          }
         },
         "colorscale": [
          [
           0,
           "#440154"
          ],
          [
           0.1111111111111111,
           "#482878"
          ],
          [
           0.2222222222222222,
           "#3e4989"
          ],
          [
           0.3333333333333333,
           "#31688e"
          ],
          [
           0.4444444444444444,
           "#26828e"
          ],
          [
           0.5555555555555556,
           "#1f9e89"
          ],
          [
           0.6666666666666666,
           "#35b779"
          ],
          [
           0.7777777777777778,
           "#6ece58"
          ],
          [
           0.8888888888888888,
           "#b5de2b"
          ],
          [
           1,
           "#fde725"
          ]
         ],
         "type": "heatmap",
         "x": [
          "id",
          "age",
          "bp",
          "sg",
          "al",
          "su",
          "rbc",
          "pc",
          "pcc",
          "ba",
          "bgr",
          "bu",
          "sc",
          "sod",
          "pot",
          "hemo",
          "pcv",
          "wc",
          "rc",
          "htn",
          "dm",
          "cad",
          "appet",
          "pe",
          "ane",
          "classification"
         ],
         "y": [
          "id",
          "age",
          "bp",
          "sg",
          "al",
          "su",
          "rbc",
          "pc",
          "pcc",
          "ba",
          "bgr",
          "bu",
          "sc",
          "sod",
          "pot",
          "hemo",
          "pcv",
          "wc",
          "rc",
          "htn",
          "dm",
          "cad",
          "appet",
          "pe",
          "ane",
          "classification"
         ],
         "z": {
          "bdata": "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",
          "dtype": "f8",
          "shape": "26, 26"
         },
         "zmax": 1,
         "zmin": -1
        }
       ],
       "layout": {
        "height": 800,
        "template": {
         "data": {
          "bar": [
           {
            "error_x": {
             "color": "#2a3f5f"
            },
            "error_y": {
             "color": "#2a3f5f"
            },
            "marker": {
             "line": {
              "color": "#E5ECF6",
              "width": 0.5
             },
             "pattern": {
              "fillmode": "overlay",
              "size": 10,
              "solidity": 0.2
             }
            },
            "type": "bar"
           }
          ],
          "barpolar": [
           {
            "marker": {
             "line": {
              "color": "#E5ECF6",
              "width": 0.5
             },
             "pattern": {
              "fillmode": "overlay",
              "size": 10,
              "solidity": 0.2
             }
            },
            "type": "barpolar"
           }
          ],
          "carpet": [
           {
            "aaxis": {
             "endlinecolor": "#2a3f5f",
             "gridcolor": "white",
             "linecolor": "white",
             "minorgridcolor": "white",
             "startlinecolor": "#2a3f5f"
            },
            "baxis": {
             "endlinecolor": "#2a3f5f",
             "gridcolor": "white",
             "linecolor": "white",
             "minorgridcolor": "white",
             "startlinecolor": "#2a3f5f"
            },
            "type": "carpet"
           }
          ],
          "choropleth": [
           {
            "colorbar": {
             "outlinewidth": 0,
             "ticks": ""
            },
            "type": "choropleth"
           }
          ],
          "contour": [
           {
            "colorbar": {
             "outlinewidth": 0,
             "ticks": ""
            },
            "colorscale": [
             [
              0,
              "#0d0887"
             ],
             [
              0.1111111111111111,
              "#46039f"
             ],
             [
              0.2222222222222222,
              "#7201a8"
             ],
             [
              0.3333333333333333,
              "#9c179e"
             ],
             [
              0.4444444444444444,
              "#bd3786"
             ],
             [
              0.5555555555555556,
              "#d8576b"
             ],
             [
              0.6666666666666666,
              "#ed7953"
             ],
             [
              0.7777777777777778,
              "#fb9f3a"
             ],
             [
              0.8888888888888888,
              "#fdca26"
             ],
             [
              1,
              "#f0f921"
             ]
            ],
            "type": "contour"
           }
          ],
          "contourcarpet": [
           {
            "colorbar": {
             "outlinewidth": 0,
             "ticks": ""
            },
            "type": "contourcarpet"
           }
          ],
          "heatmap": [
           {
            "colorbar": {
             "outlinewidth": 0,
             "ticks": ""
            },
            "colorscale": [
             [
              0,
              "#0d0887"
             ],
             [
              0.1111111111111111,
              "#46039f"
             ],
             [
              0.2222222222222222,
              "#7201a8"
             ],
             [
              0.3333333333333333,
              "#9c179e"
             ],
             [
              0.4444444444444444,
              "#bd3786"
             ],
             [
              0.5555555555555556,
              "#d8576b"
             ],
             [
              0.6666666666666666,
              "#ed7953"
             ],
             [
              0.7777777777777778,
              "#fb9f3a"
             ],
             [
              0.8888888888888888,
              "#fdca26"
             ],
             [
              1,
              "#f0f921"
             ]
            ],
            "type": "heatmap"
           }
          ],
          "histogram": [
           {
            "marker": {
             "pattern": {
              "fillmode": "overlay",
              "size": 10,
              "solidity": 0.2
             }
            },
            "type": "histogram"
           }
          ],
          "histogram2d": [
           {
            "colorbar": {
             "outlinewidth": 0,
             "ticks": ""
            },
            "colorscale": [
             [
              0,
              "#0d0887"
             ],
             [
              0.1111111111111111,
              "#46039f"
             ],
             [
              0.2222222222222222,
              "#7201a8"
             ],
             [
              0.3333333333333333,
              "#9c179e"
             ],
             [
              0.4444444444444444,
              "#bd3786"
             ],
             [
              0.5555555555555556,
              "#d8576b"
             ],
             [
              0.6666666666666666,
              "#ed7953"
             ],
             [
              0.7777777777777778,
              "#fb9f3a"
             ],
             [
              0.8888888888888888,
              "#fdca26"
             ],
             [
              1,
              "#f0f921"
             ]
            ],
            "type": "histogram2d"
           }
          ],
          "histogram2dcontour": [
           {
            "colorbar": {
             "outlinewidth": 0,
             "ticks": ""
            },
            "colorscale": [
             [
              0,
              "#0d0887"
             ],
             [
              0.1111111111111111,
              "#46039f"
             ],
             [
              0.2222222222222222,
              "#7201a8"
             ],
             [
              0.3333333333333333,
              "#9c179e"
             ],
             [
              0.4444444444444444,
              "#bd3786"
             ],
             [
              0.5555555555555556,
              "#d8576b"
             ],
             [
              0.6666666666666666,
              "#ed7953"
             ],
             [
              0.7777777777777778,
              "#fb9f3a"
             ],
             [
              0.8888888888888888,
              "#fdca26"
             ],
             [
              1,
              "#f0f921"
             ]
            ],
            "type": "histogram2dcontour"
           }
          ],
          "mesh3d": [
           {
            "colorbar": {
             "outlinewidth": 0,
             "ticks": ""
            },
            "type": "mesh3d"
           }
          ],
          "parcoords": [
           {
            "line": {
             "colorbar": {
              "outlinewidth": 0,
              "ticks": ""
             }
            },
            "type": "parcoords"
           }
          ],
          "pie": [
           {
            "automargin": true,
            "type": "pie"
           }
          ],
          "scatter": [
           {
            "fillpattern": {
             "fillmode": "overlay",
             "size": 10,
             "solidity": 0.2
            },
            "type": "scatter"
           }
          ],
          "scatter3d": [
           {
            "line": {
             "colorbar": {
              "outlinewidth": 0,
              "ticks": ""
             }
            },
            "marker": {
             "colorbar": {
              "outlinewidth": 0,
              "ticks": ""
             }
            },
            "type": "scatter3d"
           }
          ],
          "scattercarpet": [
           {
            "marker": {
             "colorbar": {
              "outlinewidth": 0,
              "ticks": ""
             }
            },
            "type": "scattercarpet"
           }
          ],
          "scattergeo": [
           {
            "marker": {
             "colorbar": {
              "outlinewidth": 0,
              "ticks": ""
             }
            },
            "type": "scattergeo"
           }
          ],
          "scattergl": [
           {
            "marker": {
             "colorbar": {
              "outlinewidth": 0,
              "ticks": ""
             }
            },
            "type": "scattergl"
           }
          ],
          "scattermap": [
           {
            "marker": {
             "colorbar": {
              "outlinewidth": 0,
              "ticks": ""
             }
            },
            "type": "scattermap"
           }
          ],
          "scattermapbox": [
           {
            "marker": {
             "colorbar": {
              "outlinewidth": 0,
              "ticks": ""
             }
            },
            "type": "scattermapbox"
           }
          ],
          "scatterpolar": [
           {
            "marker": {
             "colorbar": {
              "outlinewidth": 0,
              "ticks": ""
             }
            },
            "type": "scatterpolar"
           }
          ],
          "scatterpolargl": [
           {
            "marker": {
             "colorbar": {
              "outlinewidth": 0,
              "ticks": ""
             }
            },
            "type": "scatterpolargl"
           }
          ],
          "scatterternary": [
           {
            "marker": {
             "colorbar": {
              "outlinewidth": 0,
              "ticks": ""
             }
            },
            "type": "scatterternary"
           }
          ],
          "surface": [
           {
            "colorbar": {
             "outlinewidth": 0,
             "ticks": ""
            },
            "colorscale": [
             [
              0,
              "#0d0887"
             ],
             [
              0.1111111111111111,
              "#46039f"
             ],
             [
              0.2222222222222222,
              "#7201a8"
             ],
             [
              0.3333333333333333,
              "#9c179e"
             ],
             [
              0.4444444444444444,
              "#bd3786"
             ],
             [
              0.5555555555555556,
              "#d8576b"
             ],
             [
              0.6666666666666666,
              "#ed7953"
             ],
             [
              0.7777777777777778,
              "#fb9f3a"
             ],
             [
              0.8888888888888888,
              "#fdca26"
             ],
             [
              1,
              "#f0f921"
             ]
            ],
            "type": "surface"
           }
          ],
          "table": [
           {
            "cells": {
             "fill": {
              "color": "#EBF0F8"
             },
             "line": {
              "color": "white"
             }
            },
            "header": {
             "fill": {
              "color": "#C8D4E3"
             },
             "line": {
              "color": "white"
             }
            },
            "type": "table"
           }
          ]
         },
         "layout": {
          "annotationdefaults": {
           "arrowcolor": "#2a3f5f",
           "arrowhead": 0,
           "arrowwidth": 1
          },
          "autotypenumbers": "strict",
          "coloraxis": {
           "colorbar": {
            "outlinewidth": 0,
            "ticks": ""
           }
          },
          "colorscale": {
           "diverging": [
            [
             0,
             "#8e0152"
            ],
            [
             0.1,
             "#c51b7d"
            ],
            [
             0.2,
             "#de77ae"
            ],
            [
             0.3,
             "#f1b6da"
            ],
            [
             0.4,
             "#fde0ef"
            ],
            [
             0.5,
             "#f7f7f7"
            ],
            [
             0.6,
             "#e6f5d0"
            ],
            [
             0.7,
             "#b8e186"
            ],
            [
             0.8,
             "#7fbc41"
            ],
            [
             0.9,
             "#4d9221"
            ],
            [
             1,
             "#276419"
            ]
           ],
           "sequential": [
            [
             0,
             "#0d0887"
            ],
            [
             0.1111111111111111,
             "#46039f"
            ],
            [
             0.2222222222222222,
             "#7201a8"
            ],
            [
             0.3333333333333333,
             "#9c179e"
            ],
            [
             0.4444444444444444,
             "#bd3786"
            ],
            [
             0.5555555555555556,
             "#d8576b"
            ],
            [
             0.6666666666666666,
             "#ed7953"
            ],
            [
             0.7777777777777778,
             "#fb9f3a"
            ],
            [
             0.8888888888888888,
             "#fdca26"
            ],
            [
             1,
             "#f0f921"
            ]
           ],
           "sequentialminus": [
            [
             0,
             "#0d0887"
            ],
            [
             0.1111111111111111,
             "#46039f"
            ],
            [
             0.2222222222222222,
             "#7201a8"
            ],
            [
             0.3333333333333333,
             "#9c179e"
            ],
            [
             0.4444444444444444,
             "#bd3786"
            ],
            [
             0.5555555555555556,
             "#d8576b"
            ],
            [
             0.6666666666666666,
             "#ed7953"
            ],
            [
             0.7777777777777778,
             "#fb9f3a"
            ],
            [
             0.8888888888888888,
             "#fdca26"
            ],
            [
             1,
             "#f0f921"
            ]
           ]
          },
          "colorway": [
           "#636efa",
           "#EF553B",
           "#00cc96",
           "#ab63fa",
           "#FFA15A",
           "#19d3f3",
           "#FF6692",
           "#B6E880",
           "#FF97FF",
           "#FECB52"
          ],
          "font": {
           "color": "#2a3f5f"
          },
          "geo": {
           "bgcolor": "white",
           "lakecolor": "white",
           "landcolor": "#E5ECF6",
           "showlakes": true,
           "showland": true,
           "subunitcolor": "white"
          },
          "hoverlabel": {
           "align": "left"
          },
          "hovermode": "closest",
          "mapbox": {
           "style": "light"
          },
          "paper_bgcolor": "white",
          "plot_bgcolor": "#E5ECF6",
          "polar": {
           "angularaxis": {
            "gridcolor": "white",
            "linecolor": "white",
            "ticks": ""
           },
           "bgcolor": "#E5ECF6",
           "radialaxis": {
            "gridcolor": "white",
            "linecolor": "white",
            "ticks": ""
           }
          },
          "scene": {
           "xaxis": {
            "backgroundcolor": "#E5ECF6",
            "gridcolor": "white",
            "gridwidth": 2,
            "linecolor": "white",
            "showbackground": true,
            "ticks": "",
            "zerolinecolor": "white"
           },
           "yaxis": {
            "backgroundcolor": "#E5ECF6",
            "gridcolor": "white",
            "gridwidth": 2,
            "linecolor": "white",
            "showbackground": true,
            "ticks": "",
            "zerolinecolor": "white"
           },
           "zaxis": {
            "backgroundcolor": "#E5ECF6",
            "gridcolor": "white",
            "gridwidth": 2,
            "linecolor": "white",
            "showbackground": true,
            "ticks": "",
            "zerolinecolor": "white"
           }
          },
          "shapedefaults": {
           "line": {
            "color": "#2a3f5f"
           }
          },
          "ternary": {
           "aaxis": {
            "gridcolor": "white",
            "linecolor": "white",
            "ticks": ""
           },
           "baxis": {
            "gridcolor": "white",
            "linecolor": "white",
            "ticks": ""
           },
           "bgcolor": "#E5ECF6",
           "caxis": {
            "gridcolor": "white",
            "linecolor": "white",
            "ticks": ""
           }
          },
          "title": {
           "x": 0.05
          },
          "xaxis": {
           "automargin": true,
           "gridcolor": "white",
           "linecolor": "white",
           "ticks": "",
           "title": {
            "standoff": 15
           },
           "zerolinecolor": "white",
           "zerolinewidth": 2
          },
          "yaxis": {
           "automargin": true,
           "gridcolor": "white",
           "linecolor": "white",
           "ticks": "",
           "title": {
            "standoff": 15
           },
           "zerolinecolor": "white",
           "zerolinewidth": 2
          }
         }
        },
        "title": {
         "text": "Correlation Heatmap of Numerical Features"
        },
        "width": 800,
        "xaxis": {
         "nticks": 26
        },
        "yaxis": {
         "nticks": 26
        }
       }
      }
     },
     "metadata": {},
     "output_type": "display_data"
    }
   ],
   "source": [
    "# 📊 Step 10: Multivariate Analysis – Correlation Heatmap\n",
    "\n",
    "\n",
    "# Compute correlation matrix (numeric columns only)\n",
    "corr = df.corr(numeric_only=True)\n",
    "\n",
    "# Create heatmap using Plotly\n",
    "fig = go.Figure(data=go.Heatmap(\n",
    "    z=corr.values,\n",
    "    x=corr.columns,\n",
    "    y=corr.columns,\n",
    "    colorscale='Viridis',\n",
    "    colorbar=dict(title=\"Correlation\"),\n",
    "    zmin=-1, zmax=1  # Fix the range for better interpretation\n",
    "))\n",
    "\n",
    "# Update layout with title and formatting\n",
    "fig.update_layout(\n",
    "    title=\"Correlation Heatmap of Numerical Features\",\n",
    "    xaxis_nticks=len(corr.columns),\n",
    "    yaxis_nticks=len(corr.columns),\n",
    "    width=800,\n",
    "    height=800\n",
    ")\n",
    "\n",
    "fig.show()\n"
   ]
  },
  {
   "cell_type": "code",
   "execution_count": 20,
   "id": "c8720205",
   "metadata": {},
   "outputs": [
    {
     "data": {
      "application/vnd.plotly.v1+json": {
       "config": {
        "plotlyServerURL": "https://plot.ly"
       },
       "data": [
        {
         "diagonal": {
          "visible": false
         },
         "dimensions": [
          {
           "axis": {
            "matches": true
           },
           "label": "age",
           "values": {
            "bdata": "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",
            "dtype": "f8"
           }
          },
          {
           "axis": {
            "matches": true
           },
           "label": "bu",
           "values": {
            "bdata": "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",
            "dtype": "f8"
           }
          },
          {
           "axis": {
            "matches": true
           },
           "label": "sc",
           "values": {
            "bdata": "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",
            "dtype": "f8"
           }
          }
         ],
         "hovertemplate": "%{xaxis.title.text}=%{x}<br>%{yaxis.title.text}=%{y}<br>classification=%{marker.color}<extra></extra>",
         "legendgroup": "",
         "marker": {
          "color": {
           "bdata": "AQEBAQEBAQEBAQEBAQEBAQEBAQEBAQEBAQEBAQEBAQEBAQEBAQEBAQEBAQEBAQEBAQEBAQEBAQEBAQEBAQEBAQEBAQEBAQEBAQEBAQEBAQEBAQEBAQEBAQEBAQEBAQEBAQEBAQEBAQEBAQEBAQEBAQEBAQEBAQEBAQEBAQEBAQEBAQEBAQEBAQEBAQEBAQEBAQEBAQEBAQEBAQEBAQEBAQEBAQEBAQEBAQEBAQEBAQEBAQEBAQEBAQEBAQEBAQEBAQEBAQEBAQEBAQEBAQEBAQEBAQEBAQEBAQEBAQEBAQEBAQEBAQEBAQEBAQEBAQEBAQEBAQEBAQEBAQAAAAAAAAAAAAAAAAAAAAAAAAAAAAAAAAAAAAAAAAAAAAAAAAAAAAAAAAAAAAAAAAAAAAAAAAAAAAAAAAAAAAAAAAAAAAAAAAAAAAAAAAAAAAAAAAAAAAAAAAAAAAAAAAAAAAAAAAAAAAAAAAAAAAAAAAAAAAAAAAAAAAAAAAAAAAAAAAAAAAAAAAAAAAAAAAAAAAAAAA==",
           "dtype": "i1"
          },
          "coloraxis": "coloraxis",
          "symbol": "circle"
         },
         "name": "",
         "showlegend": false,
         "type": "splom"
        }
       ],
       "layout": {
        "coloraxis": {
         "colorbar": {
          "title": {
           "text": "classification"
          }
         },
         "colorscale": [
          [
           0,
           "#0d0887"
          ],
          [
           0.1111111111111111,
           "#46039f"
          ],
          [
           0.2222222222222222,
           "#7201a8"
          ],
          [
           0.3333333333333333,
           "#9c179e"
          ],
          [
           0.4444444444444444,
           "#bd3786"
          ],
          [
           0.5555555555555556,
           "#d8576b"
          ],
          [
           0.6666666666666666,
           "#ed7953"
          ],
          [
           0.7777777777777778,
           "#fb9f3a"
          ],
          [
           0.8888888888888888,
           "#fdca26"
          ],
          [
           1,
           "#f0f921"
          ]
         ]
        },
        "dragmode": "select",
        "legend": {
         "tracegroupgap": 0
        },
        "template": {
         "data": {
          "bar": [
           {
            "error_x": {
             "color": "#2a3f5f"
            },
            "error_y": {
             "color": "#2a3f5f"
            },
            "marker": {
             "line": {
              "color": "white",
              "width": 0.5
             },
             "pattern": {
              "fillmode": "overlay",
              "size": 10,
              "solidity": 0.2
             }
            },
            "type": "bar"
           }
          ],
          "barpolar": [
           {
            "marker": {
             "line": {
              "color": "white",
              "width": 0.5
             },
             "pattern": {
              "fillmode": "overlay",
              "size": 10,
              "solidity": 0.2
             }
            },
            "type": "barpolar"
           }
          ],
          "carpet": [
           {
            "aaxis": {
             "endlinecolor": "#2a3f5f",
             "gridcolor": "#C8D4E3",
             "linecolor": "#C8D4E3",
             "minorgridcolor": "#C8D4E3",
             "startlinecolor": "#2a3f5f"
            },
            "baxis": {
             "endlinecolor": "#2a3f5f",
             "gridcolor": "#C8D4E3",
             "linecolor": "#C8D4E3",
             "minorgridcolor": "#C8D4E3",
             "startlinecolor": "#2a3f5f"
            },
            "type": "carpet"
           }
          ],
          "choropleth": [
           {
            "colorbar": {
             "outlinewidth": 0,
             "ticks": ""
            },
            "type": "choropleth"
           }
          ],
          "contour": [
           {
            "colorbar": {
             "outlinewidth": 0,
             "ticks": ""
            },
            "colorscale": [
             [
              0,
              "#0d0887"
             ],
             [
              0.1111111111111111,
              "#46039f"
             ],
             [
              0.2222222222222222,
              "#7201a8"
             ],
             [
              0.3333333333333333,
              "#9c179e"
             ],
             [
              0.4444444444444444,
              "#bd3786"
             ],
             [
              0.5555555555555556,
              "#d8576b"
             ],
             [
              0.6666666666666666,
              "#ed7953"
             ],
             [
              0.7777777777777778,
              "#fb9f3a"
             ],
             [
              0.8888888888888888,
              "#fdca26"
             ],
             [
              1,
              "#f0f921"
             ]
            ],
            "type": "contour"
           }
          ],
          "contourcarpet": [
           {
            "colorbar": {
             "outlinewidth": 0,
             "ticks": ""
            },
            "type": "contourcarpet"
           }
          ],
          "heatmap": [
           {
            "colorbar": {
             "outlinewidth": 0,
             "ticks": ""
            },
            "colorscale": [
             [
              0,
              "#0d0887"
             ],
             [
              0.1111111111111111,
              "#46039f"
             ],
             [
              0.2222222222222222,
              "#7201a8"
             ],
             [
              0.3333333333333333,
              "#9c179e"
             ],
             [
              0.4444444444444444,
              "#bd3786"
             ],
             [
              0.5555555555555556,
              "#d8576b"
             ],
             [
              0.6666666666666666,
              "#ed7953"
             ],
             [
              0.7777777777777778,
              "#fb9f3a"
             ],
             [
              0.8888888888888888,
              "#fdca26"
             ],
             [
              1,
              "#f0f921"
             ]
            ],
            "type": "heatmap"
           }
          ],
          "histogram": [
           {
            "marker": {
             "pattern": {
              "fillmode": "overlay",
              "size": 10,
              "solidity": 0.2
             }
            },
            "type": "histogram"
           }
          ],
          "histogram2d": [
           {
            "colorbar": {
             "outlinewidth": 0,
             "ticks": ""
            },
            "colorscale": [
             [
              0,
              "#0d0887"
             ],
             [
              0.1111111111111111,
              "#46039f"
             ],
             [
              0.2222222222222222,
              "#7201a8"
             ],
             [
              0.3333333333333333,
              "#9c179e"
             ],
             [
              0.4444444444444444,
              "#bd3786"
             ],
             [
              0.5555555555555556,
              "#d8576b"
             ],
             [
              0.6666666666666666,
              "#ed7953"
             ],
             [
              0.7777777777777778,
              "#fb9f3a"
             ],
             [
              0.8888888888888888,
              "#fdca26"
             ],
             [
              1,
              "#f0f921"
             ]
            ],
            "type": "histogram2d"
           }
          ],
          "histogram2dcontour": [
           {
            "colorbar": {
             "outlinewidth": 0,
             "ticks": ""
            },
            "colorscale": [
             [
              0,
              "#0d0887"
             ],
             [
              0.1111111111111111,
              "#46039f"
             ],
             [
              0.2222222222222222,
              "#7201a8"
             ],
             [
              0.3333333333333333,
              "#9c179e"
             ],
             [
              0.4444444444444444,
              "#bd3786"
             ],
             [
              0.5555555555555556,
              "#d8576b"
             ],
             [
              0.6666666666666666,
              "#ed7953"
             ],
             [
              0.7777777777777778,
              "#fb9f3a"
             ],
             [
              0.8888888888888888,
              "#fdca26"
             ],
             [
              1,
              "#f0f921"
             ]
            ],
            "type": "histogram2dcontour"
           }
          ],
          "mesh3d": [
           {
            "colorbar": {
             "outlinewidth": 0,
             "ticks": ""
            },
            "type": "mesh3d"
           }
          ],
          "parcoords": [
           {
            "line": {
             "colorbar": {
              "outlinewidth": 0,
              "ticks": ""
             }
            },
            "type": "parcoords"
           }
          ],
          "pie": [
           {
            "automargin": true,
            "type": "pie"
           }
          ],
          "scatter": [
           {
            "fillpattern": {
             "fillmode": "overlay",
             "size": 10,
             "solidity": 0.2
            },
            "type": "scatter"
           }
          ],
          "scatter3d": [
           {
            "line": {
             "colorbar": {
              "outlinewidth": 0,
              "ticks": ""
             }
            },
            "marker": {
             "colorbar": {
              "outlinewidth": 0,
              "ticks": ""
             }
            },
            "type": "scatter3d"
           }
          ],
          "scattercarpet": [
           {
            "marker": {
             "colorbar": {
              "outlinewidth": 0,
              "ticks": ""
             }
            },
            "type": "scattercarpet"
           }
          ],
          "scattergeo": [
           {
            "marker": {
             "colorbar": {
              "outlinewidth": 0,
              "ticks": ""
             }
            },
            "type": "scattergeo"
           }
          ],
          "scattergl": [
           {
            "marker": {
             "colorbar": {
              "outlinewidth": 0,
              "ticks": ""
             }
            },
            "type": "scattergl"
           }
          ],
          "scattermap": [
           {
            "marker": {
             "colorbar": {
              "outlinewidth": 0,
              "ticks": ""
             }
            },
            "type": "scattermap"
           }
          ],
          "scattermapbox": [
           {
            "marker": {
             "colorbar": {
              "outlinewidth": 0,
              "ticks": ""
             }
            },
            "type": "scattermapbox"
           }
          ],
          "scatterpolar": [
           {
            "marker": {
             "colorbar": {
              "outlinewidth": 0,
              "ticks": ""
             }
            },
            "type": "scatterpolar"
           }
          ],
          "scatterpolargl": [
           {
            "marker": {
             "colorbar": {
              "outlinewidth": 0,
              "ticks": ""
             }
            },
            "type": "scatterpolargl"
           }
          ],
          "scatterternary": [
           {
            "marker": {
             "colorbar": {
              "outlinewidth": 0,
              "ticks": ""
             }
            },
            "type": "scatterternary"
           }
          ],
          "surface": [
           {
            "colorbar": {
             "outlinewidth": 0,
             "ticks": ""
            },
            "colorscale": [
             [
              0,
              "#0d0887"
             ],
             [
              0.1111111111111111,
              "#46039f"
             ],
             [
              0.2222222222222222,
              "#7201a8"
             ],
             [
              0.3333333333333333,
              "#9c179e"
             ],
             [
              0.4444444444444444,
              "#bd3786"
             ],
             [
              0.5555555555555556,
              "#d8576b"
             ],
             [
              0.6666666666666666,
              "#ed7953"
             ],
             [
              0.7777777777777778,
              "#fb9f3a"
             ],
             [
              0.8888888888888888,
              "#fdca26"
             ],
             [
              1,
              "#f0f921"
             ]
            ],
            "type": "surface"
           }
          ],
          "table": [
           {
            "cells": {
             "fill": {
              "color": "#EBF0F8"
             },
             "line": {
              "color": "white"
             }
            },
            "header": {
             "fill": {
              "color": "#C8D4E3"
             },
             "line": {
              "color": "white"
             }
            },
            "type": "table"
           }
          ]
         },
         "layout": {
          "annotationdefaults": {
           "arrowcolor": "#2a3f5f",
           "arrowhead": 0,
           "arrowwidth": 1
          },
          "autotypenumbers": "strict",
          "coloraxis": {
           "colorbar": {
            "outlinewidth": 0,
            "ticks": ""
           }
          },
          "colorscale": {
           "diverging": [
            [
             0,
             "#8e0152"
            ],
            [
             0.1,
             "#c51b7d"
            ],
            [
             0.2,
             "#de77ae"
            ],
            [
             0.3,
             "#f1b6da"
            ],
            [
             0.4,
             "#fde0ef"
            ],
            [
             0.5,
             "#f7f7f7"
            ],
            [
             0.6,
             "#e6f5d0"
            ],
            [
             0.7,
             "#b8e186"
            ],
            [
             0.8,
             "#7fbc41"
            ],
            [
             0.9,
             "#4d9221"
            ],
            [
             1,
             "#276419"
            ]
           ],
           "sequential": [
            [
             0,
             "#0d0887"
            ],
            [
             0.1111111111111111,
             "#46039f"
            ],
            [
             0.2222222222222222,
             "#7201a8"
            ],
            [
             0.3333333333333333,
             "#9c179e"
            ],
            [
             0.4444444444444444,
             "#bd3786"
            ],
            [
             0.5555555555555556,
             "#d8576b"
            ],
            [
             0.6666666666666666,
             "#ed7953"
            ],
            [
             0.7777777777777778,
             "#fb9f3a"
            ],
            [
             0.8888888888888888,
             "#fdca26"
            ],
            [
             1,
             "#f0f921"
            ]
           ],
           "sequentialminus": [
            [
             0,
             "#0d0887"
            ],
            [
             0.1111111111111111,
             "#46039f"
            ],
            [
             0.2222222222222222,
             "#7201a8"
            ],
            [
             0.3333333333333333,
             "#9c179e"
            ],
            [
             0.4444444444444444,
             "#bd3786"
            ],
            [
             0.5555555555555556,
             "#d8576b"
            ],
            [
             0.6666666666666666,
             "#ed7953"
            ],
            [
             0.7777777777777778,
             "#fb9f3a"
            ],
            [
             0.8888888888888888,
             "#fdca26"
            ],
            [
             1,
             "#f0f921"
            ]
           ]
          },
          "colorway": [
           "#636efa",
           "#EF553B",
           "#00cc96",
           "#ab63fa",
           "#FFA15A",
           "#19d3f3",
           "#FF6692",
           "#B6E880",
           "#FF97FF",
           "#FECB52"
          ],
          "font": {
           "color": "#2a3f5f"
          },
          "geo": {
           "bgcolor": "white",
           "lakecolor": "white",
           "landcolor": "white",
           "showlakes": true,
           "showland": true,
           "subunitcolor": "#C8D4E3"
          },
          "hoverlabel": {
           "align": "left"
          },
          "hovermode": "closest",
          "mapbox": {
           "style": "light"
          },
          "paper_bgcolor": "white",
          "plot_bgcolor": "white",
          "polar": {
           "angularaxis": {
            "gridcolor": "#EBF0F8",
            "linecolor": "#EBF0F8",
            "ticks": ""
           },
           "bgcolor": "white",
           "radialaxis": {
            "gridcolor": "#EBF0F8",
            "linecolor": "#EBF0F8",
            "ticks": ""
           }
          },
          "scene": {
           "xaxis": {
            "backgroundcolor": "white",
            "gridcolor": "#DFE8F3",
            "gridwidth": 2,
            "linecolor": "#EBF0F8",
            "showbackground": true,
            "ticks": "",
            "zerolinecolor": "#EBF0F8"
           },
           "yaxis": {
            "backgroundcolor": "white",
            "gridcolor": "#DFE8F3",
            "gridwidth": 2,
            "linecolor": "#EBF0F8",
            "showbackground": true,
            "ticks": "",
            "zerolinecolor": "#EBF0F8"
           },
           "zaxis": {
            "backgroundcolor": "white",
            "gridcolor": "#DFE8F3",
            "gridwidth": 2,
            "linecolor": "#EBF0F8",
            "showbackground": true,
            "ticks": "",
            "zerolinecolor": "#EBF0F8"
           }
          },
          "shapedefaults": {
           "line": {
            "color": "#2a3f5f"
           }
          },
          "ternary": {
           "aaxis": {
            "gridcolor": "#DFE8F3",
            "linecolor": "#A2B1C6",
            "ticks": ""
           },
           "baxis": {
            "gridcolor": "#DFE8F3",
            "linecolor": "#A2B1C6",
            "ticks": ""
           },
           "bgcolor": "white",
           "caxis": {
            "gridcolor": "#DFE8F3",
            "linecolor": "#A2B1C6",
            "ticks": ""
           }
          },
          "title": {
           "x": 0.05
          },
          "xaxis": {
           "automargin": true,
           "gridcolor": "#EBF0F8",
           "linecolor": "#EBF0F8",
           "ticks": "",
           "title": {
            "standoff": 15
           },
           "zerolinecolor": "#EBF0F8",
           "zerolinewidth": 2
          },
          "yaxis": {
           "automargin": true,
           "gridcolor": "#EBF0F8",
           "linecolor": "#EBF0F8",
           "ticks": "",
           "title": {
            "standoff": 15
           },
           "zerolinecolor": "#EBF0F8",
           "zerolinewidth": 2
          }
         }
        },
        "title": {
         "text": "Scatter Matrix of Selected Features (Age, BU, SC)"
        }
       }
      }
     },
     "metadata": {},
     "output_type": "display_data"
    }
   ],
   "source": [
    "# 📊 Step 11: Multivariate – Pairplot Alternative (Scatter Matrix)\n",
    "\n",
    "# Use correct column names from your dataset\n",
    "subset_cols = ['age', 'bu', 'sc', 'classification']  # bu = blood urea, sc = serum creatinine\n",
    "\n",
    "# Optional: Drop rows with NaN in selected columns\n",
    "df_subset = df[subset_cols].dropna()\n",
    "\n",
    "# Generate scatter matrix\n",
    "fig = px.scatter_matrix(\n",
    "    df_subset,\n",
    "    dimensions=subset_cols[:-1],  # Only features, exclude 'classification' from axes\n",
    "    color='classification',\n",
    "    title=\"Scatter Matrix of Selected Features (Age, BU, SC)\",\n",
    "    template=\"plotly_white\"\n",
    ")\n",
    "\n",
    "# Hide diagonal histograms for cleaner view\n",
    "fig.update_traces(diagonal_visible=False)\n",
    "fig.show()\n"
   ]
  },
  {
   "cell_type": "code",
   "execution_count": 21,
   "id": "b4c09c72",
   "metadata": {},
   "outputs": [
    {
     "data": {
      "application/vnd.plotly.v1+json": {
       "config": {
        "plotlyServerURL": "https://plot.ly"
       },
       "data": [
        {
         "bingroup": "x",
         "hovertemplate": "htn=%{x}<br>count=%{y}<extra></extra>",
         "legendgroup": "1.298336340131588",
         "marker": {
          "color": "#636efa",
          "pattern": {
           "shape": ""
          }
         },
         "name": "1.298336340131588",
         "orientation": "v",
         "showlegend": true,
         "type": "histogram",
         "x": {
          "bdata": "ES2BU/zF9D8RLYFT/MX0PxEtgVP8xfQ/ES2BU/zF9D8RLYFT/MX0PxEtgVP8xfQ/ES2BU/zF9D8RLYFT/MX0PxEtgVP8xfQ/ES2BU/zF9D8RLYFT/MX0PxEtgVP8xfQ/ES2BU/zF9D8RLYFT/MX0PxEtgVP8xfQ/ES2BU/zF9D8RLYFT/MX0PxEtgVP8xfQ/ES2BU/zF9D8RLYFT/MX0PxEtgVP8xfQ/ES2BU/zF9D8RLYFT/MX0PxEtgVP8xfQ/ES2BU/zF9D8RLYFT/MX0PxEtgVP8xfQ/ES2BU/zF9D8RLYFT/MX0PxEtgVP8xfQ/ES2BU/zF9D8RLYFT/MX0PxEtgVP8xfQ/ES2BU/zF9D8RLYFT/MX0PxEtgVP8xfQ/ES2BU/zF9D8RLYFT/MX0PxEtgVP8xfQ/ES2BU/zF9D8RLYFT/MX0PxEtgVP8xfQ/ES2BU/zF9D8RLYFT/MX0PxEtgVP8xfQ/ES2BU/zF9D8RLYFT/MX0PxEtgVP8xfQ/ES2BU/zF9D8RLYFT/MX0PxEtgVP8xfQ/ES2BU/zF9D8RLYFT/MX0PxEtgVP8xfQ/ES2BU/zF9D8RLYFT/MX0PxEtgVP8xfQ/ES2BU/zF9D8RLYFT/MX0PxEtgVP8xfQ/ES2BU/zF9D8RLYFT/MX0PxEtgVP8xfQ/ES2BU/zF9D8RLYFT/MX0PxEtgVP8xfQ/ES2BU/zF9D8RLYFT/MX0PxEtgVP8xfQ/ES2BU/zF9D8RLYFT/MX0PxEtgVP8xfQ/ES2BU/zF9D8RLYFT/MX0PxEtgVP8xfQ/ES2BU/zF9D8RLYFT/MX0PxEtgVP8xfQ/ES2BU/zF9D8RLYFT/MX0PxEtgVP8xfQ/ES2BU/zF9D8RLYFT/MX0PxEtgVP8xfQ/ES2BU/zF9D8RLYFT/MX0PxEtgVP8xfQ/ES2BU/zF9D8RLYFT/MX0PxEtgVP8xfQ/ES2BU/zF9D8RLYFT/MX0PxEtgVP8xfQ/ES2BU/zF9D8RLYFT/MX0PxEtgVP8xfQ/ES2BU/zF9D8RLYFT/MX0PxEtgVP8xfQ/ES2BU/zF9D8RLYFT/MX0PxEtgVP8xfQ/ES2BU/zF9D8RLYFT/MX0PxEtgVP8xfQ/ES2BU/zF9D8RLYFT/MX0PxEtgVP8xfQ/ES2BU/zF9D8RLYFT/MX0PxEtgVP8xfQ/ES2BU/zF9D8RLYFT/MX0PxEtgVP8xfQ/ES2BU/zF9D8RLYFT/MX0PxEtgVP8xfQ/ES2BU/zF9D8RLYFT/MX0PxEtgVP8xfQ/ES2BU/zF9D8RLYFT/MX0PxEtgVP8xfQ/ES2BU/zF9D8RLYFT/MX0PxEtgVP8xfQ/ES2BU/zF9D8RLYFT/MX0PxEtgVP8xfQ/ES2BU/zF9D8RLYFT/MX0PxEtgVP8xfQ/ES2BU/zF9D8RLYFT/MX0PxEtgVP8xfQ/ES2BU/zF9D8RLYFT/MX0PxEtgVP8xfQ/ES2BU/zF9D8RLYFT/MX0PxEtgVP8xfQ/ES2BU/zF9D8RLYFT/MX0PxEtgVP8xfQ/ES2BU/zF9D8RLYFT/MX0PxEtgVP8xfQ/",
          "dtype": "f8"
         },
         "xaxis": "x",
         "yaxis": "y"
        },
        {
         "bingroup": "x",
         "hovertemplate": "htn=%{x}<br>count=%{y}<extra></extra>",
         "legendgroup": "-0.7382696836042364",
         "marker": {
          "color": "#EF553B",
          "pattern": {
           "shape": ""
          }
         },
         "name": "-0.7382696836042364",
         "orientation": "v",
         "showlegend": true,
         "type": "histogram",
         "x": {
          "bdata": "uqtWvuef57+6q1a+55/nv7qrVr7nn+e/uqtWvuef57+6q1a+55/nv7qrVr7nn+e/uqtWvuef57+6q1a+55/nv7qrVr7nn+e/uqtWvuef57+6q1a+55/nv7qrVr7nn+e/uqtWvuef57+6q1a+55/nv7qrVr7nn+e/uqtWvuef57+6q1a+55/nv7qrVr7nn+e/uqtWvuef57+6q1a+55/nv7qrVr7nn+e/uqtWvuef57+6q1a+55/nv7qrVr7nn+e/uqtWvuef57+6q1a+55/nv7qrVr7nn+e/uqtWvuef57+6q1a+55/nv7qrVr7nn+e/uqtWvuef57+6q1a+55/nv7qrVr7nn+e/uqtWvuef57+6q1a+55/nv7qrVr7nn+e/uqtWvuef57+6q1a+55/nv7qrVr7nn+e/uqtWvuef57+6q1a+55/nv7qrVr7nn+e/uqtWvuef57+6q1a+55/nv7qrVr7nn+e/uqtWvuef57+6q1a+55/nv7qrVr7nn+e/uqtWvuef57+6q1a+55/nv7qrVr7nn+e/uqtWvuef57+6q1a+55/nv7qrVr7nn+e/uqtWvuef57+6q1a+55/nv7qrVr7nn+e/uqtWvuef57+6q1a+55/nv7qrVr7nn+e/uqtWvuef57+6q1a+55/nv7qrVr7nn+e/uqtWvuef57+6q1a+55/nv7qrVr7nn+e/uqtWvuef57+6q1a+55/nv7qrVr7nn+e/uqtWvuef57+6q1a+55/nv7qrVr7nn+e/uqtWvuef57+6q1a+55/nv7qrVr7nn+e/uqtWvuef57+6q1a+55/nv7qrVr7nn+e/uqtWvuef57+6q1a+55/nv7qrVr7nn+e/uqtWvuef57+6q1a+55/nv7qrVr7nn+e/uqtWvuef57+6q1a+55/nv7qrVr7nn+e/uqtWvuef57+6q1a+55/nv7qrVr7nn+e/uqtWvuef57+6q1a+55/nv7qrVr7nn+e/uqtWvuef57+6q1a+55/nv7qrVr7nn+e/uqtWvuef57+6q1a+55/nv7qrVr7nn+e/uqtWvuef57+6q1a+55/nv7qrVr7nn+e/uqtWvuef57+6q1a+55/nv7qrVr7nn+e/uqtWvuef57+6q1a+55/nv7qrVr7nn+e/uqtWvuef57+6q1a+55/nv7qrVr7nn+e/uqtWvuef57+6q1a+55/nv7qrVr7nn+e/uqtWvuef57+6q1a+55/nv7qrVr7nn+e/uqtWvuef57+6q1a+55/nv7qrVr7nn+e/uqtWvuef57+6q1a+55/nv7qrVr7nn+e/uqtWvuef57+6q1a+55/nv7qrVr7nn+e/uqtWvuef57+6q1a+55/nv7qrVr7nn+e/uqtWvuef57+6q1a+55/nv7qrVr7nn+e/uqtWvuef57+6q1a+55/nv7qrVr7nn+e/uqtWvuef57+6q1a+55/nv7qrVr7nn+e/uqtWvuef57+6q1a+55/nv7qrVr7nn+e/uqtWvuef57+6q1a+55/nv7qrVr7nn+e/uqtWvuef57+6q1a+55/nv7qrVr7nn+e/uqtWvuef57+6q1a+55/nv7qrVr7nn+e/uqtWvuef57+6q1a+55/nv7qrVr7nn+e/uqtWvuef57+6q1a+55/nv7qrVr7nn+e/uqtWvuef57+6q1a+55/nv7qrVr7nn+e/uqtWvuef57+6q1a+55/nv7qrVr7nn+e/uqtWvuef57+6q1a+55/nv7qrVr7nn+e/uqtWvuef57+6q1a+55/nv7qrVr7nn+e/uqtWvuef57+6q1a+55/nv7qrVr7nn+e/uqtWvuef57+6q1a+55/nv7qrVr7nn+e/uqtWvuef57+6q1a+55/nv7qrVr7nn+e/uqtWvuef57+6q1a+55/nv7qrVr7nn+e/uqtWvuef57+6q1a+55/nv7qrVr7nn+e/uqtWvuef57+6q1a+55/nv7qrVr7nn+e/uqtWvuef57+6q1a+55/nv7qrVr7nn+e/uqtWvuef57+6q1a+55/nv7qrVr7nn+e/uqtWvuef57+6q1a+55/nv7qrVr7nn+e/uqtWvuef57+6q1a+55/nv7qrVr7nn+e/uqtWvuef57+6q1a+55/nv7qrVr7nn+e/uqtWvuef57+6q1a+55/nv7qrVr7nn+e/uqtWvuef57+6q1a+55/nv7qrVr7nn+e/uqtWvuef57+6q1a+55/nv7qrVr7nn+e/uqtWvuef57+6q1a+55/nv7qrVr7nn+e/uqtWvuef57+6q1a+55/nv7qrVr7nn+e/uqtWvuef57+6q1a+55/nv7qrVr7nn+e/uqtWvuef57+6q1a+55/nv7qrVr7nn+e/uqtWvuef57+6q1a+55/nv7qrVr7nn+e/uqtWvuef57+6q1a+55/nv7qrVr7nn+e/uqtWvuef57+6q1a+55/nv7qrVr7nn+e/uqtWvuef57+6q1a+55/nv7qrVr7nn+e/uqtWvuef57+6q1a+55/nv7qrVr7nn+e/uqtWvuef57+6q1a+55/nv7qrVr7nn+e/uqtWvuef57+6q1a+55/nv7qrVr7nn+e/uqtWvuef57+6q1a+55/nv7qrVr7nn+e/uqtWvuef57+6q1a+55/nv7qrVr7nn+e/uqtWvuef57+6q1a+55/nvw==",
          "dtype": "f8"
         },
         "xaxis": "x",
         "yaxis": "y"
        },
        {
         "bingroup": "x",
         "hovertemplate": "htn=%{x}<br>count=%{y}<extra></extra>",
         "legendgroup": "-2.774875707340061",
         "marker": {
          "color": "#00cc96",
          "pattern": {
           "shape": ""
          }
         },
         "name": "-2.774875707340061",
         "orientation": "v",
         "showlegend": true,
         "type": "histogram",
         "x": {
          "bdata": "ZuzrCPIyBsBm7OsI8jIGwA==",
          "dtype": "f8"
         },
         "xaxis": "x",
         "yaxis": "y"
        }
       ],
       "layout": {
        "barmode": "relative",
        "legend": {
         "title": {
          "text": "htn"
         },
         "tracegroupgap": 0
        },
        "showlegend": false,
        "template": {
         "data": {
          "bar": [
           {
            "error_x": {
             "color": "#2a3f5f"
            },
            "error_y": {
             "color": "#2a3f5f"
            },
            "marker": {
             "line": {
              "color": "white",
              "width": 0.5
             },
             "pattern": {
              "fillmode": "overlay",
              "size": 10,
              "solidity": 0.2
             }
            },
            "type": "bar"
           }
          ],
          "barpolar": [
           {
            "marker": {
             "line": {
              "color": "white",
              "width": 0.5
             },
             "pattern": {
              "fillmode": "overlay",
              "size": 10,
              "solidity": 0.2
             }
            },
            "type": "barpolar"
           }
          ],
          "carpet": [
           {
            "aaxis": {
             "endlinecolor": "#2a3f5f",
             "gridcolor": "#C8D4E3",
             "linecolor": "#C8D4E3",
             "minorgridcolor": "#C8D4E3",
             "startlinecolor": "#2a3f5f"
            },
            "baxis": {
             "endlinecolor": "#2a3f5f",
             "gridcolor": "#C8D4E3",
             "linecolor": "#C8D4E3",
             "minorgridcolor": "#C8D4E3",
             "startlinecolor": "#2a3f5f"
            },
            "type": "carpet"
           }
          ],
          "choropleth": [
           {
            "colorbar": {
             "outlinewidth": 0,
             "ticks": ""
            },
            "type": "choropleth"
           }
          ],
          "contour": [
           {
            "colorbar": {
             "outlinewidth": 0,
             "ticks": ""
            },
            "colorscale": [
             [
              0,
              "#0d0887"
             ],
             [
              0.1111111111111111,
              "#46039f"
             ],
             [
              0.2222222222222222,
              "#7201a8"
             ],
             [
              0.3333333333333333,
              "#9c179e"
             ],
             [
              0.4444444444444444,
              "#bd3786"
             ],
             [
              0.5555555555555556,
              "#d8576b"
             ],
             [
              0.6666666666666666,
              "#ed7953"
             ],
             [
              0.7777777777777778,
              "#fb9f3a"
             ],
             [
              0.8888888888888888,
              "#fdca26"
             ],
             [
              1,
              "#f0f921"
             ]
            ],
            "type": "contour"
           }
          ],
          "contourcarpet": [
           {
            "colorbar": {
             "outlinewidth": 0,
             "ticks": ""
            },
            "type": "contourcarpet"
           }
          ],
          "heatmap": [
           {
            "colorbar": {
             "outlinewidth": 0,
             "ticks": ""
            },
            "colorscale": [
             [
              0,
              "#0d0887"
             ],
             [
              0.1111111111111111,
              "#46039f"
             ],
             [
              0.2222222222222222,
              "#7201a8"
             ],
             [
              0.3333333333333333,
              "#9c179e"
             ],
             [
              0.4444444444444444,
              "#bd3786"
             ],
             [
              0.5555555555555556,
              "#d8576b"
             ],
             [
              0.6666666666666666,
              "#ed7953"
             ],
             [
              0.7777777777777778,
              "#fb9f3a"
             ],
             [
              0.8888888888888888,
              "#fdca26"
             ],
             [
              1,
              "#f0f921"
             ]
            ],
            "type": "heatmap"
           }
          ],
          "histogram": [
           {
            "marker": {
             "pattern": {
              "fillmode": "overlay",
              "size": 10,
              "solidity": 0.2
             }
            },
            "type": "histogram"
           }
          ],
          "histogram2d": [
           {
            "colorbar": {
             "outlinewidth": 0,
             "ticks": ""
            },
            "colorscale": [
             [
              0,
              "#0d0887"
             ],
             [
              0.1111111111111111,
              "#46039f"
             ],
             [
              0.2222222222222222,
              "#7201a8"
             ],
             [
              0.3333333333333333,
              "#9c179e"
             ],
             [
              0.4444444444444444,
              "#bd3786"
             ],
             [
              0.5555555555555556,
              "#d8576b"
             ],
             [
              0.6666666666666666,
              "#ed7953"
             ],
             [
              0.7777777777777778,
              "#fb9f3a"
             ],
             [
              0.8888888888888888,
              "#fdca26"
             ],
             [
              1,
              "#f0f921"
             ]
            ],
            "type": "histogram2d"
           }
          ],
          "histogram2dcontour": [
           {
            "colorbar": {
             "outlinewidth": 0,
             "ticks": ""
            },
            "colorscale": [
             [
              0,
              "#0d0887"
             ],
             [
              0.1111111111111111,
              "#46039f"
             ],
             [
              0.2222222222222222,
              "#7201a8"
             ],
             [
              0.3333333333333333,
              "#9c179e"
             ],
             [
              0.4444444444444444,
              "#bd3786"
             ],
             [
              0.5555555555555556,
              "#d8576b"
             ],
             [
              0.6666666666666666,
              "#ed7953"
             ],
             [
              0.7777777777777778,
              "#fb9f3a"
             ],
             [
              0.8888888888888888,
              "#fdca26"
             ],
             [
              1,
              "#f0f921"
             ]
            ],
            "type": "histogram2dcontour"
           }
          ],
          "mesh3d": [
           {
            "colorbar": {
             "outlinewidth": 0,
             "ticks": ""
            },
            "type": "mesh3d"
           }
          ],
          "parcoords": [
           {
            "line": {
             "colorbar": {
              "outlinewidth": 0,
              "ticks": ""
             }
            },
            "type": "parcoords"
           }
          ],
          "pie": [
           {
            "automargin": true,
            "type": "pie"
           }
          ],
          "scatter": [
           {
            "fillpattern": {
             "fillmode": "overlay",
             "size": 10,
             "solidity": 0.2
            },
            "type": "scatter"
           }
          ],
          "scatter3d": [
           {
            "line": {
             "colorbar": {
              "outlinewidth": 0,
              "ticks": ""
             }
            },
            "marker": {
             "colorbar": {
              "outlinewidth": 0,
              "ticks": ""
             }
            },
            "type": "scatter3d"
           }
          ],
          "scattercarpet": [
           {
            "marker": {
             "colorbar": {
              "outlinewidth": 0,
              "ticks": ""
             }
            },
            "type": "scattercarpet"
           }
          ],
          "scattergeo": [
           {
            "marker": {
             "colorbar": {
              "outlinewidth": 0,
              "ticks": ""
             }
            },
            "type": "scattergeo"
           }
          ],
          "scattergl": [
           {
            "marker": {
             "colorbar": {
              "outlinewidth": 0,
              "ticks": ""
             }
            },
            "type": "scattergl"
           }
          ],
          "scattermap": [
           {
            "marker": {
             "colorbar": {
              "outlinewidth": 0,
              "ticks": ""
             }
            },
            "type": "scattermap"
           }
          ],
          "scattermapbox": [
           {
            "marker": {
             "colorbar": {
              "outlinewidth": 0,
              "ticks": ""
             }
            },
            "type": "scattermapbox"
           }
          ],
          "scatterpolar": [
           {
            "marker": {
             "colorbar": {
              "outlinewidth": 0,
              "ticks": ""
             }
            },
            "type": "scatterpolar"
           }
          ],
          "scatterpolargl": [
           {
            "marker": {
             "colorbar": {
              "outlinewidth": 0,
              "ticks": ""
             }
            },
            "type": "scatterpolargl"
           }
          ],
          "scatterternary": [
           {
            "marker": {
             "colorbar": {
              "outlinewidth": 0,
              "ticks": ""
             }
            },
            "type": "scatterternary"
           }
          ],
          "surface": [
           {
            "colorbar": {
             "outlinewidth": 0,
             "ticks": ""
            },
            "colorscale": [
             [
              0,
              "#0d0887"
             ],
             [
              0.1111111111111111,
              "#46039f"
             ],
             [
              0.2222222222222222,
              "#7201a8"
             ],
             [
              0.3333333333333333,
              "#9c179e"
             ],
             [
              0.4444444444444444,
              "#bd3786"
             ],
             [
              0.5555555555555556,
              "#d8576b"
             ],
             [
              0.6666666666666666,
              "#ed7953"
             ],
             [
              0.7777777777777778,
              "#fb9f3a"
             ],
             [
              0.8888888888888888,
              "#fdca26"
             ],
             [
              1,
              "#f0f921"
             ]
            ],
            "type": "surface"
           }
          ],
          "table": [
           {
            "cells": {
             "fill": {
              "color": "#EBF0F8"
             },
             "line": {
              "color": "white"
             }
            },
            "header": {
             "fill": {
              "color": "#C8D4E3"
             },
             "line": {
              "color": "white"
             }
            },
            "type": "table"
           }
          ]
         },
         "layout": {
          "annotationdefaults": {
           "arrowcolor": "#2a3f5f",
           "arrowhead": 0,
           "arrowwidth": 1
          },
          "autotypenumbers": "strict",
          "coloraxis": {
           "colorbar": {
            "outlinewidth": 0,
            "ticks": ""
           }
          },
          "colorscale": {
           "diverging": [
            [
             0,
             "#8e0152"
            ],
            [
             0.1,
             "#c51b7d"
            ],
            [
             0.2,
             "#de77ae"
            ],
            [
             0.3,
             "#f1b6da"
            ],
            [
             0.4,
             "#fde0ef"
            ],
            [
             0.5,
             "#f7f7f7"
            ],
            [
             0.6,
             "#e6f5d0"
            ],
            [
             0.7,
             "#b8e186"
            ],
            [
             0.8,
             "#7fbc41"
            ],
            [
             0.9,
             "#4d9221"
            ],
            [
             1,
             "#276419"
            ]
           ],
           "sequential": [
            [
             0,
             "#0d0887"
            ],
            [
             0.1111111111111111,
             "#46039f"
            ],
            [
             0.2222222222222222,
             "#7201a8"
            ],
            [
             0.3333333333333333,
             "#9c179e"
            ],
            [
             0.4444444444444444,
             "#bd3786"
            ],
            [
             0.5555555555555556,
             "#d8576b"
            ],
            [
             0.6666666666666666,
             "#ed7953"
            ],
            [
             0.7777777777777778,
             "#fb9f3a"
            ],
            [
             0.8888888888888888,
             "#fdca26"
            ],
            [
             1,
             "#f0f921"
            ]
           ],
           "sequentialminus": [
            [
             0,
             "#0d0887"
            ],
            [
             0.1111111111111111,
             "#46039f"
            ],
            [
             0.2222222222222222,
             "#7201a8"
            ],
            [
             0.3333333333333333,
             "#9c179e"
            ],
            [
             0.4444444444444444,
             "#bd3786"
            ],
            [
             0.5555555555555556,
             "#d8576b"
            ],
            [
             0.6666666666666666,
             "#ed7953"
            ],
            [
             0.7777777777777778,
             "#fb9f3a"
            ],
            [
             0.8888888888888888,
             "#fdca26"
            ],
            [
             1,
             "#f0f921"
            ]
           ]
          },
          "colorway": [
           "#636efa",
           "#EF553B",
           "#00cc96",
           "#ab63fa",
           "#FFA15A",
           "#19d3f3",
           "#FF6692",
           "#B6E880",
           "#FF97FF",
           "#FECB52"
          ],
          "font": {
           "color": "#2a3f5f"
          },
          "geo": {
           "bgcolor": "white",
           "lakecolor": "white",
           "landcolor": "white",
           "showlakes": true,
           "showland": true,
           "subunitcolor": "#C8D4E3"
          },
          "hoverlabel": {
           "align": "left"
          },
          "hovermode": "closest",
          "mapbox": {
           "style": "light"
          },
          "paper_bgcolor": "white",
          "plot_bgcolor": "white",
          "polar": {
           "angularaxis": {
            "gridcolor": "#EBF0F8",
            "linecolor": "#EBF0F8",
            "ticks": ""
           },
           "bgcolor": "white",
           "radialaxis": {
            "gridcolor": "#EBF0F8",
            "linecolor": "#EBF0F8",
            "ticks": ""
           }
          },
          "scene": {
           "xaxis": {
            "backgroundcolor": "white",
            "gridcolor": "#DFE8F3",
            "gridwidth": 2,
            "linecolor": "#EBF0F8",
            "showbackground": true,
            "ticks": "",
            "zerolinecolor": "#EBF0F8"
           },
           "yaxis": {
            "backgroundcolor": "white",
            "gridcolor": "#DFE8F3",
            "gridwidth": 2,
            "linecolor": "#EBF0F8",
            "showbackground": true,
            "ticks": "",
            "zerolinecolor": "#EBF0F8"
           },
           "zaxis": {
            "backgroundcolor": "white",
            "gridcolor": "#DFE8F3",
            "gridwidth": 2,
            "linecolor": "#EBF0F8",
            "showbackground": true,
            "ticks": "",
            "zerolinecolor": "#EBF0F8"
           }
          },
          "shapedefaults": {
           "line": {
            "color": "#2a3f5f"
           }
          },
          "ternary": {
           "aaxis": {
            "gridcolor": "#DFE8F3",
            "linecolor": "#A2B1C6",
            "ticks": ""
           },
           "baxis": {
            "gridcolor": "#DFE8F3",
            "linecolor": "#A2B1C6",
            "ticks": ""
           },
           "bgcolor": "white",
           "caxis": {
            "gridcolor": "#DFE8F3",
            "linecolor": "#A2B1C6",
            "ticks": ""
           }
          },
          "title": {
           "x": 0.05
          },
          "xaxis": {
           "automargin": true,
           "gridcolor": "#EBF0F8",
           "linecolor": "#EBF0F8",
           "ticks": "",
           "title": {
            "standoff": 15
           },
           "zerolinecolor": "#EBF0F8",
           "zerolinewidth": 2
          },
          "yaxis": {
           "automargin": true,
           "gridcolor": "#EBF0F8",
           "linecolor": "#EBF0F8",
           "ticks": "",
           "title": {
            "standoff": 15
           },
           "zerolinecolor": "#EBF0F8",
           "zerolinewidth": 2
          }
         }
        },
        "title": {
         "text": "Hypertension Count (0 = No, 1 = Yes)"
        },
        "xaxis": {
         "anchor": "y",
         "categoryarray": [
          1.298336340131588,
          -0.7382696836042364,
          -2.774875707340061
         ],
         "categoryorder": "array",
         "domain": [
          0,
          1
         ],
         "title": {
          "text": "Hypertension (0 = No, 1 = Yes)"
         }
        },
        "yaxis": {
         "anchor": "x",
         "domain": [
          0,
          1
         ],
         "title": {
          "text": "Count"
         }
        }
       }
      }
     },
     "metadata": {},
     "output_type": "display_data"
    }
   ],
   "source": [
    "# 📊 Step 12: Other – Hypertension Count\n",
    "\n",
    "# Create histogram for hypertension\n",
    "fig = px.histogram(\n",
    "    df,\n",
    "    x='htn',  # Correct column name for hypertension\n",
    "    title=\"Hypertension Count (0 = No, 1 = Yes)\",\n",
    "    color='htn',  # Optional: add color distinction\n",
    "    template=\"plotly_white\"\n",
    ")\n",
    "\n",
    "# Update axis labels\n",
    "fig.update_layout(\n",
    "    xaxis_title=\"Hypertension (0 = No, 1 = Yes)\",\n",
    "    yaxis_title=\"Count\",\n",
    "    showlegend=False\n",
    ")\n",
    "\n",
    "fig.show()\n"
   ]
  }
 ],
 "metadata": {
  "kernelspec": {
   "display_name": ".venv (3.13.3)",
   "language": "python",
   "name": "python3"
  },
  "language_info": {
   "codemirror_mode": {
    "name": "ipython",
    "version": 3
   },
   "file_extension": ".py",
   "mimetype": "text/x-python",
   "name": "python",
   "nbconvert_exporter": "python",
   "pygments_lexer": "ipython3",
   "version": "3.13.3"
  }
 },
 "nbformat": 4,
 "nbformat_minor": 5
}
